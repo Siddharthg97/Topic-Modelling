{
 "cells": [
  {
   "cell_type": "code",
   "execution_count": 1,
   "id": "9a6cb5d9",
   "metadata": {},
   "outputs": [
    {
     "name": "stderr",
     "output_type": "stream",
     "text": [
      "C:\\Users\\MBBLABS\\anaconda3\\lib\\site-packages\\pandas\\core\\computation\\expressions.py:21: UserWarning: Pandas requires version '2.8.4' or newer of 'numexpr' (version '2.8.1' currently installed).\n",
      "  from pandas.core.computation.check import NUMEXPR_INSTALLED\n",
      "C:\\Users\\MBBLABS\\anaconda3\\lib\\site-packages\\pandas\\core\\arrays\\masked.py:60: UserWarning: Pandas requires version '1.3.6' or newer of 'bottleneck' (version '1.3.4' currently installed).\n",
      "  from pandas.core import (\n"
     ]
    }
   ],
   "source": [
    "import pandas as pd\n",
    "import warnings\n",
    "warnings.filterwarnings(\"ignore\")\n",
    "import numpy as np\n",
    "import pandas as pd\n",
    "from transformers import BertTokenizer, BertModel\n",
    "from sklearn.cluster import DBSCAN\n",
    "from sklearn.feature_extraction.text import TfidfVectorizer\n",
    "import matplotlib.pyplot as plt\n",
    "from sklearn.manifold import TSNE\n",
    "from gensim.models import word2vec\n",
    "import numpy as np\n",
    "import pandas as pd\n",
    "import ast\n",
    "import re\n",
    "import torch\n",
    "from sklearn.neighbors import LocalOutlierFactor\n",
    "from sklearn.model_selection import GridSearchCV\n",
    "from sklearn.metrics import silhouette_score"
   ]
  },
  {
   "cell_type": "code",
   "execution_count": 17,
   "id": "e79835a8",
   "metadata": {},
   "outputs": [],
   "source": [
    "from nltk.tokenize import word_tokenize "
   ]
  },
  {
   "cell_type": "code",
   "execution_count": 2,
   "id": "c07b7615",
   "metadata": {},
   "outputs": [],
   "source": [
    "df=pd.read_excel(\"Additional words in topics tf idf bi tri.xlsx\")"
   ]
  },
  {
   "cell_type": "code",
   "execution_count": 13,
   "id": "d5cdd80e",
   "metadata": {},
   "outputs": [],
   "source": [
    "df.head()\n",
    "df.drop([\"Unnamed: 0\",\"Unnamed: 0.1\"],axis=1,inplace=True)"
   ]
  },
  {
   "cell_type": "code",
   "execution_count": 14,
   "id": "b74e203a",
   "metadata": {
    "scrolled": false
   },
   "outputs": [
    {
     "data": {
      "text/html": [
       "<div>\n",
       "<style scoped>\n",
       "    .dataframe tbody tr th:only-of-type {\n",
       "        vertical-align: middle;\n",
       "    }\n",
       "\n",
       "    .dataframe tbody tr th {\n",
       "        vertical-align: top;\n",
       "    }\n",
       "\n",
       "    .dataframe thead th {\n",
       "        text-align: right;\n",
       "    }\n",
       "</style>\n",
       "<table border=\"1\" class=\"dataframe\">\n",
       "  <thead>\n",
       "    <tr style=\"text-align: right;\">\n",
       "      <th></th>\n",
       "      <th>V_COMMENTS</th>\n",
       "      <th>Counts</th>\n",
       "      <th>V_COMMENTS_2</th>\n",
       "      <th>Tokens</th>\n",
       "      <th>id_2_feature</th>\n",
       "      <th>TFIDF_Feature</th>\n",
       "      <th>Topic_tfidf_lda</th>\n",
       "      <th>All_Topic_tfidf_Probabilities</th>\n",
       "      <th>TF_tfidf_Topic_No</th>\n",
       "      <th>TF IDF Topic words</th>\n",
       "      <th>V_COMMENTS_PROCESSED</th>\n",
       "    </tr>\n",
       "  </thead>\n",
       "  <tbody>\n",
       "    <tr>\n",
       "      <th>0</th>\n",
       "      <td>mismatch id number_nric</td>\n",
       "      <td>67150</td>\n",
       "      <td>mismatch id number nric</td>\n",
       "      <td>['mismatch', 'i', 'd', 'number', 'nric']</td>\n",
       "      <td>[(0, 1), (1, 1), (2, 1), (3, 1), (4, 1)]</td>\n",
       "      <td>[(0, 0.547290750424587), (1, 0.547516376900071...</td>\n",
       "      <td>0.199*\"nric\" + 0.130*\"date\" + 0.085*\"birth\" + ...</td>\n",
       "      <td>[(0, 0.037396688), (1, 0.03744973), (2, 0.0373...</td>\n",
       "      <td>4</td>\n",
       "      <td>['nric', 'date', 'birth', 'number', 'd', 'i', ...</td>\n",
       "      <td>mismatch id number nric</td>\n",
       "    </tr>\n",
       "    <tr>\n",
       "      <th>1</th>\n",
       "      <td>mismatch id number_nric\\n</td>\n",
       "      <td>40137</td>\n",
       "      <td>mismatch id number nric</td>\n",
       "      <td>['mismatch', 'i', 'd', 'number', 'nric']</td>\n",
       "      <td>[(0, 1), (1, 1), (2, 1), (3, 1), (4, 1)]</td>\n",
       "      <td>[(0, 0.547290750424587), (1, 0.547516376900071...</td>\n",
       "      <td>0.199*\"nric\" + 0.130*\"date\" + 0.085*\"birth\" + ...</td>\n",
       "      <td>[(0, 0.037396688), (1, 0.037449747), (2, 0.037...</td>\n",
       "      <td>4</td>\n",
       "      <td>['nric', 'date', 'birth', 'number', 'd', 'i', ...</td>\n",
       "      <td>mismatch id number nric</td>\n",
       "    </tr>\n",
       "    <tr>\n",
       "      <th>2</th>\n",
       "      <td>mismatch year of birth (yob)</td>\n",
       "      <td>27341</td>\n",
       "      <td>mismatch year birth yob</td>\n",
       "      <td>['mismatch', 'year', 'birth', 'yob']</td>\n",
       "      <td>[(2, 1), (5, 1), (6, 1), (7, 1)]</td>\n",
       "      <td>[(2, 0.06249879031496278), (5, 0.5453915180875...</td>\n",
       "      <td>0.162*\"yob\" + 0.111*\"year\" + 0.073*\"birth\" + 0...</td>\n",
       "      <td>[(0, 0.038604278), (1, 0.038610753), (2, 0.038...</td>\n",
       "      <td>3</td>\n",
       "      <td>['yob', 'year', 'birth', 'infer', 'bear', 'ref...</td>\n",
       "      <td>mismatch year of birth yob</td>\n",
       "    </tr>\n",
       "    <tr>\n",
       "      <th>3</th>\n",
       "      <td>mismatch id number_nric</td>\n",
       "      <td>25793</td>\n",
       "      <td>mismatch id number nric</td>\n",
       "      <td>['mismatch', 'i', 'd', 'number', 'nric']</td>\n",
       "      <td>[(0, 1), (1, 1), (2, 1), (3, 1), (4, 1)]</td>\n",
       "      <td>[(0, 0.547290750424587), (1, 0.547516376900071...</td>\n",
       "      <td>0.199*\"nric\" + 0.130*\"date\" + 0.085*\"birth\" + ...</td>\n",
       "      <td>[(0, 0.037396688), (1, 0.037449766), (2, 0.037...</td>\n",
       "      <td>4</td>\n",
       "      <td>['nric', 'date', 'birth', 'number', 'd', 'i', ...</td>\n",
       "      <td>mismatch id number nric</td>\n",
       "    </tr>\n",
       "    <tr>\n",
       "      <th>4</th>\n",
       "      <td>mismatch full legal name â€“ name does not sou...</td>\n",
       "      <td>19127</td>\n",
       "      <td>mismatch full name sound similar</td>\n",
       "      <td>['mismatch', 'full', 'name', 'sound', 'similar']</td>\n",
       "      <td>[(2, 1), (8, 1), (9, 1), (10, 1), (11, 1)]</td>\n",
       "      <td>[(2, 0.030451784805766515), (8, 0.473060193932...</td>\n",
       "      <td>0.137*\"name\" + 0.051*\"match\" + 0.039*\"full\" + ...</td>\n",
       "      <td>[(0, 0.037577048), (1, 0.040632684), (2, 0.037...</td>\n",
       "      <td>17</td>\n",
       "      <td>['name', 'match', 'full', 'passport', 'similar...</td>\n",
       "      <td>mismatch full name â name does not sound similar</td>\n",
       "    </tr>\n",
       "    <tr>\n",
       "      <th>...</th>\n",
       "      <td>...</td>\n",
       "      <td>...</td>\n",
       "      <td>...</td>\n",
       "      <td>...</td>\n",
       "      <td>...</td>\n",
       "      <td>...</td>\n",
       "      <td>...</td>\n",
       "      <td>...</td>\n",
       "      <td>...</td>\n",
       "      <td>...</td>\n",
       "      <td>...</td>\n",
       "    </tr>\n",
       "    <tr>\n",
       "      <th>221569</th>\n",
       "      <td>mismatch - name, nric, date of birth, profile,...</td>\n",
       "      <td>1</td>\n",
       "      <td>mismatch name nric date birth profile customer...</td>\n",
       "      <td>['mismatch', 'name', 'nric', 'date', 'birth', ...</td>\n",
       "      <td>[(2, 1), (3, 3), (4, 1), (5, 3), (9, 3), (12, ...</td>\n",
       "      <td>[(2, 0.005990920965347929), (3, 0.227682171168...</td>\n",
       "      <td>0.199*\"nric\" + 0.130*\"date\" + 0.085*\"birth\" + ...</td>\n",
       "      <td>[(0, 0.02934474), (1, 0.031117253), (2, 0.0294...</td>\n",
       "      <td>4</td>\n",
       "      <td>['nric', 'date', 'birth', 'number', 'd', 'i', ...</td>\n",
       "      <td>mismatch name nric date of birth profile   cus...</td>\n",
       "    </tr>\n",
       "    <tr>\n",
       "      <th>221570</th>\n",
       "      <td>mismatch - name, nric, date of birth, profile,...</td>\n",
       "      <td>1</td>\n",
       "      <td>mismatch name nric date birth profile customer...</td>\n",
       "      <td>['mismatch', 'name', 'nric', 'date', 'birth', ...</td>\n",
       "      <td>[(2, 1), (3, 3), (4, 1), (5, 3), (9, 3), (12, ...</td>\n",
       "      <td>[(2, 0.0085888069800516), (3, 0.32641362359475...</td>\n",
       "      <td>0.199*\"nric\" + 0.130*\"date\" + 0.085*\"birth\" + ...</td>\n",
       "      <td>[(0, 0.031628136), (1, 0.033863842), (2, 0.031...</td>\n",
       "      <td>4</td>\n",
       "      <td>['nric', 'date', 'birth', 'number', 'd', 'i', ...</td>\n",
       "      <td>mismatch name nric date of birth profile   cus...</td>\n",
       "    </tr>\n",
       "    <tr>\n",
       "      <th>221571</th>\n",
       "      <td>mismatch id number_nric. watch person (noraini...</td>\n",
       "      <td>1</td>\n",
       "      <td>mismatch id number nric  watch person bank cus...</td>\n",
       "      <td>['mismatch', 'i', 'd', 'number', 'nric', 'watc...</td>\n",
       "      <td>[(0, 1), (1, 1), (2, 1), (3, 3), (4, 1), (15, ...</td>\n",
       "      <td>[(0, 0.27243957135183583), (1, 0.2725518874840...</td>\n",
       "      <td>0.199*\"nric\" + 0.130*\"date\" + 0.085*\"birth\" + ...</td>\n",
       "      <td>[(0, 0.03383267), (1, 0.033776768), (2, 0.0337...</td>\n",
       "      <td>4</td>\n",
       "      <td>['nric', 'date', 'birth', 'number', 'd', 'i', ...</td>\n",
       "      <td>mismatch id number nric. watch person    is a ...</td>\n",
       "    </tr>\n",
       "    <tr>\n",
       "      <th>221572</th>\n",
       "      <td>mismatch id number_nric. watch person (noraini...</td>\n",
       "      <td>1</td>\n",
       "      <td>mismatch id number nric  watch person bank cus...</td>\n",
       "      <td>['mismatch', 'i', 'd', 'number', 'nric', 'watc...</td>\n",
       "      <td>[(0, 1), (1, 1), (2, 1), (3, 3), (4, 1), (15, ...</td>\n",
       "      <td>[(0, 0.27243957135183583), (1, 0.2725518874840...</td>\n",
       "      <td>0.199*\"nric\" + 0.130*\"date\" + 0.085*\"birth\" + ...</td>\n",
       "      <td>[(0, 0.03383269), (1, 0.03377677), (2, 0.03370...</td>\n",
       "      <td>4</td>\n",
       "      <td>['nric', 'date', 'birth', 'number', 'd', 'i', ...</td>\n",
       "      <td>mismatch id number nric. watch person    is a ...</td>\n",
       "    </tr>\n",
       "    <tr>\n",
       "      <th>221573</th>\n",
       "      <td>mismatch profile - as adverse news reported ju...</td>\n",
       "      <td>1</td>\n",
       "      <td>mismatch profile adverse news reported detaine...</td>\n",
       "      <td>['mismatch', 'profile', 'adverse', 'news', 're...</td>\n",
       "      <td>[(2, 1), (17, 2), (22, 1), (29, 1), (34, 1), (...</td>\n",
       "      <td>[(2, 0.006761267741986819), (17, 0.00908289129...</td>\n",
       "      <td>0.027*\"transaction\" + 0.026*\"apex\" + 0.024*\"in...</td>\n",
       "      <td>[(0, 0.028120633), (1, 0.028171279), (2, 0.028...</td>\n",
       "      <td>8</td>\n",
       "      <td>['transaction', 'apex', 'involvement_money_lau...</td>\n",
       "      <td>mismatch profile as adverse news reported   de...</td>\n",
       "    </tr>\n",
       "  </tbody>\n",
       "</table>\n",
       "<p>221527 rows × 11 columns</p>\n",
       "</div>"
      ],
      "text/plain": [
       "                                               V_COMMENTS  Counts  \\\n",
       "0                                 mismatch id number_nric   67150   \n",
       "1                               mismatch id number_nric\\n   40137   \n",
       "2                            mismatch year of birth (yob)   27341   \n",
       "3                                 mismatch id number_nric   25793   \n",
       "4       mismatch full legal name â€“ name does not sou...   19127   \n",
       "...                                                   ...     ...   \n",
       "221569  mismatch - name, nric, date of birth, profile,...       1   \n",
       "221570  mismatch - name, nric, date of birth, profile,...       1   \n",
       "221571  mismatch id number_nric. watch person (noraini...       1   \n",
       "221572  mismatch id number_nric. watch person (noraini...       1   \n",
       "221573  mismatch profile - as adverse news reported ju...       1   \n",
       "\n",
       "                                             V_COMMENTS_2  \\\n",
       "0                                 mismatch id number nric   \n",
       "1                                 mismatch id number nric   \n",
       "2                                 mismatch year birth yob   \n",
       "3                                 mismatch id number nric   \n",
       "4                        mismatch full name sound similar   \n",
       "...                                                   ...   \n",
       "221569  mismatch name nric date birth profile customer...   \n",
       "221570  mismatch name nric date birth profile customer...   \n",
       "221571  mismatch id number nric  watch person bank cus...   \n",
       "221572  mismatch id number nric  watch person bank cus...   \n",
       "221573  mismatch profile adverse news reported detaine...   \n",
       "\n",
       "                                                   Tokens  \\\n",
       "0                ['mismatch', 'i', 'd', 'number', 'nric']   \n",
       "1                ['mismatch', 'i', 'd', 'number', 'nric']   \n",
       "2                    ['mismatch', 'year', 'birth', 'yob']   \n",
       "3                ['mismatch', 'i', 'd', 'number', 'nric']   \n",
       "4        ['mismatch', 'full', 'name', 'sound', 'similar']   \n",
       "...                                                   ...   \n",
       "221569  ['mismatch', 'name', 'nric', 'date', 'birth', ...   \n",
       "221570  ['mismatch', 'name', 'nric', 'date', 'birth', ...   \n",
       "221571  ['mismatch', 'i', 'd', 'number', 'nric', 'watc...   \n",
       "221572  ['mismatch', 'i', 'd', 'number', 'nric', 'watc...   \n",
       "221573  ['mismatch', 'profile', 'adverse', 'news', 're...   \n",
       "\n",
       "                                             id_2_feature  \\\n",
       "0                [(0, 1), (1, 1), (2, 1), (3, 1), (4, 1)]   \n",
       "1                [(0, 1), (1, 1), (2, 1), (3, 1), (4, 1)]   \n",
       "2                        [(2, 1), (5, 1), (6, 1), (7, 1)]   \n",
       "3                [(0, 1), (1, 1), (2, 1), (3, 1), (4, 1)]   \n",
       "4              [(2, 1), (8, 1), (9, 1), (10, 1), (11, 1)]   \n",
       "...                                                   ...   \n",
       "221569  [(2, 1), (3, 3), (4, 1), (5, 3), (9, 3), (12, ...   \n",
       "221570  [(2, 1), (3, 3), (4, 1), (5, 3), (9, 3), (12, ...   \n",
       "221571  [(0, 1), (1, 1), (2, 1), (3, 3), (4, 1), (15, ...   \n",
       "221572  [(0, 1), (1, 1), (2, 1), (3, 3), (4, 1), (15, ...   \n",
       "221573  [(2, 1), (17, 2), (22, 1), (29, 1), (34, 1), (...   \n",
       "\n",
       "                                            TFIDF_Feature  \\\n",
       "0       [(0, 0.547290750424587), (1, 0.547516376900071...   \n",
       "1       [(0, 0.547290750424587), (1, 0.547516376900071...   \n",
       "2       [(2, 0.06249879031496278), (5, 0.5453915180875...   \n",
       "3       [(0, 0.547290750424587), (1, 0.547516376900071...   \n",
       "4       [(2, 0.030451784805766515), (8, 0.473060193932...   \n",
       "...                                                   ...   \n",
       "221569  [(2, 0.005990920965347929), (3, 0.227682171168...   \n",
       "221570  [(2, 0.0085888069800516), (3, 0.32641362359475...   \n",
       "221571  [(0, 0.27243957135183583), (1, 0.2725518874840...   \n",
       "221572  [(0, 0.27243957135183583), (1, 0.2725518874840...   \n",
       "221573  [(2, 0.006761267741986819), (17, 0.00908289129...   \n",
       "\n",
       "                                          Topic_tfidf_lda  \\\n",
       "0       0.199*\"nric\" + 0.130*\"date\" + 0.085*\"birth\" + ...   \n",
       "1       0.199*\"nric\" + 0.130*\"date\" + 0.085*\"birth\" + ...   \n",
       "2       0.162*\"yob\" + 0.111*\"year\" + 0.073*\"birth\" + 0...   \n",
       "3       0.199*\"nric\" + 0.130*\"date\" + 0.085*\"birth\" + ...   \n",
       "4       0.137*\"name\" + 0.051*\"match\" + 0.039*\"full\" + ...   \n",
       "...                                                   ...   \n",
       "221569  0.199*\"nric\" + 0.130*\"date\" + 0.085*\"birth\" + ...   \n",
       "221570  0.199*\"nric\" + 0.130*\"date\" + 0.085*\"birth\" + ...   \n",
       "221571  0.199*\"nric\" + 0.130*\"date\" + 0.085*\"birth\" + ...   \n",
       "221572  0.199*\"nric\" + 0.130*\"date\" + 0.085*\"birth\" + ...   \n",
       "221573  0.027*\"transaction\" + 0.026*\"apex\" + 0.024*\"in...   \n",
       "\n",
       "                            All_Topic_tfidf_Probabilities  TF_tfidf_Topic_No  \\\n",
       "0       [(0, 0.037396688), (1, 0.03744973), (2, 0.0373...                  4   \n",
       "1       [(0, 0.037396688), (1, 0.037449747), (2, 0.037...                  4   \n",
       "2       [(0, 0.038604278), (1, 0.038610753), (2, 0.038...                  3   \n",
       "3       [(0, 0.037396688), (1, 0.037449766), (2, 0.037...                  4   \n",
       "4       [(0, 0.037577048), (1, 0.040632684), (2, 0.037...                 17   \n",
       "...                                                   ...                ...   \n",
       "221569  [(0, 0.02934474), (1, 0.031117253), (2, 0.0294...                  4   \n",
       "221570  [(0, 0.031628136), (1, 0.033863842), (2, 0.031...                  4   \n",
       "221571  [(0, 0.03383267), (1, 0.033776768), (2, 0.0337...                  4   \n",
       "221572  [(0, 0.03383269), (1, 0.03377677), (2, 0.03370...                  4   \n",
       "221573  [(0, 0.028120633), (1, 0.028171279), (2, 0.028...                  8   \n",
       "\n",
       "                                       TF IDF Topic words  \\\n",
       "0       ['nric', 'date', 'birth', 'number', 'd', 'i', ...   \n",
       "1       ['nric', 'date', 'birth', 'number', 'd', 'i', ...   \n",
       "2       ['yob', 'year', 'birth', 'infer', 'bear', 'ref...   \n",
       "3       ['nric', 'date', 'birth', 'number', 'd', 'i', ...   \n",
       "4       ['name', 'match', 'full', 'passport', 'similar...   \n",
       "...                                                   ...   \n",
       "221569  ['nric', 'date', 'birth', 'number', 'd', 'i', ...   \n",
       "221570  ['nric', 'date', 'birth', 'number', 'd', 'i', ...   \n",
       "221571  ['nric', 'date', 'birth', 'number', 'd', 'i', ...   \n",
       "221572  ['nric', 'date', 'birth', 'number', 'd', 'i', ...   \n",
       "221573  ['transaction', 'apex', 'involvement_money_lau...   \n",
       "\n",
       "                                     V_COMMENTS_PROCESSED  \n",
       "0                                 mismatch id number nric  \n",
       "1                                mismatch id number nric   \n",
       "2                              mismatch year of birth yob  \n",
       "3                                 mismatch id number nric  \n",
       "4        mismatch full name â name does not sound similar  \n",
       "...                                                   ...  \n",
       "221569  mismatch name nric date of birth profile   cus...  \n",
       "221570  mismatch name nric date of birth profile   cus...  \n",
       "221571  mismatch id number nric. watch person    is a ...  \n",
       "221572  mismatch id number nric. watch person    is a ...  \n",
       "221573  mismatch profile as adverse news reported   de...  \n",
       "\n",
       "[221527 rows x 11 columns]"
      ]
     },
     "execution_count": 14,
     "metadata": {},
     "output_type": "execute_result"
    }
   ],
   "source": [
    "df"
   ]
  },
  {
   "cell_type": "code",
   "execution_count": 18,
   "id": "daf6e188",
   "metadata": {},
   "outputs": [],
   "source": [
    "df[\"V_COMMENTS_2\"]=df[\"V_COMMENTS_2\"].apply(lambda x:\"\" if pd.isna(x) else x)\n",
    "df=df[df[\"V_COMMENTS_2\"].apply(lambda x: len(x)!=0)]"
   ]
  },
  {
   "cell_type": "code",
   "execution_count": 19,
   "id": "1afcd323",
   "metadata": {},
   "outputs": [
    {
     "data": {
      "text/plain": [
       "array([<class 'str'>], dtype=object)"
      ]
     },
     "execution_count": 19,
     "metadata": {},
     "output_type": "execute_result"
    }
   ],
   "source": [
    "df[\"V_COMMENTS_2\"].apply(lambda x: type(x)).unique()"
   ]
  },
  {
   "cell_type": "code",
   "execution_count": 20,
   "id": "6db18c37",
   "metadata": {},
   "outputs": [],
   "source": [
    "# df[\"Topic\"].apply(lambda x:pd.isna(x))\n",
    "df[\"Tokens\"]=df[\"Tokens\"].apply(lambda x: ast.literal_eval(x))"
   ]
  },
  {
   "cell_type": "code",
   "execution_count": 21,
   "id": "52235b67",
   "metadata": {},
   "outputs": [],
   "source": [
    "\n",
    "df=df[df[\"Tokens\"].apply(lambda x: len(x)!=0)]"
   ]
  },
  {
   "cell_type": "code",
   "execution_count": 22,
   "id": "00a5412c",
   "metadata": {},
   "outputs": [
    {
     "data": {
      "text/plain": [
       "(221526, 11)"
      ]
     },
     "execution_count": 22,
     "metadata": {},
     "output_type": "execute_result"
    }
   ],
   "source": [
    "df.shape"
   ]
  },
  {
   "cell_type": "code",
   "execution_count": 11,
   "id": "1bce6798",
   "metadata": {
    "scrolled": false
   },
   "outputs": [
    {
     "data": {
      "text/plain": [
       "TF_tfidf_Topic_No\n",
       "6     41843\n",
       "3     31042\n",
       "14    25252\n",
       "4     18335\n",
       "8     15784\n",
       "5     13526\n",
       "10    12982\n",
       "17    10520\n",
       "16     9395\n",
       "0      9306\n",
       "1      8627\n",
       "9      6395\n",
       "12     5418\n",
       "11     4608\n",
       "19     2773\n",
       "7      1916\n",
       "15     1124\n",
       "2      1070\n",
       "18      953\n",
       "13      658\n",
       "Name: count, dtype: int64"
      ]
     },
     "execution_count": 11,
     "metadata": {},
     "output_type": "execute_result"
    }
   ],
   "source": [
    "df_groups=df.groupby(\"TF_tfidf_Topic_No\")\n",
    "df[\"TF_tfidf_Topic_No\"].value_counts().sort_values(ascending=False)"
   ]
  },
  {
   "cell_type": "code",
   "execution_count": 12,
   "id": "918b9f80",
   "metadata": {},
   "outputs": [
    {
     "ename": "SSLError",
     "evalue": "HTTPSConnectionPool(host='huggingface.co', port=443): Max retries exceeded with url: /bert-base-uncased/resolve/main/vocab.txt (Caused by SSLError(SSLCertVerificationError(1, '[SSL: CERTIFICATE_VERIFY_FAILED] certificate verify failed: unable to get local issuer certificate (_ssl.c:1129)')))",
     "output_type": "error",
     "traceback": [
      "\u001b[1;31m---------------------------------------------------------------------------\u001b[0m",
      "\u001b[1;31mSSLCertVerificationError\u001b[0m                  Traceback (most recent call last)",
      "File \u001b[1;32m~\\anaconda3\\lib\\site-packages\\urllib3\\connectionpool.py:703\u001b[0m, in \u001b[0;36mHTTPConnectionPool.urlopen\u001b[1;34m(self, method, url, body, headers, retries, redirect, assert_same_host, timeout, pool_timeout, release_conn, chunked, body_pos, **response_kw)\u001b[0m\n\u001b[0;32m    702\u001b[0m \u001b[38;5;66;03m# Make the request on the httplib connection object.\u001b[39;00m\n\u001b[1;32m--> 703\u001b[0m httplib_response \u001b[38;5;241m=\u001b[39m \u001b[38;5;28;43mself\u001b[39;49m\u001b[38;5;241;43m.\u001b[39;49m\u001b[43m_make_request\u001b[49m\u001b[43m(\u001b[49m\n\u001b[0;32m    704\u001b[0m \u001b[43m    \u001b[49m\u001b[43mconn\u001b[49m\u001b[43m,\u001b[49m\n\u001b[0;32m    705\u001b[0m \u001b[43m    \u001b[49m\u001b[43mmethod\u001b[49m\u001b[43m,\u001b[49m\n\u001b[0;32m    706\u001b[0m \u001b[43m    \u001b[49m\u001b[43murl\u001b[49m\u001b[43m,\u001b[49m\n\u001b[0;32m    707\u001b[0m \u001b[43m    \u001b[49m\u001b[43mtimeout\u001b[49m\u001b[38;5;241;43m=\u001b[39;49m\u001b[43mtimeout_obj\u001b[49m\u001b[43m,\u001b[49m\n\u001b[0;32m    708\u001b[0m \u001b[43m    \u001b[49m\u001b[43mbody\u001b[49m\u001b[38;5;241;43m=\u001b[39;49m\u001b[43mbody\u001b[49m\u001b[43m,\u001b[49m\n\u001b[0;32m    709\u001b[0m \u001b[43m    \u001b[49m\u001b[43mheaders\u001b[49m\u001b[38;5;241;43m=\u001b[39;49m\u001b[43mheaders\u001b[49m\u001b[43m,\u001b[49m\n\u001b[0;32m    710\u001b[0m \u001b[43m    \u001b[49m\u001b[43mchunked\u001b[49m\u001b[38;5;241;43m=\u001b[39;49m\u001b[43mchunked\u001b[49m\u001b[43m,\u001b[49m\n\u001b[0;32m    711\u001b[0m \u001b[43m\u001b[49m\u001b[43m)\u001b[49m\n\u001b[0;32m    713\u001b[0m \u001b[38;5;66;03m# If we're going to release the connection in ``finally:``, then\u001b[39;00m\n\u001b[0;32m    714\u001b[0m \u001b[38;5;66;03m# the response doesn't need to know about the connection. Otherwise\u001b[39;00m\n\u001b[0;32m    715\u001b[0m \u001b[38;5;66;03m# it will also try to release it and we'll have a double-release\u001b[39;00m\n\u001b[0;32m    716\u001b[0m \u001b[38;5;66;03m# mess.\u001b[39;00m\n",
      "File \u001b[1;32m~\\anaconda3\\lib\\site-packages\\urllib3\\connectionpool.py:386\u001b[0m, in \u001b[0;36mHTTPConnectionPool._make_request\u001b[1;34m(self, conn, method, url, timeout, chunked, **httplib_request_kw)\u001b[0m\n\u001b[0;32m    385\u001b[0m \u001b[38;5;28;01mtry\u001b[39;00m:\n\u001b[1;32m--> 386\u001b[0m     \u001b[38;5;28;43mself\u001b[39;49m\u001b[38;5;241;43m.\u001b[39;49m\u001b[43m_validate_conn\u001b[49m\u001b[43m(\u001b[49m\u001b[43mconn\u001b[49m\u001b[43m)\u001b[49m\n\u001b[0;32m    387\u001b[0m \u001b[38;5;28;01mexcept\u001b[39;00m (SocketTimeout, BaseSSLError) \u001b[38;5;28;01mas\u001b[39;00m e:\n\u001b[0;32m    388\u001b[0m     \u001b[38;5;66;03m# Py2 raises this as a BaseSSLError, Py3 raises it as socket timeout.\u001b[39;00m\n",
      "File \u001b[1;32m~\\anaconda3\\lib\\site-packages\\urllib3\\connectionpool.py:1040\u001b[0m, in \u001b[0;36mHTTPSConnectionPool._validate_conn\u001b[1;34m(self, conn)\u001b[0m\n\u001b[0;32m   1039\u001b[0m \u001b[38;5;28;01mif\u001b[39;00m \u001b[38;5;129;01mnot\u001b[39;00m \u001b[38;5;28mgetattr\u001b[39m(conn, \u001b[38;5;124m\"\u001b[39m\u001b[38;5;124msock\u001b[39m\u001b[38;5;124m\"\u001b[39m, \u001b[38;5;28;01mNone\u001b[39;00m):  \u001b[38;5;66;03m# AppEngine might not have  `.sock`\u001b[39;00m\n\u001b[1;32m-> 1040\u001b[0m     \u001b[43mconn\u001b[49m\u001b[38;5;241;43m.\u001b[39;49m\u001b[43mconnect\u001b[49m\u001b[43m(\u001b[49m\u001b[43m)\u001b[49m\n\u001b[0;32m   1042\u001b[0m \u001b[38;5;28;01mif\u001b[39;00m \u001b[38;5;129;01mnot\u001b[39;00m conn\u001b[38;5;241m.\u001b[39mis_verified:\n",
      "File \u001b[1;32m~\\anaconda3\\lib\\site-packages\\urllib3\\connection.py:414\u001b[0m, in \u001b[0;36mHTTPSConnection.connect\u001b[1;34m(self)\u001b[0m\n\u001b[0;32m    412\u001b[0m     context\u001b[38;5;241m.\u001b[39mload_default_certs()\n\u001b[1;32m--> 414\u001b[0m \u001b[38;5;28mself\u001b[39m\u001b[38;5;241m.\u001b[39msock \u001b[38;5;241m=\u001b[39m \u001b[43mssl_wrap_socket\u001b[49m\u001b[43m(\u001b[49m\n\u001b[0;32m    415\u001b[0m \u001b[43m    \u001b[49m\u001b[43msock\u001b[49m\u001b[38;5;241;43m=\u001b[39;49m\u001b[43mconn\u001b[49m\u001b[43m,\u001b[49m\n\u001b[0;32m    416\u001b[0m \u001b[43m    \u001b[49m\u001b[43mkeyfile\u001b[49m\u001b[38;5;241;43m=\u001b[39;49m\u001b[38;5;28;43mself\u001b[39;49m\u001b[38;5;241;43m.\u001b[39;49m\u001b[43mkey_file\u001b[49m\u001b[43m,\u001b[49m\n\u001b[0;32m    417\u001b[0m \u001b[43m    \u001b[49m\u001b[43mcertfile\u001b[49m\u001b[38;5;241;43m=\u001b[39;49m\u001b[38;5;28;43mself\u001b[39;49m\u001b[38;5;241;43m.\u001b[39;49m\u001b[43mcert_file\u001b[49m\u001b[43m,\u001b[49m\n\u001b[0;32m    418\u001b[0m \u001b[43m    \u001b[49m\u001b[43mkey_password\u001b[49m\u001b[38;5;241;43m=\u001b[39;49m\u001b[38;5;28;43mself\u001b[39;49m\u001b[38;5;241;43m.\u001b[39;49m\u001b[43mkey_password\u001b[49m\u001b[43m,\u001b[49m\n\u001b[0;32m    419\u001b[0m \u001b[43m    \u001b[49m\u001b[43mca_certs\u001b[49m\u001b[38;5;241;43m=\u001b[39;49m\u001b[38;5;28;43mself\u001b[39;49m\u001b[38;5;241;43m.\u001b[39;49m\u001b[43mca_certs\u001b[49m\u001b[43m,\u001b[49m\n\u001b[0;32m    420\u001b[0m \u001b[43m    \u001b[49m\u001b[43mca_cert_dir\u001b[49m\u001b[38;5;241;43m=\u001b[39;49m\u001b[38;5;28;43mself\u001b[39;49m\u001b[38;5;241;43m.\u001b[39;49m\u001b[43mca_cert_dir\u001b[49m\u001b[43m,\u001b[49m\n\u001b[0;32m    421\u001b[0m \u001b[43m    \u001b[49m\u001b[43mca_cert_data\u001b[49m\u001b[38;5;241;43m=\u001b[39;49m\u001b[38;5;28;43mself\u001b[39;49m\u001b[38;5;241;43m.\u001b[39;49m\u001b[43mca_cert_data\u001b[49m\u001b[43m,\u001b[49m\n\u001b[0;32m    422\u001b[0m \u001b[43m    \u001b[49m\u001b[43mserver_hostname\u001b[49m\u001b[38;5;241;43m=\u001b[39;49m\u001b[43mserver_hostname\u001b[49m\u001b[43m,\u001b[49m\n\u001b[0;32m    423\u001b[0m \u001b[43m    \u001b[49m\u001b[43mssl_context\u001b[49m\u001b[38;5;241;43m=\u001b[39;49m\u001b[43mcontext\u001b[49m\u001b[43m,\u001b[49m\n\u001b[0;32m    424\u001b[0m \u001b[43m    \u001b[49m\u001b[43mtls_in_tls\u001b[49m\u001b[38;5;241;43m=\u001b[39;49m\u001b[43mtls_in_tls\u001b[49m\u001b[43m,\u001b[49m\n\u001b[0;32m    425\u001b[0m \u001b[43m\u001b[49m\u001b[43m)\u001b[49m\n\u001b[0;32m    427\u001b[0m \u001b[38;5;66;03m# If we're using all defaults and the connection\u001b[39;00m\n\u001b[0;32m    428\u001b[0m \u001b[38;5;66;03m# is TLSv1 or TLSv1.1 we throw a DeprecationWarning\u001b[39;00m\n\u001b[0;32m    429\u001b[0m \u001b[38;5;66;03m# for the host.\u001b[39;00m\n",
      "File \u001b[1;32m~\\anaconda3\\lib\\site-packages\\urllib3\\util\\ssl_.py:449\u001b[0m, in \u001b[0;36mssl_wrap_socket\u001b[1;34m(sock, keyfile, certfile, cert_reqs, ca_certs, server_hostname, ssl_version, ciphers, ssl_context, ca_cert_dir, key_password, ca_cert_data, tls_in_tls)\u001b[0m\n\u001b[0;32m    448\u001b[0m \u001b[38;5;28;01mif\u001b[39;00m send_sni:\n\u001b[1;32m--> 449\u001b[0m     ssl_sock \u001b[38;5;241m=\u001b[39m \u001b[43m_ssl_wrap_socket_impl\u001b[49m\u001b[43m(\u001b[49m\n\u001b[0;32m    450\u001b[0m \u001b[43m        \u001b[49m\u001b[43msock\u001b[49m\u001b[43m,\u001b[49m\u001b[43m \u001b[49m\u001b[43mcontext\u001b[49m\u001b[43m,\u001b[49m\u001b[43m \u001b[49m\u001b[43mtls_in_tls\u001b[49m\u001b[43m,\u001b[49m\u001b[43m \u001b[49m\u001b[43mserver_hostname\u001b[49m\u001b[38;5;241;43m=\u001b[39;49m\u001b[43mserver_hostname\u001b[49m\n\u001b[0;32m    451\u001b[0m \u001b[43m    \u001b[49m\u001b[43m)\u001b[49m\n\u001b[0;32m    452\u001b[0m \u001b[38;5;28;01melse\u001b[39;00m:\n",
      "File \u001b[1;32m~\\anaconda3\\lib\\site-packages\\urllib3\\util\\ssl_.py:493\u001b[0m, in \u001b[0;36m_ssl_wrap_socket_impl\u001b[1;34m(sock, ssl_context, tls_in_tls, server_hostname)\u001b[0m\n\u001b[0;32m    492\u001b[0m \u001b[38;5;28;01mif\u001b[39;00m server_hostname:\n\u001b[1;32m--> 493\u001b[0m     \u001b[38;5;28;01mreturn\u001b[39;00m \u001b[43mssl_context\u001b[49m\u001b[38;5;241;43m.\u001b[39;49m\u001b[43mwrap_socket\u001b[49m\u001b[43m(\u001b[49m\u001b[43msock\u001b[49m\u001b[43m,\u001b[49m\u001b[43m \u001b[49m\u001b[43mserver_hostname\u001b[49m\u001b[38;5;241;43m=\u001b[39;49m\u001b[43mserver_hostname\u001b[49m\u001b[43m)\u001b[49m\n\u001b[0;32m    494\u001b[0m \u001b[38;5;28;01melse\u001b[39;00m:\n",
      "File \u001b[1;32m~\\anaconda3\\lib\\ssl.py:500\u001b[0m, in \u001b[0;36mSSLContext.wrap_socket\u001b[1;34m(self, sock, server_side, do_handshake_on_connect, suppress_ragged_eofs, server_hostname, session)\u001b[0m\n\u001b[0;32m    494\u001b[0m \u001b[38;5;28;01mdef\u001b[39;00m \u001b[38;5;21mwrap_socket\u001b[39m(\u001b[38;5;28mself\u001b[39m, sock, server_side\u001b[38;5;241m=\u001b[39m\u001b[38;5;28;01mFalse\u001b[39;00m,\n\u001b[0;32m    495\u001b[0m                 do_handshake_on_connect\u001b[38;5;241m=\u001b[39m\u001b[38;5;28;01mTrue\u001b[39;00m,\n\u001b[0;32m    496\u001b[0m                 suppress_ragged_eofs\u001b[38;5;241m=\u001b[39m\u001b[38;5;28;01mTrue\u001b[39;00m,\n\u001b[0;32m    497\u001b[0m                 server_hostname\u001b[38;5;241m=\u001b[39m\u001b[38;5;28;01mNone\u001b[39;00m, session\u001b[38;5;241m=\u001b[39m\u001b[38;5;28;01mNone\u001b[39;00m):\n\u001b[0;32m    498\u001b[0m     \u001b[38;5;66;03m# SSLSocket class handles server_hostname encoding before it calls\u001b[39;00m\n\u001b[0;32m    499\u001b[0m     \u001b[38;5;66;03m# ctx._wrap_socket()\u001b[39;00m\n\u001b[1;32m--> 500\u001b[0m     \u001b[38;5;28;01mreturn\u001b[39;00m \u001b[38;5;28;43mself\u001b[39;49m\u001b[38;5;241;43m.\u001b[39;49m\u001b[43msslsocket_class\u001b[49m\u001b[38;5;241;43m.\u001b[39;49m\u001b[43m_create\u001b[49m\u001b[43m(\u001b[49m\n\u001b[0;32m    501\u001b[0m \u001b[43m        \u001b[49m\u001b[43msock\u001b[49m\u001b[38;5;241;43m=\u001b[39;49m\u001b[43msock\u001b[49m\u001b[43m,\u001b[49m\n\u001b[0;32m    502\u001b[0m \u001b[43m        \u001b[49m\u001b[43mserver_side\u001b[49m\u001b[38;5;241;43m=\u001b[39;49m\u001b[43mserver_side\u001b[49m\u001b[43m,\u001b[49m\n\u001b[0;32m    503\u001b[0m \u001b[43m        \u001b[49m\u001b[43mdo_handshake_on_connect\u001b[49m\u001b[38;5;241;43m=\u001b[39;49m\u001b[43mdo_handshake_on_connect\u001b[49m\u001b[43m,\u001b[49m\n\u001b[0;32m    504\u001b[0m \u001b[43m        \u001b[49m\u001b[43msuppress_ragged_eofs\u001b[49m\u001b[38;5;241;43m=\u001b[39;49m\u001b[43msuppress_ragged_eofs\u001b[49m\u001b[43m,\u001b[49m\n\u001b[0;32m    505\u001b[0m \u001b[43m        \u001b[49m\u001b[43mserver_hostname\u001b[49m\u001b[38;5;241;43m=\u001b[39;49m\u001b[43mserver_hostname\u001b[49m\u001b[43m,\u001b[49m\n\u001b[0;32m    506\u001b[0m \u001b[43m        \u001b[49m\u001b[43mcontext\u001b[49m\u001b[38;5;241;43m=\u001b[39;49m\u001b[38;5;28;43mself\u001b[39;49m\u001b[43m,\u001b[49m\n\u001b[0;32m    507\u001b[0m \u001b[43m        \u001b[49m\u001b[43msession\u001b[49m\u001b[38;5;241;43m=\u001b[39;49m\u001b[43msession\u001b[49m\n\u001b[0;32m    508\u001b[0m \u001b[43m    \u001b[49m\u001b[43m)\u001b[49m\n",
      "File \u001b[1;32m~\\anaconda3\\lib\\ssl.py:1040\u001b[0m, in \u001b[0;36mSSLSocket._create\u001b[1;34m(cls, sock, server_side, do_handshake_on_connect, suppress_ragged_eofs, server_hostname, context, session)\u001b[0m\n\u001b[0;32m   1039\u001b[0m             \u001b[38;5;28;01mraise\u001b[39;00m \u001b[38;5;167;01mValueError\u001b[39;00m(\u001b[38;5;124m\"\u001b[39m\u001b[38;5;124mdo_handshake_on_connect should not be specified for non-blocking sockets\u001b[39m\u001b[38;5;124m\"\u001b[39m)\n\u001b[1;32m-> 1040\u001b[0m         \u001b[38;5;28;43mself\u001b[39;49m\u001b[38;5;241;43m.\u001b[39;49m\u001b[43mdo_handshake\u001b[49m\u001b[43m(\u001b[49m\u001b[43m)\u001b[49m\n\u001b[0;32m   1041\u001b[0m \u001b[38;5;28;01mexcept\u001b[39;00m (\u001b[38;5;167;01mOSError\u001b[39;00m, \u001b[38;5;167;01mValueError\u001b[39;00m):\n",
      "File \u001b[1;32m~\\anaconda3\\lib\\ssl.py:1309\u001b[0m, in \u001b[0;36mSSLSocket.do_handshake\u001b[1;34m(self, block)\u001b[0m\n\u001b[0;32m   1308\u001b[0m         \u001b[38;5;28mself\u001b[39m\u001b[38;5;241m.\u001b[39msettimeout(\u001b[38;5;28;01mNone\u001b[39;00m)\n\u001b[1;32m-> 1309\u001b[0m     \u001b[38;5;28;43mself\u001b[39;49m\u001b[38;5;241;43m.\u001b[39;49m\u001b[43m_sslobj\u001b[49m\u001b[38;5;241;43m.\u001b[39;49m\u001b[43mdo_handshake\u001b[49m\u001b[43m(\u001b[49m\u001b[43m)\u001b[49m\n\u001b[0;32m   1310\u001b[0m \u001b[38;5;28;01mfinally\u001b[39;00m:\n",
      "\u001b[1;31mSSLCertVerificationError\u001b[0m: [SSL: CERTIFICATE_VERIFY_FAILED] certificate verify failed: unable to get local issuer certificate (_ssl.c:1129)",
      "\nDuring handling of the above exception, another exception occurred:\n",
      "\u001b[1;31mMaxRetryError\u001b[0m                             Traceback (most recent call last)",
      "File \u001b[1;32m~\\anaconda3\\lib\\site-packages\\requests\\adapters.py:440\u001b[0m, in \u001b[0;36mHTTPAdapter.send\u001b[1;34m(self, request, stream, timeout, verify, cert, proxies)\u001b[0m\n\u001b[0;32m    439\u001b[0m \u001b[38;5;28;01mif\u001b[39;00m \u001b[38;5;129;01mnot\u001b[39;00m chunked:\n\u001b[1;32m--> 440\u001b[0m     resp \u001b[38;5;241m=\u001b[39m \u001b[43mconn\u001b[49m\u001b[38;5;241;43m.\u001b[39;49m\u001b[43murlopen\u001b[49m\u001b[43m(\u001b[49m\n\u001b[0;32m    441\u001b[0m \u001b[43m        \u001b[49m\u001b[43mmethod\u001b[49m\u001b[38;5;241;43m=\u001b[39;49m\u001b[43mrequest\u001b[49m\u001b[38;5;241;43m.\u001b[39;49m\u001b[43mmethod\u001b[49m\u001b[43m,\u001b[49m\n\u001b[0;32m    442\u001b[0m \u001b[43m        \u001b[49m\u001b[43murl\u001b[49m\u001b[38;5;241;43m=\u001b[39;49m\u001b[43murl\u001b[49m\u001b[43m,\u001b[49m\n\u001b[0;32m    443\u001b[0m \u001b[43m        \u001b[49m\u001b[43mbody\u001b[49m\u001b[38;5;241;43m=\u001b[39;49m\u001b[43mrequest\u001b[49m\u001b[38;5;241;43m.\u001b[39;49m\u001b[43mbody\u001b[49m\u001b[43m,\u001b[49m\n\u001b[0;32m    444\u001b[0m \u001b[43m        \u001b[49m\u001b[43mheaders\u001b[49m\u001b[38;5;241;43m=\u001b[39;49m\u001b[43mrequest\u001b[49m\u001b[38;5;241;43m.\u001b[39;49m\u001b[43mheaders\u001b[49m\u001b[43m,\u001b[49m\n\u001b[0;32m    445\u001b[0m \u001b[43m        \u001b[49m\u001b[43mredirect\u001b[49m\u001b[38;5;241;43m=\u001b[39;49m\u001b[38;5;28;43;01mFalse\u001b[39;49;00m\u001b[43m,\u001b[49m\n\u001b[0;32m    446\u001b[0m \u001b[43m        \u001b[49m\u001b[43massert_same_host\u001b[49m\u001b[38;5;241;43m=\u001b[39;49m\u001b[38;5;28;43;01mFalse\u001b[39;49;00m\u001b[43m,\u001b[49m\n\u001b[0;32m    447\u001b[0m \u001b[43m        \u001b[49m\u001b[43mpreload_content\u001b[49m\u001b[38;5;241;43m=\u001b[39;49m\u001b[38;5;28;43;01mFalse\u001b[39;49;00m\u001b[43m,\u001b[49m\n\u001b[0;32m    448\u001b[0m \u001b[43m        \u001b[49m\u001b[43mdecode_content\u001b[49m\u001b[38;5;241;43m=\u001b[39;49m\u001b[38;5;28;43;01mFalse\u001b[39;49;00m\u001b[43m,\u001b[49m\n\u001b[0;32m    449\u001b[0m \u001b[43m        \u001b[49m\u001b[43mretries\u001b[49m\u001b[38;5;241;43m=\u001b[39;49m\u001b[38;5;28;43mself\u001b[39;49m\u001b[38;5;241;43m.\u001b[39;49m\u001b[43mmax_retries\u001b[49m\u001b[43m,\u001b[49m\n\u001b[0;32m    450\u001b[0m \u001b[43m        \u001b[49m\u001b[43mtimeout\u001b[49m\u001b[38;5;241;43m=\u001b[39;49m\u001b[43mtimeout\u001b[49m\n\u001b[0;32m    451\u001b[0m \u001b[43m    \u001b[49m\u001b[43m)\u001b[49m\n\u001b[0;32m    453\u001b[0m \u001b[38;5;66;03m# Send the request.\u001b[39;00m\n\u001b[0;32m    454\u001b[0m \u001b[38;5;28;01melse\u001b[39;00m:\n",
      "File \u001b[1;32m~\\anaconda3\\lib\\site-packages\\urllib3\\connectionpool.py:785\u001b[0m, in \u001b[0;36mHTTPConnectionPool.urlopen\u001b[1;34m(self, method, url, body, headers, retries, redirect, assert_same_host, timeout, pool_timeout, release_conn, chunked, body_pos, **response_kw)\u001b[0m\n\u001b[0;32m    783\u001b[0m     e \u001b[38;5;241m=\u001b[39m ProtocolError(\u001b[38;5;124m\"\u001b[39m\u001b[38;5;124mConnection aborted.\u001b[39m\u001b[38;5;124m\"\u001b[39m, e)\n\u001b[1;32m--> 785\u001b[0m retries \u001b[38;5;241m=\u001b[39m \u001b[43mretries\u001b[49m\u001b[38;5;241;43m.\u001b[39;49m\u001b[43mincrement\u001b[49m\u001b[43m(\u001b[49m\n\u001b[0;32m    786\u001b[0m \u001b[43m    \u001b[49m\u001b[43mmethod\u001b[49m\u001b[43m,\u001b[49m\u001b[43m \u001b[49m\u001b[43murl\u001b[49m\u001b[43m,\u001b[49m\u001b[43m \u001b[49m\u001b[43merror\u001b[49m\u001b[38;5;241;43m=\u001b[39;49m\u001b[43me\u001b[49m\u001b[43m,\u001b[49m\u001b[43m \u001b[49m\u001b[43m_pool\u001b[49m\u001b[38;5;241;43m=\u001b[39;49m\u001b[38;5;28;43mself\u001b[39;49m\u001b[43m,\u001b[49m\u001b[43m \u001b[49m\u001b[43m_stacktrace\u001b[49m\u001b[38;5;241;43m=\u001b[39;49m\u001b[43msys\u001b[49m\u001b[38;5;241;43m.\u001b[39;49m\u001b[43mexc_info\u001b[49m\u001b[43m(\u001b[49m\u001b[43m)\u001b[49m\u001b[43m[\u001b[49m\u001b[38;5;241;43m2\u001b[39;49m\u001b[43m]\u001b[49m\n\u001b[0;32m    787\u001b[0m \u001b[43m\u001b[49m\u001b[43m)\u001b[49m\n\u001b[0;32m    788\u001b[0m retries\u001b[38;5;241m.\u001b[39msleep()\n",
      "File \u001b[1;32m~\\anaconda3\\lib\\site-packages\\urllib3\\util\\retry.py:592\u001b[0m, in \u001b[0;36mRetry.increment\u001b[1;34m(self, method, url, response, error, _pool, _stacktrace)\u001b[0m\n\u001b[0;32m    591\u001b[0m \u001b[38;5;28;01mif\u001b[39;00m new_retry\u001b[38;5;241m.\u001b[39mis_exhausted():\n\u001b[1;32m--> 592\u001b[0m     \u001b[38;5;28;01mraise\u001b[39;00m MaxRetryError(_pool, url, error \u001b[38;5;129;01mor\u001b[39;00m ResponseError(cause))\n\u001b[0;32m    594\u001b[0m log\u001b[38;5;241m.\u001b[39mdebug(\u001b[38;5;124m\"\u001b[39m\u001b[38;5;124mIncremented Retry for (url=\u001b[39m\u001b[38;5;124m'\u001b[39m\u001b[38;5;132;01m%s\u001b[39;00m\u001b[38;5;124m'\u001b[39m\u001b[38;5;124m): \u001b[39m\u001b[38;5;132;01m%r\u001b[39;00m\u001b[38;5;124m\"\u001b[39m, url, new_retry)\n",
      "\u001b[1;31mMaxRetryError\u001b[0m: HTTPSConnectionPool(host='huggingface.co', port=443): Max retries exceeded with url: /bert-base-uncased/resolve/main/vocab.txt (Caused by SSLError(SSLCertVerificationError(1, '[SSL: CERTIFICATE_VERIFY_FAILED] certificate verify failed: unable to get local issuer certificate (_ssl.c:1129)')))",
      "\nDuring handling of the above exception, another exception occurred:\n",
      "\u001b[1;31mSSLError\u001b[0m                                  Traceback (most recent call last)",
      "Input \u001b[1;32mIn [12]\u001b[0m, in \u001b[0;36m<cell line: 2>\u001b[1;34m()\u001b[0m\n\u001b[0;32m      1\u001b[0m \u001b[38;5;66;03m# Load pre-trained BERT tokenizer and model\u001b[39;00m\n\u001b[1;32m----> 2\u001b[0m tokenizer \u001b[38;5;241m=\u001b[39m \u001b[43mBertTokenizer\u001b[49m\u001b[38;5;241;43m.\u001b[39;49m\u001b[43mfrom_pretrained\u001b[49m\u001b[43m(\u001b[49m\u001b[38;5;124;43m'\u001b[39;49m\u001b[38;5;124;43mbert-base-uncased\u001b[39;49m\u001b[38;5;124;43m'\u001b[39;49m\u001b[43m)\u001b[49m\n\u001b[0;32m      3\u001b[0m model \u001b[38;5;241m=\u001b[39m BertModel\u001b[38;5;241m.\u001b[39mfrom_pretrained(\u001b[38;5;124m'\u001b[39m\u001b[38;5;124mbert-base-uncased\u001b[39m\u001b[38;5;124m'\u001b[39m)\n",
      "File \u001b[1;32m~\\anaconda3\\lib\\site-packages\\transformers\\tokenization_utils_base.py:1771\u001b[0m, in \u001b[0;36mPreTrainedTokenizerBase.from_pretrained\u001b[1;34m(cls, pretrained_model_name_or_path, *init_inputs, **kwargs)\u001b[0m\n\u001b[0;32m   1769\u001b[0m             resolved_vocab_files[file_id] \u001b[38;5;241m=\u001b[39m download_url(file_path, proxies\u001b[38;5;241m=\u001b[39mproxies)\n\u001b[0;32m   1770\u001b[0m     \u001b[38;5;28;01melse\u001b[39;00m:\n\u001b[1;32m-> 1771\u001b[0m         resolved_vocab_files[file_id] \u001b[38;5;241m=\u001b[39m \u001b[43mcached_file\u001b[49m\u001b[43m(\u001b[49m\n\u001b[0;32m   1772\u001b[0m \u001b[43m            \u001b[49m\u001b[43mpretrained_model_name_or_path\u001b[49m\u001b[43m,\u001b[49m\n\u001b[0;32m   1773\u001b[0m \u001b[43m            \u001b[49m\u001b[43mfile_path\u001b[49m\u001b[43m,\u001b[49m\n\u001b[0;32m   1774\u001b[0m \u001b[43m            \u001b[49m\u001b[43mcache_dir\u001b[49m\u001b[38;5;241;43m=\u001b[39;49m\u001b[43mcache_dir\u001b[49m\u001b[43m,\u001b[49m\n\u001b[0;32m   1775\u001b[0m \u001b[43m            \u001b[49m\u001b[43mforce_download\u001b[49m\u001b[38;5;241;43m=\u001b[39;49m\u001b[43mforce_download\u001b[49m\u001b[43m,\u001b[49m\n\u001b[0;32m   1776\u001b[0m \u001b[43m            \u001b[49m\u001b[43mproxies\u001b[49m\u001b[38;5;241;43m=\u001b[39;49m\u001b[43mproxies\u001b[49m\u001b[43m,\u001b[49m\n\u001b[0;32m   1777\u001b[0m \u001b[43m            \u001b[49m\u001b[43mresume_download\u001b[49m\u001b[38;5;241;43m=\u001b[39;49m\u001b[43mresume_download\u001b[49m\u001b[43m,\u001b[49m\n\u001b[0;32m   1778\u001b[0m \u001b[43m            \u001b[49m\u001b[43mlocal_files_only\u001b[49m\u001b[38;5;241;43m=\u001b[39;49m\u001b[43mlocal_files_only\u001b[49m\u001b[43m,\u001b[49m\n\u001b[0;32m   1779\u001b[0m \u001b[43m            \u001b[49m\u001b[43muse_auth_token\u001b[49m\u001b[38;5;241;43m=\u001b[39;49m\u001b[43muse_auth_token\u001b[49m\u001b[43m,\u001b[49m\n\u001b[0;32m   1780\u001b[0m \u001b[43m            \u001b[49m\u001b[43muser_agent\u001b[49m\u001b[38;5;241;43m=\u001b[39;49m\u001b[43muser_agent\u001b[49m\u001b[43m,\u001b[49m\n\u001b[0;32m   1781\u001b[0m \u001b[43m            \u001b[49m\u001b[43mrevision\u001b[49m\u001b[38;5;241;43m=\u001b[39;49m\u001b[43mrevision\u001b[49m\u001b[43m,\u001b[49m\n\u001b[0;32m   1782\u001b[0m \u001b[43m            \u001b[49m\u001b[43msubfolder\u001b[49m\u001b[38;5;241;43m=\u001b[39;49m\u001b[43msubfolder\u001b[49m\u001b[43m,\u001b[49m\n\u001b[0;32m   1783\u001b[0m \u001b[43m            \u001b[49m\u001b[43m_raise_exceptions_for_missing_entries\u001b[49m\u001b[38;5;241;43m=\u001b[39;49m\u001b[38;5;28;43;01mFalse\u001b[39;49;00m\u001b[43m,\u001b[49m\n\u001b[0;32m   1784\u001b[0m \u001b[43m            \u001b[49m\u001b[43m_raise_exceptions_for_connection_errors\u001b[49m\u001b[38;5;241;43m=\u001b[39;49m\u001b[38;5;28;43;01mFalse\u001b[39;49;00m\u001b[43m,\u001b[49m\n\u001b[0;32m   1785\u001b[0m \u001b[43m            \u001b[49m\u001b[43m_commit_hash\u001b[49m\u001b[38;5;241;43m=\u001b[39;49m\u001b[43mcommit_hash\u001b[49m\u001b[43m,\u001b[49m\n\u001b[0;32m   1786\u001b[0m \u001b[43m        \u001b[49m\u001b[43m)\u001b[49m\n\u001b[0;32m   1787\u001b[0m         commit_hash \u001b[38;5;241m=\u001b[39m extract_commit_hash(resolved_vocab_files[file_id], commit_hash)\n\u001b[0;32m   1789\u001b[0m \u001b[38;5;28;01mif\u001b[39;00m \u001b[38;5;28mlen\u001b[39m(unresolved_files) \u001b[38;5;241m>\u001b[39m \u001b[38;5;241m0\u001b[39m:\n",
      "File \u001b[1;32m~\\anaconda3\\lib\\site-packages\\transformers\\utils\\hub.py:417\u001b[0m, in \u001b[0;36mcached_file\u001b[1;34m(path_or_repo_id, filename, cache_dir, force_download, resume_download, proxies, use_auth_token, revision, local_files_only, subfolder, repo_type, user_agent, _raise_exceptions_for_missing_entries, _raise_exceptions_for_connection_errors, _commit_hash)\u001b[0m\n\u001b[0;32m    414\u001b[0m user_agent \u001b[38;5;241m=\u001b[39m http_user_agent(user_agent)\n\u001b[0;32m    415\u001b[0m \u001b[38;5;28;01mtry\u001b[39;00m:\n\u001b[0;32m    416\u001b[0m     \u001b[38;5;66;03m# Load from URL or cache if already cached\u001b[39;00m\n\u001b[1;32m--> 417\u001b[0m     resolved_file \u001b[38;5;241m=\u001b[39m \u001b[43mhf_hub_download\u001b[49m\u001b[43m(\u001b[49m\n\u001b[0;32m    418\u001b[0m \u001b[43m        \u001b[49m\u001b[43mpath_or_repo_id\u001b[49m\u001b[43m,\u001b[49m\n\u001b[0;32m    419\u001b[0m \u001b[43m        \u001b[49m\u001b[43mfilename\u001b[49m\u001b[43m,\u001b[49m\n\u001b[0;32m    420\u001b[0m \u001b[43m        \u001b[49m\u001b[43msubfolder\u001b[49m\u001b[38;5;241;43m=\u001b[39;49m\u001b[38;5;28;43;01mNone\u001b[39;49;00m\u001b[43m \u001b[49m\u001b[38;5;28;43;01mif\u001b[39;49;00m\u001b[43m \u001b[49m\u001b[38;5;28;43mlen\u001b[39;49m\u001b[43m(\u001b[49m\u001b[43msubfolder\u001b[49m\u001b[43m)\u001b[49m\u001b[43m \u001b[49m\u001b[38;5;241;43m==\u001b[39;49m\u001b[43m \u001b[49m\u001b[38;5;241;43m0\u001b[39;49m\u001b[43m \u001b[49m\u001b[38;5;28;43;01melse\u001b[39;49;00m\u001b[43m \u001b[49m\u001b[43msubfolder\u001b[49m\u001b[43m,\u001b[49m\n\u001b[0;32m    421\u001b[0m \u001b[43m        \u001b[49m\u001b[43mrepo_type\u001b[49m\u001b[38;5;241;43m=\u001b[39;49m\u001b[43mrepo_type\u001b[49m\u001b[43m,\u001b[49m\n\u001b[0;32m    422\u001b[0m \u001b[43m        \u001b[49m\u001b[43mrevision\u001b[49m\u001b[38;5;241;43m=\u001b[39;49m\u001b[43mrevision\u001b[49m\u001b[43m,\u001b[49m\n\u001b[0;32m    423\u001b[0m \u001b[43m        \u001b[49m\u001b[43mcache_dir\u001b[49m\u001b[38;5;241;43m=\u001b[39;49m\u001b[43mcache_dir\u001b[49m\u001b[43m,\u001b[49m\n\u001b[0;32m    424\u001b[0m \u001b[43m        \u001b[49m\u001b[43muser_agent\u001b[49m\u001b[38;5;241;43m=\u001b[39;49m\u001b[43muser_agent\u001b[49m\u001b[43m,\u001b[49m\n\u001b[0;32m    425\u001b[0m \u001b[43m        \u001b[49m\u001b[43mforce_download\u001b[49m\u001b[38;5;241;43m=\u001b[39;49m\u001b[43mforce_download\u001b[49m\u001b[43m,\u001b[49m\n\u001b[0;32m    426\u001b[0m \u001b[43m        \u001b[49m\u001b[43mproxies\u001b[49m\u001b[38;5;241;43m=\u001b[39;49m\u001b[43mproxies\u001b[49m\u001b[43m,\u001b[49m\n\u001b[0;32m    427\u001b[0m \u001b[43m        \u001b[49m\u001b[43mresume_download\u001b[49m\u001b[38;5;241;43m=\u001b[39;49m\u001b[43mresume_download\u001b[49m\u001b[43m,\u001b[49m\n\u001b[0;32m    428\u001b[0m \u001b[43m        \u001b[49m\u001b[43muse_auth_token\u001b[49m\u001b[38;5;241;43m=\u001b[39;49m\u001b[43muse_auth_token\u001b[49m\u001b[43m,\u001b[49m\n\u001b[0;32m    429\u001b[0m \u001b[43m        \u001b[49m\u001b[43mlocal_files_only\u001b[49m\u001b[38;5;241;43m=\u001b[39;49m\u001b[43mlocal_files_only\u001b[49m\u001b[43m,\u001b[49m\n\u001b[0;32m    430\u001b[0m \u001b[43m    \u001b[49m\u001b[43m)\u001b[49m\n\u001b[0;32m    432\u001b[0m \u001b[38;5;28;01mexcept\u001b[39;00m RepositoryNotFoundError:\n\u001b[0;32m    433\u001b[0m     \u001b[38;5;28;01mraise\u001b[39;00m \u001b[38;5;167;01mEnvironmentError\u001b[39;00m(\n\u001b[0;32m    434\u001b[0m         \u001b[38;5;124mf\u001b[39m\u001b[38;5;124m\"\u001b[39m\u001b[38;5;132;01m{\u001b[39;00mpath_or_repo_id\u001b[38;5;132;01m}\u001b[39;00m\u001b[38;5;124m is not a local folder and is not a valid model identifier \u001b[39m\u001b[38;5;124m\"\u001b[39m\n\u001b[0;32m    435\u001b[0m         \u001b[38;5;124m\"\u001b[39m\u001b[38;5;124mlisted on \u001b[39m\u001b[38;5;124m'\u001b[39m\u001b[38;5;124mhttps://huggingface.co/models\u001b[39m\u001b[38;5;124m'\u001b[39m\u001b[38;5;130;01m\\n\u001b[39;00m\u001b[38;5;124mIf this is a private repository, make sure to \u001b[39m\u001b[38;5;124m\"\u001b[39m\n\u001b[0;32m    436\u001b[0m         \u001b[38;5;124m\"\u001b[39m\u001b[38;5;124mpass a token having permission to this repo with `use_auth_token` or log in with \u001b[39m\u001b[38;5;124m\"\u001b[39m\n\u001b[0;32m    437\u001b[0m         \u001b[38;5;124m\"\u001b[39m\u001b[38;5;124m`huggingface-cli login` and pass `use_auth_token=True`.\u001b[39m\u001b[38;5;124m\"\u001b[39m\n\u001b[0;32m    438\u001b[0m     )\n",
      "File \u001b[1;32m~\\anaconda3\\lib\\site-packages\\huggingface_hub\\utils\\_validators.py:120\u001b[0m, in \u001b[0;36mvalidate_hf_hub_args.<locals>._inner_fn\u001b[1;34m(*args, **kwargs)\u001b[0m\n\u001b[0;32m    117\u001b[0m \u001b[38;5;28;01mif\u001b[39;00m check_use_auth_token:\n\u001b[0;32m    118\u001b[0m     kwargs \u001b[38;5;241m=\u001b[39m smoothly_deprecate_use_auth_token(fn_name\u001b[38;5;241m=\u001b[39mfn\u001b[38;5;241m.\u001b[39m\u001b[38;5;18m__name__\u001b[39m, has_token\u001b[38;5;241m=\u001b[39mhas_token, kwargs\u001b[38;5;241m=\u001b[39mkwargs)\n\u001b[1;32m--> 120\u001b[0m \u001b[38;5;28;01mreturn\u001b[39;00m fn(\u001b[38;5;241m*\u001b[39margs, \u001b[38;5;241m*\u001b[39m\u001b[38;5;241m*\u001b[39mkwargs)\n",
      "File \u001b[1;32m~\\anaconda3\\lib\\site-packages\\huggingface_hub\\file_download.py:1195\u001b[0m, in \u001b[0;36mhf_hub_download\u001b[1;34m(repo_id, filename, subfolder, repo_type, revision, library_name, library_version, cache_dir, local_dir, local_dir_use_symlinks, user_agent, force_download, force_filename, proxies, etag_timeout, resume_download, token, local_files_only, legacy_cache_layout)\u001b[0m\n\u001b[0;32m   1193\u001b[0m \u001b[38;5;28;01mtry\u001b[39;00m:\n\u001b[0;32m   1194\u001b[0m     \u001b[38;5;28;01mtry\u001b[39;00m:\n\u001b[1;32m-> 1195\u001b[0m         metadata \u001b[38;5;241m=\u001b[39m \u001b[43mget_hf_file_metadata\u001b[49m\u001b[43m(\u001b[49m\n\u001b[0;32m   1196\u001b[0m \u001b[43m            \u001b[49m\u001b[43murl\u001b[49m\u001b[38;5;241;43m=\u001b[39;49m\u001b[43murl\u001b[49m\u001b[43m,\u001b[49m\n\u001b[0;32m   1197\u001b[0m \u001b[43m            \u001b[49m\u001b[43mtoken\u001b[49m\u001b[38;5;241;43m=\u001b[39;49m\u001b[43mtoken\u001b[49m\u001b[43m,\u001b[49m\n\u001b[0;32m   1198\u001b[0m \u001b[43m            \u001b[49m\u001b[43mproxies\u001b[49m\u001b[38;5;241;43m=\u001b[39;49m\u001b[43mproxies\u001b[49m\u001b[43m,\u001b[49m\n\u001b[0;32m   1199\u001b[0m \u001b[43m            \u001b[49m\u001b[43mtimeout\u001b[49m\u001b[38;5;241;43m=\u001b[39;49m\u001b[43metag_timeout\u001b[49m\u001b[43m,\u001b[49m\n\u001b[0;32m   1200\u001b[0m \u001b[43m        \u001b[49m\u001b[43m)\u001b[49m\n\u001b[0;32m   1201\u001b[0m     \u001b[38;5;28;01mexcept\u001b[39;00m EntryNotFoundError \u001b[38;5;28;01mas\u001b[39;00m http_error:\n\u001b[0;32m   1202\u001b[0m         \u001b[38;5;66;03m# Cache the non-existence of the file and raise\u001b[39;00m\n\u001b[0;32m   1203\u001b[0m         commit_hash \u001b[38;5;241m=\u001b[39m http_error\u001b[38;5;241m.\u001b[39mresponse\u001b[38;5;241m.\u001b[39mheaders\u001b[38;5;241m.\u001b[39mget(HUGGINGFACE_HEADER_X_REPO_COMMIT)\n",
      "File \u001b[1;32m~\\anaconda3\\lib\\site-packages\\huggingface_hub\\utils\\_validators.py:120\u001b[0m, in \u001b[0;36mvalidate_hf_hub_args.<locals>._inner_fn\u001b[1;34m(*args, **kwargs)\u001b[0m\n\u001b[0;32m    117\u001b[0m \u001b[38;5;28;01mif\u001b[39;00m check_use_auth_token:\n\u001b[0;32m    118\u001b[0m     kwargs \u001b[38;5;241m=\u001b[39m smoothly_deprecate_use_auth_token(fn_name\u001b[38;5;241m=\u001b[39mfn\u001b[38;5;241m.\u001b[39m\u001b[38;5;18m__name__\u001b[39m, has_token\u001b[38;5;241m=\u001b[39mhas_token, kwargs\u001b[38;5;241m=\u001b[39mkwargs)\n\u001b[1;32m--> 120\u001b[0m \u001b[38;5;28;01mreturn\u001b[39;00m fn(\u001b[38;5;241m*\u001b[39margs, \u001b[38;5;241m*\u001b[39m\u001b[38;5;241m*\u001b[39mkwargs)\n",
      "File \u001b[1;32m~\\anaconda3\\lib\\site-packages\\huggingface_hub\\file_download.py:1532\u001b[0m, in \u001b[0;36mget_hf_file_metadata\u001b[1;34m(url, token, proxies, timeout)\u001b[0m\n\u001b[0;32m   1529\u001b[0m headers[\u001b[38;5;124m\"\u001b[39m\u001b[38;5;124mAccept-Encoding\u001b[39m\u001b[38;5;124m\"\u001b[39m] \u001b[38;5;241m=\u001b[39m \u001b[38;5;124m\"\u001b[39m\u001b[38;5;124midentity\u001b[39m\u001b[38;5;124m\"\u001b[39m  \u001b[38;5;66;03m# prevent any compression => we want to know the real size of the file\u001b[39;00m\n\u001b[0;32m   1531\u001b[0m \u001b[38;5;66;03m# Retrieve metadata\u001b[39;00m\n\u001b[1;32m-> 1532\u001b[0m r \u001b[38;5;241m=\u001b[39m \u001b[43m_request_wrapper\u001b[49m\u001b[43m(\u001b[49m\n\u001b[0;32m   1533\u001b[0m \u001b[43m    \u001b[49m\u001b[43mmethod\u001b[49m\u001b[38;5;241;43m=\u001b[39;49m\u001b[38;5;124;43m\"\u001b[39;49m\u001b[38;5;124;43mHEAD\u001b[39;49m\u001b[38;5;124;43m\"\u001b[39;49m\u001b[43m,\u001b[49m\n\u001b[0;32m   1534\u001b[0m \u001b[43m    \u001b[49m\u001b[43murl\u001b[49m\u001b[38;5;241;43m=\u001b[39;49m\u001b[43murl\u001b[49m\u001b[43m,\u001b[49m\n\u001b[0;32m   1535\u001b[0m \u001b[43m    \u001b[49m\u001b[43mheaders\u001b[49m\u001b[38;5;241;43m=\u001b[39;49m\u001b[43mheaders\u001b[49m\u001b[43m,\u001b[49m\n\u001b[0;32m   1536\u001b[0m \u001b[43m    \u001b[49m\u001b[43mallow_redirects\u001b[49m\u001b[38;5;241;43m=\u001b[39;49m\u001b[38;5;28;43;01mFalse\u001b[39;49;00m\u001b[43m,\u001b[49m\n\u001b[0;32m   1537\u001b[0m \u001b[43m    \u001b[49m\u001b[43mfollow_relative_redirects\u001b[49m\u001b[38;5;241;43m=\u001b[39;49m\u001b[38;5;28;43;01mTrue\u001b[39;49;00m\u001b[43m,\u001b[49m\n\u001b[0;32m   1538\u001b[0m \u001b[43m    \u001b[49m\u001b[43mproxies\u001b[49m\u001b[38;5;241;43m=\u001b[39;49m\u001b[43mproxies\u001b[49m\u001b[43m,\u001b[49m\n\u001b[0;32m   1539\u001b[0m \u001b[43m    \u001b[49m\u001b[43mtimeout\u001b[49m\u001b[38;5;241;43m=\u001b[39;49m\u001b[43mtimeout\u001b[49m\u001b[43m,\u001b[49m\n\u001b[0;32m   1540\u001b[0m \u001b[43m\u001b[49m\u001b[43m)\u001b[49m\n\u001b[0;32m   1541\u001b[0m hf_raise_for_status(r)\n\u001b[0;32m   1543\u001b[0m \u001b[38;5;66;03m# Return\u001b[39;00m\n",
      "File \u001b[1;32m~\\anaconda3\\lib\\site-packages\\huggingface_hub\\file_download.py:407\u001b[0m, in \u001b[0;36m_request_wrapper\u001b[1;34m(method, url, max_retries, base_wait_time, max_wait_time, timeout, follow_relative_redirects, **params)\u001b[0m\n\u001b[0;32m    405\u001b[0m \u001b[38;5;66;03m# 2. Force relative redirection\u001b[39;00m\n\u001b[0;32m    406\u001b[0m \u001b[38;5;28;01mif\u001b[39;00m follow_relative_redirects:\n\u001b[1;32m--> 407\u001b[0m     response \u001b[38;5;241m=\u001b[39m _request_wrapper(\n\u001b[0;32m    408\u001b[0m         method\u001b[38;5;241m=\u001b[39mmethod,\n\u001b[0;32m    409\u001b[0m         url\u001b[38;5;241m=\u001b[39murl,\n\u001b[0;32m    410\u001b[0m         max_retries\u001b[38;5;241m=\u001b[39mmax_retries,\n\u001b[0;32m    411\u001b[0m         base_wait_time\u001b[38;5;241m=\u001b[39mbase_wait_time,\n\u001b[0;32m    412\u001b[0m         max_wait_time\u001b[38;5;241m=\u001b[39mmax_wait_time,\n\u001b[0;32m    413\u001b[0m         timeout\u001b[38;5;241m=\u001b[39mtimeout,\n\u001b[0;32m    414\u001b[0m         follow_relative_redirects\u001b[38;5;241m=\u001b[39m\u001b[38;5;28;01mFalse\u001b[39;00m,\n\u001b[0;32m    415\u001b[0m         \u001b[38;5;241m*\u001b[39m\u001b[38;5;241m*\u001b[39mparams,\n\u001b[0;32m    416\u001b[0m     )\n\u001b[0;32m    418\u001b[0m     \u001b[38;5;66;03m# If redirection, we redirect only relative paths.\u001b[39;00m\n\u001b[0;32m    419\u001b[0m     \u001b[38;5;66;03m# This is useful in case of a renamed repository.\u001b[39;00m\n\u001b[0;32m    420\u001b[0m     \u001b[38;5;28;01mif\u001b[39;00m \u001b[38;5;241m300\u001b[39m \u001b[38;5;241m<\u001b[39m\u001b[38;5;241m=\u001b[39m response\u001b[38;5;241m.\u001b[39mstatus_code \u001b[38;5;241m<\u001b[39m\u001b[38;5;241m=\u001b[39m \u001b[38;5;241m399\u001b[39m:\n",
      "File \u001b[1;32m~\\anaconda3\\lib\\site-packages\\huggingface_hub\\file_download.py:442\u001b[0m, in \u001b[0;36m_request_wrapper\u001b[1;34m(method, url, max_retries, base_wait_time, max_wait_time, timeout, follow_relative_redirects, **params)\u001b[0m\n\u001b[0;32m    439\u001b[0m     \u001b[38;5;28;01mreturn\u001b[39;00m response\n\u001b[0;32m    441\u001b[0m \u001b[38;5;66;03m# 3. Exponential backoff\u001b[39;00m\n\u001b[1;32m--> 442\u001b[0m \u001b[38;5;28;01mreturn\u001b[39;00m http_backoff(\n\u001b[0;32m    443\u001b[0m     method\u001b[38;5;241m=\u001b[39mmethod,\n\u001b[0;32m    444\u001b[0m     url\u001b[38;5;241m=\u001b[39murl,\n\u001b[0;32m    445\u001b[0m     max_retries\u001b[38;5;241m=\u001b[39mmax_retries,\n\u001b[0;32m    446\u001b[0m     base_wait_time\u001b[38;5;241m=\u001b[39mbase_wait_time,\n\u001b[0;32m    447\u001b[0m     max_wait_time\u001b[38;5;241m=\u001b[39mmax_wait_time,\n\u001b[0;32m    448\u001b[0m     retry_on_exceptions\u001b[38;5;241m=\u001b[39m(ConnectTimeout, ProxyError),\n\u001b[0;32m    449\u001b[0m     retry_on_status_codes\u001b[38;5;241m=\u001b[39m(),\n\u001b[0;32m    450\u001b[0m     timeout\u001b[38;5;241m=\u001b[39mtimeout,\n\u001b[0;32m    451\u001b[0m     \u001b[38;5;241m*\u001b[39m\u001b[38;5;241m*\u001b[39mparams,\n\u001b[0;32m    452\u001b[0m )\n",
      "File \u001b[1;32m~\\anaconda3\\lib\\site-packages\\huggingface_hub\\utils\\_http.py:212\u001b[0m, in \u001b[0;36mhttp_backoff\u001b[1;34m(method, url, max_retries, base_wait_time, max_wait_time, retry_on_exceptions, retry_on_status_codes, **kwargs)\u001b[0m\n\u001b[0;32m    209\u001b[0m     kwargs[\u001b[38;5;124m\"\u001b[39m\u001b[38;5;124mdata\u001b[39m\u001b[38;5;124m\"\u001b[39m]\u001b[38;5;241m.\u001b[39mseek(io_obj_initial_pos)\n\u001b[0;32m    211\u001b[0m \u001b[38;5;66;03m# Perform request and return if status_code is not in the retry list.\u001b[39;00m\n\u001b[1;32m--> 212\u001b[0m response \u001b[38;5;241m=\u001b[39m session\u001b[38;5;241m.\u001b[39mrequest(method\u001b[38;5;241m=\u001b[39mmethod, url\u001b[38;5;241m=\u001b[39murl, \u001b[38;5;241m*\u001b[39m\u001b[38;5;241m*\u001b[39mkwargs)\n\u001b[0;32m    213\u001b[0m \u001b[38;5;28;01mif\u001b[39;00m response\u001b[38;5;241m.\u001b[39mstatus_code \u001b[38;5;129;01mnot\u001b[39;00m \u001b[38;5;129;01min\u001b[39;00m retry_on_status_codes:\n\u001b[0;32m    214\u001b[0m     \u001b[38;5;28;01mreturn\u001b[39;00m response\n",
      "File \u001b[1;32m~\\anaconda3\\lib\\site-packages\\requests\\sessions.py:529\u001b[0m, in \u001b[0;36mSession.request\u001b[1;34m(self, method, url, params, data, headers, cookies, files, auth, timeout, allow_redirects, proxies, hooks, stream, verify, cert, json)\u001b[0m\n\u001b[0;32m    524\u001b[0m send_kwargs \u001b[38;5;241m=\u001b[39m {\n\u001b[0;32m    525\u001b[0m     \u001b[38;5;124m'\u001b[39m\u001b[38;5;124mtimeout\u001b[39m\u001b[38;5;124m'\u001b[39m: timeout,\n\u001b[0;32m    526\u001b[0m     \u001b[38;5;124m'\u001b[39m\u001b[38;5;124mallow_redirects\u001b[39m\u001b[38;5;124m'\u001b[39m: allow_redirects,\n\u001b[0;32m    527\u001b[0m }\n\u001b[0;32m    528\u001b[0m send_kwargs\u001b[38;5;241m.\u001b[39mupdate(settings)\n\u001b[1;32m--> 529\u001b[0m resp \u001b[38;5;241m=\u001b[39m \u001b[38;5;28mself\u001b[39m\u001b[38;5;241m.\u001b[39msend(prep, \u001b[38;5;241m*\u001b[39m\u001b[38;5;241m*\u001b[39msend_kwargs)\n\u001b[0;32m    531\u001b[0m \u001b[38;5;28;01mreturn\u001b[39;00m resp\n",
      "File \u001b[1;32m~\\anaconda3\\lib\\site-packages\\requests\\sessions.py:645\u001b[0m, in \u001b[0;36mSession.send\u001b[1;34m(self, request, **kwargs)\u001b[0m\n\u001b[0;32m    642\u001b[0m start \u001b[38;5;241m=\u001b[39m preferred_clock()\n\u001b[0;32m    644\u001b[0m \u001b[38;5;66;03m# Send the request\u001b[39;00m\n\u001b[1;32m--> 645\u001b[0m r \u001b[38;5;241m=\u001b[39m adapter\u001b[38;5;241m.\u001b[39msend(request, \u001b[38;5;241m*\u001b[39m\u001b[38;5;241m*\u001b[39mkwargs)\n\u001b[0;32m    647\u001b[0m \u001b[38;5;66;03m# Total elapsed time of the request (approximately)\u001b[39;00m\n\u001b[0;32m    648\u001b[0m elapsed \u001b[38;5;241m=\u001b[39m preferred_clock() \u001b[38;5;241m-\u001b[39m start\n",
      "File \u001b[1;32m~\\anaconda3\\lib\\site-packages\\requests\\adapters.py:517\u001b[0m, in \u001b[0;36mHTTPAdapter.send\u001b[1;34m(self, request, stream, timeout, verify, cert, proxies)\u001b[0m\n\u001b[0;32m    513\u001b[0m         \u001b[38;5;28;01mraise\u001b[39;00m ProxyError(e, request\u001b[38;5;241m=\u001b[39mrequest)\n\u001b[0;32m    515\u001b[0m     \u001b[38;5;28;01mif\u001b[39;00m \u001b[38;5;28misinstance\u001b[39m(e\u001b[38;5;241m.\u001b[39mreason, _SSLError):\n\u001b[0;32m    516\u001b[0m         \u001b[38;5;66;03m# This branch is for urllib3 v1.22 and later.\u001b[39;00m\n\u001b[1;32m--> 517\u001b[0m         \u001b[38;5;28;01mraise\u001b[39;00m SSLError(e, request\u001b[38;5;241m=\u001b[39mrequest)\n\u001b[0;32m    519\u001b[0m     \u001b[38;5;28;01mraise\u001b[39;00m \u001b[38;5;167;01mConnectionError\u001b[39;00m(e, request\u001b[38;5;241m=\u001b[39mrequest)\n\u001b[0;32m    521\u001b[0m \u001b[38;5;28;01mexcept\u001b[39;00m ClosedPoolError \u001b[38;5;28;01mas\u001b[39;00m e:\n",
      "\u001b[1;31mSSLError\u001b[0m: HTTPSConnectionPool(host='huggingface.co', port=443): Max retries exceeded with url: /bert-base-uncased/resolve/main/vocab.txt (Caused by SSLError(SSLCertVerificationError(1, '[SSL: CERTIFICATE_VERIFY_FAILED] certificate verify failed: unable to get local issuer certificate (_ssl.c:1129)')))"
     ]
    }
   ],
   "source": [
    "# Load pre-trained BERT tokenizer and model\n",
    "tokenizer = BertTokenizer.from_pretrained('bert-base-uncased')\n",
    "model = BertModel.from_pretrained('bert-base-uncased')\n"
   ]
  },
  {
   "cell_type": "code",
   "execution_count": null,
   "id": "e3cca4cc",
   "metadata": {},
   "outputs": [],
   "source": [
    "# Function to process a single pair of sentences and return the CLS token embedding\n",
    "def process_pair(sentence1):\n",
    "    # Tokenize sentences and add special tokens\n",
    "    tokens = tokenizer(sentence1,return_tensors='pt', padding=True, truncation=True)\n",
    "    \n",
    "    # Pass tokenized input to BERT model to obtain CLS token embeddings\n",
    "    with torch.no_grad():\n",
    "        outputs = model(**tokens)\n",
    "    \n",
    "    # Extract CLS token embeddings\n",
    "    cls_embedding = outputs.pooler_output\n",
    "    \n",
    "    return cls_embedding\n"
   ]
  },
  {
   "cell_type": "code",
   "execution_count": 106,
   "id": "8f285f77",
   "metadata": {},
   "outputs": [],
   "source": []
  },
  {
   "cell_type": "markdown",
   "id": "650e992a",
   "metadata": {},
   "source": [
    "## DBSACN - 13"
   ]
  },
  {
   "cell_type": "code",
   "execution_count": 92,
   "id": "b0e6b612",
   "metadata": {},
   "outputs": [],
   "source": [
    "df_13=df_groups.get_group(13)\n",
    "vectors=embeddings"
   ]
  },
  {
   "cell_type": "code",
   "execution_count": 59,
   "id": "02ee6a5a",
   "metadata": {
    "scrolled": true
   },
   "outputs": [],
   "source": [
    "embeddings = []\n",
    "for _, row in df_groups.get_group(13).iterrows():\n",
    "    sentence1 = row['V_COMMENTS_PROCESSED']\n",
    "    cls_embedding = process_pair(sentence1)\n",
    "    embeddings.append(cls_embedding)\n",
    "\n",
    "# Stack the embeddings into a single tensor\n",
    "# embeddings_tensor = torch.stack(embeddings)\n",
    "\n"
   ]
  },
  {
   "cell_type": "code",
   "execution_count": 116,
   "id": "d643d03d",
   "metadata": {},
   "outputs": [],
   "source": [
    "embeddings_arr=[i.numpy().flatten() for i in embeddings]"
   ]
  },
  {
   "cell_type": "code",
   "execution_count": 121,
   "id": "a1f2bb51",
   "metadata": {},
   "outputs": [],
   "source": [
    "from sklearn.preprocessing import StandardScaler\n",
    "sc=StandardScaler()\n",
    "std_emb=sc.fit_transform(embeddings_arr)"
   ]
  },
  {
   "cell_type": "code",
   "execution_count": 142,
   "id": "0c8d577d",
   "metadata": {},
   "outputs": [],
   "source": [
    "from sklearn.neighbors import NearestNeighbors\n",
    "# vectors = vectorizer.fit_transform(df_temp[\"V_COMMENTS_2\"])\n",
    "# dbscan = DBSCAN(eps=1.0, min_samples=5)\n",
    "# dbscan.fit(vectors)\n",
    "# cluster_labels = dbscan.labels_\n",
    "# coords = vectors.toarray()\n",
    "# no_clusters = len(np.unique(cluster_labels) )\n",
    "# no_noise = np.sum(np.array(cluster_labels) == -1, axis=0)\n",
    "\n",
    "\n",
    "neigh = NearestNeighbors(n_neighbors=2)\n",
    "nbrs = neigh.fit(std_emb)\n"
   ]
  },
  {
   "cell_type": "code",
   "execution_count": 143,
   "id": "21823043",
   "metadata": {},
   "outputs": [],
   "source": [
    "distances,indices=nbrs.kneighbors(std_emb)\n"
   ]
  },
  {
   "cell_type": "code",
   "execution_count": 144,
   "id": "79ac7e55",
   "metadata": {},
   "outputs": [
    {
     "data": {
      "text/plain": [
       "array([[  0,   8],\n",
       "       [  1,   6],\n",
       "       [  2,  15],\n",
       "       ...,\n",
       "       [655, 654],\n",
       "       [656, 654],\n",
       "       [657, 654]], dtype=int64)"
      ]
     },
     "execution_count": 144,
     "metadata": {},
     "output_type": "execute_result"
    }
   ],
   "source": [
    "indices"
   ]
  },
  {
   "cell_type": "code",
   "execution_count": 145,
   "id": "6d6762cb",
   "metadata": {
    "scrolled": true
   },
   "outputs": [
    {
     "data": {
      "image/png": "[encoded data removed]",
      "text/plain": [
       "<Figure size 1440x720 with 1 Axes>"
      ]
     },
     "metadata": {
      "needs_background": "light"
     },
     "output_type": "display_data"
    }
   ],
   "source": [
    "# Plotting K-distance Graph\n",
    "distances = np.sort(distances, axis=0)\n",
    "distances = distances[:,1]\n",
    "plt.figure(figsize=(20,10))\n",
    "plt.plot(distances)\n",
    "plt.title('K-distance Graph',fontsize=20)\n",
    "plt.xlabel('Data Points sorted by distance',fontsize=14)\n",
    "plt.ylabel('Epsilon',fontsize=14)\n",
    "plt.show()"
   ]
  },
  {
   "cell_type": "code",
   "execution_count": 158,
   "id": "ef270b90",
   "metadata": {},
   "outputs": [],
   "source": [
    "\n",
    "dbscan = DBSCAN(eps=20.0, min_samples=50)\n",
    "dbscan.fit(std_emb)\n",
    "cluster_labels = dbscan.labels_\n",
    "coords = std_emb\n",
    "no_clusters = len(np.unique(cluster_labels) )\n",
    "no_noise = np.sum(np.array(cluster_labels) == -1, axis=0)"
   ]
  },
  {
   "cell_type": "code",
   "execution_count": 169,
   "id": "08ed9a87",
   "metadata": {},
   "outputs": [
    {
     "data": {
      "text/plain": [
       "array([ 0,  0,  0,  0,  0,  0,  0,  0,  0,  0, -1,  0,  0,  0,  0,  0,  0,\n",
       "        0,  0,  0,  0,  0,  0,  0,  0,  0,  0,  0,  0,  0,  0,  0, -1,  0,\n",
       "        0,  0,  0,  0,  0,  0,  0,  0,  0,  0,  0,  0,  0,  0,  0,  0,  0,\n",
       "        0,  0,  0,  0,  0,  0,  0,  0,  0,  0,  0,  0,  0,  0,  0,  0,  0,\n",
       "        0,  0,  0,  0,  0,  0,  0,  0,  0,  0,  0,  0,  0,  0,  0,  0, -1,\n",
       "        0,  0,  0,  0,  0, -1,  0,  0,  0,  0, -1,  0,  0, -1,  0,  0,  0,\n",
       "       -1,  0,  0,  0,  0,  0,  0,  0,  0,  0,  0,  0,  0,  0,  0,  0,  0,\n",
       "        0,  0,  0,  0,  0,  0,  0,  0,  0,  0, -1,  0,  0,  0,  0,  0,  0,\n",
       "        0,  0,  0, -1,  0,  0,  0,  0,  0,  0,  0,  0,  0, -1,  0,  0,  0,\n",
       "        0,  0,  0,  0,  0,  0,  0, -1,  0, -1,  0, -1,  0,  0,  0,  0,  0,\n",
       "        0,  0,  0,  0,  0,  0,  0,  0,  0,  0,  0,  0,  0,  0,  0,  0,  0,\n",
       "        0,  0,  0,  0,  0,  0,  0,  0,  0,  0,  0,  0,  0,  0,  0,  0,  0,\n",
       "       -1,  0,  0,  0,  0,  0,  0,  0,  0,  0,  0,  0,  0,  0, -1,  0,  0,\n",
       "        0,  0,  0,  0,  0,  0,  0,  0,  0,  0,  0,  0,  0,  0, -1,  0,  0,\n",
       "        0,  0,  0,  0,  0,  0,  0,  0,  0,  0,  0,  0,  0,  0,  0,  0,  0,\n",
       "        0,  0,  0,  0,  0,  0,  0,  0,  0,  0,  0,  0,  0,  0,  0,  0,  0,\n",
       "        0,  0,  0,  0,  0,  0,  0,  0,  0,  0,  0,  0,  0,  0,  0,  0,  0,\n",
       "        0,  0,  0,  0,  0,  0,  0,  0,  0,  0,  0,  0,  0,  0,  0,  0,  0,\n",
       "        0,  0,  0,  0,  0,  0,  0,  0,  0,  0,  0,  0,  0,  0,  0,  0,  0,\n",
       "        0,  0,  0,  0,  0,  0,  0,  0,  0,  0,  0,  0,  0,  0,  0,  0,  0,\n",
       "        0,  0,  0,  0,  0,  0,  0,  0,  0,  0,  0,  0,  0,  0,  0,  0,  0,\n",
       "        0,  0,  0,  0,  0,  0,  0,  0,  0,  0,  0,  0,  0,  0, -1,  0,  0,\n",
       "        0,  0,  0,  0,  0,  0,  0,  0,  0,  0,  0,  0, -1,  0,  0,  0,  0,\n",
       "        0,  0,  0,  0,  0,  0,  0,  0,  0,  0,  0,  0,  0,  0,  0,  0,  0,\n",
       "        0, -1,  0,  0,  0,  0,  0,  0,  0,  0,  0,  0,  0,  0,  0,  0,  0,\n",
       "        0,  0,  0,  0,  0,  0,  0, -1, -1,  0,  0,  0,  0,  0,  0,  0,  0,\n",
       "        0,  0,  0,  0,  0,  0,  0,  0,  0, -1,  0,  0,  0,  0,  0, -1,  0,\n",
       "        0,  0,  0,  0,  0,  0,  0,  0,  0,  0,  0,  0,  0,  0,  0,  0,  0,\n",
       "        0, -1,  0,  0,  0,  0,  0,  0,  0,  0,  0,  0,  0,  0,  0,  0,  0,\n",
       "        0, -1,  0,  0,  0,  0,  0,  0,  0,  0,  0,  0,  0,  0,  0,  0,  0,\n",
       "        0,  0,  0,  0,  0,  0,  0,  0,  0, -1,  0,  0,  0,  0,  0, -1,  0,\n",
       "        0,  0,  0,  0,  0,  0, -1,  0,  0,  0,  0,  0,  0,  0,  0, -1, -1,\n",
       "        0,  0,  0,  0,  0,  0,  0,  0,  0,  0,  0,  0,  0,  0,  0,  0,  0,\n",
       "        0,  0,  0,  0, -1, -1,  0,  0,  0,  0,  0,  0,  0,  0,  0,  0,  0,\n",
       "        0,  0,  0, -1, -1,  0,  0,  0,  0,  0,  0, -1,  0,  0,  0,  0,  0,\n",
       "        0,  0,  0,  0,  0,  0,  0,  0,  0,  0,  0,  0,  0,  0,  0,  0,  0,\n",
       "        0,  0,  0,  0,  0,  0,  0,  0,  0,  0,  0,  0,  0,  0,  0,  0,  0,\n",
       "        0,  0,  0,  0,  0,  0,  0,  0,  0,  0, -1,  0,  0, -1,  0,  0,  0,\n",
       "        0,  0, -1,  0,  0,  0,  0,  0,  0,  0,  0,  0], dtype=int64)"
      ]
     },
     "execution_count": 169,
     "metadata": {},
     "output_type": "execute_result"
    }
   ],
   "source": [
    "cluster_labels"
   ]
  },
  {
   "cell_type": "code",
   "execution_count": 170,
   "id": "bb0ea484",
   "metadata": {},
   "outputs": [
    {
     "name": "stdout",
     "output_type": "stream",
     "text": [
      "Estimated no. of clusters: 2\n",
      "Estimated no. of noise points: 38\n"
     ]
    }
   ],
   "source": [
    "print('Estimated no. of clusters: %d' % no_clusters)\n",
    "print('Estimated no. of noise points: %d' % no_noise)"
   ]
  },
  {
   "cell_type": "code",
   "execution_count": 163,
   "id": "1e93f1d0",
   "metadata": {},
   "outputs": [],
   "source": [
    "df_13[\"Cluster_label\"]=cluster_labels"
   ]
  },
  {
   "cell_type": "code",
   "execution_count": 168,
   "id": "5293042d",
   "metadata": {},
   "outputs": [],
   "source": [
    "df_13.to_csv(\"DBSCAN results/13th_topic.csv\")\n"
   ]
  },
  {
   "cell_type": "markdown",
   "id": "af23bbcc",
   "metadata": {},
   "source": [
    "## DBSCAN -18"
   ]
  },
  {
   "cell_type": "code",
   "execution_count": 183,
   "id": "a22692cb",
   "metadata": {},
   "outputs": [],
   "source": [
    "embeddings = []\n",
    "for _, row in df_groups.get_group(18).iterrows():\n",
    "    sentence1 = row['V_COMMENTS_PROCESSED']\n",
    "    cls_embedding = process_pair(sentence1)\n",
    "    embeddings.append(cls_embedding)"
   ]
  },
  {
   "cell_type": "code",
   "execution_count": 184,
   "id": "b5520c83",
   "metadata": {},
   "outputs": [],
   "source": [
    "df_18=df_groups.get_group(18)\n",
    "vectors=embeddings"
   ]
  },
  {
   "cell_type": "code",
   "execution_count": null,
   "id": "99b8995d",
   "metadata": {},
   "outputs": [],
   "source": []
  },
  {
   "cell_type": "code",
   "execution_count": 185,
   "id": "6cce07a9",
   "metadata": {},
   "outputs": [],
   "source": [
    "embeddings_arr=[i.numpy().flatten() for i in embeddings]"
   ]
  },
  {
   "cell_type": "code",
   "execution_count": 186,
   "id": "0dc2dea1",
   "metadata": {},
   "outputs": [],
   "source": [
    "from sklearn.preprocessing import StandardScaler\n",
    "sc=StandardScaler()\n",
    "std_emb=sc.fit_transform(embeddings_arr)"
   ]
  },
  {
   "cell_type": "code",
   "execution_count": 187,
   "id": "2f1a204d",
   "metadata": {},
   "outputs": [],
   "source": [
    "from sklearn.neighbors import NearestNeighbors\n",
    "# vectors = vectorizer.fit_transform(df_temp[\"V_COMMENTS_2\"])\n",
    "# dbscan = DBSCAN(eps=1.0, min_samples=5)\n",
    "# dbscan.fit(vectors)\n",
    "# cluster_labels = dbscan.labels_\n",
    "# coords = vectors.toarray()\n",
    "# no_clusters = len(np.unique(cluster_labels) )\n",
    "# no_noise = np.sum(np.array(cluster_labels) == -1, axis=0)\n",
    "\n",
    "\n",
    "neigh = NearestNeighbors(n_neighbors=2)\n",
    "nbrs = neigh.fit(std_emb)\n"
   ]
  },
  {
   "cell_type": "code",
   "execution_count": 188,
   "id": "fc083c77",
   "metadata": {},
   "outputs": [],
   "source": [
    "distances,indices=nbrs.kneighbors(std_emb)\n"
   ]
  },
  {
   "cell_type": "code",
   "execution_count": 189,
   "id": "52856d40",
   "metadata": {},
   "outputs": [
    {
     "data": {
      "text/plain": [
       "array([[  0, 389],\n",
       "       [  1,  11],\n",
       "       [  2, 711],\n",
       "       ...,\n",
       "       [950, 258],\n",
       "       [951, 379],\n",
       "       [952, 515]], dtype=int64)"
      ]
     },
     "execution_count": 189,
     "metadata": {},
     "output_type": "execute_result"
    }
   ],
   "source": [
    "indices"
   ]
  },
  {
   "cell_type": "code",
   "execution_count": 190,
   "id": "63c7d482",
   "metadata": {
    "scrolled": true
   },
   "outputs": [
    {
     "data": {
      "image/png": "[encoded data removed]",
      "text/plain": [
       "<Figure size 1440x720 with 1 Axes>"
      ]
     },
     "metadata": {
      "needs_background": "light"
     },
     "output_type": "display_data"
    }
   ],
   "source": [
    "# Plotting K-distance Graph\n",
    "distances = np.sort(distances, axis=0)\n",
    "distances = distances[:,1]\n",
    "plt.figure(figsize=(20,10))\n",
    "plt.plot(distances)\n",
    "plt.title('K-distance Graph',fontsize=20)\n",
    "plt.xlabel('Data Points sorted by distance',fontsize=14)\n",
    "plt.ylabel('Epsilon',fontsize=14)\n",
    "plt.show()"
   ]
  },
  {
   "cell_type": "code",
   "execution_count": 191,
   "id": "e43e8480",
   "metadata": {},
   "outputs": [],
   "source": [
    "\n",
    "dbscan = DBSCAN(eps=22.0, min_samples=50)\n",
    "dbscan.fit(std_emb)\n",
    "cluster_labels = dbscan.labels_\n",
    "coords = std_emb\n",
    "no_clusters = len(np.unique(cluster_labels) )\n",
    "no_noise = np.sum(np.array(cluster_labels) == -1, axis=0)"
   ]
  },
  {
   "cell_type": "code",
   "execution_count": 192,
   "id": "afd6237c",
   "metadata": {},
   "outputs": [
    {
     "data": {
      "text/plain": [
       "array([ 0,  0, -1, -1,  0,  0,  0,  0,  0,  0,  0,  0,  0,  0,  0,  0,  0,\n",
       "        0,  0,  0,  0,  0, -1,  0,  0,  0,  0,  0,  0,  0,  0,  0,  0,  0,\n",
       "        0,  0,  0,  0,  0,  0,  0,  0,  0,  0,  0,  0,  0,  0,  0, -1,  0,\n",
       "        0,  0, -1,  0,  0,  0,  0,  0,  0,  0,  0,  0,  0,  0,  0,  0,  0,\n",
       "        0,  0,  0,  0,  0,  0,  0,  0,  0,  0,  0,  0,  0, -1,  0,  0,  0,\n",
       "        0,  0,  0,  0, -1,  0,  0,  0,  0,  0,  0,  0,  0,  0,  0,  0,  0,\n",
       "        0,  0,  0,  0,  0,  0,  0,  0,  0,  0,  0,  0,  0,  0,  0,  0,  0,\n",
       "        0,  0,  0,  0,  0,  0,  0,  0,  0,  0,  0,  0,  0,  0,  0,  0,  0,\n",
       "        0,  0,  0,  0,  0,  0,  0, -1,  0,  0,  0,  0,  0,  0,  0, -1,  0,\n",
       "        0,  0,  0,  0, -1, -1,  0,  0,  0,  0,  0,  0, -1,  0,  0,  0,  0,\n",
       "        0,  0,  0,  0,  0, -1,  0,  0,  0,  0, -1,  0,  0,  0, -1,  0,  0,\n",
       "       -1, -1,  0,  0,  0, -1, -1,  0,  0,  0,  0,  0,  0,  0,  0,  0,  0,\n",
       "        0,  0,  0,  0,  0,  0,  0,  0,  0,  0,  0,  0,  0,  0,  0,  0,  0,\n",
       "        0,  0,  0,  0,  0,  0, -1,  0,  0,  0, -1,  0,  0,  0, -1,  0,  0,\n",
       "        0,  0,  0,  0,  0,  0,  0,  0,  0,  0,  0,  0,  0,  0, -1,  0,  0,\n",
       "        0,  0,  0,  0,  0,  0,  0,  0,  0,  0,  0,  0,  0,  0,  0,  0,  0,\n",
       "        0,  0,  0,  0,  0,  0,  0,  0,  0,  0,  0,  0,  0,  0,  0,  0,  0,\n",
       "        0, -1,  0,  0,  0,  0,  0,  0,  0,  0,  0,  0,  0,  0,  0,  0,  0,\n",
       "        0,  0, -1,  0,  0,  0,  0,  0,  0,  0,  0,  0,  0,  0, -1,  0,  0,\n",
       "        0,  0,  0,  0,  0,  0,  0,  0,  0,  0,  0, -1,  0,  0, -1,  0,  0,\n",
       "        0,  0,  0,  0,  0,  0,  0, -1,  0,  0,  0,  0,  0,  0,  0,  0,  0,\n",
       "        0,  0,  0,  0,  0,  0,  0,  0,  0,  0,  0,  0,  0,  0,  0,  0,  0,\n",
       "        0, -1,  0,  0,  0,  0,  0,  0,  0,  0,  0,  0,  0,  0,  0,  0,  0,\n",
       "        0,  0,  0, -1, -1,  0,  0,  0,  0,  0, -1,  0,  0,  0,  0, -1,  0,\n",
       "        0,  0,  0,  0,  0,  0,  0,  0,  0,  0,  0,  0,  0,  0,  0,  0,  0,\n",
       "        0,  0,  0,  0,  0,  0,  0,  0,  0,  0,  0,  0, -1,  0,  0,  0, -1,\n",
       "        0,  0,  0, -1,  0,  0,  0,  0,  0,  0,  0,  0,  0,  0,  0,  0,  0,\n",
       "        0,  0,  0,  0,  0,  0,  0,  0,  0,  0,  0,  0,  0,  0,  0,  0,  0,\n",
       "        0,  0,  0,  0,  0, -1, -1,  0,  0, -1,  0,  0,  0,  0,  0,  0,  0,\n",
       "        0, -1,  0,  0,  0,  0,  0,  0,  0,  0,  0, -1, -1,  0,  0,  0,  0,\n",
       "        0,  0,  0,  0,  0,  0,  0,  0,  0,  0,  0,  0,  0,  0,  0,  0, -1,\n",
       "        0,  0, -1,  0,  0,  0,  0,  0,  0,  0,  0,  0,  0,  0,  0,  0,  0,\n",
       "        0,  0,  0,  0, -1,  0,  0,  0,  0,  0,  0,  0,  0,  0,  0,  0,  0,\n",
       "        0,  0,  0,  0,  0,  0,  0, -1,  0,  0,  0,  0,  0,  0, -1,  0,  0,\n",
       "        0,  0,  0,  0,  0,  0,  0, -1,  0,  0,  0,  0,  0, -1,  0,  0,  0,\n",
       "        0,  0,  0,  0,  0,  0,  0,  0,  0,  0,  0,  0,  0,  0,  0,  0,  0,\n",
       "        0,  0,  0,  0,  0, -1, -1,  0,  0,  0,  0,  0,  0,  0,  0,  0,  0,\n",
       "        0,  0,  0,  0,  0,  0,  0,  0,  0,  0,  0,  0,  0,  0,  0, -1,  0,\n",
       "        0,  0,  0,  0,  0,  0,  0,  0,  0,  0,  0,  0,  0,  0,  0,  0,  0,\n",
       "        0,  0,  0,  0,  0,  0,  0,  0,  0,  0,  0,  0,  0,  0,  0,  0,  0,\n",
       "        0,  0,  0, -1,  0,  0,  0,  0,  0,  0,  0, -1,  0,  0,  0,  0,  0,\n",
       "        0,  0,  0,  0,  0,  0, -1,  0,  0,  0,  0,  0, -1,  0, -1,  0,  0,\n",
       "        0,  0,  0,  0,  0,  0,  0,  0,  0,  0,  0,  0,  0,  0,  0,  0,  0,\n",
       "        0,  0,  0,  0,  0,  0,  0,  0,  0,  0,  0, -1,  0,  0,  0,  0,  0,\n",
       "        0,  0,  0,  0,  0,  0,  0,  0,  0,  0,  0,  0,  0,  0,  0, -1,  0,\n",
       "        0,  0,  0, -1,  0,  0,  0,  0,  0,  0, -1,  0,  0,  0,  0,  0,  0,\n",
       "        0,  0,  0,  0,  0,  0, -1,  0,  0,  0,  0,  0,  0,  0,  0,  0,  0,\n",
       "        0,  0,  0,  0,  0,  0,  0,  0,  0,  0,  0,  0,  0,  0,  0,  0,  0,\n",
       "        0,  0,  0,  0,  0,  0,  0,  0,  0,  0,  0,  0,  0,  0,  0,  0,  0,\n",
       "        0,  0,  0,  0,  0,  0,  0, -1,  0,  0,  0,  0,  0,  0,  0,  0,  0,\n",
       "        0,  0,  0,  0,  0,  0,  0,  0,  0,  0,  0,  0,  0,  0,  0,  0,  0,\n",
       "        0,  0,  0,  0,  0,  0,  0,  0,  0,  0,  0, -1,  0,  0,  0, -1,  0,\n",
       "        0, -1,  0,  0,  0,  0,  0,  0,  0,  0,  0,  0,  0,  0,  0,  0,  0,\n",
       "        0,  0,  0,  0,  0,  0,  0,  0,  0,  0,  0,  0,  0,  0,  0,  0,  0,\n",
       "        0,  0,  0,  0,  0,  0,  0,  0,  0, -1, -1,  0,  0,  0,  0,  0,  0,\n",
       "        0,  0,  0,  0, -1,  0,  0,  0,  0,  0,  0,  0,  0,  0,  0,  0,  0,\n",
       "        0], dtype=int64)"
      ]
     },
     "execution_count": 192,
     "metadata": {},
     "output_type": "execute_result"
    }
   ],
   "source": [
    "cluster_labels"
   ]
  },
  {
   "cell_type": "code",
   "execution_count": 193,
   "id": "8bd01a22",
   "metadata": {},
   "outputs": [
    {
     "name": "stdout",
     "output_type": "stream",
     "text": [
      "Estimated no. of clusters: 2\n",
      "Estimated no. of noise points: 70\n"
     ]
    }
   ],
   "source": [
    "print('Estimated no. of clusters: %d' % no_clusters)\n",
    "print('Estimated no. of noise points: %d' % no_noise)"
   ]
  },
  {
   "cell_type": "code",
   "execution_count": 194,
   "id": "99b50474",
   "metadata": {},
   "outputs": [],
   "source": [
    "df_18[\"Cluster_label\"]=cluster_labels"
   ]
  },
  {
   "cell_type": "code",
   "execution_count": 195,
   "id": "06789b44",
   "metadata": {},
   "outputs": [],
   "source": [
    "df_18.to_csv(\"DBSCAN results/18th_topic.csv\")"
   ]
  },
  {
   "cell_type": "code",
   "execution_count": 196,
   "id": "10bcf87e",
   "metadata": {},
   "outputs": [
    {
     "data": {
      "text/plain": [
       "(953, 13)"
      ]
     },
     "execution_count": 196,
     "metadata": {},
     "output_type": "execute_result"
    }
   ],
   "source": [
    "df_18.shape"
   ]
  },
  {
   "cell_type": "code",
   "execution_count": null,
   "id": "e54b6356",
   "metadata": {},
   "outputs": [],
   "source": []
  },
  {
   "cell_type": "markdown",
   "id": "b77b550d",
   "metadata": {},
   "source": [
    "### DBSCAN -2"
   ]
  },
  {
   "cell_type": "code",
   "execution_count": 197,
   "id": "b3ebeb68",
   "metadata": {},
   "outputs": [],
   "source": [
    "embeddings = []\n",
    "for _, row in df_groups.get_group(2).iterrows():\n",
    "    sentence1 = row['V_COMMENTS_PROCESSED']\n",
    "    cls_embedding = process_pair(sentence1)\n",
    "    embeddings.append(cls_embedding)"
   ]
  },
  {
   "cell_type": "code",
   "execution_count": 198,
   "id": "449d37a7",
   "metadata": {},
   "outputs": [],
   "source": [
    "df_2=df_groups.get_group(2)\n",
    "vectors=embeddings"
   ]
  },
  {
   "cell_type": "code",
   "execution_count": null,
   "id": "fc839913",
   "metadata": {},
   "outputs": [],
   "source": []
  },
  {
   "cell_type": "code",
   "execution_count": 199,
   "id": "f034892f",
   "metadata": {},
   "outputs": [],
   "source": [
    "embeddings_arr=[i.numpy().flatten() for i in embeddings]"
   ]
  },
  {
   "cell_type": "code",
   "execution_count": 200,
   "id": "cccd5fad",
   "metadata": {},
   "outputs": [],
   "source": [
    "from sklearn.preprocessing import StandardScaler\n",
    "sc=StandardScaler()\n",
    "std_emb=sc.fit_transform(embeddings_arr)"
   ]
  },
  {
   "cell_type": "code",
   "execution_count": 201,
   "id": "3495fe99",
   "metadata": {},
   "outputs": [],
   "source": [
    "from sklearn.neighbors import NearestNeighbors\n",
    "# vectors = vectorizer.fit_transform(df_temp[\"V_COMMENTS_2\"])\n",
    "# dbscan = DBSCAN(eps=1.0, min_samples=5)\n",
    "# dbscan.fit(vectors)\n",
    "# cluster_labels = dbscan.labels_\n",
    "# coords = vectors.toarray()\n",
    "# no_clusters = len(np.unique(cluster_labels) )\n",
    "# no_noise = np.sum(np.array(cluster_labels) == -1, axis=0)\n",
    "\n",
    "\n",
    "neigh = NearestNeighbors(n_neighbors=2)\n",
    "nbrs = neigh.fit(std_emb)\n"
   ]
  },
  {
   "cell_type": "code",
   "execution_count": 202,
   "id": "b9c9f700",
   "metadata": {},
   "outputs": [],
   "source": [
    "distances,indices=nbrs.kneighbors(std_emb)\n"
   ]
  },
  {
   "cell_type": "code",
   "execution_count": 203,
   "id": "6a72229a",
   "metadata": {},
   "outputs": [
    {
     "data": {
      "text/plain": [
       "array([[   0,  540],\n",
       "       [   1,  193],\n",
       "       [   2,   19],\n",
       "       ...,\n",
       "       [1067,  723],\n",
       "       [1068,  322],\n",
       "       [1069,  382]], dtype=int64)"
      ]
     },
     "execution_count": 203,
     "metadata": {},
     "output_type": "execute_result"
    }
   ],
   "source": [
    "indices"
   ]
  },
  {
   "cell_type": "code",
   "execution_count": 204,
   "id": "3a647f87",
   "metadata": {
    "scrolled": true
   },
   "outputs": [
    {
     "data": {
      "image/png": "[encoded data removed]",
      "text/plain": [
       "<Figure size 1440x720 with 1 Axes>"
      ]
     },
     "metadata": {
      "needs_background": "light"
     },
     "output_type": "display_data"
    }
   ],
   "source": [
    "# Plotting K-distance Graph\n",
    "distances = np.sort(distances, axis=0)\n",
    "distances = distances[:,1]\n",
    "plt.figure(figsize=(20,10))\n",
    "plt.plot(distances)\n",
    "plt.title('K-distance Graph',fontsize=20)\n",
    "plt.xlabel('Data Points sorted by distance',fontsize=14)\n",
    "plt.ylabel('Epsilon',fontsize=14)\n",
    "plt.show()"
   ]
  },
  {
   "cell_type": "code",
   "execution_count": 191,
   "id": "162eac97",
   "metadata": {},
   "outputs": [],
   "source": [
    "\n",
    "dbscan = DBSCAN(eps=22.0, min_samples=50)\n",
    "dbscan.fit(std_emb)\n",
    "cluster_labels = dbscan.labels_\n",
    "coords = std_emb\n",
    "no_clusters = len(np.unique(cluster_labels) )\n",
    "no_noise = np.sum(np.array(cluster_labels) == -1, axis=0)"
   ]
  },
  {
   "cell_type": "code",
   "execution_count": 192,
   "id": "01046c35",
   "metadata": {},
   "outputs": [
    {
     "data": {
      "text/plain": [
       "array([ 0,  0, -1, -1,  0,  0,  0,  0,  0,  0,  0,  0,  0,  0,  0,  0,  0,\n",
       "        0,  0,  0,  0,  0, -1,  0,  0,  0,  0,  0,  0,  0,  0,  0,  0,  0,\n",
       "        0,  0,  0,  0,  0,  0,  0,  0,  0,  0,  0,  0,  0,  0,  0, -1,  0,\n",
       "        0,  0, -1,  0,  0,  0,  0,  0,  0,  0,  0,  0,  0,  0,  0,  0,  0,\n",
       "        0,  0,  0,  0,  0,  0,  0,  0,  0,  0,  0,  0,  0, -1,  0,  0,  0,\n",
       "        0,  0,  0,  0, -1,  0,  0,  0,  0,  0,  0,  0,  0,  0,  0,  0,  0,\n",
       "        0,  0,  0,  0,  0,  0,  0,  0,  0,  0,  0,  0,  0,  0,  0,  0,  0,\n",
       "        0,  0,  0,  0,  0,  0,  0,  0,  0,  0,  0,  0,  0,  0,  0,  0,  0,\n",
       "        0,  0,  0,  0,  0,  0,  0, -1,  0,  0,  0,  0,  0,  0,  0, -1,  0,\n",
       "        0,  0,  0,  0, -1, -1,  0,  0,  0,  0,  0,  0, -1,  0,  0,  0,  0,\n",
       "        0,  0,  0,  0,  0, -1,  0,  0,  0,  0, -1,  0,  0,  0, -1,  0,  0,\n",
       "       -1, -1,  0,  0,  0, -1, -1,  0,  0,  0,  0,  0,  0,  0,  0,  0,  0,\n",
       "        0,  0,  0,  0,  0,  0,  0,  0,  0,  0,  0,  0,  0,  0,  0,  0,  0,\n",
       "        0,  0,  0,  0,  0,  0, -1,  0,  0,  0, -1,  0,  0,  0, -1,  0,  0,\n",
       "        0,  0,  0,  0,  0,  0,  0,  0,  0,  0,  0,  0,  0,  0, -1,  0,  0,\n",
       "        0,  0,  0,  0,  0,  0,  0,  0,  0,  0,  0,  0,  0,  0,  0,  0,  0,\n",
       "        0,  0,  0,  0,  0,  0,  0,  0,  0,  0,  0,  0,  0,  0,  0,  0,  0,\n",
       "        0, -1,  0,  0,  0,  0,  0,  0,  0,  0,  0,  0,  0,  0,  0,  0,  0,\n",
       "        0,  0, -1,  0,  0,  0,  0,  0,  0,  0,  0,  0,  0,  0, -1,  0,  0,\n",
       "        0,  0,  0,  0,  0,  0,  0,  0,  0,  0,  0, -1,  0,  0, -1,  0,  0,\n",
       "        0,  0,  0,  0,  0,  0,  0, -1,  0,  0,  0,  0,  0,  0,  0,  0,  0,\n",
       "        0,  0,  0,  0,  0,  0,  0,  0,  0,  0,  0,  0,  0,  0,  0,  0,  0,\n",
       "        0, -1,  0,  0,  0,  0,  0,  0,  0,  0,  0,  0,  0,  0,  0,  0,  0,\n",
       "        0,  0,  0, -1, -1,  0,  0,  0,  0,  0, -1,  0,  0,  0,  0, -1,  0,\n",
       "        0,  0,  0,  0,  0,  0,  0,  0,  0,  0,  0,  0,  0,  0,  0,  0,  0,\n",
       "        0,  0,  0,  0,  0,  0,  0,  0,  0,  0,  0,  0, -1,  0,  0,  0, -1,\n",
       "        0,  0,  0, -1,  0,  0,  0,  0,  0,  0,  0,  0,  0,  0,  0,  0,  0,\n",
       "        0,  0,  0,  0,  0,  0,  0,  0,  0,  0,  0,  0,  0,  0,  0,  0,  0,\n",
       "        0,  0,  0,  0,  0, -1, -1,  0,  0, -1,  0,  0,  0,  0,  0,  0,  0,\n",
       "        0, -1,  0,  0,  0,  0,  0,  0,  0,  0,  0, -1, -1,  0,  0,  0,  0,\n",
       "        0,  0,  0,  0,  0,  0,  0,  0,  0,  0,  0,  0,  0,  0,  0,  0, -1,\n",
       "        0,  0, -1,  0,  0,  0,  0,  0,  0,  0,  0,  0,  0,  0,  0,  0,  0,\n",
       "        0,  0,  0,  0, -1,  0,  0,  0,  0,  0,  0,  0,  0,  0,  0,  0,  0,\n",
       "        0,  0,  0,  0,  0,  0,  0, -1,  0,  0,  0,  0,  0,  0, -1,  0,  0,\n",
       "        0,  0,  0,  0,  0,  0,  0, -1,  0,  0,  0,  0,  0, -1,  0,  0,  0,\n",
       "        0,  0,  0,  0,  0,  0,  0,  0,  0,  0,  0,  0,  0,  0,  0,  0,  0,\n",
       "        0,  0,  0,  0,  0, -1, -1,  0,  0,  0,  0,  0,  0,  0,  0,  0,  0,\n",
       "        0,  0,  0,  0,  0,  0,  0,  0,  0,  0,  0,  0,  0,  0,  0, -1,  0,\n",
       "        0,  0,  0,  0,  0,  0,  0,  0,  0,  0,  0,  0,  0,  0,  0,  0,  0,\n",
       "        0,  0,  0,  0,  0,  0,  0,  0,  0,  0,  0,  0,  0,  0,  0,  0,  0,\n",
       "        0,  0,  0, -1,  0,  0,  0,  0,  0,  0,  0, -1,  0,  0,  0,  0,  0,\n",
       "        0,  0,  0,  0,  0,  0, -1,  0,  0,  0,  0,  0, -1,  0, -1,  0,  0,\n",
       "        0,  0,  0,  0,  0,  0,  0,  0,  0,  0,  0,  0,  0,  0,  0,  0,  0,\n",
       "        0,  0,  0,  0,  0,  0,  0,  0,  0,  0,  0, -1,  0,  0,  0,  0,  0,\n",
       "        0,  0,  0,  0,  0,  0,  0,  0,  0,  0,  0,  0,  0,  0,  0, -1,  0,\n",
       "        0,  0,  0, -1,  0,  0,  0,  0,  0,  0, -1,  0,  0,  0,  0,  0,  0,\n",
       "        0,  0,  0,  0,  0,  0, -1,  0,  0,  0,  0,  0,  0,  0,  0,  0,  0,\n",
       "        0,  0,  0,  0,  0,  0,  0,  0,  0,  0,  0,  0,  0,  0,  0,  0,  0,\n",
       "        0,  0,  0,  0,  0,  0,  0,  0,  0,  0,  0,  0,  0,  0,  0,  0,  0,\n",
       "        0,  0,  0,  0,  0,  0,  0, -1,  0,  0,  0,  0,  0,  0,  0,  0,  0,\n",
       "        0,  0,  0,  0,  0,  0,  0,  0,  0,  0,  0,  0,  0,  0,  0,  0,  0,\n",
       "        0,  0,  0,  0,  0,  0,  0,  0,  0,  0,  0, -1,  0,  0,  0, -1,  0,\n",
       "        0, -1,  0,  0,  0,  0,  0,  0,  0,  0,  0,  0,  0,  0,  0,  0,  0,\n",
       "        0,  0,  0,  0,  0,  0,  0,  0,  0,  0,  0,  0,  0,  0,  0,  0,  0,\n",
       "        0,  0,  0,  0,  0,  0,  0,  0,  0, -1, -1,  0,  0,  0,  0,  0,  0,\n",
       "        0,  0,  0,  0, -1,  0,  0,  0,  0,  0,  0,  0,  0,  0,  0,  0,  0,\n",
       "        0], dtype=int64)"
      ]
     },
     "execution_count": 192,
     "metadata": {},
     "output_type": "execute_result"
    }
   ],
   "source": [
    "cluster_labels"
   ]
  },
  {
   "cell_type": "code",
   "execution_count": 193,
   "id": "7e7b210f",
   "metadata": {},
   "outputs": [
    {
     "name": "stdout",
     "output_type": "stream",
     "text": [
      "Estimated no. of clusters: 2\n",
      "Estimated no. of noise points: 70\n"
     ]
    }
   ],
   "source": [
    "print('Estimated no. of clusters: %d' % no_clusters)\n",
    "print('Estimated no. of noise points: %d' % no_noise)"
   ]
  },
  {
   "cell_type": "code",
   "execution_count": 194,
   "id": "cdd2d2e0",
   "metadata": {},
   "outputs": [],
   "source": [
    "df_2[\"Cluster_label\"]=cluster_labels"
   ]
  },
  {
   "cell_type": "code",
   "execution_count": 195,
   "id": "adbaf978",
   "metadata": {},
   "outputs": [],
   "source": [
    "df_2.to_csv(\"DBSCAN results/18th_topic.csv\")"
   ]
  },
  {
   "cell_type": "code",
   "execution_count": 196,
   "id": "6c56dcaa",
   "metadata": {},
   "outputs": [
    {
     "data": {
      "text/plain": [
       "(953, 13)"
      ]
     },
     "execution_count": 196,
     "metadata": {},
     "output_type": "execute_result"
    }
   ],
   "source": [
    "df_2.shape"
   ]
  },
  {
   "cell_type": "code",
   "execution_count": null,
   "id": "5bcac06a",
   "metadata": {},
   "outputs": [],
   "source": []
  },
  {
   "cell_type": "code",
   "execution_count": null,
   "id": "0af423f2",
   "metadata": {},
   "outputs": [],
   "source": []
  },
  {
   "cell_type": "code",
   "execution_count": null,
   "id": "e311469b",
   "metadata": {},
   "outputs": [],
   "source": []
  },
  {
   "cell_type": "markdown",
   "id": "f2bab639",
   "metadata": {},
   "source": [
    "## Local Outlier factor"
   ]
  },
  {
   "cell_type": "code",
   "execution_count": null,
   "id": "32352bb6",
   "metadata": {},
   "outputs": [],
   "source": [
    "\n",
    "# "
   ]
  },
  {
   "cell_type": "code",
   "execution_count": 80,
   "id": "9206cdfe",
   "metadata": {},
   "outputs": [
    {
     "ename": "NameError",
     "evalue": "name 'LocalOutlierFactor' is not defined",
     "output_type": "error",
     "traceback": [
      "\u001b[1;31m---------------------------------------------------------------------------\u001b[0m",
      "\u001b[1;31mNameError\u001b[0m                                 Traceback (most recent call last)",
      "Input \u001b[1;32mIn [80]\u001b[0m, in \u001b[0;36m<cell line: 8>\u001b[1;34m()\u001b[0m\n\u001b[0;32m      6\u001b[0m n_neighbors \u001b[38;5;241m=\u001b[39m \u001b[38;5;241m1000\u001b[39m\n\u001b[0;32m      7\u001b[0m contamination \u001b[38;5;241m=\u001b[39m \u001b[38;5;241m0.4\u001b[39m  \u001b[38;5;66;03m# Percentage of outliers expected in the dataset\u001b[39;00m\n\u001b[1;32m----> 8\u001b[0m lof \u001b[38;5;241m=\u001b[39m \u001b[43mLocalOutlierFactor\u001b[49m(n_neighbors\u001b[38;5;241m=\u001b[39mn_neighbors, contamination\u001b[38;5;241m=\u001b[39mcontamination, novelty\u001b[38;5;241m=\u001b[39m\u001b[38;5;28;01mFalse\u001b[39;00m)\n\u001b[0;32m      9\u001b[0m outlier_labels \u001b[38;5;241m=\u001b[39m lof\u001b[38;5;241m.\u001b[39mfit_predict(vectors)\n\u001b[0;32m     11\u001b[0m \u001b[38;5;66;03m# Print outliers\u001b[39;00m\n",
      "\u001b[1;31mNameError\u001b[0m: name 'LocalOutlierFactor' is not defined"
     ]
    }
   ],
   "source": [
    "\n",
    "# TF-IDF vectorization\n",
    "# vectorizer = TfidfVectorizer()\n",
    "# vectors = vectorizer.fit_transform(df_grp[\"V_COMMENTS_2\"].get_group(9).values)\n",
    "\n",
    "# Apply Local Outlier Factor\n",
    "n_neighbors = 1000\n",
    "contamination = 0.4  # Percentage of outliers expected in the dataset\n",
    "lof = LocalOutlierFactor(n_neighbors=n_neighbors, contamination=contamination, novelty=False)\n",
    "outlier_labels = lof.fit_predict(vectors)\n",
    "\n",
    "# Print outliers\n",
    "print(\"Outliers:\")\n",
    "for i, label in enumerate(outlier_labels):\n",
    "    if label == -1:\n",
    "        print(vectors[i])\n"
   ]
  },
  {
   "cell_type": "code",
   "execution_count": 40,
   "id": "c146c09b",
   "metadata": {},
   "outputs": [
    {
     "data": {
      "text/plain": [
       "<1x14007 sparse matrix of type '<class 'numpy.float64'>'\n",
       "\twith 29 stored elements in Compressed Sparse Row format>"
      ]
     },
     "execution_count": 40,
     "metadata": {},
     "output_type": "execute_result"
    }
   ],
   "source": [
    "vectors[4009]"
   ]
  },
  {
   "cell_type": "code",
   "execution_count": null,
   "id": "8479bf99",
   "metadata": {},
   "outputs": [],
   "source": []
  },
  {
   "cell_type": "code",
   "execution_count": null,
   "id": "df8c4e7b",
   "metadata": {},
   "outputs": [],
   "source": [
    "# Define parameter grid\n",
    "param_grid = {\n",
    "    'n_neighbors': [500, 700,1000,1500],\n",
    "    'contamination': [0.5, 0.1, 0.2,0.4,]\n",
    "}\n",
    "\n",
    "\n",
    "\n",
    "\n",
    "\n",
    "# Perform grid search with unsupervised evaluation\n",
    "grid_search = GridSearchCV(estimator=lof, param_grid=param_grid, scoring=silhouette_score)\n",
    "grid_search.fit(vectors)  # X: feature matrix\n",
    "\n",
    "# Get best parameters\n",
    "best_params = grid_search.best_params_\n",
    "print(\"Best Parameters:\", best_params)\n",
    "\n",
    "# Evaluate silhouette score\n",
    "silhouette = silhouette_score(vectors, grid_search.best_estimator_.negative_outlier_factor_)\n",
    "print(\"Silhouette Score:\", silhouette)\n"
   ]
  },
  {
   "cell_type": "code",
   "execution_count": null,
   "id": "cbdc6f69",
   "metadata": {},
   "outputs": [],
   "source": []
  },
  {
   "cell_type": "code",
   "execution_count": null,
   "id": "1b66df74",
   "metadata": {},
   "outputs": [],
   "source": []
  },
  {
   "cell_type": "code",
   "execution_count": null,
   "id": "5cf30260",
   "metadata": {},
   "outputs": [],
   "source": []
  },
  {
   "cell_type": "code",
   "execution_count": null,
   "id": "15634768",
   "metadata": {},
   "outputs": [],
   "source": []
  },
  {
   "cell_type": "code",
   "execution_count": null,
   "id": "b34ff38a",
   "metadata": {},
   "outputs": [],
   "source": []
  },
  {
   "cell_type": "markdown",
   "id": "884ccf25",
   "metadata": {},
   "source": [
    "# PCA "
   ]
  },
  {
   "cell_type": "code",
   "execution_count": 26,
   "id": "056b3c13",
   "metadata": {},
   "outputs": [],
   "source": [
    "# importing all necessary modules\n",
    "from gensim.models import Word2Vec\n",
    "import gensim\n",
    "from nltk.tokenize import sent_tokenize, word_tokenize\n",
    "from sklearn.metrics.pairwise import cosine_similarity\n",
    "import matplotlib.pyplot as plt\n",
    "import seaborn as sns\n",
    "from sklearn.decomposition import PCA"
   ]
  },
  {
   "cell_type": "code",
   "execution_count": 28,
   "id": "45f5bc74",
   "metadata": {},
   "outputs": [],
   "source": [
    "model1= gensim.models.Word2Vec(df[\"Tokens\"].to_list(), min_count=1,\n",
    "                                vector_size=100, window=5,sg=0)"
   ]
  },
  {
   "cell_type": "code",
   "execution_count": 31,
   "id": "772b9545",
   "metadata": {},
   "outputs": [],
   "source": [
    "df[\"Word2vec\"]=df[\"Tokens\"].apply(lambda x: np.mean(np.array([ model1.wv[token] for token in x]),axis=0))"
   ]
  },
  {
   "cell_type": "code",
   "execution_count": 43,
   "id": "233a129e",
   "metadata": {},
   "outputs": [],
   "source": [
    "# df[\"Word2vec\"].values\n",
    "pca = PCA(n_components=10)\n",
    "# df[\"Word2vec\"].values\n",
    "word_vectors_pca = pca.fit_transform(df[\"Word2vec\"].to_list())"
   ]
  },
  {
   "cell_type": "code",
   "execution_count": 45,
   "id": "df548590",
   "metadata": {
    "scrolled": true
   },
   "outputs": [
    {
     "name": "stdout",
     "output_type": "stream",
     "text": [
      "Explained variance ratio: [0.32893946 0.10619583 0.09285171 0.0618923  0.04593469 0.03966629\n",
      " 0.03249641 0.02190066 0.01851373 0.01787907]\n"
     ]
    }
   ],
   "source": [
    "# Step 3: Analysis\n",
    "# Let's print the explained variance ratio\n",
    "print(\"Explained variance ratio:\", pca.explained_variance_ratio_)"
   ]
  },
  {
   "cell_type": "code",
   "execution_count": 48,
   "id": "7caa6e12",
   "metadata": {
    "scrolled": true
   },
   "outputs": [
    {
     "data": {
      "text/plain": [
       "[<matplotlib.lines.Line2D at 0x1fa1c0a9e20>]"
      ]
     },
     "execution_count": 48,
     "metadata": {},
     "output_type": "execute_result"
    },
    {
     "data": {
      "image/png": "[encoded data removed]",
      "text/plain": [
       "<Figure size 432x288 with 1 Axes>"
      ]
     },
     "metadata": {
      "needs_background": "light"
     },
     "output_type": "display_data"
    }
   ],
   "source": [
    "plt.plot(range(10),pca.explained_variance_ratio_)"
   ]
  },
  {
   "cell_type": "code",
   "execution_count": 49,
   "id": "06912137",
   "metadata": {
    "scrolled": true
   },
   "outputs": [
    {
     "name": "stdout",
     "output_type": "stream",
     "text": [
      "Explained variance ratio: [0.32893946 0.10619583 0.09285171 0.0618923  0.04593469 0.03966629]\n"
     ]
    }
   ],
   "source": [
    "# df[\"Word2vec\"].values\n",
    "pca = PCA(n_components=6)\n",
    "# df[\"Word2vec\"].values\n",
    "word_vectors_pca = pca.fit_transform(df[\"Word2vec\"].to_list())\n",
    "# Step 3: Analysis\n",
    "# Let's print the explained variance ratio\n",
    "print(\"Explained variance ratio:\", pca.explained_variance_ratio_)"
   ]
  },
  {
   "cell_type": "code",
   "execution_count": 52,
   "id": "811b7f4e",
   "metadata": {},
   "outputs": [
    {
     "data": {
      "text/plain": [
       "array([[ 7.48167825, -4.24017812,  2.92002065,  2.24236781,  0.84839094,\n",
       "        -3.88808636],\n",
       "       [ 7.48167825, -4.24017812,  2.92002065,  2.24236781,  0.84839094,\n",
       "        -3.88808636],\n",
       "       [ 7.004845  ,  3.28103374, -3.32474375,  0.02597638, -0.77069614,\n",
       "        -1.3630854 ],\n",
       "       ...,\n",
       "       [ 1.98055645, -3.31149697,  2.05781643,  3.13437159,  1.48935763,\n",
       "        -1.97629894],\n",
       "       [ 1.98055645, -3.31149697,  2.05781643,  3.13437159,  1.48935763,\n",
       "        -1.97629894],\n",
       "       [-3.24005606,  2.94727156,  2.99183448,  1.78363064, -0.27862331,\n",
       "        -0.50307852]])"
      ]
     },
     "execution_count": 52,
     "metadata": {},
     "output_type": "execute_result"
    }
   ],
   "source": [
    "word_vectors_pca"
   ]
  },
  {
   "cell_type": "code",
   "execution_count": 53,
   "id": "c735e1ff",
   "metadata": {},
   "outputs": [],
   "source": [
    "\n",
    "# # Step 4: Visualize the transformed data\n",
    "# import matplotlib.pyplot as plt\n",
    "\n",
    "# plt.figure(figsize=(8, 6))\n",
    "# for i in range(len(word_vectors_pca)):\n",
    "#     plt.scatter(word_vectors_pca[i, 0], word_vectors_pca[i, 1], label=f\"Sentence {i+1}\")\n",
    "\n",
    "# plt.xlabel(\"Principal Component 1\")\n",
    "# plt.ylabel(\"Principal Component 2\")\n",
    "# plt.legend()\n",
    "# plt.title(\"PCA on Word2Vec Embeddings\")\n",
    "# plt.show()\n",
    "\n",
    "\n",
    "\n"
   ]
  },
  {
   "cell_type": "code",
   "execution_count": 56,
   "id": "77c6950b",
   "metadata": {},
   "outputs": [
    {
     "data": {
      "text/plain": [
       "array(['mismatch id number nric', 'mismatch id number nric',\n",
       "       'mismatch year birth yob', ...,\n",
       "       'mismatch id number nric  watch person bank customer nric gcif  pep transaction apex  customers nric',\n",
       "       'mismatch id number nric  watch person bank customer nric gcif  pep transaction apex  customers nric',\n",
       "       'mismatch profile adverse news reported detained punjab police patiala alleged involvement planning terror acts target killings  case registered unlawful activities prevention act  information reported apex account customer shows active transaction since  hence highly unlikely watchperson customer '],\n",
       "      dtype=object)"
      ]
     },
     "execution_count": 56,
     "metadata": {},
     "output_type": "execute_result"
    }
   ],
   "source": []
  },
  {
   "cell_type": "markdown",
   "id": "b563a2b8",
   "metadata": {},
   "source": [
    "### Truncated SVD"
   ]
  },
  {
   "cell_type": "code",
   "execution_count": 57,
   "id": "82f66c54",
   "metadata": {},
   "outputs": [],
   "source": [
    "from sklearn.decomposition import TruncatedSVD\n",
    "from sklearn.feature_extraction.text import TfidfVectorizer\n",
    "\n",
    "\n",
    "\n",
    "# Step 1: Vectorize the text data\n",
    "vectorizer = TfidfVectorizer()\n",
    "X = vectorizer.fit_transform(df[\"V_COMMENTS_2\"].values)"
   ]
  },
  {
   "cell_type": "code",
   "execution_count": 73,
   "id": "8274803d",
   "metadata": {},
   "outputs": [],
   "source": [
    "# Step 2: Apply Truncated SVD\n",
    "n_components = 2  # Number of components to keep\n",
    "svd = TruncatedSVD(n_components=30)\n",
    "X_svd = svd.fit_transform(X)"
   ]
  },
  {
   "cell_type": "code",
   "execution_count": 74,
   "id": "aea0c8f5",
   "metadata": {},
   "outputs": [
    {
     "name": "stdout",
     "output_type": "stream",
     "text": [
      "Explained variance ratio: [0.04463283 0.0385885  0.02387789 0.02941592 0.02057848 0.01794826\n",
      " 0.01663823 0.0141688  0.01301083 0.01114053 0.00981433 0.0096514\n",
      " 0.00921529 0.00889343 0.00809425 0.0077825  0.00654427 0.00615807\n",
      " 0.00610189 0.00583404 0.00532131 0.00493036 0.00479923 0.0047186\n",
      " 0.00457413 0.0044539  0.00421622 0.00415255 0.0040844  0.00382099]\n"
     ]
    }
   ],
   "source": [
    "\n",
    "# Step 3: Analysis\n",
    "# Let's print the explained variance ratio\n",
    "print(\"Explained variance ratio:\", svd.explained_variance_ratio_)"
   ]
  },
  {
   "cell_type": "code",
   "execution_count": 75,
   "id": "b2702112",
   "metadata": {
    "scrolled": true
   },
   "outputs": [
    {
     "data": {
      "text/plain": [
       "[<matplotlib.lines.Line2D at 0x1fa0b2a3eb0>]"
      ]
     },
     "execution_count": 75,
     "metadata": {},
     "output_type": "execute_result"
    },
    {
     "data": {
      "image/png": "[encoded data removed]",
      "text/plain": [
       "<Figure size 432x288 with 1 Axes>"
      ]
     },
     "metadata": {
      "needs_background": "light"
     },
     "output_type": "display_data"
    }
   ],
   "source": [
    "plt.plot(range(30),svd.explained_variance_ratio_)"
   ]
  },
  {
   "cell_type": "code",
   "execution_count": 76,
   "id": "2bf2514f",
   "metadata": {
    "scrolled": true
   },
   "outputs": [
    {
     "data": {
      "text/plain": [
       "array([[ 1.94233854e-04,  2.36771292e-06,  1.91767434e-06, ...,\n",
       "         9.63863059e-06,  1.75765554e-05,  2.38590622e-05],\n",
       "       [ 4.39055848e-04,  5.44603877e-06,  2.63190286e-06, ...,\n",
       "         1.50159519e-05,  2.66035991e-05,  4.47116361e-05],\n",
       "       [ 7.75378989e-05,  2.46999007e-06,  3.15150629e-06, ...,\n",
       "         1.00313228e-05,  1.91295511e-05,  3.45455129e-05],\n",
       "       ...,\n",
       "       [ 5.24514450e-04, -6.82325023e-06,  4.13494592e-05, ...,\n",
       "         1.13918633e-04,  2.00742424e-04,  4.03339945e-04],\n",
       "       [-1.00272000e-04,  1.43997230e-05,  2.03183136e-05, ...,\n",
       "         1.06939485e-04,  1.81030452e-04,  3.83474010e-04],\n",
       "       [ 2.39988629e-05,  1.58539339e-06, -5.67742901e-05, ...,\n",
       "        -1.36148068e-04, -2.21719103e-04, -5.24447222e-04]])"
      ]
     },
     "execution_count": 76,
     "metadata": {},
     "output_type": "execute_result"
    }
   ],
   "source": [
    "svd.components_"
   ]
  },
  {
   "cell_type": "code",
   "execution_count": 77,
   "id": "be8fb228",
   "metadata": {},
   "outputs": [],
   "source": [
    "components=svd.components_\n",
    "vocab = vectorizer.get_feature_names()"
   ]
  },
  {
   "cell_type": "code",
   "execution_count": 80,
   "id": "34d25067",
   "metadata": {
    "scrolled": true
   },
   "outputs": [
    {
     "data": {
      "text/html": [
       "<div>\n",
       "<style scoped>\n",
       "    .dataframe tbody tr th:only-of-type {\n",
       "        vertical-align: middle;\n",
       "    }\n",
       "\n",
       "    .dataframe tbody tr th {\n",
       "        vertical-align: top;\n",
       "    }\n",
       "\n",
       "    .dataframe thead th {\n",
       "        text-align: right;\n",
       "    }\n",
       "</style>\n",
       "<table border=\"1\" class=\"dataframe\">\n",
       "  <thead>\n",
       "    <tr style=\"text-align: right;\">\n",
       "      <th></th>\n",
       "      <th>V_COMMENTS</th>\n",
       "      <th>Counts</th>\n",
       "      <th>V_COMMENTS_2</th>\n",
       "      <th>Tokens</th>\n",
       "      <th>id_2_feature</th>\n",
       "      <th>TFIDF_Feature</th>\n",
       "      <th>Topic_tfidf_lda</th>\n",
       "      <th>All_Topic_tfidf_Probabilities</th>\n",
       "      <th>TF_tfidf_Topic_No</th>\n",
       "      <th>TF IDF Topic words</th>\n",
       "      <th>V_COMMENTS_PROCESSED</th>\n",
       "      <th>Word2vec</th>\n",
       "    </tr>\n",
       "  </thead>\n",
       "  <tbody>\n",
       "    <tr>\n",
       "      <th>0</th>\n",
       "      <td>mismatch id number_nric</td>\n",
       "      <td>67150</td>\n",
       "      <td>mismatch id number nric</td>\n",
       "      <td>[mismatch, i, d, number, nric]</td>\n",
       "      <td>[(0, 1), (1, 1), (2, 1), (3, 1), (4, 1)]</td>\n",
       "      <td>[(0, 0.547290750424587), (1, 0.547516376900071...</td>\n",
       "      <td>0.199*\"nric\" + 0.130*\"date\" + 0.085*\"birth\" + ...</td>\n",
       "      <td>[(0, 0.037396688), (1, 0.03744973), (2, 0.0373...</td>\n",
       "      <td>4</td>\n",
       "      <td>['nric', 'date', 'birth', 'number', 'd', 'i', ...</td>\n",
       "      <td>mismatch id number nric</td>\n",
       "      <td>[-3.1662517, 1.3042483, -1.8621927, -0.4221082...</td>\n",
       "    </tr>\n",
       "    <tr>\n",
       "      <th>1</th>\n",
       "      <td>mismatch id number_nric\\n</td>\n",
       "      <td>40137</td>\n",
       "      <td>mismatch id number nric</td>\n",
       "      <td>[mismatch, i, d, number, nric]</td>\n",
       "      <td>[(0, 1), (1, 1), (2, 1), (3, 1), (4, 1)]</td>\n",
       "      <td>[(0, 0.547290750424587), (1, 0.547516376900071...</td>\n",
       "      <td>0.199*\"nric\" + 0.130*\"date\" + 0.085*\"birth\" + ...</td>\n",
       "      <td>[(0, 0.037396688), (1, 0.037449747), (2, 0.037...</td>\n",
       "      <td>4</td>\n",
       "      <td>['nric', 'date', 'birth', 'number', 'd', 'i', ...</td>\n",
       "      <td>mismatch id number nric</td>\n",
       "      <td>[-3.1662517, 1.3042483, -1.8621927, -0.4221082...</td>\n",
       "    </tr>\n",
       "    <tr>\n",
       "      <th>2</th>\n",
       "      <td>mismatch year of birth (yob)</td>\n",
       "      <td>27341</td>\n",
       "      <td>mismatch year birth yob</td>\n",
       "      <td>[mismatch, year, birth, yob]</td>\n",
       "      <td>[(2, 1), (5, 1), (6, 1), (7, 1)]</td>\n",
       "      <td>[(2, 0.06249879031496278), (5, 0.5453915180875...</td>\n",
       "      <td>0.162*\"yob\" + 0.111*\"year\" + 0.073*\"birth\" + 0...</td>\n",
       "      <td>[(0, 0.038604278), (1, 0.038610753), (2, 0.038...</td>\n",
       "      <td>3</td>\n",
       "      <td>['yob', 'year', 'birth', 'infer', 'bear', 'ref...</td>\n",
       "      <td>mismatch year of birth yob</td>\n",
       "      <td>[-2.5767035, 0.70284855, -2.4301593, -0.362365...</td>\n",
       "    </tr>\n",
       "    <tr>\n",
       "      <th>3</th>\n",
       "      <td>mismatch id number_nric</td>\n",
       "      <td>25793</td>\n",
       "      <td>mismatch id number nric</td>\n",
       "      <td>[mismatch, i, d, number, nric]</td>\n",
       "      <td>[(0, 1), (1, 1), (2, 1), (3, 1), (4, 1)]</td>\n",
       "      <td>[(0, 0.547290750424587), (1, 0.547516376900071...</td>\n",
       "      <td>0.199*\"nric\" + 0.130*\"date\" + 0.085*\"birth\" + ...</td>\n",
       "      <td>[(0, 0.037396688), (1, 0.037449766), (2, 0.037...</td>\n",
       "      <td>4</td>\n",
       "      <td>['nric', 'date', 'birth', 'number', 'd', 'i', ...</td>\n",
       "      <td>mismatch id number nric</td>\n",
       "      <td>[-3.1662517, 1.3042483, -1.8621927, -0.4221082...</td>\n",
       "    </tr>\n",
       "    <tr>\n",
       "      <th>4</th>\n",
       "      <td>mismatch full legal name â€“ name does not sou...</td>\n",
       "      <td>19127</td>\n",
       "      <td>mismatch full name sound similar</td>\n",
       "      <td>[mismatch, full, name, sound, similar]</td>\n",
       "      <td>[(2, 1), (8, 1), (9, 1), (10, 1), (11, 1)]</td>\n",
       "      <td>[(2, 0.030451784805766515), (8, 0.473060193932...</td>\n",
       "      <td>0.137*\"name\" + 0.051*\"match\" + 0.039*\"full\" + ...</td>\n",
       "      <td>[(0, 0.037577048), (1, 0.040632684), (2, 0.037...</td>\n",
       "      <td>17</td>\n",
       "      <td>['name', 'match', 'full', 'passport', 'similar...</td>\n",
       "      <td>mismatch full name â name does not sound similar</td>\n",
       "      <td>[-2.2403824, -0.041814663, -1.5657326, 1.15222...</td>\n",
       "    </tr>\n",
       "    <tr>\n",
       "      <th>...</th>\n",
       "      <td>...</td>\n",
       "      <td>...</td>\n",
       "      <td>...</td>\n",
       "      <td>...</td>\n",
       "      <td>...</td>\n",
       "      <td>...</td>\n",
       "      <td>...</td>\n",
       "      <td>...</td>\n",
       "      <td>...</td>\n",
       "      <td>...</td>\n",
       "      <td>...</td>\n",
       "      <td>...</td>\n",
       "    </tr>\n",
       "    <tr>\n",
       "      <th>221569</th>\n",
       "      <td>mismatch - name, nric, date of birth, profile,...</td>\n",
       "      <td>1</td>\n",
       "      <td>mismatch name nric date birth profile customer...</td>\n",
       "      <td>[mismatch, name, nric, date, birth, profile, c...</td>\n",
       "      <td>[(2, 1), (3, 3), (4, 1), (5, 3), (9, 3), (12, ...</td>\n",
       "      <td>[(2, 0.005990920965347929), (3, 0.227682171168...</td>\n",
       "      <td>0.199*\"nric\" + 0.130*\"date\" + 0.085*\"birth\" + ...</td>\n",
       "      <td>[(0, 0.02934474), (1, 0.031117253), (2, 0.0294...</td>\n",
       "      <td>4</td>\n",
       "      <td>['nric', 'date', 'birth', 'number', 'd', 'i', ...</td>\n",
       "      <td>mismatch name nric date of birth profile   cus...</td>\n",
       "      <td>[-1.6347831, 0.092932574, -0.21436688, 0.52262...</td>\n",
       "    </tr>\n",
       "    <tr>\n",
       "      <th>221570</th>\n",
       "      <td>mismatch - name, nric, date of birth, profile,...</td>\n",
       "      <td>1</td>\n",
       "      <td>mismatch name nric date birth profile customer...</td>\n",
       "      <td>[mismatch, name, nric, date, birth, profile, c...</td>\n",
       "      <td>[(2, 1), (3, 3), (4, 1), (5, 3), (9, 3), (12, ...</td>\n",
       "      <td>[(2, 0.0085888069800516), (3, 0.32641362359475...</td>\n",
       "      <td>0.199*\"nric\" + 0.130*\"date\" + 0.085*\"birth\" + ...</td>\n",
       "      <td>[(0, 0.031628136), (1, 0.033863842), (2, 0.031...</td>\n",
       "      <td>4</td>\n",
       "      <td>['nric', 'date', 'birth', 'number', 'd', 'i', ...</td>\n",
       "      <td>mismatch name nric date of birth profile   cus...</td>\n",
       "      <td>[-2.086623, 0.11979292, -0.78680867, 0.4638282...</td>\n",
       "    </tr>\n",
       "    <tr>\n",
       "      <th>221571</th>\n",
       "      <td>mismatch id number_nric. watch person (noraini...</td>\n",
       "      <td>1</td>\n",
       "      <td>mismatch id number nric  watch person bank cus...</td>\n",
       "      <td>[mismatch, i, d, number, nric, watch, person, ...</td>\n",
       "      <td>[(0, 1), (1, 1), (2, 1), (3, 3), (4, 1), (15, ...</td>\n",
       "      <td>[(0, 0.27243957135183583), (1, 0.2725518874840...</td>\n",
       "      <td>0.199*\"nric\" + 0.130*\"date\" + 0.085*\"birth\" + ...</td>\n",
       "      <td>[(0, 0.03383267), (1, 0.033776768), (2, 0.0337...</td>\n",
       "      <td>4</td>\n",
       "      <td>['nric', 'date', 'birth', 'number', 'd', 'i', ...</td>\n",
       "      <td>mismatch id number nric. watch person    is a ...</td>\n",
       "      <td>[-1.6440406, 0.5083484, -0.30340177, 0.2527062...</td>\n",
       "    </tr>\n",
       "    <tr>\n",
       "      <th>221572</th>\n",
       "      <td>mismatch id number_nric. watch person (noraini...</td>\n",
       "      <td>1</td>\n",
       "      <td>mismatch id number nric  watch person bank cus...</td>\n",
       "      <td>[mismatch, i, d, number, nric, watch, person, ...</td>\n",
       "      <td>[(0, 1), (1, 1), (2, 1), (3, 3), (4, 1), (15, ...</td>\n",
       "      <td>[(0, 0.27243957135183583), (1, 0.2725518874840...</td>\n",
       "      <td>0.199*\"nric\" + 0.130*\"date\" + 0.085*\"birth\" + ...</td>\n",
       "      <td>[(0, 0.03383269), (1, 0.03377677), (2, 0.03370...</td>\n",
       "      <td>4</td>\n",
       "      <td>['nric', 'date', 'birth', 'number', 'd', 'i', ...</td>\n",
       "      <td>mismatch id number nric. watch person    is a ...</td>\n",
       "      <td>[-1.6440406, 0.5083484, -0.30340177, 0.2527062...</td>\n",
       "    </tr>\n",
       "    <tr>\n",
       "      <th>221573</th>\n",
       "      <td>mismatch profile - as adverse news reported ju...</td>\n",
       "      <td>1</td>\n",
       "      <td>mismatch profile adverse news reported detaine...</td>\n",
       "      <td>[mismatch, profile, adverse, news, report, det...</td>\n",
       "      <td>[(2, 1), (17, 2), (22, 1), (29, 1), (34, 1), (...</td>\n",
       "      <td>[(2, 0.006761267741986819), (17, 0.00908289129...</td>\n",
       "      <td>0.027*\"transaction\" + 0.026*\"apex\" + 0.024*\"in...</td>\n",
       "      <td>[(0, 0.028120633), (1, 0.028171279), (2, 0.028...</td>\n",
       "      <td>8</td>\n",
       "      <td>['transaction', 'apex', 'involvement_money_lau...</td>\n",
       "      <td>mismatch profile as adverse news reported   de...</td>\n",
       "      <td>[-0.034691557, 0.9693676, -0.3752837, 0.187626...</td>\n",
       "    </tr>\n",
       "  </tbody>\n",
       "</table>\n",
       "<p>221526 rows × 12 columns</p>\n",
       "</div>"
      ],
      "text/plain": [
       "                                               V_COMMENTS  Counts  \\\n",
       "0                                 mismatch id number_nric   67150   \n",
       "1                               mismatch id number_nric\\n   40137   \n",
       "2                            mismatch year of birth (yob)   27341   \n",
       "3                                 mismatch id number_nric   25793   \n",
       "4       mismatch full legal name â€“ name does not sou...   19127   \n",
       "...                                                   ...     ...   \n",
       "221569  mismatch - name, nric, date of birth, profile,...       1   \n",
       "221570  mismatch - name, nric, date of birth, profile,...       1   \n",
       "221571  mismatch id number_nric. watch person (noraini...       1   \n",
       "221572  mismatch id number_nric. watch person (noraini...       1   \n",
       "221573  mismatch profile - as adverse news reported ju...       1   \n",
       "\n",
       "                                             V_COMMENTS_2  \\\n",
       "0                                 mismatch id number nric   \n",
       "1                                 mismatch id number nric   \n",
       "2                                 mismatch year birth yob   \n",
       "3                                 mismatch id number nric   \n",
       "4                        mismatch full name sound similar   \n",
       "...                                                   ...   \n",
       "221569  mismatch name nric date birth profile customer...   \n",
       "221570  mismatch name nric date birth profile customer...   \n",
       "221571  mismatch id number nric  watch person bank cus...   \n",
       "221572  mismatch id number nric  watch person bank cus...   \n",
       "221573  mismatch profile adverse news reported detaine...   \n",
       "\n",
       "                                                   Tokens  \\\n",
       "0                          [mismatch, i, d, number, nric]   \n",
       "1                          [mismatch, i, d, number, nric]   \n",
       "2                            [mismatch, year, birth, yob]   \n",
       "3                          [mismatch, i, d, number, nric]   \n",
       "4                  [mismatch, full, name, sound, similar]   \n",
       "...                                                   ...   \n",
       "221569  [mismatch, name, nric, date, birth, profile, c...   \n",
       "221570  [mismatch, name, nric, date, birth, profile, c...   \n",
       "221571  [mismatch, i, d, number, nric, watch, person, ...   \n",
       "221572  [mismatch, i, d, number, nric, watch, person, ...   \n",
       "221573  [mismatch, profile, adverse, news, report, det...   \n",
       "\n",
       "                                             id_2_feature  \\\n",
       "0                [(0, 1), (1, 1), (2, 1), (3, 1), (4, 1)]   \n",
       "1                [(0, 1), (1, 1), (2, 1), (3, 1), (4, 1)]   \n",
       "2                        [(2, 1), (5, 1), (6, 1), (7, 1)]   \n",
       "3                [(0, 1), (1, 1), (2, 1), (3, 1), (4, 1)]   \n",
       "4              [(2, 1), (8, 1), (9, 1), (10, 1), (11, 1)]   \n",
       "...                                                   ...   \n",
       "221569  [(2, 1), (3, 3), (4, 1), (5, 3), (9, 3), (12, ...   \n",
       "221570  [(2, 1), (3, 3), (4, 1), (5, 3), (9, 3), (12, ...   \n",
       "221571  [(0, 1), (1, 1), (2, 1), (3, 3), (4, 1), (15, ...   \n",
       "221572  [(0, 1), (1, 1), (2, 1), (3, 3), (4, 1), (15, ...   \n",
       "221573  [(2, 1), (17, 2), (22, 1), (29, 1), (34, 1), (...   \n",
       "\n",
       "                                            TFIDF_Feature  \\\n",
       "0       [(0, 0.547290750424587), (1, 0.547516376900071...   \n",
       "1       [(0, 0.547290750424587), (1, 0.547516376900071...   \n",
       "2       [(2, 0.06249879031496278), (5, 0.5453915180875...   \n",
       "3       [(0, 0.547290750424587), (1, 0.547516376900071...   \n",
       "4       [(2, 0.030451784805766515), (8, 0.473060193932...   \n",
       "...                                                   ...   \n",
       "221569  [(2, 0.005990920965347929), (3, 0.227682171168...   \n",
       "221570  [(2, 0.0085888069800516), (3, 0.32641362359475...   \n",
       "221571  [(0, 0.27243957135183583), (1, 0.2725518874840...   \n",
       "221572  [(0, 0.27243957135183583), (1, 0.2725518874840...   \n",
       "221573  [(2, 0.006761267741986819), (17, 0.00908289129...   \n",
       "\n",
       "                                          Topic_tfidf_lda  \\\n",
       "0       0.199*\"nric\" + 0.130*\"date\" + 0.085*\"birth\" + ...   \n",
       "1       0.199*\"nric\" + 0.130*\"date\" + 0.085*\"birth\" + ...   \n",
       "2       0.162*\"yob\" + 0.111*\"year\" + 0.073*\"birth\" + 0...   \n",
       "3       0.199*\"nric\" + 0.130*\"date\" + 0.085*\"birth\" + ...   \n",
       "4       0.137*\"name\" + 0.051*\"match\" + 0.039*\"full\" + ...   \n",
       "...                                                   ...   \n",
       "221569  0.199*\"nric\" + 0.130*\"date\" + 0.085*\"birth\" + ...   \n",
       "221570  0.199*\"nric\" + 0.130*\"date\" + 0.085*\"birth\" + ...   \n",
       "221571  0.199*\"nric\" + 0.130*\"date\" + 0.085*\"birth\" + ...   \n",
       "221572  0.199*\"nric\" + 0.130*\"date\" + 0.085*\"birth\" + ...   \n",
       "221573  0.027*\"transaction\" + 0.026*\"apex\" + 0.024*\"in...   \n",
       "\n",
       "                            All_Topic_tfidf_Probabilities  TF_tfidf_Topic_No  \\\n",
       "0       [(0, 0.037396688), (1, 0.03744973), (2, 0.0373...                  4   \n",
       "1       [(0, 0.037396688), (1, 0.037449747), (2, 0.037...                  4   \n",
       "2       [(0, 0.038604278), (1, 0.038610753), (2, 0.038...                  3   \n",
       "3       [(0, 0.037396688), (1, 0.037449766), (2, 0.037...                  4   \n",
       "4       [(0, 0.037577048), (1, 0.040632684), (2, 0.037...                 17   \n",
       "...                                                   ...                ...   \n",
       "221569  [(0, 0.02934474), (1, 0.031117253), (2, 0.0294...                  4   \n",
       "221570  [(0, 0.031628136), (1, 0.033863842), (2, 0.031...                  4   \n",
       "221571  [(0, 0.03383267), (1, 0.033776768), (2, 0.0337...                  4   \n",
       "221572  [(0, 0.03383269), (1, 0.03377677), (2, 0.03370...                  4   \n",
       "221573  [(0, 0.028120633), (1, 0.028171279), (2, 0.028...                  8   \n",
       "\n",
       "                                       TF IDF Topic words  \\\n",
       "0       ['nric', 'date', 'birth', 'number', 'd', 'i', ...   \n",
       "1       ['nric', 'date', 'birth', 'number', 'd', 'i', ...   \n",
       "2       ['yob', 'year', 'birth', 'infer', 'bear', 'ref...   \n",
       "3       ['nric', 'date', 'birth', 'number', 'd', 'i', ...   \n",
       "4       ['name', 'match', 'full', 'passport', 'similar...   \n",
       "...                                                   ...   \n",
       "221569  ['nric', 'date', 'birth', 'number', 'd', 'i', ...   \n",
       "221570  ['nric', 'date', 'birth', 'number', 'd', 'i', ...   \n",
       "221571  ['nric', 'date', 'birth', 'number', 'd', 'i', ...   \n",
       "221572  ['nric', 'date', 'birth', 'number', 'd', 'i', ...   \n",
       "221573  ['transaction', 'apex', 'involvement_money_lau...   \n",
       "\n",
       "                                     V_COMMENTS_PROCESSED  \\\n",
       "0                                 mismatch id number nric   \n",
       "1                                mismatch id number nric    \n",
       "2                              mismatch year of birth yob   \n",
       "3                                 mismatch id number nric   \n",
       "4        mismatch full name â name does not sound similar   \n",
       "...                                                   ...   \n",
       "221569  mismatch name nric date of birth profile   cus...   \n",
       "221570  mismatch name nric date of birth profile   cus...   \n",
       "221571  mismatch id number nric. watch person    is a ...   \n",
       "221572  mismatch id number nric. watch person    is a ...   \n",
       "221573  mismatch profile as adverse news reported   de...   \n",
       "\n",
       "                                                 Word2vec  \n",
       "0       [-3.1662517, 1.3042483, -1.8621927, -0.4221082...  \n",
       "1       [-3.1662517, 1.3042483, -1.8621927, -0.4221082...  \n",
       "2       [-2.5767035, 0.70284855, -2.4301593, -0.362365...  \n",
       "3       [-3.1662517, 1.3042483, -1.8621927, -0.4221082...  \n",
       "4       [-2.2403824, -0.041814663, -1.5657326, 1.15222...  \n",
       "...                                                   ...  \n",
       "221569  [-1.6347831, 0.092932574, -0.21436688, 0.52262...  \n",
       "221570  [-2.086623, 0.11979292, -0.78680867, 0.4638282...  \n",
       "221571  [-1.6440406, 0.5083484, -0.30340177, 0.2527062...  \n",
       "221572  [-1.6440406, 0.5083484, -0.30340177, 0.2527062...  \n",
       "221573  [-0.034691557, 0.9693676, -0.3752837, 0.187626...  \n",
       "\n",
       "[221526 rows x 12 columns]"
      ]
     },
     "execution_count": 80,
     "metadata": {},
     "output_type": "execute_result"
    }
   ],
   "source": [
    "df"
   ]
  },
  {
   "cell_type": "code",
   "execution_count": 82,
   "id": "5d737c00",
   "metadata": {
    "scrolled": false
   },
   "outputs": [
    {
     "name": "stdout",
     "output_type": "stream",
     "text": [
      "['  yob birth year mismatch customer inferred watch watchperson nric']\n",
      "['  yob birth year mismatch customer inferred watch watchperson nric', '  nric date dob person watch customer number name id']\n",
      "['  yob birth year mismatch customer inferred watch watchperson nric', '  nric date dob person watch customer number name id', '  reported customer unlikely watchperson profile account highly malaysia secretary']\n",
      "['  yob birth year mismatch customer inferred watch watchperson nric', '  nric date dob person watch customer number name id', '  reported customer unlikely watchperson profile account highly malaysia secretary', '  dob within range possible fall tool cscdd refer calculator']\n",
      "['  yob birth year mismatch customer inferred watch watchperson nric', '  nric date dob person watch customer number name id', '  reported customer unlikely watchperson profile account highly malaysia secretary', '  dob within range possible fall tool cscdd refer calculator', '  name match full fathers sound similar customers passport dob']\n",
      "['  yob birth year mismatch customer inferred watch watchperson nric', '  nric date dob person watch customer number name id', '  reported customer unlikely watchperson profile account highly malaysia secretary', '  dob within range possible fall tool cscdd refer calculator', '  name match full fathers sound similar customers passport dob', '  years birth date already name born age year old']\n",
      "['  yob birth year mismatch customer inferred watch watchperson nric', '  nric date dob person watch customer number name id', '  reported customer unlikely watchperson profile account highly malaysia secretary', '  dob within range possible fall tool cscdd refer calculator', '  name match full fathers sound similar customers passport dob', '  years birth date already name born age year old', '  years trinity already nric id age old number born']\n",
      "['  yob birth year mismatch customer inferred watch watchperson nric', '  nric date dob person watch customer number name id', '  reported customer unlikely watchperson profile account highly malaysia secretary', '  dob within range possible fall tool cscdd refer calculator', '  name match full fathers sound similar customers passport dob', '  years birth date already name born age year old', '  years trinity already nric id age old number born', '  refer watchperson vs refinitiv born year id number birth']\n",
      "['  yob birth year mismatch customer inferred watch watchperson nric', '  nric date dob person watch customer number name id', '  reported customer unlikely watchperson profile account highly malaysia secretary', '  dob within range possible fall tool cscdd refer calculator', '  name match full fathers sound similar customers passport dob', '  years birth date already name born age year old', '  years trinity already nric id age old number born', '  refer watchperson vs refinitiv born year id number birth', '  relationship deemed news happened relevant ago updaterecurrence incident business']\n",
      "['  yob birth year mismatch customer inferred watch watchperson nric', '  nric date dob person watch customer number name id', '  reported customer unlikely watchperson profile account highly malaysia secretary', '  dob within range possible fall tool cscdd refer calculator', '  name match full fathers sound similar customers passport dob', '  years birth date already name born age year old', '  years trinity already nric id age old number born', '  refer watchperson vs refinitiv born year id number birth', '  relationship deemed news happened relevant ago updaterecurrence incident business', '  reported secretary deputy ministry age vs already years match']\n",
      "['  yob birth year mismatch customer inferred watch watchperson nric', '  nric date dob person watch customer number name id', '  reported customer unlikely watchperson profile account highly malaysia secretary', '  dob within range possible fall tool cscdd refer calculator', '  name match full fathers sound similar customers passport dob', '  years birth date already name born age year old', '  years trinity already nric id age old number born', '  refer watchperson vs refinitiv born year id number birth', '  relationship deemed news happened relevant ago updaterecurrence incident business', '  reported secretary deputy ministry age vs already years match', '  fathers born reported customers date secretary father watchpersons passport']\n",
      "['  yob birth year mismatch customer inferred watch watchperson nric', '  nric date dob person watch customer number name id', '  reported customer unlikely watchperson profile account highly malaysia secretary', '  dob within range possible fall tool cscdd refer calculator', '  name match full fathers sound similar customers passport dob', '  years birth date already name born age year old', '  years trinity already nric id age old number born', '  refer watchperson vs refinitiv born year id number birth', '  relationship deemed news happened relevant ago updaterecurrence incident business', '  reported secretary deputy ministry age vs already years match', '  fathers born reported customers date secretary father watchpersons passport', '  born match full sound pep similar inferred son old']\n",
      "['  yob birth year mismatch customer inferred watch watchperson nric', '  nric date dob person watch customer number name id', '  reported customer unlikely watchperson profile account highly malaysia secretary', '  dob within range possible fall tool cscdd refer calculator', '  name match full fathers sound similar customers passport dob', '  years birth date already name born age year old', '  years trinity already nric id age old number born', '  refer watchperson vs refinitiv born year id number birth', '  relationship deemed news happened relevant ago updaterecurrence incident business', '  reported secretary deputy ministry age vs already years match', '  fathers born reported customers date secretary father watchpersons passport', '  born match full sound pep similar inferred son old', '  member pep refer fathers work watch within person hluttaw']\n",
      "['  yob birth year mismatch customer inferred watch watchperson nric', '  nric date dob person watch customer number name id', '  reported customer unlikely watchperson profile account highly malaysia secretary', '  dob within range possible fall tool cscdd refer calculator', '  name match full fathers sound similar customers passport dob', '  years birth date already name born age year old', '  years trinity already nric id age old number born', '  refer watchperson vs refinitiv born year id number birth', '  relationship deemed news happened relevant ago updaterecurrence incident business', '  reported secretary deputy ministry age vs already years match', '  fathers born reported customers date secretary father watchpersons passport', '  born match full sound pep similar inferred son old', '  member pep refer fathers work watch within person hluttaw', '  world check dob work match per inferred pep number']\n",
      "['  yob birth year mismatch customer inferred watch watchperson nric', '  nric date dob person watch customer number name id', '  reported customer unlikely watchperson profile account highly malaysia secretary', '  dob within range possible fall tool cscdd refer calculator', '  name match full fathers sound similar customers passport dob', '  years birth date already name born age year old', '  years trinity already nric id age old number born', '  refer watchperson vs refinitiv born year id number birth', '  relationship deemed news happened relevant ago updaterecurrence incident business', '  reported secretary deputy ministry age vs already years match', '  fathers born reported customers date secretary father watchpersons passport', '  born match full sound pep similar inferred son old', '  member pep refer fathers work watch within person hluttaw', '  world check dob work match per inferred pep number', '  old dob years age member pep yob yobage worldcheck']\n",
      "['  yob birth year mismatch customer inferred watch watchperson nric', '  nric date dob person watch customer number name id', '  reported customer unlikely watchperson profile account highly malaysia secretary', '  dob within range possible fall tool cscdd refer calculator', '  name match full fathers sound similar customers passport dob', '  years birth date already name born age year old', '  years trinity already nric id age old number born', '  refer watchperson vs refinitiv born year id number birth', '  relationship deemed news happened relevant ago updaterecurrence incident business', '  reported secretary deputy ministry age vs already years match', '  fathers born reported customers date secretary father watchpersons passport', '  born match full sound pep similar inferred son old', '  member pep refer fathers work watch within person hluttaw', '  world check dob work match per inferred pep number', '  old dob years age member pep yob yobage worldcheck', '  match refer nric gender inferred within name nationality fathers']\n",
      "['  yob birth year mismatch customer inferred watch watchperson nric', '  nric date dob person watch customer number name id', '  reported customer unlikely watchperson profile account highly malaysia secretary', '  dob within range possible fall tool cscdd refer calculator', '  name match full fathers sound similar customers passport dob', '  years birth date already name born age year old', '  years trinity already nric id age old number born', '  refer watchperson vs refinitiv born year id number birth', '  relationship deemed news happened relevant ago updaterecurrence incident business', '  reported secretary deputy ministry age vs already years match', '  fathers born reported customers date secretary father watchpersons passport', '  born match full sound pep similar inferred son old', '  member pep refer fathers work watch within person hluttaw', '  world check dob work match per inferred pep number', '  old dob years age member pep yob yobage worldcheck', '  match refer nric gender inferred within name nationality fathers', '  inferred refer whereas malaysia labourer sound work watchperson similar']\n"
     ]
    },
    {
     "name": "stdout",
     "output_type": "stream",
     "text": [
      "['  yob birth year mismatch customer inferred watch watchperson nric', '  nric date dob person watch customer number name id', '  reported customer unlikely watchperson profile account highly malaysia secretary', '  dob within range possible fall tool cscdd refer calculator', '  name match full fathers sound similar customers passport dob', '  years birth date already name born age year old', '  years trinity already nric id age old number born', '  refer watchperson vs refinitiv born year id number birth', '  relationship deemed news happened relevant ago updaterecurrence incident business', '  reported secretary deputy ministry age vs already years match', '  fathers born reported customers date secretary father watchpersons passport', '  born match full sound pep similar inferred son old', '  member pep refer fathers work watch within person hluttaw', '  world check dob work match per inferred pep number', '  old dob years age member pep yob yobage worldcheck', '  match refer nric gender inferred within name nationality fathers', '  inferred refer whereas malaysia labourer sound work watchperson similar', '  refinitiv match hence work yob yobage nric meanwhile unlikely']\n",
      "['  yob birth year mismatch customer inferred watch watchperson nric', '  nric date dob person watch customer number name id', '  reported customer unlikely watchperson profile account highly malaysia secretary', '  dob within range possible fall tool cscdd refer calculator', '  name match full fathers sound similar customers passport dob', '  years birth date already name born age year old', '  years trinity already nric id age old number born', '  refer watchperson vs refinitiv born year id number birth', '  relationship deemed news happened relevant ago updaterecurrence incident business', '  reported secretary deputy ministry age vs already years match', '  fathers born reported customers date secretary father watchpersons passport', '  born match full sound pep similar inferred son old', '  member pep refer fathers work watch within person hluttaw', '  world check dob work match per inferred pep number', '  old dob years age member pep yob yobage worldcheck', '  match refer nric gender inferred within name nationality fathers', '  inferred refer whereas malaysia labourer sound work watchperson similar', '  refinitiv match hence work yob yobage nric meanwhile unlikely', '  old inferred watchperson yobage hence customer soe member board']\n",
      "['  yob birth year mismatch customer inferred watch watchperson nric', '  nric date dob person watch customer number name id', '  reported customer unlikely watchperson profile account highly malaysia secretary', '  dob within range possible fall tool cscdd refer calculator', '  name match full fathers sound similar customers passport dob', '  years birth date already name born age year old', '  years trinity already nric id age old number born', '  refer watchperson vs refinitiv born year id number birth', '  relationship deemed news happened relevant ago updaterecurrence incident business', '  reported secretary deputy ministry age vs already years match', '  fathers born reported customers date secretary father watchpersons passport', '  born match full sound pep similar inferred son old', '  member pep refer fathers work watch within person hluttaw', '  world check dob work match per inferred pep number', '  old dob years age member pep yob yobage worldcheck', '  match refer nric gender inferred within name nationality fathers', '  inferred refer whereas malaysia labourer sound work watchperson similar', '  refinitiv match hence work yob yobage nric meanwhile unlikely', '  old inferred watchperson yobage hence customer soe member board', '  number id per work refer passport worldcheck uco pep']\n",
      "['  yob birth year mismatch customer inferred watch watchperson nric', '  nric date dob person watch customer number name id', '  reported customer unlikely watchperson profile account highly malaysia secretary', '  dob within range possible fall tool cscdd refer calculator', '  name match full fathers sound similar customers passport dob', '  years birth date already name born age year old', '  years trinity already nric id age old number born', '  refer watchperson vs refinitiv born year id number birth', '  relationship deemed news happened relevant ago updaterecurrence incident business', '  reported secretary deputy ministry age vs already years match', '  fathers born reported customers date secretary father watchpersons passport', '  born match full sound pep similar inferred son old', '  member pep refer fathers work watch within person hluttaw', '  world check dob work match per inferred pep number', '  old dob years age member pep yob yobage worldcheck', '  match refer nric gender inferred within name nationality fathers', '  inferred refer whereas malaysia labourer sound work watchperson similar', '  refinitiv match hence work yob yobage nric meanwhile unlikely', '  old inferred watchperson yobage hence customer soe member board', '  number id per work refer passport worldcheck uco pep', '  refinitiv vs pep son watch inferred number born age']\n",
      "['  yob birth year mismatch customer inferred watch watchperson nric', '  nric date dob person watch customer number name id', '  reported customer unlikely watchperson profile account highly malaysia secretary', '  dob within range possible fall tool cscdd refer calculator', '  name match full fathers sound similar customers passport dob', '  years birth date already name born age year old', '  years trinity already nric id age old number born', '  refer watchperson vs refinitiv born year id number birth', '  relationship deemed news happened relevant ago updaterecurrence incident business', '  reported secretary deputy ministry age vs already years match', '  fathers born reported customers date secretary father watchpersons passport', '  born match full sound pep similar inferred son old', '  member pep refer fathers work watch within person hluttaw', '  world check dob work match per inferred pep number', '  old dob years age member pep yob yobage worldcheck', '  match refer nric gender inferred within name nationality fathers', '  inferred refer whereas malaysia labourer sound work watchperson similar', '  refinitiv match hence work yob yobage nric meanwhile unlikely', '  old inferred watchperson yobage hence customer soe member board', '  number id per work refer passport worldcheck uco pep', '  refinitiv vs pep son watch inferred number born age', '  per worldcheck soe board profile directors different born ltd']\n",
      "['  yob birth year mismatch customer inferred watch watchperson nric', '  nric date dob person watch customer number name id', '  reported customer unlikely watchperson profile account highly malaysia secretary', '  dob within range possible fall tool cscdd refer calculator', '  name match full fathers sound similar customers passport dob', '  years birth date already name born age year old', '  years trinity already nric id age old number born', '  refer watchperson vs refinitiv born year id number birth', '  relationship deemed news happened relevant ago updaterecurrence incident business', '  reported secretary deputy ministry age vs already years match', '  fathers born reported customers date secretary father watchpersons passport', '  born match full sound pep similar inferred son old', '  member pep refer fathers work watch within person hluttaw', '  world check dob work match per inferred pep number', '  old dob years age member pep yob yobage worldcheck', '  match refer nric gender inferred within name nationality fathers', '  inferred refer whereas malaysia labourer sound work watchperson similar', '  refinitiv match hence work yob yobage nric meanwhile unlikely', '  old inferred watchperson yobage hence customer soe member board', '  number id per work refer passport worldcheck uco pep', '  refinitiv vs pep son watch inferred number born age', '  per worldcheck soe board profile directors different born ltd', '  trinity old as per discounting number person native year']\n",
      "['  yob birth year mismatch customer inferred watch watchperson nric', '  nric date dob person watch customer number name id', '  reported customer unlikely watchperson profile account highly malaysia secretary', '  dob within range possible fall tool cscdd refer calculator', '  name match full fathers sound similar customers passport dob', '  years birth date already name born age year old', '  years trinity already nric id age old number born', '  refer watchperson vs refinitiv born year id number birth', '  relationship deemed news happened relevant ago updaterecurrence incident business', '  reported secretary deputy ministry age vs already years match', '  fathers born reported customers date secretary father watchpersons passport', '  born match full sound pep similar inferred son old', '  member pep refer fathers work watch within person hluttaw', '  world check dob work match per inferred pep number', '  old dob years age member pep yob yobage worldcheck', '  match refer nric gender inferred within name nationality fathers', '  inferred refer whereas malaysia labourer sound work watchperson similar', '  refinitiv match hence work yob yobage nric meanwhile unlikely', '  old inferred watchperson yobage hence customer soe member board', '  number id per work refer passport worldcheck uco pep', '  refinitiv vs pep son watch inferred number born age', '  per worldcheck soe board profile directors different born ltd', '  trinity old as per discounting number person native year', '  hluttaw defence personnel representing services region two different manufacturing']\n"
     ]
    },
    {
     "name": "stdout",
     "output_type": "stream",
     "text": [
      "['  yob birth year mismatch customer inferred watch watchperson nric', '  nric date dob person watch customer number name id', '  reported customer unlikely watchperson profile account highly malaysia secretary', '  dob within range possible fall tool cscdd refer calculator', '  name match full fathers sound similar customers passport dob', '  years birth date already name born age year old', '  years trinity already nric id age old number born', '  refer watchperson vs refinitiv born year id number birth', '  relationship deemed news happened relevant ago updaterecurrence incident business', '  reported secretary deputy ministry age vs already years match', '  fathers born reported customers date secretary father watchpersons passport', '  born match full sound pep similar inferred son old', '  member pep refer fathers work watch within person hluttaw', '  world check dob work match per inferred pep number', '  old dob years age member pep yob yobage worldcheck', '  match refer nric gender inferred within name nationality fathers', '  inferred refer whereas malaysia labourer sound work watchperson similar', '  refinitiv match hence work yob yobage nric meanwhile unlikely', '  old inferred watchperson yobage hence customer soe member board', '  number id per work refer passport worldcheck uco pep', '  refinitiv vs pep son watch inferred number born age', '  per worldcheck soe board profile directors different born ltd', '  trinity old as per discounting number person native year', '  hluttaw defence personnel representing services region two different manufacturing', '  customers number passport id issued refinitiv according persons watch']\n",
      "['  yob birth year mismatch customer inferred watch watchperson nric', '  nric date dob person watch customer number name id', '  reported customer unlikely watchperson profile account highly malaysia secretary', '  dob within range possible fall tool cscdd refer calculator', '  name match full fathers sound similar customers passport dob', '  years birth date already name born age year old', '  years trinity already nric id age old number born', '  refer watchperson vs refinitiv born year id number birth', '  relationship deemed news happened relevant ago updaterecurrence incident business', '  reported secretary deputy ministry age vs already years match', '  fathers born reported customers date secretary father watchpersons passport', '  born match full sound pep similar inferred son old', '  member pep refer fathers work watch within person hluttaw', '  world check dob work match per inferred pep number', '  old dob years age member pep yob yobage worldcheck', '  match refer nric gender inferred within name nationality fathers', '  inferred refer whereas malaysia labourer sound work watchperson similar', '  refinitiv match hence work yob yobage nric meanwhile unlikely', '  old inferred watchperson yobage hence customer soe member board', '  number id per work refer passport worldcheck uco pep', '  refinitiv vs pep son watch inferred number born age', '  per worldcheck soe board profile directors different born ltd', '  trinity old as per discounting number person native year', '  hluttaw defence personnel representing services region two different manufacturing', '  customers number passport id issued refinitiv according persons watch', '  hence imprisonment labourers number sentenced highly person id refer']\n",
      "['  yob birth year mismatch customer inferred watch watchperson nric', '  nric date dob person watch customer number name id', '  reported customer unlikely watchperson profile account highly malaysia secretary', '  dob within range possible fall tool cscdd refer calculator', '  name match full fathers sound similar customers passport dob', '  years birth date already name born age year old', '  years trinity already nric id age old number born', '  refer watchperson vs refinitiv born year id number birth', '  relationship deemed news happened relevant ago updaterecurrence incident business', '  reported secretary deputy ministry age vs already years match', '  fathers born reported customers date secretary father watchpersons passport', '  born match full sound pep similar inferred son old', '  member pep refer fathers work watch within person hluttaw', '  world check dob work match per inferred pep number', '  old dob years age member pep yob yobage worldcheck', '  match refer nric gender inferred within name nationality fathers', '  inferred refer whereas malaysia labourer sound work watchperson similar', '  refinitiv match hence work yob yobage nric meanwhile unlikely', '  old inferred watchperson yobage hence customer soe member board', '  number id per work refer passport worldcheck uco pep', '  refinitiv vs pep son watch inferred number born age', '  per worldcheck soe board profile directors different born ltd', '  trinity old as per discounting number person native year', '  hluttaw defence personnel representing services region two different manufacturing', '  customers number passport id issued refinitiv according persons watch', '  hence imprisonment labourers number sentenced highly person id refer', '  watchpersons rm uco refinitiv income two working po refinitive']\n",
      "['  yob birth year mismatch customer inferred watch watchperson nric', '  nric date dob person watch customer number name id', '  reported customer unlikely watchperson profile account highly malaysia secretary', '  dob within range possible fall tool cscdd refer calculator', '  name match full fathers sound similar customers passport dob', '  years birth date already name born age year old', '  years trinity already nric id age old number born', '  refer watchperson vs refinitiv born year id number birth', '  relationship deemed news happened relevant ago updaterecurrence incident business', '  reported secretary deputy ministry age vs already years match', '  fathers born reported customers date secretary father watchpersons passport', '  born match full sound pep similar inferred son old', '  member pep refer fathers work watch within person hluttaw', '  world check dob work match per inferred pep number', '  old dob years age member pep yob yobage worldcheck', '  match refer nric gender inferred within name nationality fathers', '  inferred refer whereas malaysia labourer sound work watchperson similar', '  refinitiv match hence work yob yobage nric meanwhile unlikely', '  old inferred watchperson yobage hence customer soe member board', '  number id per work refer passport worldcheck uco pep', '  refinitiv vs pep son watch inferred number born age', '  per worldcheck soe board profile directors different born ltd', '  trinity old as per discounting number person native year', '  hluttaw defence personnel representing services region two different manufacturing', '  customers number passport id issued refinitiv according persons watch', '  hence imprisonment labourers number sentenced highly person id refer', '  watchpersons rm uco refinitiv income two working po refinitive', '  imprisonment sentenced rm worldcheck vs based watchperson working income']\n",
      "['  yob birth year mismatch customer inferred watch watchperson nric', '  nric date dob person watch customer number name id', '  reported customer unlikely watchperson profile account highly malaysia secretary', '  dob within range possible fall tool cscdd refer calculator', '  name match full fathers sound similar customers passport dob', '  years birth date already name born age year old', '  years trinity already nric id age old number born', '  refer watchperson vs refinitiv born year id number birth', '  relationship deemed news happened relevant ago updaterecurrence incident business', '  reported secretary deputy ministry age vs already years match', '  fathers born reported customers date secretary father watchpersons passport', '  born match full sound pep similar inferred son old', '  member pep refer fathers work watch within person hluttaw', '  world check dob work match per inferred pep number', '  old dob years age member pep yob yobage worldcheck', '  match refer nric gender inferred within name nationality fathers', '  inferred refer whereas malaysia labourer sound work watchperson similar', '  refinitiv match hence work yob yobage nric meanwhile unlikely', '  old inferred watchperson yobage hence customer soe member board', '  number id per work refer passport worldcheck uco pep', '  refinitiv vs pep son watch inferred number born age', '  per worldcheck soe board profile directors different born ltd', '  trinity old as per discounting number person native year', '  hluttaw defence personnel representing services region two different manufacturing', '  customers number passport id issued refinitiv according persons watch', '  hence imprisonment labourers number sentenced highly person id refer', '  watchpersons rm uco refinitiv income two working po refinitive', '  imprisonment sentenced rm worldcheck vs based watchperson working income', '  refer different involvement terrorism labourers already activities issued agricultural']\n",
      "['  yob birth year mismatch customer inferred watch watchperson nric', '  nric date dob person watch customer number name id', '  reported customer unlikely watchperson profile account highly malaysia secretary', '  dob within range possible fall tool cscdd refer calculator', '  name match full fathers sound similar customers passport dob', '  years birth date already name born age year old', '  years trinity already nric id age old number born', '  refer watchperson vs refinitiv born year id number birth', '  relationship deemed news happened relevant ago updaterecurrence incident business', '  reported secretary deputy ministry age vs already years match', '  fathers born reported customers date secretary father watchpersons passport', '  born match full sound pep similar inferred son old', '  member pep refer fathers work watch within person hluttaw', '  world check dob work match per inferred pep number', '  old dob years age member pep yob yobage worldcheck', '  match refer nric gender inferred within name nationality fathers', '  inferred refer whereas malaysia labourer sound work watchperson similar', '  refinitiv match hence work yob yobage nric meanwhile unlikely', '  old inferred watchperson yobage hence customer soe member board', '  number id per work refer passport worldcheck uco pep', '  refinitiv vs pep son watch inferred number born age', '  per worldcheck soe board profile directors different born ltd', '  trinity old as per discounting number person native year', '  hluttaw defence personnel representing services region two different manufacturing', '  customers number passport id issued refinitiv according persons watch', '  hence imprisonment labourers number sentenced highly person id refer', '  watchpersons rm uco refinitiv income two working po refinitive', '  imprisonment sentenced rm worldcheck vs based watchperson working income', '  refer different involvement terrorism labourers already activities issued agricultural', '  gbffspfquickidfd refinitiv fathers within id number transactions watchperson involvement']\n"
     ]
    },
    {
     "data": {
      "text/plain": [
       "['  yob birth year mismatch customer inferred watch watchperson nric',\n",
       " '  nric date dob person watch customer number name id',\n",
       " '  reported customer unlikely watchperson profile account highly malaysia secretary',\n",
       " '  dob within range possible fall tool cscdd refer calculator',\n",
       " '  name match full fathers sound similar customers passport dob',\n",
       " '  years birth date already name born age year old',\n",
       " '  years trinity already nric id age old number born',\n",
       " '  refer watchperson vs refinitiv born year id number birth',\n",
       " '  relationship deemed news happened relevant ago updaterecurrence incident business',\n",
       " '  reported secretary deputy ministry age vs already years match',\n",
       " '  fathers born reported customers date secretary father watchpersons passport',\n",
       " '  born match full sound pep similar inferred son old',\n",
       " '  member pep refer fathers work watch within person hluttaw',\n",
       " '  world check dob work match per inferred pep number',\n",
       " '  old dob years age member pep yob yobage worldcheck',\n",
       " '  match refer nric gender inferred within name nationality fathers',\n",
       " '  inferred refer whereas malaysia labourer sound work watchperson similar',\n",
       " '  refinitiv match hence work yob yobage nric meanwhile unlikely',\n",
       " '  old inferred watchperson yobage hence customer soe member board',\n",
       " '  number id per work refer passport worldcheck uco pep',\n",
       " '  refinitiv vs pep son watch inferred number born age',\n",
       " '  per worldcheck soe board profile directors different born ltd',\n",
       " '  trinity old as per discounting number person native year',\n",
       " '  hluttaw defence personnel representing services region two different manufacturing',\n",
       " '  customers number passport id issued refinitiv according persons watch',\n",
       " '  hence imprisonment labourers number sentenced highly person id refer',\n",
       " '  watchpersons rm uco refinitiv income two working po refinitive',\n",
       " '  imprisonment sentenced rm worldcheck vs based watchperson working income',\n",
       " '  refer different involvement terrorism labourers already activities issued agricultural',\n",
       " '  gbffspfquickidfd refinitiv fathers within id number transactions watchperson involvement']"
      ]
     },
     "execution_count": 82,
     "metadata": {},
     "output_type": "execute_result"
    }
   ],
   "source": [
    "topic_word_list = []\n",
    "def get_topics(components): \n",
    "      for i, comp in enumerate(components):\n",
    "        terms_comp = zip(vocab,comp)\n",
    "        sorted_terms = sorted(terms_comp, key= lambda x:x[1], reverse=True)[:9]\n",
    "        topic=\" \"\n",
    "        for t in sorted_terms:\n",
    "            topic= topic + ' ' + t[0]\n",
    "        topic_word_list.append(topic)\n",
    "        print(topic_word_list)\n",
    "      return topic_word_list\n",
    "get_topics(components)"
   ]
  },
  {
   "cell_type": "code",
   "execution_count": 79,
   "id": "44edc8e3",
   "metadata": {
    "scrolled": false
   },
   "outputs": [
    {
     "name": "stdout",
     "output_type": "stream",
     "text": [
      "Could not fetch URL https://pypi.org/simple/wordcloud/: There was a problem confirming the ssl certificate: HTTPSConnectionPool(host='pypi.org', port=443): Max retries exceeded with url: /simple/wordcloud/ (Caused by SSLError(SSLCertVerificationError(1, '[SSL: CERTIFICATE_VERIFY_FAILED] certificate verify failed: unable to get local issuer certificate (_ssl.c:1129)'))) - skipping\n",
      "Could not fetch URL https://pypi.org/simple/pip/: There was a problem confirming the ssl certificate: HTTPSConnectionPool(host='pypi.org', port=443): Max retries exceeded with url: /simple/pip/ (Caused by SSLError(SSLCertVerificationError(1, '[SSL: CERTIFICATE_VERIFY_FAILED] certificate verify failed: unable to get local issuer certificate (_ssl.c:1129)'))) - skipping\n"
     ]
    },
    {
     "name": "stderr",
     "output_type": "stream",
     "text": [
      "WARNING: Retrying (Retry(total=4, connect=None, read=None, redirect=None, status=None)) after connection broken by 'SSLError(SSLCertVerificationError(1, '[SSL: CERTIFICATE_VERIFY_FAILED] certificate verify failed: unable to get local issuer certificate (_ssl.c:1129)'))': /simple/wordcloud/\n",
      "WARNING: Retrying (Retry(total=3, connect=None, read=None, redirect=None, status=None)) after connection broken by 'SSLError(SSLCertVerificationError(1, '[SSL: CERTIFICATE_VERIFY_FAILED] certificate verify failed: unable to get local issuer certificate (_ssl.c:1129)'))': /simple/wordcloud/\n",
      "WARNING: Retrying (Retry(total=2, connect=None, read=None, redirect=None, status=None)) after connection broken by 'SSLError(SSLCertVerificationError(1, '[SSL: CERTIFICATE_VERIFY_FAILED] certificate verify failed: unable to get local issuer certificate (_ssl.c:1129)'))': /simple/wordcloud/\n",
      "WARNING: Retrying (Retry(total=1, connect=None, read=None, redirect=None, status=None)) after connection broken by 'SSLError(SSLCertVerificationError(1, '[SSL: CERTIFICATE_VERIFY_FAILED] certificate verify failed: unable to get local issuer certificate (_ssl.c:1129)'))': /simple/wordcloud/\n",
      "WARNING: Retrying (Retry(total=0, connect=None, read=None, redirect=None, status=None)) after connection broken by 'SSLError(SSLCertVerificationError(1, '[SSL: CERTIFICATE_VERIFY_FAILED] certificate verify failed: unable to get local issuer certificate (_ssl.c:1129)'))': /simple/wordcloud/\n",
      "ERROR: Could not find a version that satisfies the requirement wordcloud (from versions: none)\n",
      "ERROR: No matching distribution found for wordcloud\n"
     ]
    },
    {
     "ename": "ModuleNotFoundError",
     "evalue": "No module named 'wordcloud'",
     "output_type": "error",
     "traceback": [
      "\u001b[1;31m---------------------------------------------------------------------------\u001b[0m",
      "\u001b[1;31mModuleNotFoundError\u001b[0m                       Traceback (most recent call last)",
      "Input \u001b[1;32mIn [79]\u001b[0m, in \u001b[0;36m<cell line: 2>\u001b[1;34m()\u001b[0m\n\u001b[0;32m      1\u001b[0m get_ipython()\u001b[38;5;241m.\u001b[39msystem(\u001b[38;5;124m'\u001b[39m\u001b[38;5;124mpip install wordcloud\u001b[39m\u001b[38;5;124m'\u001b[39m)\n\u001b[1;32m----> 2\u001b[0m \u001b[38;5;28;01mfrom\u001b[39;00m \u001b[38;5;21;01mwordcloud\u001b[39;00m \u001b[38;5;28;01mimport\u001b[39;00m WordCloud\n\u001b[0;32m      3\u001b[0m \u001b[38;5;28;01mimport\u001b[39;00m \u001b[38;5;21;01mmatplotlib\u001b[39;00m\u001b[38;5;21;01m.\u001b[39;00m\u001b[38;5;21;01mpyplot\u001b[39;00m \u001b[38;5;28;01mas\u001b[39;00m \u001b[38;5;21;01mplt\u001b[39;00m\n\u001b[0;32m      4\u001b[0m \u001b[38;5;28;01mfor\u001b[39;00m i \u001b[38;5;129;01min\u001b[39;00m \u001b[38;5;28mrange\u001b[39m(\u001b[38;5;241m4\u001b[39m):\n",
      "\u001b[1;31mModuleNotFoundError\u001b[0m: No module named 'wordcloud'"
     ]
    }
   ],
   "source": [
    "!pip install wordcloud\n",
    "from wordcloud import WordCloud\n",
    "import matplotlib.pyplot as plt\n",
    "for i in range(4):\n",
    "  wc = WordCloud(width=1000, height=600, margin=3,  prefer_horizontal=0.7,scale=1,background_color='black', relative_scaling=0).generate(topic_word_list[i])\n",
    "  plt.imshow(wc)\n",
    "  plt.title(f\"Topic{i+1}\")\n",
    "  plt.axis(\"off\")\n",
    "  plt.show()"
   ]
  },
  {
   "cell_type": "markdown",
   "id": "be9c299c",
   "metadata": {},
   "source": [
    "### NMF"
   ]
  },
  {
   "cell_type": "code",
   "execution_count": 83,
   "id": "123e2185",
   "metadata": {},
   "outputs": [],
   "source": [
    "from sklearn.decomposition import NMF\n",
    "NMF_model = NMF(n_components=8, random_state=1)\n",
    "W = NMF_model.fit_transform(X)\n",
    "H = NMF_model.components_"
   ]
  },
  {
   "cell_type": "code",
   "execution_count": 86,
   "id": "ac65cd5f",
   "metadata": {
    "scrolled": true
   },
   "outputs": [
    {
     "name": "stdout",
     "output_type": "stream",
     "text": [
      "['  yob inferred year persons birth customers per check world']\n",
      "['  yob inferred year persons birth customers per check world', '  nric date birth watch person number id trinity mismatch']\n",
      "['  yob inferred year persons birth customers per check world', '  nric date birth watch person number id trinity mismatch', '  customer reported person unlikely profile account watchperson malaysia secretary']\n",
      "['  yob inferred year persons birth customers per check world', '  nric date birth watch person number id trinity mismatch', '  customer reported person unlikely profile account watchperson malaysia secretary', '  dob within range possible fall date tool watch cscdd']\n",
      "['  yob inferred year persons birth customers per check world', '  nric date birth watch person number id trinity mismatch', '  customer reported person unlikely profile account watchperson malaysia secretary', '  dob within range possible fall date tool watch cscdd', '  name full match fathers sound similar passport customers father']\n",
      "['  yob inferred year persons birth customers per check world', '  nric date birth watch person number id trinity mismatch', '  customer reported person unlikely profile account watchperson malaysia secretary', '  dob within range possible fall date tool watch cscdd', '  name full match fathers sound similar passport customers father', '  years already age year born old world check birth']\n",
      "['  yob inferred year persons birth customers per check world', '  nric date birth watch person number id trinity mismatch', '  customer reported person unlikely profile account watchperson malaysia secretary', '  dob within range possible fall date tool watch cscdd', '  name full match fathers sound similar passport customers father', '  years already age year born old world check birth', '  deemed relationship happened relevant ago news updaterecurrence incident business']\n",
      "['  yob inferred year persons birth customers per check world', '  nric date birth watch person number id trinity mismatch', '  customer reported person unlikely profile account watchperson malaysia secretary', '  dob within range possible fall date tool watch cscdd', '  name full match fathers sound similar passport customers father', '  years already age year born old world check birth', '  deemed relationship happened relevant ago news updaterecurrence incident business', '  birth year yob refer refinitiv watchperson vs mismatch customer']\n"
     ]
    },
    {
     "data": {
      "text/plain": [
       "['  yob inferred year persons birth customers per check world',\n",
       " '  nric date birth watch person number id trinity mismatch',\n",
       " '  customer reported person unlikely profile account watchperson malaysia secretary',\n",
       " '  dob within range possible fall date tool watch cscdd',\n",
       " '  name full match fathers sound similar passport customers father',\n",
       " '  years already age year born old world check birth',\n",
       " '  deemed relationship happened relevant ago news updaterecurrence incident business',\n",
       " '  birth year yob refer refinitiv watchperson vs mismatch customer']"
      ]
     },
     "execution_count": 86,
     "metadata": {},
     "output_type": "execute_result"
    }
   ],
   "source": [
    "topic_word_list = []\n",
    "def get_topics(components): \n",
    "      for i, comp in enumerate(components):\n",
    "        terms_comp = zip(vocab,comp)\n",
    "        sorted_terms = sorted(terms_comp, key= lambda x:x[1], reverse=True)[:9]\n",
    "        topic=\" \"\n",
    "        for t in sorted_terms:\n",
    "            topic= topic + ' ' + t[0]\n",
    "        topic_word_list.append(topic)\n",
    "        print(topic_word_list)\n",
    "      return topic_word_list\n",
    "get_topics(H)"
   ]
  },
  {
   "cell_type": "code",
   "execution_count": 85,
   "id": "4e91087b",
   "metadata": {},
   "outputs": [
    {
     "ename": "IndentationError",
     "evalue": "unexpected indent (1461635311.py, line 6)",
     "output_type": "error",
     "traceback": [
      "\u001b[1;36m  Input \u001b[1;32mIn [85]\u001b[1;36m\u001b[0m\n\u001b[1;33m    topic=\" \"\u001b[0m\n\u001b[1;37m    ^\u001b[0m\n\u001b[1;31mIndentationError\u001b[0m\u001b[1;31m:\u001b[0m unexpected indent\n"
     ]
    }
   ],
   "source": []
  },
  {
   "cell_type": "code",
   "execution_count": null,
   "id": "fb9ba3a5",
   "metadata": {},
   "outputs": [],
   "source": [
    "\n",
    "\n",
    "\n",
    "\n",
    "\n",
    "# Step 4: Visualize the transformed data\n",
    "import matplotlib.pyplot as plt\n",
    "\n",
    "plt.figure(figsize=(8, 6))\n",
    "for i in range(len(X_svd)):\n",
    "    plt.scatter(X_svd[i, 0], X_svd[i, 1], label=f\"Document {i+1}\")\n",
    "\n",
    "plt.xlabel(\"Component 1\")\n",
    "plt.ylabel(\"Component 2\")\n",
    "plt.legend()\n",
    "plt.title(\"Truncated SVD on Text Data\")\n",
    "plt.show()\n"
   ]
  },
  {
   "cell_type": "markdown",
   "id": "b2e2a21c",
   "metadata": {},
   "source": [
    "# The end"
   ]
  },
  {
   "cell_type": "code",
   "execution_count": null,
   "id": "cf442088",
   "metadata": {
    "scrolled": true
   },
   "outputs": [],
   "source": [
    "# for i in range(10):\n",
    "#      plt.boxplot(df_grp[\"sim_score\"].get_group(int(i)))\n",
    "for i in list(df_grp.groups.keys()):\n",
    "    print(i)\n",
    "    print(df_grp[\"sim_score\"].get_group(i).mean())"
   ]
  },
  {
   "cell_type": "code",
   "execution_count": null,
   "id": "2a8b4721",
   "metadata": {},
   "outputs": [],
   "source": []
  },
  {
   "cell_type": "code",
   "execution_count": null,
   "id": "51f111fe",
   "metadata": {},
   "outputs": [],
   "source": [
    "# df_1=df_grp.get_group(1.0)\n",
    "# df_grp[\"Topic words\"]"
   ]
  },
  {
   "cell_type": "code",
   "execution_count": null,
   "id": "7af8751c",
   "metadata": {},
   "outputs": [],
   "source": [
    "from gensim.scripts.glove2word2vec import glove2word2vec\n",
    "from gensim.models import KeyedVectors"
   ]
  },
  {
   "cell_type": "code",
   "execution_count": null,
   "id": "e6549438",
   "metadata": {},
   "outputs": [],
   "source": [
    "# Convert GloVe format to word2vec format\n",
    "glove_input_file = 'glove.6B/glove.6B.100d.txt'\n",
    "word2vec_output_file = 'glove.6B/glove.6B.100d.word2vec.txt'\n",
    "glove2word2vec(glove_input_file, word2vec_output_file)\n"
   ]
  },
  {
   "cell_type": "code",
   "execution_count": null,
   "id": "6ef15f43",
   "metadata": {},
   "outputs": [],
   "source": [
    "# Load the converted model\n",
    "glove_model = KeyedVectors.load_word2vec_format(word2vec_output_file, binary=False)\n",
    "\n",
    "\n",
    "\n",
    "# Example usage\n",
    "vector = glove_model['example']\n",
    "similar_words = glove_model.most_similar('example')\n",
    "\n",
    "print(\"Vector representation of 'example':\", vector)\n",
    "print(\"Similar words to 'example':\", similar_words)"
   ]
  },
  {
   "cell_type": "code",
   "execution_count": null,
   "id": "31805548",
   "metadata": {},
   "outputs": [],
   "source": []
  },
  {
   "cell_type": "code",
   "execution_count": null,
   "id": "83502703",
   "metadata": {},
   "outputs": [],
   "source": [
    "### T-SNE & PCA"
   ]
  },
  {
   "cell_type": "code",
   "execution_count": null,
   "id": "d78641db",
   "metadata": {},
   "outputs": [],
   "source": []
  },
  {
   "cell_type": "code",
   "execution_count": null,
   "id": "a4274b6c",
   "metadata": {},
   "outputs": [],
   "source": [
    "def tsne_plot():\n",
    "    labels = []\n",
    "    tokens = []\n",
    "    \n",
    "    # Extracting words and their vectors from our trained model1 \n",
    "    for word in model1.wv.index_to_key:\n",
    "        tokens.append(model1.wv[word])\n",
    "        labels.append(word)\n",
    "    \n",
    "    # Train t-SNE \n",
    "    tsne_model1 = TSNE(perplexity=45, n_components=2, init='pca', n_iter=250, random_state=23)\n",
    "    new_values = tsne_model1.fit_transform(tokens)\n",
    "    x = []\n",
    "    y = []\n",
    "    \n",
    "    for value in new_values:\n",
    "        x.append(value[0])\n",
    "        y.append(value[1])\n",
    "        \n",
    "    plt.figure(figsize=(16, 16)) \n",
    "    for i in range(len(x)):\n",
    "        plt.scatter(x[i],y[i])\n",
    "        plt.annotate(labels[i],\n",
    "                     xy=(x[i], y[i]),\n",
    "                     xytext=(5, 2),\n",
    "                     textcoords='offset points',\n",
    "                     ha='right',\n",
    "                     va='bottom')\n",
    "        plt.xlabel(\"dimension 1\")\n",
    "        plt.ylabel(\"dimension 2\")\n",
    "    plt.show()\n",
    "# Words that occur atleast\n",
    "\n",
    "\n",
    "\n",
    "\n",
    "\n",
    "\n",
    "\n",
    "\n",
    "\n"
   ]
  },
  {
   "cell_type": "code",
   "execution_count": null,
   "id": "d0c8d7f0",
   "metadata": {},
   "outputs": [],
   "source": [
    "# tsne_plot()"
   ]
  },
  {
   "cell_type": "code",
   "execution_count": null,
   "id": "4d581cf3",
   "metadata": {},
   "outputs": [],
   "source": []
  },
  {
   "cell_type": "code",
   "execution_count": null,
   "id": "7c13086a",
   "metadata": {},
   "outputs": [],
   "source": []
  },
  {
   "cell_type": "code",
   "execution_count": null,
   "id": "e1cb88fc",
   "metadata": {},
   "outputs": [],
   "source": [
    "### PCA"
   ]
  },
  {
   "cell_type": "code",
   "execution_count": null,
   "id": "0db8c278",
   "metadata": {},
   "outputs": [],
   "source": [
    "from sklearn.decomposition import PCA\n",
    "labels = []\n",
    "tokens = []\n",
    "for word in model1.wv.index_to_key:\n",
    "        tokens.append(model1.wv[word])\n",
    "        labels.append(word)\n",
    "pca = PCA(n_components=10)\n",
    "X_pca = pca.fit_transform(tokens)\n",
    "\n",
    "\n"
   ]
  },
  {
   "cell_type": "code",
   "execution_count": null,
   "id": "e7c12449",
   "metadata": {},
   "outputs": [],
   "source": [
    "len(tokens)"
   ]
  },
  {
   "cell_type": "code",
   "execution_count": null,
   "id": "0989972a",
   "metadata": {},
   "outputs": [],
   "source": [
    "vectors = vectorizer.fit_transform(df[\"V_COMMENTS_2\"])"
   ]
  },
  {
   "cell_type": "code",
   "execution_count": null,
   "id": "85034a71",
   "metadata": {
    "scrolled": false
   },
   "outputs": [],
   "source": [
    "pca = PCA(n_components=10)\n",
    "X_pca = pca.fit_transform(vectors)\n",
    "pca.components_"
   ]
  },
  {
   "cell_type": "code",
   "execution_count": null,
   "id": "08ef0671",
   "metadata": {},
   "outputs": [],
   "source": []
  }
 ],
 "metadata": {
  "kernelspec": {
   "display_name": "Python 3 (ipykernel)",
   "language": "python",
   "name": "python3"
  },
  "language_info": {
   "codemirror_mode": {
    "name": "ipython",
    "version": 3
   },
   "file_extension": ".py",
   "mimetype": "text/x-python",
   "name": "python",
   "nbconvert_exporter": "python",
   "pygments_lexer": "ipython3",
   "version": "3.9.13"
  }
 },
 "nbformat": 4,
 "nbformat_minor": 5
}
