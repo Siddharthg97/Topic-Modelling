{
 "cells": [
  {
   "cell_type": "code",
   "execution_count": null,
   "id": "b993e486-3e31-4b98-ac2c-3ab4d115fb94",
   "metadata": {},
   "outputs": [],
   "source": [
    "Objective: To perform topic Modelling using NMF & LSA for information extraction (latent topics present in documents.) additionally apart from LDA .\n",
    "\n",
    "Approach : LSA or Trucated SVD - predefine the no. of topics initially 30 and then obtained a amonut of varaince explained by each topic/component.\n",
    "After 20th component no significant dip in amount of variance was observed.Hence, took final no. of topics to be 20.\n",
    "1) Many topics of LSA were common with topics of LDA\n",
    "2) Many topic words were common among several topics like contained same anchors yob , dob , age, name not sounding similiar\n",
    "3) none topic words have anchor i.e. transaction related information \n",
    "4) topic coherence score is low in comparison to LDA.\n",
    "\n",
    "NMF - initially provided 30 no. of components to develop an NMF model.\n",
    "Many topics were similiar to topics of LDA & LSA. Topic coherence is better than that of LDA.non additional information extracted from them.\n"
   ]
  },
  {
   "cell_type": "code",
   "execution_count": 23,
   "id": "9a6cb5d9",
   "metadata": {},
   "outputs": [],
   "source": [
    "import pandas as pd\n",
    "import warnings\n",
    "warnings.filterwarnings(\"ignore\")\n",
    "import numpy as np\n",
    "import pandas as pd\n",
    "from transformers import BertTokenizer, BertModel\n",
    "from sklearn.cluster import DBSCAN\n",
    "from sklearn.feature_extraction.text import TfidfVectorizer\n",
    "import matplotlib.pyplot as plt\n",
    "from sklearn.manifold import TSNE\n",
    "from gensim.models import word2vec\n",
    "import numpy as np\n",
    "import pandas as pd\n",
    "import ast\n",
    "import re\n",
    "import torch\n",
    "from sklearn.neighbors import LocalOutlierFactor\n",
    "from sklearn.model_selection import GridSearchCV\n",
    "from sklearn.metrics import silhouette_score\n",
    "\n",
    "import numpy as np\n",
    "import pandas as pd\n",
    "from sklearn.decomposition import TruncatedSVD\n",
    "from sklearn.feature_extraction.text import TfidfVectorizer\n",
    "from sklearn.metrics.pairwise import cosine_similarity\n",
    "from gensim.models.coherencemodel import CoherenceModel\n",
    "from gensim.corpora.dictionary import Dictionary"
   ]
  },
  {
   "cell_type": "code",
   "execution_count": 3,
   "id": "e79835a8",
   "metadata": {},
   "outputs": [],
   "source": [
    "from nltk.tokenize import word_tokenize "
   ]
  },
  {
   "cell_type": "code",
   "execution_count": 4,
   "id": "5636710e-745c-46d1-a2e2-a1195ac6bfc4",
   "metadata": {},
   "outputs": [],
   "source": [
    "df=pd.read_excel(\"Additional words in topics tf idf bi tri.xlsx\")"
   ]
  },
  {
   "cell_type": "code",
   "execution_count": 2,
   "id": "c07b7615",
   "metadata": {},
   "outputs": [],
   "source": [
    "df=pd.read_excel(\"Additional words in topics tf idf bi tri.xlsx\")"
   ]
  },
  {
   "cell_type": "code",
   "execution_count": 6,
   "id": "d5cdd80e",
   "metadata": {},
   "outputs": [],
   "source": [
    "df.head()\n",
    "df.drop([\"Unnamed: 0\",\"Unnamed: 0.1\"],axis=1,inplace=True)"
   ]
  },
  {
   "cell_type": "code",
   "execution_count": 7,
   "id": "b74e203a",
   "metadata": {},
   "outputs": [
    {
     "data": {
      "text/html": [
       "<div>\n",
       "<style scoped>\n",
       "    .dataframe tbody tr th:only-of-type {\n",
       "        vertical-align: middle;\n",
       "    }\n",
       "\n",
       "    .dataframe tbody tr th {\n",
       "        vertical-align: top;\n",
       "    }\n",
       "\n",
       "    .dataframe thead th {\n",
       "        text-align: right;\n",
       "    }\n",
       "</style>\n",
       "<table border=\"1\" class=\"dataframe\">\n",
       "  <thead>\n",
       "    <tr style=\"text-align: right;\">\n",
       "      <th></th>\n",
       "      <th>V_COMMENTS</th>\n",
       "      <th>Counts</th>\n",
       "      <th>V_COMMENTS_2</th>\n",
       "      <th>Tokens</th>\n",
       "      <th>id_2_feature</th>\n",
       "      <th>TFIDF_Feature</th>\n",
       "      <th>Topic_tfidf_lda</th>\n",
       "      <th>All_Topic_tfidf_Probabilities</th>\n",
       "      <th>TF_tfidf_Topic_No</th>\n",
       "      <th>TF IDF Topic words</th>\n",
       "    </tr>\n",
       "  </thead>\n",
       "  <tbody>\n",
       "    <tr>\n",
       "      <th>0</th>\n",
       "      <td>mismatch id number_nric</td>\n",
       "      <td>67150</td>\n",
       "      <td>mismatch id number nric</td>\n",
       "      <td>['mismatch', 'i', 'd', 'number', 'nric']</td>\n",
       "      <td>[(0, 1), (1, 1), (2, 1), (3, 1), (4, 1)]</td>\n",
       "      <td>[(0, 0.547290750424587), (1, 0.547516376900071...</td>\n",
       "      <td>0.199*\"nric\" + 0.130*\"date\" + 0.085*\"birth\" + ...</td>\n",
       "      <td>[(0, 0.037396688), (1, 0.03744973), (2, 0.0373...</td>\n",
       "      <td>4</td>\n",
       "      <td>['nric', 'date', 'birth', 'number', 'd', 'i', ...</td>\n",
       "    </tr>\n",
       "    <tr>\n",
       "      <th>1</th>\n",
       "      <td>mismatch id number_nric\\n</td>\n",
       "      <td>40137</td>\n",
       "      <td>mismatch id number nric</td>\n",
       "      <td>['mismatch', 'i', 'd', 'number', 'nric']</td>\n",
       "      <td>[(0, 1), (1, 1), (2, 1), (3, 1), (4, 1)]</td>\n",
       "      <td>[(0, 0.547290750424587), (1, 0.547516376900071...</td>\n",
       "      <td>0.199*\"nric\" + 0.130*\"date\" + 0.085*\"birth\" + ...</td>\n",
       "      <td>[(0, 0.037396688), (1, 0.037449747), (2, 0.037...</td>\n",
       "      <td>4</td>\n",
       "      <td>['nric', 'date', 'birth', 'number', 'd', 'i', ...</td>\n",
       "    </tr>\n",
       "    <tr>\n",
       "      <th>2</th>\n",
       "      <td>mismatch year of birth (yob)</td>\n",
       "      <td>27341</td>\n",
       "      <td>mismatch year birth yob</td>\n",
       "      <td>['mismatch', 'year', 'birth', 'yob']</td>\n",
       "      <td>[(2, 1), (5, 1), (6, 1), (7, 1)]</td>\n",
       "      <td>[(2, 0.06249879031496278), (5, 0.5453915180875...</td>\n",
       "      <td>0.162*\"yob\" + 0.111*\"year\" + 0.073*\"birth\" + 0...</td>\n",
       "      <td>[(0, 0.038604278), (1, 0.038610753), (2, 0.038...</td>\n",
       "      <td>3</td>\n",
       "      <td>['yob', 'year', 'birth', 'infer', 'bear', 'ref...</td>\n",
       "    </tr>\n",
       "    <tr>\n",
       "      <th>3</th>\n",
       "      <td>mismatch id number_nric</td>\n",
       "      <td>25793</td>\n",
       "      <td>mismatch id number nric</td>\n",
       "      <td>['mismatch', 'i', 'd', 'number', 'nric']</td>\n",
       "      <td>[(0, 1), (1, 1), (2, 1), (3, 1), (4, 1)]</td>\n",
       "      <td>[(0, 0.547290750424587), (1, 0.547516376900071...</td>\n",
       "      <td>0.199*\"nric\" + 0.130*\"date\" + 0.085*\"birth\" + ...</td>\n",
       "      <td>[(0, 0.037396688), (1, 0.037449766), (2, 0.037...</td>\n",
       "      <td>4</td>\n",
       "      <td>['nric', 'date', 'birth', 'number', 'd', 'i', ...</td>\n",
       "    </tr>\n",
       "    <tr>\n",
       "      <th>4</th>\n",
       "      <td>mismatch full legal name â€“ name does not sou...</td>\n",
       "      <td>19127</td>\n",
       "      <td>mismatch full name sound similar</td>\n",
       "      <td>['mismatch', 'full', 'name', 'sound', 'similar']</td>\n",
       "      <td>[(2, 1), (8, 1), (9, 1), (10, 1), (11, 1)]</td>\n",
       "      <td>[(2, 0.030451784805766515), (8, 0.473060193932...</td>\n",
       "      <td>0.137*\"name\" + 0.051*\"match\" + 0.039*\"full\" + ...</td>\n",
       "      <td>[(0, 0.037577048), (1, 0.040632684), (2, 0.037...</td>\n",
       "      <td>17</td>\n",
       "      <td>['name', 'match', 'full', 'passport', 'similar...</td>\n",
       "    </tr>\n",
       "    <tr>\n",
       "      <th>...</th>\n",
       "      <td>...</td>\n",
       "      <td>...</td>\n",
       "      <td>...</td>\n",
       "      <td>...</td>\n",
       "      <td>...</td>\n",
       "      <td>...</td>\n",
       "      <td>...</td>\n",
       "      <td>...</td>\n",
       "      <td>...</td>\n",
       "      <td>...</td>\n",
       "    </tr>\n",
       "    <tr>\n",
       "      <th>221569</th>\n",
       "      <td>mismatch - name, nric, date of birth, profile,...</td>\n",
       "      <td>1</td>\n",
       "      <td>mismatch name nric date birth profile customer...</td>\n",
       "      <td>['mismatch', 'name', 'nric', 'date', 'birth', ...</td>\n",
       "      <td>[(2, 1), (3, 3), (4, 1), (5, 3), (9, 3), (12, ...</td>\n",
       "      <td>[(2, 0.005990920965347929), (3, 0.227682171168...</td>\n",
       "      <td>0.199*\"nric\" + 0.130*\"date\" + 0.085*\"birth\" + ...</td>\n",
       "      <td>[(0, 0.02934474), (1, 0.031117253), (2, 0.0294...</td>\n",
       "      <td>4</td>\n",
       "      <td>['nric', 'date', 'birth', 'number', 'd', 'i', ...</td>\n",
       "    </tr>\n",
       "    <tr>\n",
       "      <th>221570</th>\n",
       "      <td>mismatch - name, nric, date of birth, profile,...</td>\n",
       "      <td>1</td>\n",
       "      <td>mismatch name nric date birth profile customer...</td>\n",
       "      <td>['mismatch', 'name', 'nric', 'date', 'birth', ...</td>\n",
       "      <td>[(2, 1), (3, 3), (4, 1), (5, 3), (9, 3), (12, ...</td>\n",
       "      <td>[(2, 0.0085888069800516), (3, 0.32641362359475...</td>\n",
       "      <td>0.199*\"nric\" + 0.130*\"date\" + 0.085*\"birth\" + ...</td>\n",
       "      <td>[(0, 0.031628136), (1, 0.033863842), (2, 0.031...</td>\n",
       "      <td>4</td>\n",
       "      <td>['nric', 'date', 'birth', 'number', 'd', 'i', ...</td>\n",
       "    </tr>\n",
       "    <tr>\n",
       "      <th>221571</th>\n",
       "      <td>mismatch id number_nric. watch person (noraini...</td>\n",
       "      <td>1</td>\n",
       "      <td>mismatch id number nric  watch person bank cus...</td>\n",
       "      <td>['mismatch', 'i', 'd', 'number', 'nric', 'watc...</td>\n",
       "      <td>[(0, 1), (1, 1), (2, 1), (3, 3), (4, 1), (15, ...</td>\n",
       "      <td>[(0, 0.27243957135183583), (1, 0.2725518874840...</td>\n",
       "      <td>0.199*\"nric\" + 0.130*\"date\" + 0.085*\"birth\" + ...</td>\n",
       "      <td>[(0, 0.03383267), (1, 0.033776768), (2, 0.0337...</td>\n",
       "      <td>4</td>\n",
       "      <td>['nric', 'date', 'birth', 'number', 'd', 'i', ...</td>\n",
       "    </tr>\n",
       "    <tr>\n",
       "      <th>221572</th>\n",
       "      <td>mismatch id number_nric. watch person (noraini...</td>\n",
       "      <td>1</td>\n",
       "      <td>mismatch id number nric  watch person bank cus...</td>\n",
       "      <td>['mismatch', 'i', 'd', 'number', 'nric', 'watc...</td>\n",
       "      <td>[(0, 1), (1, 1), (2, 1), (3, 3), (4, 1), (15, ...</td>\n",
       "      <td>[(0, 0.27243957135183583), (1, 0.2725518874840...</td>\n",
       "      <td>0.199*\"nric\" + 0.130*\"date\" + 0.085*\"birth\" + ...</td>\n",
       "      <td>[(0, 0.03383269), (1, 0.03377677), (2, 0.03370...</td>\n",
       "      <td>4</td>\n",
       "      <td>['nric', 'date', 'birth', 'number', 'd', 'i', ...</td>\n",
       "    </tr>\n",
       "    <tr>\n",
       "      <th>221573</th>\n",
       "      <td>mismatch profile - as adverse news reported ju...</td>\n",
       "      <td>1</td>\n",
       "      <td>mismatch profile adverse news reported detaine...</td>\n",
       "      <td>['mismatch', 'profile', 'adverse', 'news', 're...</td>\n",
       "      <td>[(2, 1), (17, 2), (22, 1), (29, 1), (34, 1), (...</td>\n",
       "      <td>[(2, 0.006761267741986819), (17, 0.00908289129...</td>\n",
       "      <td>0.027*\"transaction\" + 0.026*\"apex\" + 0.024*\"in...</td>\n",
       "      <td>[(0, 0.028120633), (1, 0.028171279), (2, 0.028...</td>\n",
       "      <td>8</td>\n",
       "      <td>['transaction', 'apex', 'involvement_money_lau...</td>\n",
       "    </tr>\n",
       "  </tbody>\n",
       "</table>\n",
       "<p>221574 rows × 10 columns</p>\n",
       "</div>"
      ],
      "text/plain": [
       "                                               V_COMMENTS  Counts  \\\n",
       "0                                 mismatch id number_nric   67150   \n",
       "1                               mismatch id number_nric\\n   40137   \n",
       "2                            mismatch year of birth (yob)   27341   \n",
       "3                                 mismatch id number_nric   25793   \n",
       "4       mismatch full legal name â€“ name does not sou...   19127   \n",
       "...                                                   ...     ...   \n",
       "221569  mismatch - name, nric, date of birth, profile,...       1   \n",
       "221570  mismatch - name, nric, date of birth, profile,...       1   \n",
       "221571  mismatch id number_nric. watch person (noraini...       1   \n",
       "221572  mismatch id number_nric. watch person (noraini...       1   \n",
       "221573  mismatch profile - as adverse news reported ju...       1   \n",
       "\n",
       "                                             V_COMMENTS_2  \\\n",
       "0                                 mismatch id number nric   \n",
       "1                                 mismatch id number nric   \n",
       "2                                 mismatch year birth yob   \n",
       "3                                 mismatch id number nric   \n",
       "4                        mismatch full name sound similar   \n",
       "...                                                   ...   \n",
       "221569  mismatch name nric date birth profile customer...   \n",
       "221570  mismatch name nric date birth profile customer...   \n",
       "221571  mismatch id number nric  watch person bank cus...   \n",
       "221572  mismatch id number nric  watch person bank cus...   \n",
       "221573  mismatch profile adverse news reported detaine...   \n",
       "\n",
       "                                                   Tokens  \\\n",
       "0                ['mismatch', 'i', 'd', 'number', 'nric']   \n",
       "1                ['mismatch', 'i', 'd', 'number', 'nric']   \n",
       "2                    ['mismatch', 'year', 'birth', 'yob']   \n",
       "3                ['mismatch', 'i', 'd', 'number', 'nric']   \n",
       "4        ['mismatch', 'full', 'name', 'sound', 'similar']   \n",
       "...                                                   ...   \n",
       "221569  ['mismatch', 'name', 'nric', 'date', 'birth', ...   \n",
       "221570  ['mismatch', 'name', 'nric', 'date', 'birth', ...   \n",
       "221571  ['mismatch', 'i', 'd', 'number', 'nric', 'watc...   \n",
       "221572  ['mismatch', 'i', 'd', 'number', 'nric', 'watc...   \n",
       "221573  ['mismatch', 'profile', 'adverse', 'news', 're...   \n",
       "\n",
       "                                             id_2_feature  \\\n",
       "0                [(0, 1), (1, 1), (2, 1), (3, 1), (4, 1)]   \n",
       "1                [(0, 1), (1, 1), (2, 1), (3, 1), (4, 1)]   \n",
       "2                        [(2, 1), (5, 1), (6, 1), (7, 1)]   \n",
       "3                [(0, 1), (1, 1), (2, 1), (3, 1), (4, 1)]   \n",
       "4              [(2, 1), (8, 1), (9, 1), (10, 1), (11, 1)]   \n",
       "...                                                   ...   \n",
       "221569  [(2, 1), (3, 3), (4, 1), (5, 3), (9, 3), (12, ...   \n",
       "221570  [(2, 1), (3, 3), (4, 1), (5, 3), (9, 3), (12, ...   \n",
       "221571  [(0, 1), (1, 1), (2, 1), (3, 3), (4, 1), (15, ...   \n",
       "221572  [(0, 1), (1, 1), (2, 1), (3, 3), (4, 1), (15, ...   \n",
       "221573  [(2, 1), (17, 2), (22, 1), (29, 1), (34, 1), (...   \n",
       "\n",
       "                                            TFIDF_Feature  \\\n",
       "0       [(0, 0.547290750424587), (1, 0.547516376900071...   \n",
       "1       [(0, 0.547290750424587), (1, 0.547516376900071...   \n",
       "2       [(2, 0.06249879031496278), (5, 0.5453915180875...   \n",
       "3       [(0, 0.547290750424587), (1, 0.547516376900071...   \n",
       "4       [(2, 0.030451784805766515), (8, 0.473060193932...   \n",
       "...                                                   ...   \n",
       "221569  [(2, 0.005990920965347929), (3, 0.227682171168...   \n",
       "221570  [(2, 0.0085888069800516), (3, 0.32641362359475...   \n",
       "221571  [(0, 0.27243957135183583), (1, 0.2725518874840...   \n",
       "221572  [(0, 0.27243957135183583), (1, 0.2725518874840...   \n",
       "221573  [(2, 0.006761267741986819), (17, 0.00908289129...   \n",
       "\n",
       "                                          Topic_tfidf_lda  \\\n",
       "0       0.199*\"nric\" + 0.130*\"date\" + 0.085*\"birth\" + ...   \n",
       "1       0.199*\"nric\" + 0.130*\"date\" + 0.085*\"birth\" + ...   \n",
       "2       0.162*\"yob\" + 0.111*\"year\" + 0.073*\"birth\" + 0...   \n",
       "3       0.199*\"nric\" + 0.130*\"date\" + 0.085*\"birth\" + ...   \n",
       "4       0.137*\"name\" + 0.051*\"match\" + 0.039*\"full\" + ...   \n",
       "...                                                   ...   \n",
       "221569  0.199*\"nric\" + 0.130*\"date\" + 0.085*\"birth\" + ...   \n",
       "221570  0.199*\"nric\" + 0.130*\"date\" + 0.085*\"birth\" + ...   \n",
       "221571  0.199*\"nric\" + 0.130*\"date\" + 0.085*\"birth\" + ...   \n",
       "221572  0.199*\"nric\" + 0.130*\"date\" + 0.085*\"birth\" + ...   \n",
       "221573  0.027*\"transaction\" + 0.026*\"apex\" + 0.024*\"in...   \n",
       "\n",
       "                            All_Topic_tfidf_Probabilities  TF_tfidf_Topic_No  \\\n",
       "0       [(0, 0.037396688), (1, 0.03744973), (2, 0.0373...                  4   \n",
       "1       [(0, 0.037396688), (1, 0.037449747), (2, 0.037...                  4   \n",
       "2       [(0, 0.038604278), (1, 0.038610753), (2, 0.038...                  3   \n",
       "3       [(0, 0.037396688), (1, 0.037449766), (2, 0.037...                  4   \n",
       "4       [(0, 0.037577048), (1, 0.040632684), (2, 0.037...                 17   \n",
       "...                                                   ...                ...   \n",
       "221569  [(0, 0.02934474), (1, 0.031117253), (2, 0.0294...                  4   \n",
       "221570  [(0, 0.031628136), (1, 0.033863842), (2, 0.031...                  4   \n",
       "221571  [(0, 0.03383267), (1, 0.033776768), (2, 0.0337...                  4   \n",
       "221572  [(0, 0.03383269), (1, 0.03377677), (2, 0.03370...                  4   \n",
       "221573  [(0, 0.028120633), (1, 0.028171279), (2, 0.028...                  8   \n",
       "\n",
       "                                       TF IDF Topic words  \n",
       "0       ['nric', 'date', 'birth', 'number', 'd', 'i', ...  \n",
       "1       ['nric', 'date', 'birth', 'number', 'd', 'i', ...  \n",
       "2       ['yob', 'year', 'birth', 'infer', 'bear', 'ref...  \n",
       "3       ['nric', 'date', 'birth', 'number', 'd', 'i', ...  \n",
       "4       ['name', 'match', 'full', 'passport', 'similar...  \n",
       "...                                                   ...  \n",
       "221569  ['nric', 'date', 'birth', 'number', 'd', 'i', ...  \n",
       "221570  ['nric', 'date', 'birth', 'number', 'd', 'i', ...  \n",
       "221571  ['nric', 'date', 'birth', 'number', 'd', 'i', ...  \n",
       "221572  ['nric', 'date', 'birth', 'number', 'd', 'i', ...  \n",
       "221573  ['transaction', 'apex', 'involvement_money_lau...  \n",
       "\n",
       "[221574 rows x 10 columns]"
      ]
     },
     "execution_count": 7,
     "metadata": {},
     "output_type": "execute_result"
    }
   ],
   "source": [
    "df"
   ]
  },
  {
   "cell_type": "code",
   "execution_count": 8,
   "id": "daf6e188",
   "metadata": {},
   "outputs": [],
   "source": [
    "df[\"V_COMMENTS_2\"]=df[\"V_COMMENTS_2\"].apply(lambda x:\"\" if pd.isna(x) else x)\n",
    "df=df[df[\"V_COMMENTS_2\"].apply(lambda x: len(x)!=0)]"
   ]
  },
  {
   "cell_type": "code",
   "execution_count": 9,
   "id": "1afcd323",
   "metadata": {},
   "outputs": [
    {
     "data": {
      "text/plain": [
       "array([<class 'str'>], dtype=object)"
      ]
     },
     "execution_count": 9,
     "metadata": {},
     "output_type": "execute_result"
    }
   ],
   "source": [
    "df[\"V_COMMENTS_2\"].apply(lambda x: type(x)).unique()"
   ]
  },
  {
   "cell_type": "code",
   "execution_count": 10,
   "id": "6db18c37",
   "metadata": {},
   "outputs": [],
   "source": [
    "# df[\"Topic\"].apply(lambda x:pd.isna(x))\n",
    "df[\"Tokens\"]=df[\"Tokens\"].apply(lambda x: ast.literal_eval(x))"
   ]
  },
  {
   "cell_type": "code",
   "execution_count": 11,
   "id": "52235b67",
   "metadata": {},
   "outputs": [],
   "source": [
    "\n",
    "df=df[df[\"Tokens\"].apply(lambda x: len(x)!=0)]"
   ]
  },
  {
   "cell_type": "code",
   "execution_count": 12,
   "id": "00a5412c",
   "metadata": {},
   "outputs": [
    {
     "data": {
      "text/plain": [
       "(221531, 10)"
      ]
     },
     "execution_count": 12,
     "metadata": {},
     "output_type": "execute_result"
    }
   ],
   "source": [
    "df.shape"
   ]
  },
  {
   "cell_type": "code",
   "execution_count": 13,
   "id": "1bce6798",
   "metadata": {},
   "outputs": [
    {
     "data": {
      "text/plain": [
       "TF_tfidf_Topic_No\n",
       "6     41846\n",
       "3     31042\n",
       "14    25252\n",
       "4     18335\n",
       "8     15784\n",
       "5     13528\n",
       "10    12982\n",
       "17    10520\n",
       "16     9395\n",
       "0      9305\n",
       "1      8627\n",
       "9      6395\n",
       "12     5418\n",
       "11     4608\n",
       "19     2773\n",
       "7      1916\n",
       "15     1124\n",
       "2      1070\n",
       "18      953\n",
       "13      658\n",
       "Name: count, dtype: int64"
      ]
     },
     "execution_count": 13,
     "metadata": {},
     "output_type": "execute_result"
    }
   ],
   "source": [
    "df_groups=df.groupby(\"TF_tfidf_Topic_No\")\n",
    "df[\"TF_tfidf_Topic_No\"].value_counts().sort_values(ascending=False)"
   ]
  },
  {
   "cell_type": "markdown",
   "id": "884ccf25",
   "metadata": {},
   "source": [
    "## PCA "
   ]
  },
  {
   "cell_type": "code",
   "execution_count": 26,
   "id": "056b3c13",
   "metadata": {},
   "outputs": [],
   "source": [
    "# importing all necessary modules\n",
    "from gensim.models import Word2Vec\n",
    "import gensim\n",
    "from nltk.tokenize import sent_tokenize, word_tokenize\n",
    "from sklearn.metrics.pairwise import cosine_similarity\n",
    "import matplotlib.pyplot as plt\n",
    "import seaborn as sns\n",
    "from sklearn.decomposition import PCA"
   ]
  },
  {
   "cell_type": "code",
   "execution_count": 28,
   "id": "45f5bc74",
   "metadata": {},
   "outputs": [],
   "source": [
    "model1= gensim.models.Word2Vec(df[\"Tokens\"].to_list(), min_count=1,\n",
    "                                vector_size=100, window=5,sg=0)"
   ]
  },
  {
   "cell_type": "code",
   "execution_count": 31,
   "id": "772b9545",
   "metadata": {},
   "outputs": [],
   "source": [
    "df[\"Word2vec\"]=df[\"Tokens\"].apply(lambda x: np.mean(np.array([ model1.wv[token] for token in x]),axis=0))"
   ]
  },
  {
   "cell_type": "code",
   "execution_count": 43,
   "id": "233a129e",
   "metadata": {},
   "outputs": [],
   "source": [
    "# df[\"Word2vec\"].values\n",
    "pca = PCA(n_components=10)\n",
    "# df[\"Word2vec\"].values\n",
    "word_vectors_pca = pca.fit_transform(df[\"Word2vec\"].to_list())"
   ]
  },
  {
   "cell_type": "code",
   "execution_count": 45,
   "id": "df548590",
   "metadata": {
    "scrolled": true
   },
   "outputs": [
    {
     "name": "stdout",
     "output_type": "stream",
     "text": [
      "Explained variance ratio: [0.32893946 0.10619583 0.09285171 0.0618923  0.04593469 0.03966629\n",
      " 0.03249641 0.02190066 0.01851373 0.01787907]\n"
     ]
    }
   ],
   "source": [
    "# Step 3: Analysis\n",
    "# Let's print the explained variance ratio\n",
    "print(\"Explained variance ratio:\", pca.explained_variance_ratio_)"
   ]
  },
  {
   "cell_type": "code",
   "execution_count": 48,
   "id": "7caa6e12",
   "metadata": {
    "scrolled": true
   },
   "outputs": [
    {
     "data": {
      "text/plain": [
       "[<matplotlib.lines.Line2D at 0x1fa1c0a9e20>]"
      ]
     },
     "execution_count": 48,
     "metadata": {},
     "output_type": "execute_result"
    },
    {
     "data": {
      "image/png": "[encoded data removed]",
      "text/plain": [
       "<Figure size 432x288 with 1 Axes>"
      ]
     },
     "metadata": {
      "needs_background": "light"
     },
     "output_type": "display_data"
    }
   ],
   "source": [
    "plt.plot(range(10),pca.explained_variance_ratio_)"
   ]
  },
  {
   "cell_type": "code",
   "execution_count": 49,
   "id": "06912137",
   "metadata": {
    "scrolled": true
   },
   "outputs": [
    {
     "name": "stdout",
     "output_type": "stream",
     "text": [
      "Explained variance ratio: [0.32893946 0.10619583 0.09285171 0.0618923  0.04593469 0.03966629]\n"
     ]
    }
   ],
   "source": [
    "# df[\"Word2vec\"].values\n",
    "pca = PCA(n_components=6)\n",
    "# df[\"Word2vec\"].values\n",
    "word_vectors_pca = pca.fit_transform(df[\"Word2vec\"].to_list())\n",
    "# Step 3: Analysis\n",
    "# Let's print the explained variance ratio\n",
    "print(\"Explained variance ratio:\", pca.explained_variance_ratio_)"
   ]
  },
  {
   "cell_type": "code",
   "execution_count": 52,
   "id": "811b7f4e",
   "metadata": {},
   "outputs": [
    {
     "data": {
      "text/plain": [
       "array([[ 7.48167825, -4.24017812,  2.92002065,  2.24236781,  0.84839094,\n",
       "        -3.88808636],\n",
       "       [ 7.48167825, -4.24017812,  2.92002065,  2.24236781,  0.84839094,\n",
       "        -3.88808636],\n",
       "       [ 7.004845  ,  3.28103374, -3.32474375,  0.02597638, -0.77069614,\n",
       "        -1.3630854 ],\n",
       "       ...,\n",
       "       [ 1.98055645, -3.31149697,  2.05781643,  3.13437159,  1.48935763,\n",
       "        -1.97629894],\n",
       "       [ 1.98055645, -3.31149697,  2.05781643,  3.13437159,  1.48935763,\n",
       "        -1.97629894],\n",
       "       [-3.24005606,  2.94727156,  2.99183448,  1.78363064, -0.27862331,\n",
       "        -0.50307852]])"
      ]
     },
     "execution_count": 52,
     "metadata": {},
     "output_type": "execute_result"
    }
   ],
   "source": [
    "word_vectors_pca"
   ]
  },
  {
   "cell_type": "code",
   "execution_count": 53,
   "id": "c735e1ff",
   "metadata": {},
   "outputs": [],
   "source": [
    "\n",
    "# # Step 4: Visualize the transformed data\n",
    "# import matplotlib.pyplot as plt\n",
    "\n",
    "# plt.figure(figsize=(8, 6))\n",
    "# for i in range(len(word_vectors_pca)):\n",
    "#     plt.scatter(word_vectors_pca[i, 0], word_vectors_pca[i, 1], label=f\"Sentence {i+1}\")\n",
    "\n",
    "# plt.xlabel(\"Principal Component 1\")\n",
    "# plt.ylabel(\"Principal Component 2\")\n",
    "# plt.legend()\n",
    "# plt.title(\"PCA on Word2Vec Embeddings\")\n",
    "# plt.show()\n",
    "\n",
    "\n",
    "\n"
   ]
  },
  {
   "cell_type": "code",
   "execution_count": 56,
   "id": "77c6950b",
   "metadata": {},
   "outputs": [
    {
     "data": {
      "text/plain": [
       "array(['mismatch id number nric', 'mismatch id number nric',\n",
       "       'mismatch year birth yob', ...,\n",
       "       'mismatch id number nric  watch person bank customer nric gcif  pep transaction apex  customers nric',\n",
       "       'mismatch id number nric  watch person bank customer nric gcif  pep transaction apex  customers nric',\n",
       "       'mismatch profile adverse news reported detained punjab police patiala alleged involvement planning terror acts target killings  case registered unlawful activities prevention act  information reported apex account customer shows active transaction since  hence highly unlikely watchperson customer '],\n",
       "      dtype=object)"
      ]
     },
     "execution_count": 56,
     "metadata": {},
     "output_type": "execute_result"
    }
   ],
   "source": []
  },
  {
   "cell_type": "markdown",
   "id": "b563a2b8",
   "metadata": {},
   "source": [
    "## Truncated SVD"
   ]
  },
  {
   "cell_type": "code",
   "execution_count": 14,
   "id": "82f66c54",
   "metadata": {},
   "outputs": [],
   "source": [
    "from sklearn.decomposition import TruncatedSVD\n",
    "from sklearn.feature_extraction.text import TfidfVectorizer\n",
    "\n",
    "\n",
    "\n",
    "# Step 1: Vectorize the text data\n",
    "vectorizer = TfidfVectorizer()\n",
    "X = vectorizer.fit_transform(df[\"V_COMMENTS_2\"].values)"
   ]
  },
  {
   "cell_type": "code",
   "execution_count": 15,
   "id": "8274803d",
   "metadata": {},
   "outputs": [],
   "source": [
    "# Step 2: Apply Truncated SVD\n",
    "n_components = 2  # Number of components to keep\n",
    "svd = TruncatedSVD(n_components=30)\n",
    "X_svd = svd.fit_transform(X)"
   ]
  },
  {
   "cell_type": "code",
   "execution_count": 16,
   "id": "aea0c8f5",
   "metadata": {},
   "outputs": [
    {
     "name": "stdout",
     "output_type": "stream",
     "text": [
      "Explained variance ratio: [0.04463212 0.03858759 0.02387768 0.02941527 0.02057811 0.01794788\n",
      " 0.01663789 0.01416847 0.01301057 0.01114032 0.00981412 0.00965121\n",
      " 0.00921514 0.00889325 0.00809416 0.0077823  0.00654437 0.00615887\n",
      " 0.00610205 0.00583422 0.00532075 0.00492994 0.00479775 0.00471826\n",
      " 0.00457355 0.00443979 0.00422304 0.00411106 0.00405652 0.00378432]\n"
     ]
    }
   ],
   "source": [
    "\n",
    "# Step 3: Analysis\n",
    "# Let's print the explained variance ratio\n",
    "print(\"Explained variance ratio:\", svd.explained_variance_ratio_)"
   ]
  },
  {
   "cell_type": "code",
   "execution_count": 17,
   "id": "b2702112",
   "metadata": {
    "scrolled": true
   },
   "outputs": [
    {
     "data": {
      "text/plain": [
       "[<matplotlib.lines.Line2D at 0x22901742b50>]"
      ]
     },
     "execution_count": 17,
     "metadata": {},
     "output_type": "execute_result"
    },
    {
     "data": {
      "image/png": "[encoded data removed]",
      "text/plain": [
       "<Figure size 640x480 with 1 Axes>"
      ]
     },
     "metadata": {},
     "output_type": "display_data"
    }
   ],
   "source": [
    "plt.plot(range(30),svd.explained_variance_ratio_)"
   ]
  },
  {
   "cell_type": "code",
   "execution_count": 76,
   "id": "2bf2514f",
   "metadata": {
    "scrolled": true
   },
   "outputs": [
    {
     "data": {
      "text/plain": [
       "array([[ 1.94233854e-04,  2.36771292e-06,  1.91767434e-06, ...,\n",
       "         9.63863059e-06,  1.75765554e-05,  2.38590622e-05],\n",
       "       [ 4.39055848e-04,  5.44603877e-06,  2.63190286e-06, ...,\n",
       "         1.50159519e-05,  2.66035991e-05,  4.47116361e-05],\n",
       "       [ 7.75378989e-05,  2.46999007e-06,  3.15150629e-06, ...,\n",
       "         1.00313228e-05,  1.91295511e-05,  3.45455129e-05],\n",
       "       ...,\n",
       "       [ 5.24514450e-04, -6.82325023e-06,  4.13494592e-05, ...,\n",
       "         1.13918633e-04,  2.00742424e-04,  4.03339945e-04],\n",
       "       [-1.00272000e-04,  1.43997230e-05,  2.03183136e-05, ...,\n",
       "         1.06939485e-04,  1.81030452e-04,  3.83474010e-04],\n",
       "       [ 2.39988629e-05,  1.58539339e-06, -5.67742901e-05, ...,\n",
       "        -1.36148068e-04, -2.21719103e-04, -5.24447222e-04]])"
      ]
     },
     "execution_count": 76,
     "metadata": {},
     "output_type": "execute_result"
    }
   ],
   "source": [
    "svd.components_"
   ]
  },
  {
   "cell_type": "code",
   "execution_count": 19,
   "id": "be8fb228",
   "metadata": {},
   "outputs": [],
   "source": [
    "components=svd.components_\n",
    "vocab = vectorizer.get_feature_names_out()"
   ]
  },
  {
   "cell_type": "code",
   "execution_count": 20,
   "id": "0600ba62-c509-4227-b30a-7b05e574feaa",
   "metadata": {},
   "outputs": [],
   "source": [
    "# Extract top words for each topic\n",
    "n_top_words = 10\n",
    "terms = vectorizer.get_feature_names_out()\n",
    "\n",
    "def get_topics(components, feature_names, n_top_words):\n",
    "    topics = []\n",
    "    for topic_idx, topic in enumerate(components):\n",
    "        top_features_ind = topic.argsort()[:-n_top_words - 1:-1]\n",
    "        top_features = [feature_names[i] for i in top_features_ind]\n",
    "        topics.append(top_features)\n",
    "    return topics\n",
    "\n",
    "topics = get_topics(svd.components_, terms, n_top_words)"
   ]
  },
  {
   "cell_type": "code",
   "execution_count": 25,
   "id": "9ec2c0e1-b605-48d9-ade4-e99d9214509f",
   "metadata": {},
   "outputs": [
    {
     "data": {
      "text/plain": [
       "array(['mismatch id number nric', 'mismatch id number nric',\n",
       "       'mismatch year birth yob', ...,\n",
       "       'mismatch id number nric  watch person bank customer nric gcif  pep transaction apex  customers nric',\n",
       "       'mismatch id number nric  watch person bank customer nric gcif  pep transaction apex  customers nric',\n",
       "       'mismatch profile adverse news reported detained punjab police patiala alleged involvement planning terror acts target killings  case registered unlawful activities prevention act  information reported apex account customer shows active transaction since  hence highly unlikely watchperson customer '],\n",
       "      dtype=object)"
      ]
     },
     "execution_count": 25,
     "metadata": {},
     "output_type": "execute_result"
    }
   ],
   "source": []
  },
  {
   "cell_type": "code",
   "execution_count": 22,
   "id": "23858333-9e99-45eb-b240-6c49a1fcc049",
   "metadata": {},
   "outputs": [
    {
     "name": "stdout",
     "output_type": "stream",
     "text": [
      "[['yob', 'birth', 'year', 'mismatch', 'customer', 'inferred', 'watch', 'watchperson', 'nric', 'date'], ['nric', 'date', 'dob', 'person', 'watch', 'customer', 'number', 'name', 'id', 'trinity'], ['reported', 'customer', 'unlikely', 'watchperson', 'profile', 'account', 'highly', 'malaysia', 'secretary', 'years'], ['dob', 'within', 'range', 'possible', 'fall', 'tool', 'cscdd', 'refer', 'calculator', 'date'], ['name', 'match', 'full', 'fathers', 'sound', 'similar', 'customers', 'passport', 'dob', 'yob'], ['years', 'birth', 'date', 'already', 'name', 'born', 'age', 'year', 'old', 'full'], ['years', 'trinity', 'already', 'nric', 'id', 'age', 'old', 'number', 'born', 'year'], ['refer', 'watchperson', 'vs', 'refinitiv', 'born', 'year', 'id', 'number', 'birth', 'watchpersons'], ['relationship', 'deemed', 'news', 'happened', 'relevant', 'ago', 'updaterecurrence', 'incident', 'business', 'refer'], ['reported', 'secretary', 'deputy', 'ministry', 'age', 'vs', 'already', 'years', 'match', 'refer'], ['fathers', 'born', 'reported', 'customers', 'date', 'secretary', 'father', 'watchpersons', 'passport', 'comparison'], ['born', 'match', 'full', 'sound', 'similar', 'pep', 'inferred', 'son', 'old', 'deemed'], ['member', 'pep', 'refer', 'fathers', 'work', 'watch', 'within', 'person', 'hluttaw', 'spouse'], ['world', 'check', 'dob', 'work', 'match', 'per', 'inferred', 'pep', 'number', 'member'], ['old', 'dob', 'years', 'age', 'member', 'pep', 'yob', 'yobage', 'worldcheck', 'malaysia'], ['match', 'refer', 'nric', 'gender', 'inferred', 'within', 'name', 'nationality', 'fathers', 'year'], ['inferred', 'refer', 'whereas', 'malaysia', 'sound', 'watchperson', 'work', 'labourer', 'similar', 'already'], ['refinitiv', 'match', 'hence', 'work', 'yob', 'yobage', 'nric', 'meanwhile', 'unlikely', 'highly'], ['old', 'inferred', 'watchperson', 'yobage', 'hence', 'customer', 'soe', 'member', 'board', 'vs'], ['number', 'id', 'per', 'work', 'refer', 'passport', 'worldcheck', 'uco', 'pep', 'yob'], ['refinitiv', 'vs', 'pep', 'son', 'inferred', 'watch', 'age', 'number', 'born', 'yobage'], ['per', 'worldcheck', 'soe', 'profile', 'board', 'born', 'directors', 'already', 'ltd', 'different'], ['trinity', 'old', 'as', 'per', 'person', 'discounting', 'year', 'number', 'different', 'native'], ['hluttaw', 'defence', 'personnel', 'representing', 'services', 'region', 'two', 'different', 'manufacturing', 'time'], ['number', 'customers', 'passport', 'id', 'issued', 'watch', 'persons', 'according', 'refinitiv', 'member'], ['labourers', 'hence', 'imprisonment', 'sentenced', 'number', 'highly', 'id', 'farming', 'fishery', 'forestry'], ['watchpersons', 'rm', 'refinitiv', 'uco', 'based', 'income', 'working', 'two', 'different', 'comparison'], ['vs', 'rm', 'worldcheck', 'old', 'issued', 'involvement', 'income', 'forestry', 'agricultural', 'farming'], ['imprisonment', 'sentenced', 'gbffspfquickidfd', 'fined', 'host', 'based', 'old', 'location', 'profileoccupation', 'year'], ['native', 'character', 'vs', 'account', 'old', 'agricultural', 'farming', 'fishery', 'forestry', 'customers']]\n"
     ]
    }
   ],
   "source": [
    "print(topics)"
   ]
  },
  {
   "cell_type": "code",
   "execution_count": 26,
   "id": "f7bc7c0c-9a86-40c2-af0c-eff5f596ab5c",
   "metadata": {},
   "outputs": [],
   "source": [
    "# Create a Gensim dictionary and corpus for coherence calculation\n",
    "texts = [doc.split() for doc in df[\"V_COMMENTS_2\"].values]\n",
    "dictionary = Dictionary(texts)\n",
    "corpus = [dictionary.doc2bow(text) for text in texts]"
   ]
  },
  {
   "cell_type": "code",
   "execution_count": 27,
   "id": "9e225643-8cfd-43a4-b898-72b3d82a0f27",
   "metadata": {},
   "outputs": [
    {
     "name": "stdout",
     "output_type": "stream",
     "text": [
      "Topics:\n",
      "Topic 1: ['yob', 'birth', 'year', 'mismatch', 'customer', 'inferred', 'watch', 'watchperson', 'nric', 'date']\n",
      "Topic 2: ['nric', 'date', 'dob', 'person', 'watch', 'customer', 'number', 'name', 'id', 'trinity']\n",
      "Topic 3: ['reported', 'customer', 'unlikely', 'watchperson', 'profile', 'account', 'highly', 'malaysia', 'secretary', 'years']\n",
      "Topic 4: ['dob', 'within', 'range', 'possible', 'fall', 'tool', 'cscdd', 'refer', 'calculator', 'date']\n",
      "Topic 5: ['name', 'match', 'full', 'fathers', 'sound', 'similar', 'customers', 'passport', 'dob', 'yob']\n",
      "Topic 6: ['years', 'birth', 'date', 'already', 'name', 'born', 'age', 'year', 'old', 'full']\n",
      "Topic 7: ['years', 'trinity', 'already', 'nric', 'id', 'age', 'old', 'number', 'born', 'year']\n",
      "Topic 8: ['refer', 'watchperson', 'vs', 'refinitiv', 'born', 'year', 'id', 'number', 'birth', 'watchpersons']\n",
      "Topic 9: ['relationship', 'deemed', 'news', 'happened', 'relevant', 'ago', 'updaterecurrence', 'incident', 'business', 'refer']\n",
      "Topic 10: ['reported', 'secretary', 'deputy', 'ministry', 'age', 'vs', 'already', 'years', 'match', 'refer']\n",
      "Topic 11: ['fathers', 'born', 'reported', 'customers', 'date', 'secretary', 'father', 'watchpersons', 'passport', 'comparison']\n",
      "Topic 12: ['born', 'match', 'full', 'sound', 'similar', 'pep', 'inferred', 'son', 'old', 'deemed']\n",
      "Topic 13: ['member', 'pep', 'refer', 'fathers', 'work', 'watch', 'within', 'person', 'hluttaw', 'spouse']\n",
      "Topic 14: ['world', 'check', 'dob', 'work', 'match', 'per', 'inferred', 'pep', 'number', 'member']\n",
      "Topic 15: ['old', 'dob', 'years', 'age', 'member', 'pep', 'yob', 'yobage', 'worldcheck', 'malaysia']\n",
      "Topic 16: ['match', 'refer', 'nric', 'gender', 'inferred', 'within', 'name', 'nationality', 'fathers', 'year']\n",
      "Topic 17: ['inferred', 'refer', 'whereas', 'malaysia', 'sound', 'watchperson', 'work', 'labourer', 'similar', 'already']\n",
      "Topic 18: ['refinitiv', 'match', 'hence', 'work', 'yob', 'yobage', 'nric', 'meanwhile', 'unlikely', 'highly']\n",
      "Topic 19: ['old', 'inferred', 'watchperson', 'yobage', 'hence', 'customer', 'soe', 'member', 'board', 'vs']\n",
      "Topic 20: ['number', 'id', 'per', 'work', 'refer', 'passport', 'worldcheck', 'uco', 'pep', 'yob']\n",
      "Topic 21: ['refinitiv', 'vs', 'pep', 'son', 'inferred', 'watch', 'age', 'number', 'born', 'yobage']\n",
      "Topic 22: ['per', 'worldcheck', 'soe', 'profile', 'board', 'born', 'directors', 'already', 'ltd', 'different']\n",
      "Topic 23: ['trinity', 'old', 'as', 'per', 'person', 'discounting', 'year', 'number', 'different', 'native']\n",
      "Topic 24: ['hluttaw', 'defence', 'personnel', 'representing', 'services', 'region', 'two', 'different', 'manufacturing', 'time']\n",
      "Topic 25: ['number', 'customers', 'passport', 'id', 'issued', 'watch', 'persons', 'according', 'refinitiv', 'member']\n",
      "Topic 26: ['labourers', 'hence', 'imprisonment', 'sentenced', 'number', 'highly', 'id', 'farming', 'fishery', 'forestry']\n",
      "Topic 27: ['watchpersons', 'rm', 'refinitiv', 'uco', 'based', 'income', 'working', 'two', 'different', 'comparison']\n",
      "Topic 28: ['vs', 'rm', 'worldcheck', 'old', 'issued', 'involvement', 'income', 'forestry', 'agricultural', 'farming']\n",
      "Topic 29: ['imprisonment', 'sentenced', 'gbffspfquickidfd', 'fined', 'host', 'based', 'old', 'location', 'profileoccupation', 'year']\n",
      "Topic 30: ['native', 'character', 'vs', 'account', 'old', 'agricultural', 'farming', 'fishery', 'forestry', 'customers']\n",
      "\n",
      "Coherence Score: 0.42218465300204905\n"
     ]
    }
   ],
   "source": [
    "# Calculate coherence score using Gensim's CoherenceModel\n",
    "coherence_model = CoherenceModel(\n",
    "    topics=topics,\n",
    "    texts=texts,\n",
    "    dictionary=dictionary,\n",
    "    coherence='c_v'  # You can also use 'u_mass', 'c_uci', 'c_npmi'\n",
    ")\n",
    "coherence_score = coherence_model.get_coherence()\n",
    "\n",
    "print(\"Topics:\")\n",
    "for i, topic in enumerate(topics):\n",
    "    print(f\"Topic {i + 1}: {topic}\")\n",
    "\n",
    "print(\"\\nCoherence Score:\", coherence_score)"
   ]
  },
  {
   "cell_type": "code",
   "execution_count": 28,
   "id": "e6fba10e-a569-4463-bcae-82176d6d8332",
   "metadata": {
    "scrolled": true
   },
   "outputs": [
    {
     "name": "stdout",
     "output_type": "stream",
     "text": [
      "Topics:\n",
      "Topic 1: ['yob', 'birth', 'year', 'mismatch', 'customer', 'inferred', 'watch', 'watchperson', 'nric', 'date']\n",
      "Topic 2: ['nric', 'date', 'dob', 'person', 'watch', 'customer', 'number', 'name', 'id', 'trinity']\n",
      "Topic 3: ['reported', 'customer', 'unlikely', 'watchperson', 'profile', 'account', 'highly', 'malaysia', 'secretary', 'years']\n",
      "Topic 4: ['dob', 'within', 'range', 'possible', 'fall', 'tool', 'cscdd', 'refer', 'calculator', 'date']\n",
      "Topic 5: ['name', 'match', 'full', 'fathers', 'sound', 'similar', 'customers', 'passport', 'dob', 'yob']\n",
      "Topic 6: ['years', 'birth', 'date', 'already', 'name', 'born', 'age', 'year', 'old', 'full']\n",
      "Topic 7: ['years', 'trinity', 'already', 'nric', 'id', 'age', 'old', 'number', 'born', 'year']\n",
      "Topic 8: ['refer', 'watchperson', 'vs', 'refinitiv', 'born', 'year', 'id', 'number', 'birth', 'watchpersons']\n",
      "Topic 9: ['relationship', 'deemed', 'news', 'happened', 'relevant', 'ago', 'updaterecurrence', 'incident', 'business', 'refer']\n",
      "Topic 10: ['reported', 'secretary', 'deputy', 'ministry', 'age', 'vs', 'already', 'years', 'match', 'refer']\n",
      "Topic 11: ['fathers', 'born', 'reported', 'customers', 'date', 'secretary', 'father', 'watchpersons', 'passport', 'comparison']\n",
      "Topic 12: ['born', 'match', 'full', 'sound', 'similar', 'pep', 'inferred', 'son', 'old', 'deemed']\n",
      "Topic 13: ['member', 'pep', 'refer', 'fathers', 'work', 'watch', 'within', 'person', 'hluttaw', 'spouse']\n",
      "Topic 14: ['world', 'check', 'dob', 'work', 'match', 'per', 'inferred', 'pep', 'number', 'member']\n",
      "Topic 15: ['old', 'dob', 'years', 'age', 'member', 'pep', 'yob', 'yobage', 'worldcheck', 'malaysia']\n",
      "Topic 16: ['match', 'refer', 'nric', 'gender', 'inferred', 'within', 'name', 'nationality', 'fathers', 'year']\n",
      "Topic 17: ['inferred', 'refer', 'whereas', 'malaysia', 'sound', 'watchperson', 'work', 'labourer', 'similar', 'already']\n",
      "Topic 18: ['refinitiv', 'match', 'hence', 'work', 'yob', 'yobage', 'nric', 'meanwhile', 'unlikely', 'highly']\n",
      "Topic 19: ['old', 'inferred', 'watchperson', 'yobage', 'hence', 'customer', 'soe', 'member', 'board', 'vs']\n",
      "Topic 20: ['number', 'id', 'per', 'work', 'refer', 'passport', 'worldcheck', 'uco', 'pep', 'yob']\n",
      "Topic 21: ['refinitiv', 'vs', 'pep', 'son', 'inferred', 'watch', 'age', 'number', 'born', 'yobage']\n",
      "Topic 22: ['per', 'worldcheck', 'soe', 'profile', 'board', 'born', 'directors', 'already', 'ltd', 'different']\n",
      "Topic 23: ['trinity', 'old', 'as', 'per', 'person', 'discounting', 'year', 'number', 'different', 'native']\n",
      "Topic 24: ['hluttaw', 'defence', 'personnel', 'representing', 'services', 'region', 'two', 'different', 'manufacturing', 'time']\n",
      "Topic 25: ['number', 'customers', 'passport', 'id', 'issued', 'watch', 'persons', 'according', 'refinitiv', 'member']\n",
      "Topic 26: ['labourers', 'hence', 'imprisonment', 'sentenced', 'number', 'highly', 'id', 'farming', 'fishery', 'forestry']\n",
      "Topic 27: ['watchpersons', 'rm', 'refinitiv', 'uco', 'based', 'income', 'working', 'two', 'different', 'comparison']\n",
      "Topic 28: ['vs', 'rm', 'worldcheck', 'old', 'issued', 'involvement', 'income', 'forestry', 'agricultural', 'farming']\n",
      "Topic 29: ['imprisonment', 'sentenced', 'gbffspfquickidfd', 'fined', 'host', 'based', 'old', 'location', 'profileoccupation', 'year']\n",
      "Topic 30: ['native', 'character', 'vs', 'account', 'old', 'agricultural', 'farming', 'fishery', 'forestry', 'customers']\n",
      "\n",
      "Coherence Score: 0.4360688601663719\n"
     ]
    }
   ],
   "source": [
    "# Calculate coherence score using Gensim's CoherenceModel\n",
    "coherence_model = CoherenceModel(\n",
    "    topics=topics[:20],\n",
    "    texts=texts,\n",
    "    dictionary=dictionary,\n",
    "    coherence='c_v'  # You can also use 'u_mass', 'c_uci', 'c_npmi'\n",
    ")\n",
    "coherence_score = coherence_model.get_coherence()\n",
    "\n",
    "print(\"Topics:\")\n",
    "for i, topic in enumerate(topics):\n",
    "    print(f\"Topic {i + 1}: {topic}\")\n",
    "\n",
    "print(\"\\nCoherence Score:\", coherence_score)"
   ]
  },
  {
   "cell_type": "code",
   "execution_count": 80,
   "id": "34d25067",
   "metadata": {
    "scrolled": true
   },
   "outputs": [
    {
     "data": {
      "text/html": [
       "<div>\n",
       "<style scoped>\n",
       "    .dataframe tbody tr th:only-of-type {\n",
       "        vertical-align: middle;\n",
       "    }\n",
       "\n",
       "    .dataframe tbody tr th {\n",
       "        vertical-align: top;\n",
       "    }\n",
       "\n",
       "    .dataframe thead th {\n",
       "        text-align: right;\n",
       "    }\n",
       "</style>\n",
       "<table border=\"1\" class=\"dataframe\">\n",
       "  <thead>\n",
       "    <tr style=\"text-align: right;\">\n",
       "      <th></th>\n",
       "      <th>V_COMMENTS</th>\n",
       "      <th>Counts</th>\n",
       "      <th>V_COMMENTS_2</th>\n",
       "      <th>Tokens</th>\n",
       "      <th>id_2_feature</th>\n",
       "      <th>TFIDF_Feature</th>\n",
       "      <th>Topic_tfidf_lda</th>\n",
       "      <th>All_Topic_tfidf_Probabilities</th>\n",
       "      <th>TF_tfidf_Topic_No</th>\n",
       "      <th>TF IDF Topic words</th>\n",
       "      <th>V_COMMENTS_PROCESSED</th>\n",
       "      <th>Word2vec</th>\n",
       "    </tr>\n",
       "  </thead>\n",
       "  <tbody>\n",
       "    <tr>\n",
       "      <th>0</th>\n",
       "      <td>mismatch id number_nric</td>\n",
       "      <td>67150</td>\n",
       "      <td>mismatch id number nric</td>\n",
       "      <td>[mismatch, i, d, number, nric]</td>\n",
       "      <td>[(0, 1), (1, 1), (2, 1), (3, 1), (4, 1)]</td>\n",
       "      <td>[(0, 0.547290750424587), (1, 0.547516376900071...</td>\n",
       "      <td>0.199*\"nric\" + 0.130*\"date\" + 0.085*\"birth\" + ...</td>\n",
       "      <td>[(0, 0.037396688), (1, 0.03744973), (2, 0.0373...</td>\n",
       "      <td>4</td>\n",
       "      <td>['nric', 'date', 'birth', 'number', 'd', 'i', ...</td>\n",
       "      <td>mismatch id number nric</td>\n",
       "      <td>[-3.1662517, 1.3042483, -1.8621927, -0.4221082...</td>\n",
       "    </tr>\n",
       "    <tr>\n",
       "      <th>1</th>\n",
       "      <td>mismatch id number_nric\\n</td>\n",
       "      <td>40137</td>\n",
       "      <td>mismatch id number nric</td>\n",
       "      <td>[mismatch, i, d, number, nric]</td>\n",
       "      <td>[(0, 1), (1, 1), (2, 1), (3, 1), (4, 1)]</td>\n",
       "      <td>[(0, 0.547290750424587), (1, 0.547516376900071...</td>\n",
       "      <td>0.199*\"nric\" + 0.130*\"date\" + 0.085*\"birth\" + ...</td>\n",
       "      <td>[(0, 0.037396688), (1, 0.037449747), (2, 0.037...</td>\n",
       "      <td>4</td>\n",
       "      <td>['nric', 'date', 'birth', 'number', 'd', 'i', ...</td>\n",
       "      <td>mismatch id number nric</td>\n",
       "      <td>[-3.1662517, 1.3042483, -1.8621927, -0.4221082...</td>\n",
       "    </tr>\n",
       "    <tr>\n",
       "      <th>2</th>\n",
       "      <td>mismatch year of birth (yob)</td>\n",
       "      <td>27341</td>\n",
       "      <td>mismatch year birth yob</td>\n",
       "      <td>[mismatch, year, birth, yob]</td>\n",
       "      <td>[(2, 1), (5, 1), (6, 1), (7, 1)]</td>\n",
       "      <td>[(2, 0.06249879031496278), (5, 0.5453915180875...</td>\n",
       "      <td>0.162*\"yob\" + 0.111*\"year\" + 0.073*\"birth\" + 0...</td>\n",
       "      <td>[(0, 0.038604278), (1, 0.038610753), (2, 0.038...</td>\n",
       "      <td>3</td>\n",
       "      <td>['yob', 'year', 'birth', 'infer', 'bear', 'ref...</td>\n",
       "      <td>mismatch year of birth yob</td>\n",
       "      <td>[-2.5767035, 0.70284855, -2.4301593, -0.362365...</td>\n",
       "    </tr>\n",
       "    <tr>\n",
       "      <th>3</th>\n",
       "      <td>mismatch id number_nric</td>\n",
       "      <td>25793</td>\n",
       "      <td>mismatch id number nric</td>\n",
       "      <td>[mismatch, i, d, number, nric]</td>\n",
       "      <td>[(0, 1), (1, 1), (2, 1), (3, 1), (4, 1)]</td>\n",
       "      <td>[(0, 0.547290750424587), (1, 0.547516376900071...</td>\n",
       "      <td>0.199*\"nric\" + 0.130*\"date\" + 0.085*\"birth\" + ...</td>\n",
       "      <td>[(0, 0.037396688), (1, 0.037449766), (2, 0.037...</td>\n",
       "      <td>4</td>\n",
       "      <td>['nric', 'date', 'birth', 'number', 'd', 'i', ...</td>\n",
       "      <td>mismatch id number nric</td>\n",
       "      <td>[-3.1662517, 1.3042483, -1.8621927, -0.4221082...</td>\n",
       "    </tr>\n",
       "    <tr>\n",
       "      <th>4</th>\n",
       "      <td>mismatch full legal name â€“ name does not sou...</td>\n",
       "      <td>19127</td>\n",
       "      <td>mismatch full name sound similar</td>\n",
       "      <td>[mismatch, full, name, sound, similar]</td>\n",
       "      <td>[(2, 1), (8, 1), (9, 1), (10, 1), (11, 1)]</td>\n",
       "      <td>[(2, 0.030451784805766515), (8, 0.473060193932...</td>\n",
       "      <td>0.137*\"name\" + 0.051*\"match\" + 0.039*\"full\" + ...</td>\n",
       "      <td>[(0, 0.037577048), (1, 0.040632684), (2, 0.037...</td>\n",
       "      <td>17</td>\n",
       "      <td>['name', 'match', 'full', 'passport', 'similar...</td>\n",
       "      <td>mismatch full name â name does not sound similar</td>\n",
       "      <td>[-2.2403824, -0.041814663, -1.5657326, 1.15222...</td>\n",
       "    </tr>\n",
       "    <tr>\n",
       "      <th>...</th>\n",
       "      <td>...</td>\n",
       "      <td>...</td>\n",
       "      <td>...</td>\n",
       "      <td>...</td>\n",
       "      <td>...</td>\n",
       "      <td>...</td>\n",
       "      <td>...</td>\n",
       "      <td>...</td>\n",
       "      <td>...</td>\n",
       "      <td>...</td>\n",
       "      <td>...</td>\n",
       "      <td>...</td>\n",
       "    </tr>\n",
       "    <tr>\n",
       "      <th>221569</th>\n",
       "      <td>mismatch - name, nric, date of birth, profile,...</td>\n",
       "      <td>1</td>\n",
       "      <td>mismatch name nric date birth profile customer...</td>\n",
       "      <td>[mismatch, name, nric, date, birth, profile, c...</td>\n",
       "      <td>[(2, 1), (3, 3), (4, 1), (5, 3), (9, 3), (12, ...</td>\n",
       "      <td>[(2, 0.005990920965347929), (3, 0.227682171168...</td>\n",
       "      <td>0.199*\"nric\" + 0.130*\"date\" + 0.085*\"birth\" + ...</td>\n",
       "      <td>[(0, 0.02934474), (1, 0.031117253), (2, 0.0294...</td>\n",
       "      <td>4</td>\n",
       "      <td>['nric', 'date', 'birth', 'number', 'd', 'i', ...</td>\n",
       "      <td>mismatch name nric date of birth profile   cus...</td>\n",
       "      <td>[-1.6347831, 0.092932574, -0.21436688, 0.52262...</td>\n",
       "    </tr>\n",
       "    <tr>\n",
       "      <th>221570</th>\n",
       "      <td>mismatch - name, nric, date of birth, profile,...</td>\n",
       "      <td>1</td>\n",
       "      <td>mismatch name nric date birth profile customer...</td>\n",
       "      <td>[mismatch, name, nric, date, birth, profile, c...</td>\n",
       "      <td>[(2, 1), (3, 3), (4, 1), (5, 3), (9, 3), (12, ...</td>\n",
       "      <td>[(2, 0.0085888069800516), (3, 0.32641362359475...</td>\n",
       "      <td>0.199*\"nric\" + 0.130*\"date\" + 0.085*\"birth\" + ...</td>\n",
       "      <td>[(0, 0.031628136), (1, 0.033863842), (2, 0.031...</td>\n",
       "      <td>4</td>\n",
       "      <td>['nric', 'date', 'birth', 'number', 'd', 'i', ...</td>\n",
       "      <td>mismatch name nric date of birth profile   cus...</td>\n",
       "      <td>[-2.086623, 0.11979292, -0.78680867, 0.4638282...</td>\n",
       "    </tr>\n",
       "    <tr>\n",
       "      <th>221571</th>\n",
       "      <td>mismatch id number_nric. watch person (noraini...</td>\n",
       "      <td>1</td>\n",
       "      <td>mismatch id number nric  watch person bank cus...</td>\n",
       "      <td>[mismatch, i, d, number, nric, watch, person, ...</td>\n",
       "      <td>[(0, 1), (1, 1), (2, 1), (3, 3), (4, 1), (15, ...</td>\n",
       "      <td>[(0, 0.27243957135183583), (1, 0.2725518874840...</td>\n",
       "      <td>0.199*\"nric\" + 0.130*\"date\" + 0.085*\"birth\" + ...</td>\n",
       "      <td>[(0, 0.03383267), (1, 0.033776768), (2, 0.0337...</td>\n",
       "      <td>4</td>\n",
       "      <td>['nric', 'date', 'birth', 'number', 'd', 'i', ...</td>\n",
       "      <td>mismatch id number nric. watch person    is a ...</td>\n",
       "      <td>[-1.6440406, 0.5083484, -0.30340177, 0.2527062...</td>\n",
       "    </tr>\n",
       "    <tr>\n",
       "      <th>221572</th>\n",
       "      <td>mismatch id number_nric. watch person (noraini...</td>\n",
       "      <td>1</td>\n",
       "      <td>mismatch id number nric  watch person bank cus...</td>\n",
       "      <td>[mismatch, i, d, number, nric, watch, person, ...</td>\n",
       "      <td>[(0, 1), (1, 1), (2, 1), (3, 3), (4, 1), (15, ...</td>\n",
       "      <td>[(0, 0.27243957135183583), (1, 0.2725518874840...</td>\n",
       "      <td>0.199*\"nric\" + 0.130*\"date\" + 0.085*\"birth\" + ...</td>\n",
       "      <td>[(0, 0.03383269), (1, 0.03377677), (2, 0.03370...</td>\n",
       "      <td>4</td>\n",
       "      <td>['nric', 'date', 'birth', 'number', 'd', 'i', ...</td>\n",
       "      <td>mismatch id number nric. watch person    is a ...</td>\n",
       "      <td>[-1.6440406, 0.5083484, -0.30340177, 0.2527062...</td>\n",
       "    </tr>\n",
       "    <tr>\n",
       "      <th>221573</th>\n",
       "      <td>mismatch profile - as adverse news reported ju...</td>\n",
       "      <td>1</td>\n",
       "      <td>mismatch profile adverse news reported detaine...</td>\n",
       "      <td>[mismatch, profile, adverse, news, report, det...</td>\n",
       "      <td>[(2, 1), (17, 2), (22, 1), (29, 1), (34, 1), (...</td>\n",
       "      <td>[(2, 0.006761267741986819), (17, 0.00908289129...</td>\n",
       "      <td>0.027*\"transaction\" + 0.026*\"apex\" + 0.024*\"in...</td>\n",
       "      <td>[(0, 0.028120633), (1, 0.028171279), (2, 0.028...</td>\n",
       "      <td>8</td>\n",
       "      <td>['transaction', 'apex', 'involvement_money_lau...</td>\n",
       "      <td>mismatch profile as adverse news reported   de...</td>\n",
       "      <td>[-0.034691557, 0.9693676, -0.3752837, 0.187626...</td>\n",
       "    </tr>\n",
       "  </tbody>\n",
       "</table>\n",
       "<p>221526 rows × 12 columns</p>\n",
       "</div>"
      ],
      "text/plain": [
       "                                               V_COMMENTS  Counts  \\\n",
       "0                                 mismatch id number_nric   67150   \n",
       "1                               mismatch id number_nric\\n   40137   \n",
       "2                            mismatch year of birth (yob)   27341   \n",
       "3                                 mismatch id number_nric   25793   \n",
       "4       mismatch full legal name â€“ name does not sou...   19127   \n",
       "...                                                   ...     ...   \n",
       "221569  mismatch - name, nric, date of birth, profile,...       1   \n",
       "221570  mismatch - name, nric, date of birth, profile,...       1   \n",
       "221571  mismatch id number_nric. watch person (noraini...       1   \n",
       "221572  mismatch id number_nric. watch person (noraini...       1   \n",
       "221573  mismatch profile - as adverse news reported ju...       1   \n",
       "\n",
       "                                             V_COMMENTS_2  \\\n",
       "0                                 mismatch id number nric   \n",
       "1                                 mismatch id number nric   \n",
       "2                                 mismatch year birth yob   \n",
       "3                                 mismatch id number nric   \n",
       "4                        mismatch full name sound similar   \n",
       "...                                                   ...   \n",
       "221569  mismatch name nric date birth profile customer...   \n",
       "221570  mismatch name nric date birth profile customer...   \n",
       "221571  mismatch id number nric  watch person bank cus...   \n",
       "221572  mismatch id number nric  watch person bank cus...   \n",
       "221573  mismatch profile adverse news reported detaine...   \n",
       "\n",
       "                                                   Tokens  \\\n",
       "0                          [mismatch, i, d, number, nric]   \n",
       "1                          [mismatch, i, d, number, nric]   \n",
       "2                            [mismatch, year, birth, yob]   \n",
       "3                          [mismatch, i, d, number, nric]   \n",
       "4                  [mismatch, full, name, sound, similar]   \n",
       "...                                                   ...   \n",
       "221569  [mismatch, name, nric, date, birth, profile, c...   \n",
       "221570  [mismatch, name, nric, date, birth, profile, c...   \n",
       "221571  [mismatch, i, d, number, nric, watch, person, ...   \n",
       "221572  [mismatch, i, d, number, nric, watch, person, ...   \n",
       "221573  [mismatch, profile, adverse, news, report, det...   \n",
       "\n",
       "                                             id_2_feature  \\\n",
       "0                [(0, 1), (1, 1), (2, 1), (3, 1), (4, 1)]   \n",
       "1                [(0, 1), (1, 1), (2, 1), (3, 1), (4, 1)]   \n",
       "2                        [(2, 1), (5, 1), (6, 1), (7, 1)]   \n",
       "3                [(0, 1), (1, 1), (2, 1), (3, 1), (4, 1)]   \n",
       "4              [(2, 1), (8, 1), (9, 1), (10, 1), (11, 1)]   \n",
       "...                                                   ...   \n",
       "221569  [(2, 1), (3, 3), (4, 1), (5, 3), (9, 3), (12, ...   \n",
       "221570  [(2, 1), (3, 3), (4, 1), (5, 3), (9, 3), (12, ...   \n",
       "221571  [(0, 1), (1, 1), (2, 1), (3, 3), (4, 1), (15, ...   \n",
       "221572  [(0, 1), (1, 1), (2, 1), (3, 3), (4, 1), (15, ...   \n",
       "221573  [(2, 1), (17, 2), (22, 1), (29, 1), (34, 1), (...   \n",
       "\n",
       "                                            TFIDF_Feature  \\\n",
       "0       [(0, 0.547290750424587), (1, 0.547516376900071...   \n",
       "1       [(0, 0.547290750424587), (1, 0.547516376900071...   \n",
       "2       [(2, 0.06249879031496278), (5, 0.5453915180875...   \n",
       "3       [(0, 0.547290750424587), (1, 0.547516376900071...   \n",
       "4       [(2, 0.030451784805766515), (8, 0.473060193932...   \n",
       "...                                                   ...   \n",
       "221569  [(2, 0.005990920965347929), (3, 0.227682171168...   \n",
       "221570  [(2, 0.0085888069800516), (3, 0.32641362359475...   \n",
       "221571  [(0, 0.27243957135183583), (1, 0.2725518874840...   \n",
       "221572  [(0, 0.27243957135183583), (1, 0.2725518874840...   \n",
       "221573  [(2, 0.006761267741986819), (17, 0.00908289129...   \n",
       "\n",
       "                                          Topic_tfidf_lda  \\\n",
       "0       0.199*\"nric\" + 0.130*\"date\" + 0.085*\"birth\" + ...   \n",
       "1       0.199*\"nric\" + 0.130*\"date\" + 0.085*\"birth\" + ...   \n",
       "2       0.162*\"yob\" + 0.111*\"year\" + 0.073*\"birth\" + 0...   \n",
       "3       0.199*\"nric\" + 0.130*\"date\" + 0.085*\"birth\" + ...   \n",
       "4       0.137*\"name\" + 0.051*\"match\" + 0.039*\"full\" + ...   \n",
       "...                                                   ...   \n",
       "221569  0.199*\"nric\" + 0.130*\"date\" + 0.085*\"birth\" + ...   \n",
       "221570  0.199*\"nric\" + 0.130*\"date\" + 0.085*\"birth\" + ...   \n",
       "221571  0.199*\"nric\" + 0.130*\"date\" + 0.085*\"birth\" + ...   \n",
       "221572  0.199*\"nric\" + 0.130*\"date\" + 0.085*\"birth\" + ...   \n",
       "221573  0.027*\"transaction\" + 0.026*\"apex\" + 0.024*\"in...   \n",
       "\n",
       "                            All_Topic_tfidf_Probabilities  TF_tfidf_Topic_No  \\\n",
       "0       [(0, 0.037396688), (1, 0.03744973), (2, 0.0373...                  4   \n",
       "1       [(0, 0.037396688), (1, 0.037449747), (2, 0.037...                  4   \n",
       "2       [(0, 0.038604278), (1, 0.038610753), (2, 0.038...                  3   \n",
       "3       [(0, 0.037396688), (1, 0.037449766), (2, 0.037...                  4   \n",
       "4       [(0, 0.037577048), (1, 0.040632684), (2, 0.037...                 17   \n",
       "...                                                   ...                ...   \n",
       "221569  [(0, 0.02934474), (1, 0.031117253), (2, 0.0294...                  4   \n",
       "221570  [(0, 0.031628136), (1, 0.033863842), (2, 0.031...                  4   \n",
       "221571  [(0, 0.03383267), (1, 0.033776768), (2, 0.0337...                  4   \n",
       "221572  [(0, 0.03383269), (1, 0.03377677), (2, 0.03370...                  4   \n",
       "221573  [(0, 0.028120633), (1, 0.028171279), (2, 0.028...                  8   \n",
       "\n",
       "                                       TF IDF Topic words  \\\n",
       "0       ['nric', 'date', 'birth', 'number', 'd', 'i', ...   \n",
       "1       ['nric', 'date', 'birth', 'number', 'd', 'i', ...   \n",
       "2       ['yob', 'year', 'birth', 'infer', 'bear', 'ref...   \n",
       "3       ['nric', 'date', 'birth', 'number', 'd', 'i', ...   \n",
       "4       ['name', 'match', 'full', 'passport', 'similar...   \n",
       "...                                                   ...   \n",
       "221569  ['nric', 'date', 'birth', 'number', 'd', 'i', ...   \n",
       "221570  ['nric', 'date', 'birth', 'number', 'd', 'i', ...   \n",
       "221571  ['nric', 'date', 'birth', 'number', 'd', 'i', ...   \n",
       "221572  ['nric', 'date', 'birth', 'number', 'd', 'i', ...   \n",
       "221573  ['transaction', 'apex', 'involvement_money_lau...   \n",
       "\n",
       "                                     V_COMMENTS_PROCESSED  \\\n",
       "0                                 mismatch id number nric   \n",
       "1                                mismatch id number nric    \n",
       "2                              mismatch year of birth yob   \n",
       "3                                 mismatch id number nric   \n",
       "4        mismatch full name â name does not sound similar   \n",
       "...                                                   ...   \n",
       "221569  mismatch name nric date of birth profile   cus...   \n",
       "221570  mismatch name nric date of birth profile   cus...   \n",
       "221571  mismatch id number nric. watch person    is a ...   \n",
       "221572  mismatch id number nric. watch person    is a ...   \n",
       "221573  mismatch profile as adverse news reported   de...   \n",
       "\n",
       "                                                 Word2vec  \n",
       "0       [-3.1662517, 1.3042483, -1.8621927, -0.4221082...  \n",
       "1       [-3.1662517, 1.3042483, -1.8621927, -0.4221082...  \n",
       "2       [-2.5767035, 0.70284855, -2.4301593, -0.362365...  \n",
       "3       [-3.1662517, 1.3042483, -1.8621927, -0.4221082...  \n",
       "4       [-2.2403824, -0.041814663, -1.5657326, 1.15222...  \n",
       "...                                                   ...  \n",
       "221569  [-1.6347831, 0.092932574, -0.21436688, 0.52262...  \n",
       "221570  [-2.086623, 0.11979292, -0.78680867, 0.4638282...  \n",
       "221571  [-1.6440406, 0.5083484, -0.30340177, 0.2527062...  \n",
       "221572  [-1.6440406, 0.5083484, -0.30340177, 0.2527062...  \n",
       "221573  [-0.034691557, 0.9693676, -0.3752837, 0.187626...  \n",
       "\n",
       "[221526 rows x 12 columns]"
      ]
     },
     "execution_count": 80,
     "metadata": {},
     "output_type": "execute_result"
    }
   ],
   "source": [
    "df"
   ]
  },
  {
   "cell_type": "code",
   "execution_count": null,
   "id": "dcac5217-db06-4915-802d-48824d8ba232",
   "metadata": {},
   "outputs": [],
   "source": [
    "1) Many topics of LSA were common with topics of LDA\n",
    "2) Many topic words were common among several topics like yob , dob , age, name not sounding similiar\n",
    "3) none topic words have transaction related information \n",
    "4) topic coherence score is low in comparison to LDA."
   ]
  },
  {
   "cell_type": "code",
   "execution_count": null,
   "id": "f90252a3-2bee-4d1b-9349-b62bef49545e",
   "metadata": {},
   "outputs": [],
   "source": [
    "\n",
    "\n",
    "\n"
   ]
  },
  {
   "cell_type": "code",
   "execution_count": 79,
   "id": "44edc8e3",
   "metadata": {
    "scrolled": true
   },
   "outputs": [
    {
     "name": "stdout",
     "output_type": "stream",
     "text": [
      "Could not fetch URL https://pypi.org/simple/wordcloud/: There was a problem confirming the ssl certificate: HTTPSConnectionPool(host='pypi.org', port=443): Max retries exceeded with url: /simple/wordcloud/ (Caused by SSLError(SSLCertVerificationError(1, '[SSL: CERTIFICATE_VERIFY_FAILED] certificate verify failed: unable to get local issuer certificate (_ssl.c:1129)'))) - skipping\n",
      "Could not fetch URL https://pypi.org/simple/pip/: There was a problem confirming the ssl certificate: HTTPSConnectionPool(host='pypi.org', port=443): Max retries exceeded with url: /simple/pip/ (Caused by SSLError(SSLCertVerificationError(1, '[SSL: CERTIFICATE_VERIFY_FAILED] certificate verify failed: unable to get local issuer certificate (_ssl.c:1129)'))) - skipping\n"
     ]
    },
    {
     "name": "stderr",
     "output_type": "stream",
     "text": [
      "WARNING: Retrying (Retry(total=4, connect=None, read=None, redirect=None, status=None)) after connection broken by 'SSLError(SSLCertVerificationError(1, '[SSL: CERTIFICATE_VERIFY_FAILED] certificate verify failed: unable to get local issuer certificate (_ssl.c:1129)'))': /simple/wordcloud/\n",
      "WARNING: Retrying (Retry(total=3, connect=None, read=None, redirect=None, status=None)) after connection broken by 'SSLError(SSLCertVerificationError(1, '[SSL: CERTIFICATE_VERIFY_FAILED] certificate verify failed: unable to get local issuer certificate (_ssl.c:1129)'))': /simple/wordcloud/\n",
      "WARNING: Retrying (Retry(total=2, connect=None, read=None, redirect=None, status=None)) after connection broken by 'SSLError(SSLCertVerificationError(1, '[SSL: CERTIFICATE_VERIFY_FAILED] certificate verify failed: unable to get local issuer certificate (_ssl.c:1129)'))': /simple/wordcloud/\n",
      "WARNING: Retrying (Retry(total=1, connect=None, read=None, redirect=None, status=None)) after connection broken by 'SSLError(SSLCertVerificationError(1, '[SSL: CERTIFICATE_VERIFY_FAILED] certificate verify failed: unable to get local issuer certificate (_ssl.c:1129)'))': /simple/wordcloud/\n",
      "WARNING: Retrying (Retry(total=0, connect=None, read=None, redirect=None, status=None)) after connection broken by 'SSLError(SSLCertVerificationError(1, '[SSL: CERTIFICATE_VERIFY_FAILED] certificate verify failed: unable to get local issuer certificate (_ssl.c:1129)'))': /simple/wordcloud/\n",
      "ERROR: Could not find a version that satisfies the requirement wordcloud (from versions: none)\n",
      "ERROR: No matching distribution found for wordcloud\n"
     ]
    },
    {
     "ename": "ModuleNotFoundError",
     "evalue": "No module named 'wordcloud'",
     "output_type": "error",
     "traceback": [
      "\u001b[1;31m---------------------------------------------------------------------------\u001b[0m",
      "\u001b[1;31mModuleNotFoundError\u001b[0m                       Traceback (most recent call last)",
      "Input \u001b[1;32mIn [79]\u001b[0m, in \u001b[0;36m<cell line: 2>\u001b[1;34m()\u001b[0m\n\u001b[0;32m      1\u001b[0m get_ipython()\u001b[38;5;241m.\u001b[39msystem(\u001b[38;5;124m'\u001b[39m\u001b[38;5;124mpip install wordcloud\u001b[39m\u001b[38;5;124m'\u001b[39m)\n\u001b[1;32m----> 2\u001b[0m \u001b[38;5;28;01mfrom\u001b[39;00m \u001b[38;5;21;01mwordcloud\u001b[39;00m \u001b[38;5;28;01mimport\u001b[39;00m WordCloud\n\u001b[0;32m      3\u001b[0m \u001b[38;5;28;01mimport\u001b[39;00m \u001b[38;5;21;01mmatplotlib\u001b[39;00m\u001b[38;5;21;01m.\u001b[39;00m\u001b[38;5;21;01mpyplot\u001b[39;00m \u001b[38;5;28;01mas\u001b[39;00m \u001b[38;5;21;01mplt\u001b[39;00m\n\u001b[0;32m      4\u001b[0m \u001b[38;5;28;01mfor\u001b[39;00m i \u001b[38;5;129;01min\u001b[39;00m \u001b[38;5;28mrange\u001b[39m(\u001b[38;5;241m4\u001b[39m):\n",
      "\u001b[1;31mModuleNotFoundError\u001b[0m: No module named 'wordcloud'"
     ]
    }
   ],
   "source": [
    "# !pip install wordcloud\n",
    "from wordcloud import WordCloud\n",
    "import matplotlib.pyplot as plt\n",
    "for i in range(4):\n",
    "  wc = WordCloud(width=1000, height=600, margin=3,  prefer_horizontal=0.7,scale=1,background_color='black', relative_scaling=0).generate(topic_word_list[i])\n",
    "  plt.imshow(wc)\n",
    "  plt.title(f\"Topic{i+1}\")\n",
    "  plt.axis(\"off\")\n",
    "  plt.show()"
   ]
  },
  {
   "cell_type": "code",
   "execution_count": 30,
   "id": "7151ffcf-e23c-4d83-bd7c-464da92d29a8",
   "metadata": {},
   "outputs": [
    {
     "data": {
      "text/plain": [
       "<221531x46014 sparse matrix of type '<class 'numpy.float64'>'\n",
       "\twith 5010708 stored elements in Compressed Sparse Row format>"
      ]
     },
     "execution_count": 30,
     "metadata": {},
     "output_type": "execute_result"
    }
   ],
   "source": [
    "X"
   ]
  },
  {
   "cell_type": "markdown",
   "id": "be9c299c",
   "metadata": {},
   "source": [
    "### NMF"
   ]
  },
  {
   "cell_type": "code",
   "execution_count": 33,
   "id": "123e2185",
   "metadata": {},
   "outputs": [],
   "source": [
    "from sklearn.decomposition import NMF\n",
    "nmf_model = NMF(n_components=30, random_state=1)\n",
    "# W = NMF_model.fit_transform(X)\n",
    "# H = NMF_model.components_\n",
    "\n",
    "# Step 1: Vectorize the text data\n",
    "vectorizer = TfidfVectorizer()\n",
    "X = vectorizer.fit_transform(df[\"V_COMMENTS_2\"].values)\n",
    "\n",
    "feature_names = vectorizer.get_feature_names_out()\n",
    "nmf_model.fit(X)\n",
    "topics = []\n",
    "for topic_idx, topic in enumerate(nmf_model.components_):\n",
    "    top_words = [feature_names[i] for i in topic.argsort()[:-11:-1]]\n",
    "    topics.append(top_words)"
   ]
  },
  {
   "cell_type": "markdown",
   "id": "0773b08b-61b2-4b36-81ee-86727a9a40e6",
   "metadata": {},
   "source": [
    "To obtain optimum number of components for NMF use reconstruction error, topic coherence score."
   ]
  },
  {
   "cell_type": "code",
   "execution_count": 34,
   "id": "907b3077-6e43-4b7a-a93b-6b9593be150b",
   "metadata": {},
   "outputs": [],
   "source": [
    "# Step 4: Prepare data for coherence calculation\n",
    "texts = [doc.split() for doc in df[\"V_COMMENTS_2\"].values]\n",
    "dictionary = Dictionary(texts)\n",
    "corpus = [dictionary.doc2bow(text) for text in texts]\n"
   ]
  },
  {
   "cell_type": "code",
   "execution_count": 35,
   "id": "a31bca17-48d5-4f06-814a-bed913d86ad8",
   "metadata": {},
   "outputs": [
    {
     "name": "stdout",
     "output_type": "stream",
     "text": [
      "Topic Coherence Score: 0.710412016422337\n"
     ]
    }
   ],
   "source": [
    "# Step 5: Calculate coherence\n",
    "coherence_model = CoherenceModel(topics=topics, texts=texts, dictionary=dictionary, coherence='c_v')\n",
    "coherence_score = coherence_model.get_coherence()\n",
    "\n",
    "print(\"Topic Coherence Score:\", coherence_score)"
   ]
  },
  {
   "cell_type": "code",
   "execution_count": 37,
   "id": "5cda85a0-2a92-4ac3-9cbf-3ff7109df6a0",
   "metadata": {},
   "outputs": [
    {
     "name": "stdout",
     "output_type": "stream",
     "text": [
      "[['yob', 'year', 'birth', 'worldcheck', 'mismatch', 'persons', 'per', 'watch', 'customers', 'gbffspfquickidfd'], ['date', 'birth', 'watch', 'person', 'customer', 'mismatch', 'per', 'idpassport', 'as', 'host'], ['account', 'active', 'transaction', 'apex', 'opened', 'customer', 'actively', 'saving', 'malaysia', 'still'], ['within', 'dob', 'range', 'possible', 'fall', 'tool', 'cscdd', 'watch', 'refer', 'person'], ['match', 'name', 'gender', 'nationality', 'full', 'rfi', 'definition', 'nric', 'suggest', 'insufficient'], ['already', 'years', 'age', 'year', 'birth', 'watch', 'per', 'person', 'world', 'check'], ['nric', 'mismatch', 'customer', 'watch', 'person', 'id', 'gcif', 'watchperson', 'uco', 'information'], ['refer', 'vs', 'refinitiv', 'year', 'watchperson', 'birth', 'customer', 'mismatch', 'yob', 'record'], ['deemed', 'relevant', 'relationship', 'ago', 'happened', 'updaterecurrence', 'incident', 'business', 'news', 'updateinformation'], ['reported', 'secretary', 'deputy', 'ministry', 'bangladesh', 'public', 'joint', 'administration', 'division', 'director'], ['fathers', 'name', 'passport', 'edms', 'difference', 'muhammad', 'father', 'customers', 'copy', 'document'], ['born', 'year', 'according', 'meanwhile', 'based', 'birth', 'highly', 'watchperson', 'mismatch', 'unlikely'], ['work', 'pep', 'spouse', 'malaysia', 'whereby', 'need', 'labourer', 'member', 'since', 'discounting'], ['check', 'world', 'per', 'refinitiv', 'watchlist', 'checking', 'yob', 'according', 'native', 'dobyob'], ['old', 'years', 'age', 'yobage', 'reported', 'watchperson', 'year', 'customer', 'link', 'meanwhile'], ['name', 'sound', 'full', 'similar', 'gbffspfquickidfd', 'mismatch', 'ociss', 'though', 'eg', 'close'], ['inferred', 'persons', 'yob', 'whereas', 'customers', 'watch', 'birth', 'year', 'checking', 'mismatch'], ['rm', 'working', 'location', 'profileoccupation', 'based', 'income', 'address', 'host', 'person', 'watch'], ['hence', 'person', 'unlikely', 'highly', 'customer', 'meanwhile', 'watchperson', 'profile', 'per', 'watch'], ['trinity', 'as', 'watchpersons', 'customers', 'information', 'person', 'id', 'discounting', 'per', 'csc'], ['son', 'pep', 'father', 'profile', 'born', 'impossible', 'customer', 'watchpersons', 'mismatched', 'older'], ['soe', 'board', 'directors', 'ltd', 'member', 'co', 'reported', 'limited', 'china', 'bhd'], ['dob', 'date', 'birth', 'mismatch', 'watchperson', 'fomema', 'calculator', 'per', 'nationality', 'link'], ['hluttaw', 'member', 'representing', 'defence', 'personnel', 'services', 'manufacturing', 'region', 'labourers', 'state'], ['number', 'id', 'passport', 'gcif', 'native', 'citizenship', 'ucif', 'uco', 'per', 'idpassport'], ['malaysia', 'time', 'transactions', 'watchperson', 'customer', 'shows', 'profile', 'two', 'thus', 'based'], ['watchpersons', 'comparison', 'made', 'customers', 'refinitive', 'uco', 'kyc', 'copy', 'refinitiv', 'document'], ['imprisonment', 'sentenced', 'fined', 'years', 'trafficking', 'bdtm', 'laundering', 'money', 'court', 'life'], ['terrorism', 'involvement', 'reportedly', 'issued', 'activities', 'related', 'arrested', 'passport', 'visa', 'country'], ['agricultural', 'farming', 'forestry', 'fishery', 'labourers', 'plantation', 'regional', 'occupation', 'sime', 'darby']]\n"
     ]
    },
    {
     "data": {
      "text/plain": [
       "[['yob',\n",
       "  'year',\n",
       "  'birth',\n",
       "  'worldcheck',\n",
       "  'mismatch',\n",
       "  'persons',\n",
       "  'per',\n",
       "  'watch',\n",
       "  'customers',\n",
       "  'gbffspfquickidfd'],\n",
       " ['date',\n",
       "  'birth',\n",
       "  'watch',\n",
       "  'person',\n",
       "  'customer',\n",
       "  'mismatch',\n",
       "  'per',\n",
       "  'idpassport',\n",
       "  'as',\n",
       "  'host'],\n",
       " ['account',\n",
       "  'active',\n",
       "  'transaction',\n",
       "  'apex',\n",
       "  'opened',\n",
       "  'customer',\n",
       "  'actively',\n",
       "  'saving',\n",
       "  'malaysia',\n",
       "  'still'],\n",
       " ['within',\n",
       "  'dob',\n",
       "  'range',\n",
       "  'possible',\n",
       "  'fall',\n",
       "  'tool',\n",
       "  'cscdd',\n",
       "  'watch',\n",
       "  'refer',\n",
       "  'person'],\n",
       " ['match',\n",
       "  'name',\n",
       "  'gender',\n",
       "  'nationality',\n",
       "  'full',\n",
       "  'rfi',\n",
       "  'definition',\n",
       "  'nric',\n",
       "  'suggest',\n",
       "  'insufficient'],\n",
       " ['already',\n",
       "  'years',\n",
       "  'age',\n",
       "  'year',\n",
       "  'birth',\n",
       "  'watch',\n",
       "  'per',\n",
       "  'person',\n",
       "  'world',\n",
       "  'check'],\n",
       " ['nric',\n",
       "  'mismatch',\n",
       "  'customer',\n",
       "  'watch',\n",
       "  'person',\n",
       "  'id',\n",
       "  'gcif',\n",
       "  'watchperson',\n",
       "  'uco',\n",
       "  'information'],\n",
       " ['refer',\n",
       "  'vs',\n",
       "  'refinitiv',\n",
       "  'year',\n",
       "  'watchperson',\n",
       "  'birth',\n",
       "  'customer',\n",
       "  'mismatch',\n",
       "  'yob',\n",
       "  'record'],\n",
       " ['deemed',\n",
       "  'relevant',\n",
       "  'relationship',\n",
       "  'ago',\n",
       "  'happened',\n",
       "  'updaterecurrence',\n",
       "  'incident',\n",
       "  'business',\n",
       "  'news',\n",
       "  'updateinformation'],\n",
       " ['reported',\n",
       "  'secretary',\n",
       "  'deputy',\n",
       "  'ministry',\n",
       "  'bangladesh',\n",
       "  'public',\n",
       "  'joint',\n",
       "  'administration',\n",
       "  'division',\n",
       "  'director'],\n",
       " ['fathers',\n",
       "  'name',\n",
       "  'passport',\n",
       "  'edms',\n",
       "  'difference',\n",
       "  'muhammad',\n",
       "  'father',\n",
       "  'customers',\n",
       "  'copy',\n",
       "  'document'],\n",
       " ['born',\n",
       "  'year',\n",
       "  'according',\n",
       "  'meanwhile',\n",
       "  'based',\n",
       "  'birth',\n",
       "  'highly',\n",
       "  'watchperson',\n",
       "  'mismatch',\n",
       "  'unlikely'],\n",
       " ['work',\n",
       "  'pep',\n",
       "  'spouse',\n",
       "  'malaysia',\n",
       "  'whereby',\n",
       "  'need',\n",
       "  'labourer',\n",
       "  'member',\n",
       "  'since',\n",
       "  'discounting'],\n",
       " ['check',\n",
       "  'world',\n",
       "  'per',\n",
       "  'refinitiv',\n",
       "  'watchlist',\n",
       "  'checking',\n",
       "  'yob',\n",
       "  'according',\n",
       "  'native',\n",
       "  'dobyob'],\n",
       " ['old',\n",
       "  'years',\n",
       "  'age',\n",
       "  'yobage',\n",
       "  'reported',\n",
       "  'watchperson',\n",
       "  'year',\n",
       "  'customer',\n",
       "  'link',\n",
       "  'meanwhile'],\n",
       " ['name',\n",
       "  'sound',\n",
       "  'full',\n",
       "  'similar',\n",
       "  'gbffspfquickidfd',\n",
       "  'mismatch',\n",
       "  'ociss',\n",
       "  'though',\n",
       "  'eg',\n",
       "  'close'],\n",
       " ['inferred',\n",
       "  'persons',\n",
       "  'yob',\n",
       "  'whereas',\n",
       "  'customers',\n",
       "  'watch',\n",
       "  'birth',\n",
       "  'year',\n",
       "  'checking',\n",
       "  'mismatch'],\n",
       " ['rm',\n",
       "  'working',\n",
       "  'location',\n",
       "  'profileoccupation',\n",
       "  'based',\n",
       "  'income',\n",
       "  'address',\n",
       "  'host',\n",
       "  'person',\n",
       "  'watch'],\n",
       " ['hence',\n",
       "  'person',\n",
       "  'unlikely',\n",
       "  'highly',\n",
       "  'customer',\n",
       "  'meanwhile',\n",
       "  'watchperson',\n",
       "  'profile',\n",
       "  'per',\n",
       "  'watch'],\n",
       " ['trinity',\n",
       "  'as',\n",
       "  'watchpersons',\n",
       "  'customers',\n",
       "  'information',\n",
       "  'person',\n",
       "  'id',\n",
       "  'discounting',\n",
       "  'per',\n",
       "  'csc'],\n",
       " ['son',\n",
       "  'pep',\n",
       "  'father',\n",
       "  'profile',\n",
       "  'born',\n",
       "  'impossible',\n",
       "  'customer',\n",
       "  'watchpersons',\n",
       "  'mismatched',\n",
       "  'older'],\n",
       " ['soe',\n",
       "  'board',\n",
       "  'directors',\n",
       "  'ltd',\n",
       "  'member',\n",
       "  'co',\n",
       "  'reported',\n",
       "  'limited',\n",
       "  'china',\n",
       "  'bhd'],\n",
       " ['dob',\n",
       "  'date',\n",
       "  'birth',\n",
       "  'mismatch',\n",
       "  'watchperson',\n",
       "  'fomema',\n",
       "  'calculator',\n",
       "  'per',\n",
       "  'nationality',\n",
       "  'link'],\n",
       " ['hluttaw',\n",
       "  'member',\n",
       "  'representing',\n",
       "  'defence',\n",
       "  'personnel',\n",
       "  'services',\n",
       "  'manufacturing',\n",
       "  'region',\n",
       "  'labourers',\n",
       "  'state'],\n",
       " ['number',\n",
       "  'id',\n",
       "  'passport',\n",
       "  'gcif',\n",
       "  'native',\n",
       "  'citizenship',\n",
       "  'ucif',\n",
       "  'uco',\n",
       "  'per',\n",
       "  'idpassport'],\n",
       " ['malaysia',\n",
       "  'time',\n",
       "  'transactions',\n",
       "  'watchperson',\n",
       "  'customer',\n",
       "  'shows',\n",
       "  'profile',\n",
       "  'two',\n",
       "  'thus',\n",
       "  'based'],\n",
       " ['watchpersons',\n",
       "  'comparison',\n",
       "  'made',\n",
       "  'customers',\n",
       "  'refinitive',\n",
       "  'uco',\n",
       "  'kyc',\n",
       "  'copy',\n",
       "  'refinitiv',\n",
       "  'document'],\n",
       " ['imprisonment',\n",
       "  'sentenced',\n",
       "  'fined',\n",
       "  'years',\n",
       "  'trafficking',\n",
       "  'bdtm',\n",
       "  'laundering',\n",
       "  'money',\n",
       "  'court',\n",
       "  'life'],\n",
       " ['terrorism',\n",
       "  'involvement',\n",
       "  'reportedly',\n",
       "  'issued',\n",
       "  'activities',\n",
       "  'related',\n",
       "  'arrested',\n",
       "  'passport',\n",
       "  'visa',\n",
       "  'country'],\n",
       " ['agricultural',\n",
       "  'farming',\n",
       "  'forestry',\n",
       "  'fishery',\n",
       "  'labourers',\n",
       "  'plantation',\n",
       "  'regional',\n",
       "  'occupation',\n",
       "  'sime',\n",
       "  'darby']]"
      ]
     },
     "execution_count": 37,
     "metadata": {},
     "output_type": "execute_result"
    }
   ],
   "source": [
    "print(topics)\n"
   ]
  },
  {
   "cell_type": "code",
   "execution_count": 41,
   "id": "60c9a564-1aa9-47df-812f-5bf03748ae6a",
   "metadata": {},
   "outputs": [
    {
     "name": "stdout",
     "output_type": "stream",
     "text": [
      "['yob', 'year', 'birth', 'worldcheck', 'mismatch', 'persons', 'per', 'watch', 'customers', 'gbffspfquickidfd']\n",
      "['date', 'birth', 'watch', 'person', 'customer', 'mismatch', 'per', 'idpassport', 'as', 'host']\n",
      "['account', 'active', 'transaction', 'apex', 'opened', 'customer', 'actively', 'saving', 'malaysia', 'still']\n",
      "['within', 'dob', 'range', 'possible', 'fall', 'tool', 'cscdd', 'watch', 'refer', 'person']\n",
      "['match', 'name', 'gender', 'nationality', 'full', 'rfi', 'definition', 'nric', 'suggest', 'insufficient']\n",
      "['already', 'years', 'age', 'year', 'birth', 'watch', 'per', 'person', 'world', 'check']\n",
      "['nric', 'mismatch', 'customer', 'watch', 'person', 'id', 'gcif', 'watchperson', 'uco', 'information']\n",
      "['refer', 'vs', 'refinitiv', 'year', 'watchperson', 'birth', 'customer', 'mismatch', 'yob', 'record']\n",
      "['deemed', 'relevant', 'relationship', 'ago', 'happened', 'updaterecurrence', 'incident', 'business', 'news', 'updateinformation']\n",
      "['reported', 'secretary', 'deputy', 'ministry', 'bangladesh', 'public', 'joint', 'administration', 'division', 'director']\n",
      "['fathers', 'name', 'passport', 'edms', 'difference', 'muhammad', 'father', 'customers', 'copy', 'document']\n",
      "['born', 'year', 'according', 'meanwhile', 'based', 'birth', 'highly', 'watchperson', 'mismatch', 'unlikely']\n",
      "['work', 'pep', 'spouse', 'malaysia', 'whereby', 'need', 'labourer', 'member', 'since', 'discounting']\n",
      "['check', 'world', 'per', 'refinitiv', 'watchlist', 'checking', 'yob', 'according', 'native', 'dobyob']\n",
      "['old', 'years', 'age', 'yobage', 'reported', 'watchperson', 'year', 'customer', 'link', 'meanwhile']\n",
      "['name', 'sound', 'full', 'similar', 'gbffspfquickidfd', 'mismatch', 'ociss', 'though', 'eg', 'close']\n",
      "['inferred', 'persons', 'yob', 'whereas', 'customers', 'watch', 'birth', 'year', 'checking', 'mismatch']\n",
      "['rm', 'working', 'location', 'profileoccupation', 'based', 'income', 'address', 'host', 'person', 'watch']\n",
      "['hence', 'person', 'unlikely', 'highly', 'customer', 'meanwhile', 'watchperson', 'profile', 'per', 'watch']\n",
      "['trinity', 'as', 'watchpersons', 'customers', 'information', 'person', 'id', 'discounting', 'per', 'csc']\n",
      "['son', 'pep', 'father', 'profile', 'born', 'impossible', 'customer', 'watchpersons', 'mismatched', 'older']\n",
      "['soe', 'board', 'directors', 'ltd', 'member', 'co', 'reported', 'limited', 'china', 'bhd']\n",
      "['dob', 'date', 'birth', 'mismatch', 'watchperson', 'fomema', 'calculator', 'per', 'nationality', 'link']\n",
      "['hluttaw', 'member', 'representing', 'defence', 'personnel', 'services', 'manufacturing', 'region', 'labourers', 'state']\n",
      "['number', 'id', 'passport', 'gcif', 'native', 'citizenship', 'ucif', 'uco', 'per', 'idpassport']\n",
      "['malaysia', 'time', 'transactions', 'watchperson', 'customer', 'shows', 'profile', 'two', 'thus', 'based']\n",
      "['watchpersons', 'comparison', 'made', 'customers', 'refinitive', 'uco', 'kyc', 'copy', 'refinitiv', 'document']\n",
      "['imprisonment', 'sentenced', 'fined', 'years', 'trafficking', 'bdtm', 'laundering', 'money', 'court', 'life']\n",
      "['terrorism', 'involvement', 'reportedly', 'issued', 'activities', 'related', 'arrested', 'passport', 'visa', 'country']\n",
      "['agricultural', 'farming', 'forestry', 'fishery', 'labourers', 'plantation', 'regional', 'occupation', 'sime', 'darby']\n"
     ]
    }
   ],
   "source": [
    "for i in topics:\n",
    "    print(i)\n"
   ]
  },
  {
   "cell_type": "code",
   "execution_count": 86,
   "id": "ac65cd5f",
   "metadata": {
    "scrolled": true
   },
   "outputs": [
    {
     "name": "stdout",
     "output_type": "stream",
     "text": [
      "['  yob inferred year persons birth customers per check world']\n",
      "['  yob inferred year persons birth customers per check world', '  nric date birth watch person number id trinity mismatch']\n",
      "['  yob inferred year persons birth customers per check world', '  nric date birth watch person number id trinity mismatch', '  customer reported person unlikely profile account watchperson malaysia secretary']\n",
      "['  yob inferred year persons birth customers per check world', '  nric date birth watch person number id trinity mismatch', '  customer reported person unlikely profile account watchperson malaysia secretary', '  dob within range possible fall date tool watch cscdd']\n",
      "['  yob inferred year persons birth customers per check world', '  nric date birth watch person number id trinity mismatch', '  customer reported person unlikely profile account watchperson malaysia secretary', '  dob within range possible fall date tool watch cscdd', '  name full match fathers sound similar passport customers father']\n",
      "['  yob inferred year persons birth customers per check world', '  nric date birth watch person number id trinity mismatch', '  customer reported person unlikely profile account watchperson malaysia secretary', '  dob within range possible fall date tool watch cscdd', '  name full match fathers sound similar passport customers father', '  years already age year born old world check birth']\n",
      "['  yob inferred year persons birth customers per check world', '  nric date birth watch person number id trinity mismatch', '  customer reported person unlikely profile account watchperson malaysia secretary', '  dob within range possible fall date tool watch cscdd', '  name full match fathers sound similar passport customers father', '  years already age year born old world check birth', '  deemed relationship happened relevant ago news updaterecurrence incident business']\n",
      "['  yob inferred year persons birth customers per check world', '  nric date birth watch person number id trinity mismatch', '  customer reported person unlikely profile account watchperson malaysia secretary', '  dob within range possible fall date tool watch cscdd', '  name full match fathers sound similar passport customers father', '  years already age year born old world check birth', '  deemed relationship happened relevant ago news updaterecurrence incident business', '  birth year yob refer refinitiv watchperson vs mismatch customer']\n"
     ]
    },
    {
     "data": {
      "text/plain": [
       "['  yob inferred year persons birth customers per check world',\n",
       " '  nric date birth watch person number id trinity mismatch',\n",
       " '  customer reported person unlikely profile account watchperson malaysia secretary',\n",
       " '  dob within range possible fall date tool watch cscdd',\n",
       " '  name full match fathers sound similar passport customers father',\n",
       " '  years already age year born old world check birth',\n",
       " '  deemed relationship happened relevant ago news updaterecurrence incident business',\n",
       " '  birth year yob refer refinitiv watchperson vs mismatch customer']"
      ]
     },
     "execution_count": 86,
     "metadata": {},
     "output_type": "execute_result"
    }
   ],
   "source": [
    "# topic_word_list = []\n",
    "# def get_topics(components): \n",
    "#       for i, comp in enumerate(components):\n",
    "#         terms_comp = zip(vocab,comp)\n",
    "#         sorted_terms = sorted(terms_comp, key= lambda x:x[1], reverse=True)[:9]\n",
    "#         topic=\" \"\n",
    "#         for t in sorted_terms:\n",
    "#             topic= topic + ' ' + t[0]\n",
    "#         topic_word_list.append(topic)\n",
    "#         print(topic_word_list)\n",
    "#       return topic_word_list\n",
    "# get_topics(H)\n",
    "\n",
    "# Step 3: Extract the topics\n",
    "# feature_names = vectorizer.get_feature_names_out()\n",
    "topics = []\n",
    "for topic_idx, topic in enumerate(nmf_model.components_):\n",
    "    top_words = [feature_names[i] for i in topic.argsort()[:-11:-1]]\n",
    "    topics.append(top_words)\n",
    "\n",
    "\n",
    "# Step 5: Calculate coherence\n",
    "coherence_model = CoherenceModel(topics=topics, texts=texts, dictionary=dictionary, coherence='c_v')\n",
    "coherence_score = coherence_model.get_coherence()\n",
    "\n",
    "print(\"Topic Coherence Score:\", coherence_score)\n"
   ]
  },
  {
   "cell_type": "code",
   "execution_count": null,
   "id": "4e91087b",
   "metadata": {},
   "outputs": [],
   "source": [
    "\n",
    "\n",
    "\n"
   ]
  },
  {
   "cell_type": "code",
   "execution_count": null,
   "id": "fb9ba3a5",
   "metadata": {},
   "outputs": [],
   "source": [
    "\n",
    "\n",
    "\n",
    "\n",
    "\n",
    "# Step 4: Visualize the transformed data\n",
    "import matplotlib.pyplot as plt\n",
    "\n",
    "plt.figure(figsize=(8, 6))\n",
    "for i in range(len(X_svd)):\n",
    "    plt.scatter(X_svd[i, 0], X_svd[i, 1], label=f\"Document {i+1}\")\n",
    "\n",
    "plt.xlabel(\"Component 1\")\n",
    "plt.ylabel(\"Component 2\")\n",
    "plt.legend()\n",
    "plt.title(\"Truncated SVD on Text Data\")\n",
    "plt.show()\n"
   ]
  },
  {
   "cell_type": "code",
   "execution_count": null,
   "id": "cf442088",
   "metadata": {
    "scrolled": true
   },
   "outputs": [],
   "source": [
    "# for i in range(10):\n",
    "#      plt.boxplot(df_grp[\"sim_score\"].get_group(int(i)))\n",
    "for i in list(df_grp.groups.keys()):\n",
    "    print(i)\n",
    "    print(df_grp[\"sim_score\"].get_group(i).mean())"
   ]
  },
  {
   "cell_type": "code",
   "execution_count": null,
   "id": "2a8b4721",
   "metadata": {},
   "outputs": [],
   "source": []
  },
  {
   "cell_type": "code",
   "execution_count": null,
   "id": "51f111fe",
   "metadata": {},
   "outputs": [],
   "source": [
    "# df_1=df_grp.get_group(1.0)\n",
    "# df_grp[\"Topic words\"]"
   ]
  },
  {
   "cell_type": "code",
   "execution_count": null,
   "id": "7af8751c",
   "metadata": {},
   "outputs": [],
   "source": [
    "from gensim.scripts.glove2word2vec import glove2word2vec\n",
    "from gensim.models import KeyedVectors"
   ]
  },
  {
   "cell_type": "code",
   "execution_count": null,
   "id": "e6549438",
   "metadata": {},
   "outputs": [],
   "source": [
    "# Convert GloVe format to word2vec format\n",
    "glove_input_file = 'glove.6B/glove.6B.100d.txt'\n",
    "word2vec_output_file = 'glove.6B/glove.6B.100d.word2vec.txt'\n",
    "glove2word2vec(glove_input_file, word2vec_output_file)\n"
   ]
  },
  {
   "cell_type": "code",
   "execution_count": null,
   "id": "6ef15f43",
   "metadata": {},
   "outputs": [],
   "source": [
    "# Load the converted model\n",
    "glove_model = KeyedVectors.load_word2vec_format(word2vec_output_file, binary=False)\n",
    "\n",
    "\n",
    "\n",
    "# Example usage\n",
    "vector = glove_model['example']\n",
    "similar_words = glove_model.most_similar('example')\n",
    "\n",
    "print(\"Vector representation of 'example':\", vector)\n",
    "print(\"Similar words to 'example':\", similar_words)"
   ]
  },
  {
   "cell_type": "code",
   "execution_count": null,
   "id": "31805548",
   "metadata": {},
   "outputs": [],
   "source": []
  },
  {
   "cell_type": "code",
   "execution_count": null,
   "id": "83502703",
   "metadata": {},
   "outputs": [],
   "source": [
    "### T-SNE & PCA"
   ]
  },
  {
   "cell_type": "code",
   "execution_count": null,
   "id": "d78641db",
   "metadata": {},
   "outputs": [],
   "source": []
  },
  {
   "cell_type": "code",
   "execution_count": null,
   "id": "a4274b6c",
   "metadata": {},
   "outputs": [],
   "source": [
    "def tsne_plot():\n",
    "    labels = []\n",
    "    tokens = []\n",
    "    \n",
    "    # Extracting words and their vectors from our trained model1 \n",
    "    for word in model1.wv.index_to_key:\n",
    "        tokens.append(model1.wv[word])\n",
    "        labels.append(word)\n",
    "    \n",
    "    # Train t-SNE \n",
    "    tsne_model1 = TSNE(perplexity=45, n_components=2, init='pca', n_iter=250, random_state=23)\n",
    "    new_values = tsne_model1.fit_transform(tokens)\n",
    "    x = []\n",
    "    y = []\n",
    "    \n",
    "    for value in new_values:\n",
    "        x.append(value[0])\n",
    "        y.append(value[1])\n",
    "        \n",
    "    plt.figure(figsize=(16, 16)) \n",
    "    for i in range(len(x)):\n",
    "        plt.scatter(x[i],y[i])\n",
    "        plt.annotate(labels[i],\n",
    "                     xy=(x[i], y[i]),\n",
    "                     xytext=(5, 2),\n",
    "                     textcoords='offset points',\n",
    "                     ha='right',\n",
    "                     va='bottom')\n",
    "        plt.xlabel(\"dimension 1\")\n",
    "        plt.ylabel(\"dimension 2\")\n",
    "    plt.show()\n",
    "# Words that occur atleast\n",
    "\n",
    "\n",
    "\n",
    "\n",
    "\n",
    "\n",
    "\n",
    "\n",
    "\n"
   ]
  },
  {
   "cell_type": "code",
   "execution_count": null,
   "id": "d0c8d7f0",
   "metadata": {},
   "outputs": [],
   "source": [
    "# tsne_plot()"
   ]
  },
  {
   "cell_type": "code",
   "execution_count": null,
   "id": "4d581cf3",
   "metadata": {},
   "outputs": [],
   "source": []
  },
  {
   "cell_type": "code",
   "execution_count": null,
   "id": "7c13086a",
   "metadata": {},
   "outputs": [],
   "source": []
  }
 ],
 "metadata": {
  "kernelspec": {
   "display_name": "Python 3 (ipykernel)",
   "language": "python",
   "name": "python3"
  },
  "language_info": {
   "codemirror_mode": {
    "name": "ipython",
    "version": 3
   },
   "file_extension": ".py",
   "mimetype": "text/x-python",
   "name": "python",
   "nbconvert_exporter": "python",
   "pygments_lexer": "ipython3",
   "version": "3.11.7"
  }
 },
 "nbformat": 4,
 "nbformat_minor": 5
}
