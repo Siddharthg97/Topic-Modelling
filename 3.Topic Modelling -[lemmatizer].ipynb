{
 "cells": [
  {
   "cell_type": "markdown",
   "id": "7f383cba",
   "metadata": {},
   "source": [
    " # LDA using BOW & TF-IDF "
   ]
  },
  {
   "cell_type": "code",
   "execution_count": 1,
   "id": "increased-minutes",
   "metadata": {
    "execution": {
     "iopub.execute_input": "2021-04-29T05:08:18.223763Z",
     "iopub.status.busy": "2021-04-29T05:08:18.223056Z",
     "iopub.status.idle": "2021-04-29T05:08:20.454412Z",
     "shell.execute_reply": "2021-04-29T05:08:20.454888Z"
    },
    "papermill": {
     "duration": 2.263873,
     "end_time": "2021-04-29T05:08:20.455067",
     "exception": false,
     "start_time": "2021-04-29T05:08:18.191194",
     "status": "completed"
    },
    "tags": []
   },
   "outputs": [],
   "source": [
    "import matplotlib.pyplot as plt\n",
    "import seaborn as sns\n",
    "import nltk\n",
    "import re\n",
    "import string\n",
    "from nltk.corpus import stopwords\n",
    "from nltk.tokenize import word_tokenize \n",
    "import re\n",
    "import pandas as pd\n",
    "# Gensim\n",
    "import gensim\n",
    "import gensim.corpora as corpora\n",
    "from gensim.utils import simple_preprocess\n",
    "from gensim.models import CoherenceModel\n",
    "from pprint import pprint\n",
    "import matplotlib.pyplot as plt\n",
    "import seaborn as sns\n",
    "import nltk\n",
    "import re\n",
    "import string\n",
    "from nltk.corpus import stopwords\n",
    "from nltk.tokenize import word_tokenize \n",
    "import pandas as pd\n",
    "\n",
    "# pd.set_options(\"display.max_colwidth\",\"None\")\n",
    "pd.set_option('display.max_colwidth', 1000)\n",
    "import warnings\n",
    "warnings.filterwarnings(\"ignore\",category=DeprecationWarning)\n"
   ]
  },
  {
   "cell_type": "code",
   "execution_count": 2,
   "id": "7ed2a653",
   "metadata": {},
   "outputs": [],
   "source": [
    "import calendar\n",
    "cal=list(calendar.month_name)\n",
    "for i in list(calendar.month_name[1:]):\n",
    "    cal.append(i[:3])"
   ]
  },
  {
   "cell_type": "code",
   "execution_count": null,
   "id": "fe577e4d",
   "metadata": {},
   "outputs": [],
   "source": []
  },
  {
   "cell_type": "code",
   "execution_count": null,
   "id": "da9c6a57",
   "metadata": {},
   "outputs": [],
   "source": [
    "# # Plotting tools\n",
    "# import pyLDAvis\n",
    "# import pyLDAvis.gensim_models as gensimvis  \n",
    "\n",
    "# import warnings\n",
    "# warnings.filterwarnings(\"ignore\",category=DeprecationWarning)"
   ]
  },
  {
   "cell_type": "markdown",
   "id": "annual-interpretation",
   "metadata": {
    "papermill": {
     "duration": 0.025116,
     "end_time": "2021-04-29T05:08:20.505811",
     "exception": false,
     "start_time": "2021-04-29T05:08:20.480695",
     "status": "completed"
    },
    "tags": []
   },
   "source": [
    " ##Topic Modelling: \n",
    "Topic modeling is an unsupervised learning technique used to extract topics from a large corpus of text automatically. Topics can be defined as the co-occurring terms that are frequently repeating in the text corpus. Topic modeling is helpful in various tasks such as clustering documents, understanding and summarizing an extensive collection of textual documents and retrieving information from an extensive collection of data, etc. In this notebook I will perform topic modelling using LDA(Latent Dirichlet Allocation) and BERT. \n",
    "\n",
    "Here I am using medium article dataset to perfom Topic Modelling. The dataset consist 350 articles related to AI, Machine Learning and Data Science."
   ]
  },
  {
   "cell_type": "markdown",
   "id": "posted-spice",
   "metadata": {
    "papermill": {
     "duration": 0.025085,
     "end_time": "2021-04-29T05:08:20.557891",
     "exception": false,
     "start_time": "2021-04-29T05:08:20.532806",
     "status": "completed"
    },
    "tags": []
   },
   "source": [
    "## Exploring the dataset :"
   ]
  },
  {
   "cell_type": "code",
   "execution_count": null,
   "id": "superb-proposition",
   "metadata": {
    "execution": {
     "iopub.execute_input": "2021-04-29T05:08:20.619339Z",
     "iopub.status.busy": "2021-04-29T05:08:20.618590Z",
     "iopub.status.idle": "2021-04-29T05:08:20.773975Z",
     "shell.execute_reply": "2021-04-29T05:08:20.773317Z"
    },
    "papermill": {
     "duration": 0.190735,
     "end_time": "2021-04-29T05:08:20.774116",
     "exception": false,
     "start_time": "2021-04-29T05:08:20.583381",
     "status": "completed"
    },
    "scrolled": true,
    "tags": []
   },
   "outputs": [],
   "source": [
    "df_all_comments = pd.read_csv(\"generated_all_value_count_comments.csv\")\n",
    "df_all_comments.drop(columns=\"Unnamed: 0\",axis=1,inplace=True)\n",
    "df_all_comments.head()"
   ]
  },
  {
   "cell_type": "markdown",
   "id": "photographic-success",
   "metadata": {
    "papermill": {
     "duration": 0.029111,
     "end_time": "2021-04-29T05:08:21.962308",
     "exception": false,
     "start_time": "2021-04-29T05:08:21.933197",
     "status": "completed"
    },
    "tags": []
   },
   "source": [
    "## Exploration of text Data"
   ]
  },
  {
   "cell_type": "markdown",
   "id": "4a1d2351",
   "metadata": {},
   "source": [
    "Removing special characters\n",
    "\n",
    "1.re.sub(\"\\n\",\"\",x)-line change character to be discarded\n",
    "2.re.sub(\"Name – Name\",\"Name\",x)\n",
    "3.re.sub(\"Name_Name\",\"Name\",x)\n",
    "4. _ with \"\"\n",
    "5 - with \"\"\n",
    "\n",
    "omitting technical values of anchors\n",
    "1. omitting date of birth\n",
    "2. omitting most common names\n",
    "3. omitting id values\n",
    "4. omitting false-hit| true-hit \n",
    "3.Unknown|false hit|False Hit.|False Hit|True Hit|True Hit.|Rationale|Source -omit them\n",
    "omitting Mohd,NORAINI,ABDULLAH,BINTI,system, legal , stated , ABD,mahdzir bin khalid,siti hajar,mohd sallehudin,mohd saddam mahdzir,mahdzir khalid,inie binti abdullah,noraini,norliza binti othman\n",
    "4 Numbers\n",
    "\n",
    "\n",
    "\n",
    "Removing useless comments\n",
    "\n",
    "1.drop - Match ID and/or Full Legal Name (doubtfull)\n",
    "2.Agreed with analyst recommendation|Agreed with analyst's recommendation|Agreed as per Maker comment|Agreed as per Maker's comment|AGREED WITH MAKER RECOMMENDATION|Agreed With Maker Comments - replace with substring|agree to maker is recommendation\n",
    "\n",
    "4.CSCDD7|CSCDD4 - Remove comments \n",
    "5CSCDD1 - remove ( still doubtful )\n",
    "6 SCC6|No further review is required by analyst - remove comment\n",
    "7 SC Status : No further review is required by analyst - remove comment\n",
    "8 SC/DEL -remove\n",
    "\n",
    "15 URL removal like - https://edmsfilenet.maybank.com.my/WorkplaceBFE/WcmSignIn.jsp?targetBase=https%3A%2F%2Fedmsfilenet.maybank.com.my%2FWorkplaceBFE&originPort=&originIp=172.31.75.67&targetUrl=WcmDefault.jsp\n",
    "special characters - Mismatch Full Legal Name â€“ Name Does Not Sound Similar ,\n",
    "16 Not removing any special character for now - Mismatch Full Legal Name_Name does not sound similar - watchperson Zhang Ping 张平 vs customer Zhang Peng 张鹏\n",
    "\n"
   ]
  },
  {
   "cell_type": "code",
   "execution_count": null,
   "id": "92f49042",
   "metadata": {},
   "outputs": [],
   "source": [
    "patt6=re.compile(\"https?://\\S+|www\\.\\S+\",re.IGNORECASE)\n",
    "# df_all_comments[df_all_comments[\"V_COMMENTS\"].apply(lambda x: len(re.findall(patt6,x))>0)]\n",
    "ind=df_all_comments[df_all_comments[\"V_COMMENTS\"].str.extract(r\"(https?://\\S+|www\\.\\S+)\")[0].apply(lambda x: pd.notna(x))].index\n",
    "df_all_comments.loc[ind,\"V_COMMENTS\"].str.extract(r\"(https?://.*\\.com|www\\..*\\.com)\").value_counts().to_csv(\"URL_in_comments.csv\")\n",
    "# "
   ]
  },
  {
   "cell_type": "markdown",
   "id": "e04de88e",
   "metadata": {},
   "source": [
    "# Pre-processing on Data"
   ]
  },
  {
   "cell_type": "markdown",
   "id": "e554117e",
   "metadata": {},
   "source": [
    "### Step -1 removing noisy data"
   ]
  },
  {
   "cell_type": "code",
   "execution_count": null,
   "id": "ded48e92",
   "metadata": {},
   "outputs": [],
   "source": [
    "patt1=re.compile(\"Match ID and/or Full Legal Name\",re.IGNORECASE)\n",
    "# patt2=re.compile(\"Agreed with analyst recommendation|Agreed with analyst's recommendation|Agreed as per Maker comment|Agreed as per Maker's comment\")\n",
    "patt2=re.compile(\"(Agreed|agree) (to|with|as per) (analyst(('s)*)|maker(('s)*)) (comment|recommendation|is recommendation)\",re.IGNORECASE)\n",
    "patt3=re.compile(\"Unknown|false hit\\.*|true hit\\.*|Rationale|Source\",re.IGNORECASE)\n",
    "patt4=re.compile(\"CSCDD7|CSCDD1|CSCDD4\",re.IGNORECASE)\n",
    "patt5=re.compile(\"SCC6|No further review is required by analyst|SC/DEL\",re.IGNORECASE)\n",
    "patt6=re.compile(\"https?://\\S+|www\\.\\S+\",re.IGNORECASE)\n",
    "patt7=re.compile(\"(%s)\"%\"|\".join(cal)[1:],re.IGNORECASE)\n",
    "patt8=re.compile(\"\\s*(Mohd|NORAINI|ABDULLAH|BINTI|system|legal|stated|ABD|mahdzir|bin|khalid|siti|hajar|mohd|sallehudin|mohd|saddam|inie|binti|abdullah|noraini|norliza|binti|othman)\\s*\",re.IGNORECASE)\n",
    "  "
   ]
  },
  {
   "cell_type": "code",
   "execution_count": null,
   "id": "f61f62ae",
   "metadata": {
    "scrolled": true
   },
   "outputs": [],
   "source": [
    "df_all_comments[\"V_COMMENTS_2\"]=df_all_comments[\"V_COMMENTS\"].apply(lambda x: re.sub(\"\\n\",\" \",x)) #1\n",
    "\n",
    "df_all_comments[\"V_COMMENTS_2\"]=df_all_comments[\"V_COMMENTS_2\"].apply(lambda x: re.sub(\"Name – Name\",\"Name\",x))    #2                                \n",
    "df_all_comments[\"V_COMMENTS_2\"]=df_all_comments[\"V_COMMENTS_2\"].apply(lambda x: re.sub(\"Name_Name\",\"Name\",x))      #3                              \n",
    "df_all_comments[\"V_COMMENTS_2\"]=df_all_comments[\"V_COMMENTS_2\"].apply(lambda x: re.sub(\"\\s*_\\s*|\\s*-\\s*|\\s*,\\s*\",\" \",x)) #4,5\n",
    "\n",
    "\n",
    "df_all_comments=df_all_comments[df_all_comments[\"V_COMMENTS_2\"].str.contains(patt1)==False] #7\n",
    "df_all_comments[\"V_COMMENTS_2\"]=df_all_comments[\"V_COMMENTS_2\"].apply(lambda x: re.sub(patt2,\"\",x)) #8\n",
    "df_all_comments[\"V_COMMENTS_2\"]=df_all_comments[\"V_COMMENTS_2\"].apply(lambda x: re.sub(patt3,\"\",x))  #  9\n",
    "df_all_comments=df_all_comments[df_all_comments[\"V_COMMENTS_2\"].str.contains(patt4)==False]        # 10\n",
    "df_all_comments=df_all_comments[df_all_comments[\"V_COMMENTS_2\"].str.contains(patt5)==False]       #11\n",
    "df_all_comments[\"V_COMMENTS_2\"]=df_all_comments[\"V_COMMENTS_2\"].apply(lambda x: re.sub(patt6,\"\",x)) #15\n",
    "df_all_comments[\"V_COMMENTS_2\"]=df_all_comments[\"V_COMMENTS_2\"].apply(lambda x: re.sub(\"[^\\w\\s\\.]|\\d\",\"\",x)) \n",
    "df_all_comments[\"V_COMMENTS_2\"]=df_all_comments[\"V_COMMENTS_2\"].apply(lambda x: re.sub(\"\\d*\",\"\",x))    #date, year, accounts 6\n",
    "df_all_comments[\"V_COMMENTS_2\"]=df_all_comments[\"V_COMMENTS_2\"].apply(lambda x: re.sub(patt7,\"\",x))    # month 6\n",
    "df_all_comments[\"V_COMMENTS_2\"]=df_all_comments[\"V_COMMENTS_2\"].apply(lambda x: re.sub(patt8,\" \",x)) # 17\n",
    "\n"
   ]
  },
  {
   "cell_type": "code",
   "execution_count": null,
   "id": "4d0eb0bc",
   "metadata": {},
   "outputs": [],
   "source": []
  },
  {
   "cell_type": "code",
   "execution_count": null,
   "id": "f42d0178",
   "metadata": {},
   "outputs": [],
   "source": [
    "df_all_comments[\"V_COMMENTS_2\"]=df_all_comments[\"V_COMMENTS_2\"].str.lower()\n"
   ]
  },
  {
   "cell_type": "code",
   "execution_count": null,
   "id": "6804d303",
   "metadata": {},
   "outputs": [],
   "source": [
    "df_all_comments_org=df_all_comments.copy()\n",
    "df_all_comments_org.to_csv(\"Stage_1_comments_after_pre_process.csv\")"
   ]
  },
  {
   "cell_type": "code",
   "execution_count": 9,
   "id": "d9cc826e",
   "metadata": {},
   "outputs": [],
   "source": [
    "# df_all_comments=pd.read_csv(\"Stage_1_comments_after_pre_process.csv\")\n",
    "df_all_comments=pd.read_csv(\"Stage_1_comments_after_pre_process_bigram_trigram.csv\")"
   ]
  },
  {
   "cell_type": "code",
   "execution_count": 10,
   "id": "d588d40f",
   "metadata": {},
   "outputs": [
    {
     "data": {
      "text/html": [
       "<div>\n",
       "<style scoped>\n",
       "    .dataframe tbody tr th:only-of-type {\n",
       "        vertical-align: middle;\n",
       "    }\n",
       "\n",
       "    .dataframe tbody tr th {\n",
       "        vertical-align: top;\n",
       "    }\n",
       "\n",
       "    .dataframe thead th {\n",
       "        text-align: right;\n",
       "    }\n",
       "</style>\n",
       "<table border=\"1\" class=\"dataframe\">\n",
       "  <thead>\n",
       "    <tr style=\"text-align: right;\">\n",
       "      <th></th>\n",
       "      <th>Unnamed: 0</th>\n",
       "      <th>V_COMMENTS</th>\n",
       "      <th>Counts</th>\n",
       "      <th>V_COMMENTS_2</th>\n",
       "    </tr>\n",
       "  </thead>\n",
       "  <tbody>\n",
       "    <tr>\n",
       "      <th>0</th>\n",
       "      <td>0</td>\n",
       "      <td>Mismatch ID number_NRIC</td>\n",
       "      <td>67150</td>\n",
       "      <td>mismatch id number nric</td>\n",
       "    </tr>\n",
       "    <tr>\n",
       "      <th>1</th>\n",
       "      <td>1</td>\n",
       "      <td>Mismatch ID number_NRIC\\n</td>\n",
       "      <td>40137</td>\n",
       "      <td>mismatch id number nric</td>\n",
       "    </tr>\n",
       "    <tr>\n",
       "      <th>2</th>\n",
       "      <td>2</td>\n",
       "      <td>Mismatch Year of Birth (YOB)</td>\n",
       "      <td>27341</td>\n",
       "      <td>mismatch year of birth yob</td>\n",
       "    </tr>\n",
       "    <tr>\n",
       "      <th>3</th>\n",
       "      <td>3</td>\n",
       "      <td>Mismatch ID Number_NRIC</td>\n",
       "      <td>25793</td>\n",
       "      <td>mismatch id number nric</td>\n",
       "    </tr>\n",
       "    <tr>\n",
       "      <th>4</th>\n",
       "      <td>4</td>\n",
       "      <td>Mismatch Full Legal Name – Name Does Not Sound Similar</td>\n",
       "      <td>19127</td>\n",
       "      <td>mismatch full name does not sound similar</td>\n",
       "    </tr>\n",
       "    <tr>\n",
       "      <th>...</th>\n",
       "      <td>...</td>\n",
       "      <td>...</td>\n",
       "      <td>...</td>\n",
       "      <td>...</td>\n",
       "    </tr>\n",
       "    <tr>\n",
       "      <th>221574</th>\n",
       "      <td>222058</td>\n",
       "      <td>Mismatch - Name, NRIC, Date of birth, Profile, \\n\\nCustomer \\nName :  NORAINI BINTI ABDULLAH\\nNRIC :  680709035406\\nDate of birth : 09/07/1968\\nProfile : SHOP SALES ASSISTANTS at MONALIZA &amp; MASTURA S/B (COMPUTER ST (as per HOST system) \\n\\nWatch person - as per HOST system based on customer number 5734599)\\nName : NORAINI @ INIE BINTI ABDULLAH\\nNRIC : 600923125020\\nDate of birth :  23/09/1960\\nProfile : PEP related - Mahdzir Khalid (PEP) (spouse). Mahani Mahdzir (daughter). Siti Hajar (daughter). Mohd Sallehudin (son). Mohd Saddam Mahdzir (son).</td>\n",
       "      <td>1</td>\n",
       "      <td>mismatch name nric date of birth profile customer  name   nric    date of birth   profile  shop sales assistants at monaliza  mastura sb computer st as per host watch person as per host based on customer number  name    nric   date of birth    profile  pep related  pep spouse. mahani dhter.  dhter.  son.   son.</td>\n",
       "    </tr>\n",
       "    <tr>\n",
       "      <th>221575</th>\n",
       "      <td>222059</td>\n",
       "      <td>Mismatch - Name, NRIC, Date of birth, Profile, \\n\\nCustomer - (as per HOST system)\\nName :  NORAINI BINTI ABDULLAH\\nNRIC :  710110035690\\nDate of birth : 10/01/1971\\nProfile : is a HOUSEWIFE/HOUSEHUSBAND - (as per HOST system) \\n\\nWatch person - (as per HOST system based on customer number 5734599)\\nName : NORAINI @ INIE BINTI ABDULLAH\\nNRIC : 600923125020\\nDate of birth :  23/09/1960\\nProfile : PEP related - Mahdzir Khalid (PEP) (spouse). Mahani Mahdzir (daughter). Siti Hajar (daughter). Mohd Sallehudin (son). Mohd Saddam Mahdzir (son).</td>\n",
       "      <td>1</td>\n",
       "      <td>mismatch name nric date of birth profile customer as per host name   nric    date of birth   profile  is a housewifehousehusband as per host watch person as per host based on customer number  name    nric   date of birth    profile  pep related  pep spouse. mahani dhter.  dhter.  son.   son.</td>\n",
       "    </tr>\n",
       "    <tr>\n",
       "      <th>221576</th>\n",
       "      <td>222060</td>\n",
       "      <td>Mismatch ID number_NRIC. Watch person (NORAINI @ INIE BINTI ABDULLAH) is a Maybank customer with NRIC 600923125020 GCIF: 005734599. MAHDZIR KHALID (PEP) has transaction with her on APEX (552022018485). Customer's NRIC is 750917135656</td>\n",
       "      <td>1</td>\n",
       "      <td>mismatch id number nric. watch person    is a bank customer with nric  gcif .  pep has transaction with her on apex . customers nric is</td>\n",
       "    </tr>\n",
       "    <tr>\n",
       "      <th>221577</th>\n",
       "      <td>222061</td>\n",
       "      <td>Mismatch ID number_NRIC. Watch person (NORAINI @ INIE BINTI ABDULLAH) is a Maybank customer with NRIC 600923125020 GCIF: 005734599. MAHDZIR KHALID (PEP) has transaction with her on APEX (552022018485). Customer's NRIC is 890318015980</td>\n",
       "      <td>1</td>\n",
       "      <td>mismatch id number nric. watch person    is a bank customer with nric  gcif .  pep has transaction with her on apex . customers nric is</td>\n",
       "    </tr>\n",
       "    <tr>\n",
       "      <th>221578</th>\n",
       "      <td>222062</td>\n",
       "      <td>Mismatch Profile - As adverse news reported Jun 2020 - detained by Punjab Police in Patiala for alleged involvement in planning of terror acts and target killings. Case registered under the Unlawful Activities Prevention Act. Oct 2023 - no further information reported, APEX account customer shows an active transaction since July 2020. Hence, it is highly unlikely that watchperson is a customer.</td>\n",
       "      <td>1</td>\n",
       "      <td>mismatch profile as adverse news reported   detained by punjab police in patiala for alleged involvement in planning of terror acts and target killings. case registered under the unlawful activities prevention act.   no further information reported apex account customer shows an active transaction since  . hence it is highly unlikely that watchperson is a customer.</td>\n",
       "    </tr>\n",
       "  </tbody>\n",
       "</table>\n",
       "<p>221579 rows × 4 columns</p>\n",
       "</div>"
      ],
      "text/plain": [
       "        Unnamed: 0  \\\n",
       "0                0   \n",
       "1                1   \n",
       "2                2   \n",
       "3                3   \n",
       "4                4   \n",
       "...            ...   \n",
       "221574      222058   \n",
       "221575      222059   \n",
       "221576      222060   \n",
       "221577      222061   \n",
       "221578      222062   \n",
       "\n",
       "                                                                                                                                                                                                                                                                                                                                                                                                                                                                                                                                                                     V_COMMENTS  \\\n",
       "0                                                                                                                                                                                                                                                                                                                                                                                                                                                                                                                                                       Mismatch ID number_NRIC   \n",
       "1                                                                                                                                                                                                                                                                                                                                                                                                                                                                                                                                                     Mismatch ID number_NRIC\\n   \n",
       "2                                                                                                                                                                                                                                                                                                                                                                                                                                                                                                                                                  Mismatch Year of Birth (YOB)   \n",
       "3                                                                                                                                                                                                                                                                                                                                                                                                                                                                                                                                                       Mismatch ID Number_NRIC   \n",
       "4                                                                                                                                                                                                                                                                                                                                                                                                                                                                                                                        Mismatch Full Legal Name – Name Does Not Sound Similar   \n",
       "...                                                                                                                                                                                                                                                                                                                                                                                                                                                                                                                                                                         ...   \n",
       "221574  Mismatch - Name, NRIC, Date of birth, Profile, \\n\\nCustomer \\nName :  NORAINI BINTI ABDULLAH\\nNRIC :  680709035406\\nDate of birth : 09/07/1968\\nProfile : SHOP SALES ASSISTANTS at MONALIZA & MASTURA S/B (COMPUTER ST (as per HOST system) \\n\\nWatch person - as per HOST system based on customer number 5734599)\\nName : NORAINI @ INIE BINTI ABDULLAH\\nNRIC : 600923125020\\nDate of birth :  23/09/1960\\nProfile : PEP related - Mahdzir Khalid (PEP) (spouse). Mahani Mahdzir (daughter). Siti Hajar (daughter). Mohd Sallehudin (son). Mohd Saddam Mahdzir (son).   \n",
       "221575          Mismatch - Name, NRIC, Date of birth, Profile, \\n\\nCustomer - (as per HOST system)\\nName :  NORAINI BINTI ABDULLAH\\nNRIC :  710110035690\\nDate of birth : 10/01/1971\\nProfile : is a HOUSEWIFE/HOUSEHUSBAND - (as per HOST system) \\n\\nWatch person - (as per HOST system based on customer number 5734599)\\nName : NORAINI @ INIE BINTI ABDULLAH\\nNRIC : 600923125020\\nDate of birth :  23/09/1960\\nProfile : PEP related - Mahdzir Khalid (PEP) (spouse). Mahani Mahdzir (daughter). Siti Hajar (daughter). Mohd Sallehudin (son). Mohd Saddam Mahdzir (son).   \n",
       "221576                                                                                                                                                                                                                                                                                                                                Mismatch ID number_NRIC. Watch person (NORAINI @ INIE BINTI ABDULLAH) is a Maybank customer with NRIC 600923125020 GCIF: 005734599. MAHDZIR KHALID (PEP) has transaction with her on APEX (552022018485). Customer's NRIC is 750917135656   \n",
       "221577                                                                                                                                                                                                                                                                                                                                Mismatch ID number_NRIC. Watch person (NORAINI @ INIE BINTI ABDULLAH) is a Maybank customer with NRIC 600923125020 GCIF: 005734599. MAHDZIR KHALID (PEP) has transaction with her on APEX (552022018485). Customer's NRIC is 890318015980   \n",
       "221578                                                                                                                                                            Mismatch Profile - As adverse news reported Jun 2020 - detained by Punjab Police in Patiala for alleged involvement in planning of terror acts and target killings. Case registered under the Unlawful Activities Prevention Act. Oct 2023 - no further information reported, APEX account customer shows an active transaction since July 2020. Hence, it is highly unlikely that watchperson is a customer.   \n",
       "\n",
       "        Counts  \\\n",
       "0        67150   \n",
       "1        40137   \n",
       "2        27341   \n",
       "3        25793   \n",
       "4        19127   \n",
       "...        ...   \n",
       "221574       1   \n",
       "221575       1   \n",
       "221576       1   \n",
       "221577       1   \n",
       "221578       1   \n",
       "\n",
       "                                                                                                                                                                                                                                                                                                                                                                           V_COMMENTS_2  \n",
       "0                                                                                                                                                                                                                                                                                                                                                               mismatch id number nric  \n",
       "1                                                                                                                                                                                                                                                                                                                                                              mismatch id number nric   \n",
       "2                                                                                                                                                                                                                                                                                                                                                            mismatch year of birth yob  \n",
       "3                                                                                                                                                                                                                                                                                                                                                               mismatch id number nric  \n",
       "4                                                                                                                                                                                                                                                                                                                                             mismatch full name does not sound similar  \n",
       "...                                                                                                                                                                                                                                                                                                                                                                                 ...  \n",
       "221574                                                         mismatch name nric date of birth profile customer  name   nric    date of birth   profile  shop sales assistants at monaliza  mastura sb computer st as per host watch person as per host based on customer number  name    nric   date of birth    profile  pep related  pep spouse. mahani dhter.  dhter.  son.   son.  \n",
       "221575                                                                             mismatch name nric date of birth profile customer as per host name   nric    date of birth   profile  is a housewifehousehusband as per host watch person as per host based on customer number  name    nric   date of birth    profile  pep related  pep spouse. mahani dhter.  dhter.  son.   son.  \n",
       "221576                                                                                                                                                                                                                                         mismatch id number nric. watch person    is a bank customer with nric  gcif .  pep has transaction with her on apex . customers nric is   \n",
       "221577                                                                                                                                                                                                                                         mismatch id number nric. watch person    is a bank customer with nric  gcif .  pep has transaction with her on apex . customers nric is   \n",
       "221578  mismatch profile as adverse news reported   detained by punjab police in patiala for alleged involvement in planning of terror acts and target killings. case registered under the unlawful activities prevention act.   no further information reported apex account customer shows an active transaction since  . hence it is highly unlikely that watchperson is a customer.  \n",
       "\n",
       "[221579 rows x 4 columns]"
      ]
     },
     "execution_count": 10,
     "metadata": {},
     "output_type": "execute_result"
    }
   ],
   "source": [
    "df_all_comments"
   ]
  },
  {
   "cell_type": "code",
   "execution_count": 11,
   "id": "60375a61",
   "metadata": {},
   "outputs": [
    {
     "name": "stderr",
     "output_type": "stream",
     "text": [
      "C:\\Users\\local_00147515\\Temp\\1\\ipykernel_9972\\2749681813.py:7: SettingWithCopyWarning: \n",
      "A value is trying to be set on a copy of a slice from a DataFrame.\n",
      "Try using .loc[row_indexer,col_indexer] = value instead\n",
      "\n",
      "See the caveats in the documentation: https://pandas.pydata.org/pandas-docs/stable/user_guide/indexing.html#returning-a-view-versus-a-copy\n",
      "  df_all_comments.V_COMMENTS = df_all_comments.V_COMMENTS.apply(lambda t : t.lower())\n"
     ]
    }
   ],
   "source": [
    "# df_all_comments[\"V_COMMENTS_2\"]=df_all_comments[\"V_COMMENTS_2\"].str.lower()\n"
   ]
  },
  {
   "cell_type": "code",
   "execution_count": null,
   "id": "361ffbc3",
   "metadata": {},
   "outputs": [],
   "source": [
    "# df_all_comments=df_all_comments[df_all_comments[\"V_COMMENTS_2\"]!=\"\"]"
   ]
  },
  {
   "cell_type": "code",
   "execution_count": null,
   "id": "ef9e02dc",
   "metadata": {},
   "outputs": [],
   "source": []
  },
  {
   "cell_type": "code",
   "execution_count": null,
   "id": "a3b1c480",
   "metadata": {},
   "outputs": [],
   "source": [
    "# re.sub(\"Agreed with(a*) recommendation\",\"\",\"Agreed with recommendation\")\n",
    "# re.sub(\"Agreed (with|as per) recommendation\",\"\",\"Agreed recommendation\")\n",
    "# patt=re.compile(\"Agreed (with|as per) (analyst(('s)*)|maker(('s)*)) (comment|recommendation)\",re.IGNORECASE)\n",
    "# re.escape(\"analyst's\")\n"
   ]
  },
  {
   "cell_type": "code",
   "execution_count": null,
   "id": "785e85a8",
   "metadata": {
    "scrolled": true
   },
   "outputs": [],
   "source": [
    "# x=re.compile(\"false hit\\.*\",re.IGNORECASE)\n",
    "# re.findall(x,\"false Hit.\")\n",
    "# txt=\"https://edmsfilenet.maybank.com.my/WorkplaceBFE/WcmSignIn.jsp?targetBase=https%3A%2F%2Fedmsfilenet.maybank.com.my%2FWorkplaceBFE&originPort=&originIp=172.31.75.67&targetUrl=WcmDefault.jsp\"\n",
    "\n",
    "# re.findall(\"https?://\\S+|www\\.\\S+\",txt)"
   ]
  },
  {
   "cell_type": "code",
   "execution_count": null,
   "id": "02ad901f",
   "metadata": {
    "scrolled": false
   },
   "outputs": [],
   "source": [
    "# df_all_comments[df_all_comments[\"V_COMMENTS\"].str.contains(\"Mismatch Full Legal Name_Name does not sound similar - watchperson\")].head(1)[\"V_COMMENTS\"]"
   ]
  },
  {
   "cell_type": "code",
   "execution_count": 12,
   "id": "4e49c317",
   "metadata": {},
   "outputs": [
    {
     "name": "stderr",
     "output_type": "stream",
     "text": [
      "C:\\Users\\local_00147515\\Temp\\1\\ipykernel_9972\\242794747.py:2: SettingWithCopyWarning: \n",
      "A value is trying to be set on a copy of a slice from a DataFrame.\n",
      "Try using .loc[row_indexer,col_indexer] = value instead\n",
      "\n",
      "See the caveats in the documentation: https://pandas.pydata.org/pandas-docs/stable/user_guide/indexing.html#returning-a-view-versus-a-copy\n",
      "  df_all_comments[\"V_COMMENTS_2\"]=df_all_comments[\"V_COMMENTS_2\"].apply(lambda x : \"\" if pd.isna(x) else x)\n"
     ]
    }
   ],
   "source": [
    "df_all_comments[\"V_COMMENTS_2\"]\n",
    "df_all_comments[\"V_COMMENTS_2\"]=df_all_comments[\"V_COMMENTS_2\"].apply(lambda x : \"\" if pd.isna(x) else x)"
   ]
  },
  {
   "cell_type": "code",
   "execution_count": 13,
   "id": "9fd3269e",
   "metadata": {},
   "outputs": [],
   "source": [
    "df_all_comments=df_all_comments[df_all_comments[\"V_COMMENTS_2\"].apply(lambda x : len(x)!=0)]"
   ]
  },
  {
   "cell_type": "code",
   "execution_count": 14,
   "id": "appreciated-chosen",
   "metadata": {
    "execution": {
     "iopub.execute_input": "2021-04-29T05:08:22.043249Z",
     "iopub.status.busy": "2021-04-29T05:08:22.042286Z",
     "iopub.status.idle": "2021-04-29T05:08:22.045495Z",
     "shell.execute_reply": "2021-04-29T05:08:22.045969Z"
    },
    "papermill": {
     "duration": 0.055184,
     "end_time": "2021-04-29T05:08:22.046167",
     "exception": false,
     "start_time": "2021-04-29T05:08:21.990983",
     "status": "completed"
    },
    "tags": []
   },
   "outputs": [],
   "source": [
    "#lowercase the articles \n",
    "df_all_comments.V_COMMENTS = df_all_comments.V_COMMENTS.apply(lambda t : t.lower())"
   ]
  },
  {
   "cell_type": "code",
   "execution_count": null,
   "id": "99df03b5",
   "metadata": {},
   "outputs": [],
   "source": []
  },
  {
   "cell_type": "markdown",
   "id": "c46cfe6e",
   "metadata": {},
   "source": [
    "Need to check whether to remove top x count words and last y count words"
   ]
  },
  {
   "cell_type": "markdown",
   "id": "victorian-creation",
   "metadata": {
    "papermill": {
     "duration": 0.028515,
     "end_time": "2021-04-29T05:08:22.104041",
     "exception": false,
     "start_time": "2021-04-29T05:08:22.075526",
     "status": "completed"
    },
    "tags": []
   },
   "source": [
    "**Expanding contractions:** Contractions are the shortened form of the words like it's, hasn't. We expand them for better analysis of our V_COMMENTS data. I have taken these contractions from [Analytics Vidhay's article](http://https://www.analyticsvidhya.com/blog/2020/04/beginners-guide-exploratory-data-analysis-V_COMMENTS-data/)."
   ]
  },
  {
   "cell_type": "code",
   "execution_count": 15,
   "id": "aboriginal-sacramento",
   "metadata": {
    "execution": {
     "iopub.execute_input": "2021-04-29T05:08:22.254972Z",
     "iopub.status.busy": "2021-04-29T05:08:22.221468Z",
     "iopub.status.idle": "2021-04-29T05:08:23.479498Z",
     "shell.execute_reply": "2021-04-29T05:08:23.480083Z"
    },
    "papermill": {
     "duration": 1.347561,
     "end_time": "2021-04-29T05:08:23.480290",
     "exception": false,
     "start_time": "2021-04-29T05:08:22.132729",
     "status": "completed"
    },
    "tags": []
   },
   "outputs": [],
   "source": [
    "# Dictionary of English Contractions\n",
    "contractions_dict = { \"ain't\": \"are not\",\"'s\":\" is\",\"aren't\": \"are not\",\n",
    "                     \"can't\": \"cannot\",\"can't've\": \"cannot have\",\n",
    "                     \"'cause\": \"because\",\"could've\": \"could have\",\"couldn't\": \"could not\",\n",
    "                     \"couldn't've\": \"could not have\", \"didn't\": \"did not\",\"doesn't\": \"does not\",\n",
    "                     \"don't\": \"do not\",\"hadn't\": \"had not\",\"hadn't've\": \"had not have\",\n",
    "                     \"hasn't\": \"has not\",\"haven't\": \"have not\",\"he'd\": \"he would\",\n",
    "                     \"he'd've\": \"he would have\",\"he'll\": \"he will\", \"he'll've\": \"he will have\",\n",
    "                     \"how'd\": \"how did\",\"how'd'y\": \"how do you\",\"how'll\": \"how will\",\n",
    "                     \"I'd\": \"I would\", \"I'd've\": \"I would have\",\"I'll\": \"I will\",\n",
    "                     \"I'll've\": \"I will have\",\"I'm\": \"I am\",\"I've\": \"I have\", \"isn't\": \"is not\",\n",
    "                     \"it'd\": \"it would\",\"it'd've\": \"it would have\",\"it'll\": \"it will\",\n",
    "                     \"it'll've\": \"it will have\", \"let's\": \"let us\",\"ma'am\": \"madam\",\n",
    "                     \"mayn't\": \"may not\",\"might've\": \"might have\",\"mightn't\": \"might not\", \n",
    "                     \"mightn't've\": \"might not have\",\"must've\": \"must have\",\"mustn't\": \"must not\",\n",
    "                     \"mustn't've\": \"must not have\", \"needn't\": \"need not\",\n",
    "                     \"needn't've\": \"need not have\",\"o'clock\": \"of the clock\",\"oughtn't\": \"ought not\",\n",
    "                     \"oughtn't've\": \"ought not have\",\"shan't\": \"shall not\",\"sha'n't\": \"shall not\",\n",
    "                     \"shan't've\": \"shall not have\",\"she'd\": \"she would\",\"she'd've\": \"she would have\",\n",
    "                     \"she'll\": \"she will\", \"she'll've\": \"she will have\",\"should've\": \"should have\",\n",
    "                     \"shouldn't\": \"should not\", \"shouldn't've\": \"should not have\",\"so've\": \"so have\",\n",
    "                     \"that'd\": \"that would\",\"that'd've\": \"that would have\", \"there'd\": \"there would\",\n",
    "                     \"there'd've\": \"there would have\", \"they'd\": \"they would\",\n",
    "                     \"they'd've\": \"they would have\",\"they'll\": \"they will\",\n",
    "                     \"they'll've\": \"they will have\", \"they're\": \"they are\",\"they've\": \"they have\",\n",
    "                     \"to've\": \"to have\",\"wasn't\": \"was not\",\"we'd\": \"we would\",\n",
    "                     \"we'd've\": \"we would have\",\"we'll\": \"we will\",\"we'll've\": \"we will have\",\n",
    "                     \"we're\": \"we are\",\"we've\": \"we have\", \"weren't\": \"were not\",\"what'll\": \"what will\",\n",
    "                     \"what'll've\": \"what will have\",\"what're\": \"what are\", \"what've\": \"what have\",\n",
    "                     \"when've\": \"when have\",\"where'd\": \"where did\", \"where've\": \"where have\",\n",
    "                     \"who'll\": \"who will\",\"who'll've\": \"who will have\",\"who've\": \"who have\",\n",
    "                     \"why've\": \"why have\",\"will've\": \"will have\",\"won't\": \"will not\",\n",
    "                     \"won't've\": \"will not have\", \"would've\": \"would have\",\"wouldn't\": \"would not\",\n",
    "                     \"wouldn't've\": \"would not have\",\"y'all\": \"you all\", \"y'all'd\": \"you all would\",\n",
    "                     \"y'all'd've\": \"you all would have\",\"y'all're\": \"you all are\",\n",
    "                     \"y'all've\": \"you all have\", \"you'd\": \"you would\",\"you'd've\": \"you would have\",\n",
    "                     \"you'll\": \"you will\",\"you'll've\": \"you will have\", \"you're\": \"you are\",\n",
    "                     \"you've\": \"you have\"}\n",
    "\n"
   ]
  },
  {
   "cell_type": "code",
   "execution_count": 16,
   "id": "4e902bad",
   "metadata": {
    "scrolled": false
   },
   "outputs": [
    {
     "data": {
      "text/plain": [
       "re.compile(r\"(ain't|'s|aren't|can't|can't've|'cause|could've|couldn't|couldn't've|didn't|doesn't|don't|hadn't|hadn't've|hasn't|haven't|he'd|he'd've|he'll|he'll've|how'd|how'd'y|how'll|I'd|I'd've|I'll|I'll've|I'm|I've|isn't|it'd|it'd've|it'll|it'll've|let's|ma'am|mayn't|might've|mightn't|mightn't've|must've|mustn't|mustn't've|needn't|needn't've|o'clock|oughtn't|oughtn't've|shan't|sha'n't|shan't've|she'd|she'd've|she'll|she'll've|should've|shouldn't|shouldn't've|so've|that'd|that'd've|there'd|there'd've|they'd|they'd've|they'll|they'll've|they're|they've|to've|wasn't|we'd|we'd've|we'll|we'll've|we're|we've|weren't|what'll|what'll've|what're|what've|when've|where'd|where've|who'll|who'll've|who've|why've|will've|won't|won't've|would've|wouldn't|wouldn't've|y'all|y'all'd|y'all'd've|y'all're|y'all've|you'd|you'd've|you'll|you'll've|you're|you've)\",\n",
       "re.UNICODE)"
      ]
     },
     "execution_count": 16,
     "metadata": {},
     "output_type": "execute_result"
    }
   ],
   "source": [
    "# Regular expression for finding contractions\n",
    "contractions_re=re.compile('(%s)' % '|'.join(contractions_dict.keys()))\n",
    "contractions_re\n"
   ]
  },
  {
   "cell_type": "markdown",
   "id": "c038df3d",
   "metadata": {},
   "source": [
    "### Step-2 expanding contractions"
   ]
  },
  {
   "cell_type": "code",
   "execution_count": 17,
   "id": "8e3b12b2",
   "metadata": {},
   "outputs": [],
   "source": [
    "# Function for expanding contractions\n",
    "def expand_contractions(V_COMMENTS,contractions_dict=contractions_dict):\n",
    "    def replace(match):\n",
    "        return contractions_dict[match.group(0)]\n",
    "    return contractions_re.sub(replace, V_COMMENTS)\n",
    "\n",
    "# Expanding Contractions in the V_COMMENTS data\n",
    "df_all_comments.V_COMMENTS = df_all_comments.V_COMMENTS.apply(lambda x:expand_contractions(x))"
   ]
  },
  {
   "cell_type": "markdown",
   "id": "49c0b5ff",
   "metadata": {},
   "source": [
    "### step -3 removing stopwords "
   ]
  },
  {
   "cell_type": "markdown",
   "id": "superb-tiffany",
   "metadata": {
    "papermill": {
     "duration": 0.030339,
     "end_time": "2021-04-29T05:08:23.539642",
     "exception": false,
     "start_time": "2021-04-29T05:08:23.509303",
     "status": "completed"
    },
    "tags": []
   },
   "source": [
    "**Removing Stopwords and Puctuations**: Stopwords are the words that are highly occurred in a language; they do not add any significance to the sentence. \"a,\" \"an,\" \"the,\" \"in\" are some examples of stopwords. So we generally ignore stop words during our NLP task. In some NLP tasks, stop words are also important, but stopwords are unnecessary for topic modeling. We also remove punctuation marks because they are also unnecessary and do not contribute anything."
   ]
  },
  {
   "cell_type": "code",
   "execution_count": 18,
   "id": "controlled-liberia",
   "metadata": {
    "execution": {
     "iopub.execute_input": "2021-04-29T05:08:23.603489Z",
     "iopub.status.busy": "2021-04-29T05:08:23.602671Z",
     "iopub.status.idle": "2021-04-29T05:08:23.614738Z",
     "shell.execute_reply": "2021-04-29T05:08:23.613787Z"
    },
    "papermill": {
     "duration": 0.046179,
     "end_time": "2021-04-29T05:08:23.614934",
     "exception": false,
     "start_time": "2021-04-29T05:08:23.568755",
     "status": "completed"
    },
    "tags": []
   },
   "outputs": [
    {
     "name": "stdout",
     "output_type": "stream",
     "text": [
      "['i', 'me', 'my', 'myself', 'we', 'our', 'ours', 'ourselves', 'you', \"you're\", \"you've\", \"you'll\", \"you'd\", 'your', 'yours', 'yourself', 'yourselves', 'he', 'him', 'his', 'himself', 'she', \"she's\", 'her', 'hers', 'herself', 'it', \"it's\", 'its', 'itself', 'they', 'them', 'their', 'theirs', 'themselves', 'what', 'which', 'who', 'whom', 'this', 'that', \"that'll\", 'these', 'those', 'am', 'is', 'are', 'was', 'were', 'be', 'been', 'being', 'have', 'has', 'had', 'having', 'do', 'does', 'did', 'doing', 'a', 'an', 'the', 'and', 'but', 'if', 'or', 'because', 'as', 'until', 'while', 'of', 'at', 'by', 'for', 'with', 'about', 'against', 'between', 'into', 'through', 'during', 'before', 'after', 'above', 'below', 'to', 'from', 'up', 'down', 'in', 'out', 'on', 'off', 'over', 'under', 'again', 'further', 'then', 'once', 'here', 'there', 'when', 'where', 'why', 'how', 'all', 'any', 'both', 'each', 'few', 'more', 'most', 'other', 'some', 'such', 'no', 'nor', 'not', 'only', 'own', 'same', 'so', 'than', 'too', 'very', 's', 't', 'can', 'will', 'just', 'don', \"don't\", 'should', \"should've\", 'now', 'd', 'll', 'm', 'o', 're', 've', 'y', 'ain', 'aren', \"aren't\", 'couldn', \"couldn't\", 'didn', \"didn't\", 'doesn', \"doesn't\", 'hadn', \"hadn't\", 'hasn', \"hasn't\", 'haven', \"haven't\", 'isn', \"isn't\", 'ma', 'mightn', \"mightn't\", 'mustn', \"mustn't\", 'needn', \"needn't\", 'shan', \"shan't\", 'shouldn', \"shouldn't\", 'wasn', \"wasn't\", 'weren', \"weren't\", 'won', \"won't\", 'wouldn', \"wouldn't\"]\n"
     ]
    }
   ],
   "source": [
    "print(stopwords.words('english'))"
   ]
  },
  {
   "cell_type": "code",
   "execution_count": 19,
   "id": "ff3a671c",
   "metadata": {},
   "outputs": [],
   "source": [
    "stop_words = set(stopwords.words('english')) "
   ]
  },
  {
   "cell_type": "code",
   "execution_count": 20,
   "id": "d5e9313f",
   "metadata": {},
   "outputs": [],
   "source": [
    "def remove_stopwords(document):\n",
    "    \"Return the articles after remvoing stopwords\"\n",
    "    article_tokens = word_tokenize(document) \n",
    "    filtered_article = [word for word in article_tokens if not word in stop_words] \n",
    "    return \" \".join(filtered_article)"
   ]
  },
  {
   "cell_type": "code",
   "execution_count": 21,
   "id": "cc22ac30",
   "metadata": {},
   "outputs": [],
   "source": [
    "#removing stopwords\n",
    "df_all_comments.V_COMMENTS_2=df_all_comments.V_COMMENTS_2.apply(lambda x: remove_stopwords(x))"
   ]
  },
  {
   "cell_type": "code",
   "execution_count": null,
   "id": "57ef48f6",
   "metadata": {},
   "outputs": [],
   "source": [
    "# df_all_comments.V_COMMENTS_2[df_all_comments.V_COMMENTS_2.str.contains(r\"\\bof\\b\")]"
   ]
  },
  {
   "cell_type": "markdown",
   "id": "1757dc27",
   "metadata": {},
   "source": [
    "### step-4 removing Punctuations"
   ]
  },
  {
   "cell_type": "code",
   "execution_count": 22,
   "id": "vanilla-costume",
   "metadata": {
    "execution": {
     "iopub.execute_input": "2021-04-29T05:08:23.679876Z",
     "iopub.status.busy": "2021-04-29T05:08:23.679137Z",
     "iopub.status.idle": "2021-04-29T05:08:23.683028Z",
     "shell.execute_reply": "2021-04-29T05:08:23.682424Z"
    },
    "papermill": {
     "duration": 0.03748,
     "end_time": "2021-04-29T05:08:23.683159",
     "exception": false,
     "start_time": "2021-04-29T05:08:23.645679",
     "status": "completed"
    },
    "scrolled": true,
    "tags": []
   },
   "outputs": [
    {
     "name": "stdout",
     "output_type": "stream",
     "text": [
      "These are the punctuations which string.punctuation consist :  !\"#$%&'()*+,-./:;<=>?@[\\]^_`{|}~\n"
     ]
    }
   ],
   "source": [
    "print(f\"These are the punctuations which string.punctuation consist :  {string.punctuation}\")"
   ]
  },
  {
   "cell_type": "code",
   "execution_count": 23,
   "id": "7405ec66",
   "metadata": {},
   "outputs": [
    {
     "data": {
      "text/plain": [
       "'[!\"\\\\#\\\\$%\\\\&\\'\\\\(\\\\)\\\\*\\\\+,\\\\-\\\\./:;<=>\\\\?@\\\\[\\\\\\\\\\\\]\\\\^_`\\\\{\\\\|\\\\}\\\\~]'"
      ]
     },
     "execution_count": 23,
     "metadata": {},
     "output_type": "execute_result"
    }
   ],
   "source": [
    "'[%s]' % re.escape(string.punctuation)"
   ]
  },
  {
   "cell_type": "code",
   "execution_count": 24,
   "id": "f5b56587",
   "metadata": {},
   "outputs": [],
   "source": [
    "#removing Punctuations \n",
    "df_all_comments.V_COMMENTS_2=df_all_comments.V_COMMENTS_2.apply(lambda x: re.sub('[%s]' % re.escape(string.punctuation), '', x))"
   ]
  },
  {
   "cell_type": "code",
   "execution_count": 25,
   "id": "36c81f96",
   "metadata": {},
   "outputs": [
    {
     "data": {
      "text/plain": [
       "0                                                                                                                                                                                                                                                                                            mismatch id number nric\n",
       "1                                                                                                                                                                                                                                                                                            mismatch id number nric\n",
       "2                                                                                                                                                                                                                                                                                            mismatch year birth yob\n",
       "3                                                                                                                                                                                                                                                                                            mismatch id number nric\n",
       "4                                                                                                                                                                                                                                                                                   mismatch full name sound similar\n",
       "                                                                                                                                                             ...                                                                                                                                                    \n",
       "221574                                    mismatch name nric date birth profile customer name nric date birth profile shop sales assistants monaliza mastura sb computer st per host watch person per host based customer number name nric date birth profile pep related pep spouse  mahani dhter  dhter  son  son \n",
       "221575                                                           mismatch name nric date birth profile customer per host name nric date birth profile housewifehousehusband per host watch person per host based customer number name nric date birth profile pep related pep spouse  mahani dhter  dhter  son  son \n",
       "221576                                                                                                                                                                                                           mismatch id number nric  watch person bank customer nric gcif  pep transaction apex  customers nric\n",
       "221577                                                                                                                                                                                                           mismatch id number nric  watch person bank customer nric gcif  pep transaction apex  customers nric\n",
       "221578    mismatch profile adverse news reported detained punjab police patiala alleged involvement planning terror acts target killings  case registered unlawful activities prevention act  information reported apex account customer shows active transaction since  hence highly unlikely watchperson customer \n",
       "Name: V_COMMENTS_2, Length: 221574, dtype: object"
      ]
     },
     "execution_count": 25,
     "metadata": {},
     "output_type": "execute_result"
    }
   ],
   "source": [
    "df_all_comments.V_COMMENTS_2"
   ]
  },
  {
   "cell_type": "code",
   "execution_count": null,
   "id": "worse-taste",
   "metadata": {
    "execution": {
     "iopub.execute_input": "2021-04-29T05:08:23.749842Z",
     "iopub.status.busy": "2021-04-29T05:08:23.749181Z",
     "iopub.status.idle": "2021-04-29T05:08:33.723596Z",
     "shell.execute_reply": "2021-04-29T05:08:33.724276Z"
    },
    "papermill": {
     "duration": 10.01178,
     "end_time": "2021-04-29T05:08:33.724443",
     "exception": false,
     "start_time": "2021-04-29T05:08:23.712663",
     "status": "completed"
    },
    "tags": []
   },
   "outputs": [],
   "source": [
    "# #removing digits\n",
    "# df_all_comments.V_COMMENTS_2 = df_all_comments.V_COMMENTS_2.apply(lambda x: re.sub('\\d*','', x))\n",
    "\n",
    "# df_all_comments.V_COMMENTS_2[50]"
   ]
  },
  {
   "cell_type": "markdown",
   "id": "occasional-potato",
   "metadata": {
    "papermill": {
     "duration": 0.030692,
     "end_time": "2021-04-29T05:08:33.786349",
     "exception": false,
     "start_time": "2021-04-29T05:08:33.755657",
     "status": "completed"
    },
    "tags": []
   },
   "source": [
    "There are still some marks like quotation marks, hypen and apostrophe still remaining in the article, we also need to remove them."
   ]
  },
  {
   "cell_type": "code",
   "execution_count": null,
   "id": "9618b516",
   "metadata": {},
   "outputs": [],
   "source": [
    "# df_all_comments.V_COMMENTS_2 = df_all_comments.V_COMMENTS_2.apply(remove_extra_marks)"
   ]
  },
  {
   "cell_type": "code",
   "execution_count": null,
   "id": "southeast-chaos",
   "metadata": {
    "execution": {
     "iopub.execute_input": "2021-04-29T05:08:33.915012Z",
     "iopub.status.busy": "2021-04-29T05:08:33.892673Z",
     "iopub.status.idle": "2021-04-29T05:08:38.104570Z",
     "shell.execute_reply": "2021-04-29T05:08:38.103948Z"
    },
    "papermill": {
     "duration": 4.287208,
     "end_time": "2021-04-29T05:08:38.104724",
     "exception": false,
     "start_time": "2021-04-29T05:08:33.817516",
     "status": "completed"
    },
    "tags": []
   },
   "outputs": [],
   "source": [
    "# def remove_extra_marks(article):\n",
    "#     extra_keys = [\"’\",\"—\",\"”\",\"“\"]\n",
    "#     article_tokens = word_tokenize(article) \n",
    "#     filtered_article = [word for word in article_tokens if not word in extra_keys] \n",
    "#     return \" \".join(filtered_article)\n",
    "    \n",
    "# df_all_comments.V_COMMENTS_2 = df_all_comments.V_COMMENTS_2.apply(remove_extra_marks)"
   ]
  },
  {
   "cell_type": "code",
   "execution_count": null,
   "id": "indoor-certification",
   "metadata": {
    "execution": {
     "iopub.execute_input": "2021-04-29T05:08:38.170498Z",
     "iopub.status.busy": "2021-04-29T05:08:38.169644Z",
     "iopub.status.idle": "2021-04-29T05:08:38.174453Z",
     "shell.execute_reply": "2021-04-29T05:08:38.173806Z"
    },
    "papermill": {
     "duration": 0.039825,
     "end_time": "2021-04-29T05:08:38.174594",
     "exception": false,
     "start_time": "2021-04-29T05:08:38.134769",
     "status": "completed"
    },
    "tags": []
   },
   "outputs": [],
   "source": [
    "#printing arbitrary example to visulise clean data\n",
    "df_all_comments.V_COMMENTS_2[50]"
   ]
  },
  {
   "cell_type": "code",
   "execution_count": null,
   "id": "62eacd08",
   "metadata": {},
   "outputs": [],
   "source": [
    "### Step 5- Lemmatization"
   ]
  },
  {
   "cell_type": "markdown",
   "id": "09490c6e",
   "metadata": {
    "papermill": {
     "duration": 0.030196,
     "end_time": "2021-04-29T05:08:38.235347",
     "exception": false,
     "start_time": "2021-04-29T05:08:38.205151",
     "status": "completed"
    },
    "tags": []
   },
   "source": [
    "**Lemmaztisation:** Lemmatization process Topic modeling algorithm to avoid making mistakes by converting the word in its root from like lemmatization prevents counting \"help\", \"helps\", \"helping\" as three different words. Stemming can also be used, but it performs the task more forcefully, and sometimes the word loses its meaning, so I prefer lemmatization for the topic modeling task.\n",
    "\n",
    "Here I am using **spacy** library to perform the lemmatizaton task."
   ]
  },
  {
   "cell_type": "code",
   "execution_count": 26,
   "id": "adult-reasoning",
   "metadata": {
    "execution": {
     "iopub.execute_input": "2021-04-29T05:08:38.301992Z",
     "iopub.status.busy": "2021-04-29T05:08:38.301312Z",
     "iopub.status.idle": "2021-04-29T05:08:40.279461Z",
     "shell.execute_reply": "2021-04-29T05:08:40.278825Z"
    },
    "papermill": {
     "duration": 2.013777,
     "end_time": "2021-04-29T05:08:40.279599",
     "exception": false,
     "start_time": "2021-04-29T05:08:38.265822",
     "status": "completed"
    },
    "tags": []
   },
   "outputs": [
    {
     "name": "stdout",
     "output_type": "stream",
     "text": [
      " \"helps\" after lemmztization :  help\n",
      " \"helping\" after lemmztization :  help\n"
     ]
    }
   ],
   "source": [
    "import spacy\n",
    "nlp = spacy.load('en_core_web_sm')\n",
    "print(f\"\"\" \"helps\" after lemmztization :  {nlp(\"helps\")[0].lemma_}\"\"\")\n",
    "print(f\"\"\" \"helping\" after lemmztization :  {nlp(\"helping\")[0].lemma_}\"\"\")"
   ]
  },
  {
   "cell_type": "code",
   "execution_count": 27,
   "id": "aging-spokesman",
   "metadata": {
    "execution": {
     "iopub.execute_input": "2021-04-29T05:08:40.388704Z",
     "iopub.status.busy": "2021-04-29T05:08:40.383078Z",
     "iopub.status.idle": "2021-04-29T05:09:32.415977Z",
     "shell.execute_reply": "2021-04-29T05:09:32.415411Z"
    },
    "papermill": {
     "duration": 52.105603,
     "end_time": "2021-04-29T05:09:32.416114",
     "exception": false,
     "start_time": "2021-04-29T05:08:40.310511",
     "status": "completed"
    },
    "tags": []
   },
   "outputs": [],
   "source": [
    "def lemmatize(V_COMMENTS_2):\n",
    "    \"\"\"Return V_COMMENTS_2 after performing the lemmitization\"\"\"\n",
    "    doc = nlp(V_COMMENTS_2)\n",
    "    tokens = [token for token in doc]\n",
    "    return  \" \".join([token.lemma_ for token in doc])\n",
    "\n"
   ]
  },
  {
   "cell_type": "code",
   "execution_count": 28,
   "id": "010125b0",
   "metadata": {},
   "outputs": [
    {
     "ename": "KeyboardInterrupt",
     "evalue": "",
     "output_type": "error",
     "traceback": [
      "\u001b[1;31m---------------------------------------------------------------------------\u001b[0m",
      "\u001b[1;31mKeyboardInterrupt\u001b[0m                         Traceback (most recent call last)",
      "\u001b[1;32mC:\\Users\\local_00147515\\Temp\\1\\ipykernel_9972\\3619380833.py\u001b[0m in \u001b[0;36m<module>\u001b[1;34m\u001b[0m\n\u001b[0;32m      1\u001b[0m \u001b[1;32mimport\u001b[0m  \u001b[0mtime\u001b[0m\u001b[1;33m\u001b[0m\u001b[1;33m\u001b[0m\u001b[0m\n\u001b[0;32m      2\u001b[0m \u001b[0mstart\u001b[0m\u001b[1;33m=\u001b[0m\u001b[0mtime\u001b[0m\u001b[1;33m.\u001b[0m\u001b[0mtime\u001b[0m\u001b[1;33m(\u001b[0m\u001b[1;33m)\u001b[0m\u001b[1;33m\u001b[0m\u001b[1;33m\u001b[0m\u001b[0m\n\u001b[1;32m----> 3\u001b[1;33m \u001b[0mdf_all_comments\u001b[0m\u001b[1;33m.\u001b[0m\u001b[0mV_COMMENTS_2\u001b[0m\u001b[1;33m=\u001b[0m\u001b[0mdf_all_comments\u001b[0m\u001b[1;33m.\u001b[0m\u001b[0mV_COMMENTS_2\u001b[0m\u001b[1;33m.\u001b[0m\u001b[0mapply\u001b[0m\u001b[1;33m(\u001b[0m\u001b[1;32mlambda\u001b[0m \u001b[0mx\u001b[0m\u001b[1;33m:\u001b[0m\u001b[0mlemmatize\u001b[0m\u001b[1;33m(\u001b[0m\u001b[0mx\u001b[0m\u001b[1;33m)\u001b[0m\u001b[1;33m)\u001b[0m\u001b[1;33m\u001b[0m\u001b[1;33m\u001b[0m\u001b[0m\n\u001b[0m\u001b[0;32m      4\u001b[0m \u001b[0mend\u001b[0m\u001b[1;33m=\u001b[0m\u001b[0mtime\u001b[0m\u001b[1;33m.\u001b[0m\u001b[0mtime\u001b[0m\u001b[1;33m(\u001b[0m\u001b[1;33m)\u001b[0m\u001b[1;33m\u001b[0m\u001b[1;33m\u001b[0m\u001b[0m\n\u001b[0;32m      5\u001b[0m \u001b[0mprint\u001b[0m\u001b[1;33m(\u001b[0m\u001b[0mend\u001b[0m\u001b[1;33m-\u001b[0m\u001b[0mstart\u001b[0m\u001b[1;33m)\u001b[0m\u001b[1;33m\u001b[0m\u001b[1;33m\u001b[0m\u001b[0m\n",
      "\u001b[1;32mC:\\ProgramData\\Anaconda3\\lib\\site-packages\\pandas\\core\\series.py\u001b[0m in \u001b[0;36mapply\u001b[1;34m(self, func, convert_dtype, args, **kwargs)\u001b[0m\n\u001b[0;32m   4431\u001b[0m         \u001b[0mdtype\u001b[0m\u001b[1;33m:\u001b[0m \u001b[0mfloat64\u001b[0m\u001b[1;33m\u001b[0m\u001b[1;33m\u001b[0m\u001b[0m\n\u001b[0;32m   4432\u001b[0m         \"\"\"\n\u001b[1;32m-> 4433\u001b[1;33m         \u001b[1;32mreturn\u001b[0m \u001b[0mSeriesApply\u001b[0m\u001b[1;33m(\u001b[0m\u001b[0mself\u001b[0m\u001b[1;33m,\u001b[0m \u001b[0mfunc\u001b[0m\u001b[1;33m,\u001b[0m \u001b[0mconvert_dtype\u001b[0m\u001b[1;33m,\u001b[0m \u001b[0margs\u001b[0m\u001b[1;33m,\u001b[0m \u001b[0mkwargs\u001b[0m\u001b[1;33m)\u001b[0m\u001b[1;33m.\u001b[0m\u001b[0mapply\u001b[0m\u001b[1;33m(\u001b[0m\u001b[1;33m)\u001b[0m\u001b[1;33m\u001b[0m\u001b[1;33m\u001b[0m\u001b[0m\n\u001b[0m\u001b[0;32m   4434\u001b[0m \u001b[1;33m\u001b[0m\u001b[0m\n\u001b[0;32m   4435\u001b[0m     def _reduce(\n",
      "\u001b[1;32mC:\\ProgramData\\Anaconda3\\lib\\site-packages\\pandas\\core\\apply.py\u001b[0m in \u001b[0;36mapply\u001b[1;34m(self)\u001b[0m\n\u001b[0;32m   1086\u001b[0m             \u001b[1;32mreturn\u001b[0m \u001b[0mself\u001b[0m\u001b[1;33m.\u001b[0m\u001b[0mapply_str\u001b[0m\u001b[1;33m(\u001b[0m\u001b[1;33m)\u001b[0m\u001b[1;33m\u001b[0m\u001b[1;33m\u001b[0m\u001b[0m\n\u001b[0;32m   1087\u001b[0m \u001b[1;33m\u001b[0m\u001b[0m\n\u001b[1;32m-> 1088\u001b[1;33m         \u001b[1;32mreturn\u001b[0m \u001b[0mself\u001b[0m\u001b[1;33m.\u001b[0m\u001b[0mapply_standard\u001b[0m\u001b[1;33m(\u001b[0m\u001b[1;33m)\u001b[0m\u001b[1;33m\u001b[0m\u001b[1;33m\u001b[0m\u001b[0m\n\u001b[0m\u001b[0;32m   1089\u001b[0m \u001b[1;33m\u001b[0m\u001b[0m\n\u001b[0;32m   1090\u001b[0m     \u001b[1;32mdef\u001b[0m \u001b[0magg\u001b[0m\u001b[1;33m(\u001b[0m\u001b[0mself\u001b[0m\u001b[1;33m)\u001b[0m\u001b[1;33m:\u001b[0m\u001b[1;33m\u001b[0m\u001b[1;33m\u001b[0m\u001b[0m\n",
      "\u001b[1;32mC:\\ProgramData\\Anaconda3\\lib\\site-packages\\pandas\\core\\apply.py\u001b[0m in \u001b[0;36mapply_standard\u001b[1;34m(self)\u001b[0m\n\u001b[0;32m   1141\u001b[0m                 \u001b[1;31m# List[Union[Callable[..., Any], str]]]]]\"; expected\u001b[0m\u001b[1;33m\u001b[0m\u001b[1;33m\u001b[0m\u001b[0m\n\u001b[0;32m   1142\u001b[0m                 \u001b[1;31m# \"Callable[[Any], Any]\"\u001b[0m\u001b[1;33m\u001b[0m\u001b[1;33m\u001b[0m\u001b[0m\n\u001b[1;32m-> 1143\u001b[1;33m                 mapped = lib.map_infer(\n\u001b[0m\u001b[0;32m   1144\u001b[0m                     \u001b[0mvalues\u001b[0m\u001b[1;33m,\u001b[0m\u001b[1;33m\u001b[0m\u001b[1;33m\u001b[0m\u001b[0m\n\u001b[0;32m   1145\u001b[0m                     \u001b[0mf\u001b[0m\u001b[1;33m,\u001b[0m  \u001b[1;31m# type: ignore[arg-type]\u001b[0m\u001b[1;33m\u001b[0m\u001b[1;33m\u001b[0m\u001b[0m\n",
      "\u001b[1;32mC:\\ProgramData\\Anaconda3\\lib\\site-packages\\pandas\\_libs\\lib.pyx\u001b[0m in \u001b[0;36mpandas._libs.lib.map_infer\u001b[1;34m()\u001b[0m\n",
      "\u001b[1;32mC:\\Users\\local_00147515\\Temp\\1\\ipykernel_9972\\3619380833.py\u001b[0m in \u001b[0;36m<lambda>\u001b[1;34m(x)\u001b[0m\n\u001b[0;32m      1\u001b[0m \u001b[1;32mimport\u001b[0m  \u001b[0mtime\u001b[0m\u001b[1;33m\u001b[0m\u001b[1;33m\u001b[0m\u001b[0m\n\u001b[0;32m      2\u001b[0m \u001b[0mstart\u001b[0m\u001b[1;33m=\u001b[0m\u001b[0mtime\u001b[0m\u001b[1;33m.\u001b[0m\u001b[0mtime\u001b[0m\u001b[1;33m(\u001b[0m\u001b[1;33m)\u001b[0m\u001b[1;33m\u001b[0m\u001b[1;33m\u001b[0m\u001b[0m\n\u001b[1;32m----> 3\u001b[1;33m \u001b[0mdf_all_comments\u001b[0m\u001b[1;33m.\u001b[0m\u001b[0mV_COMMENTS_2\u001b[0m\u001b[1;33m=\u001b[0m\u001b[0mdf_all_comments\u001b[0m\u001b[1;33m.\u001b[0m\u001b[0mV_COMMENTS_2\u001b[0m\u001b[1;33m.\u001b[0m\u001b[0mapply\u001b[0m\u001b[1;33m(\u001b[0m\u001b[1;32mlambda\u001b[0m \u001b[0mx\u001b[0m\u001b[1;33m:\u001b[0m\u001b[0mlemmatize\u001b[0m\u001b[1;33m(\u001b[0m\u001b[0mx\u001b[0m\u001b[1;33m)\u001b[0m\u001b[1;33m)\u001b[0m\u001b[1;33m\u001b[0m\u001b[1;33m\u001b[0m\u001b[0m\n\u001b[0m\u001b[0;32m      4\u001b[0m \u001b[0mend\u001b[0m\u001b[1;33m=\u001b[0m\u001b[0mtime\u001b[0m\u001b[1;33m.\u001b[0m\u001b[0mtime\u001b[0m\u001b[1;33m(\u001b[0m\u001b[1;33m)\u001b[0m\u001b[1;33m\u001b[0m\u001b[1;33m\u001b[0m\u001b[0m\n\u001b[0;32m      5\u001b[0m \u001b[0mprint\u001b[0m\u001b[1;33m(\u001b[0m\u001b[0mend\u001b[0m\u001b[1;33m-\u001b[0m\u001b[0mstart\u001b[0m\u001b[1;33m)\u001b[0m\u001b[1;33m\u001b[0m\u001b[1;33m\u001b[0m\u001b[0m\n",
      "\u001b[1;32mC:\\Users\\local_00147515\\Temp\\1\\ipykernel_9972\\2622830687.py\u001b[0m in \u001b[0;36mlemmatize\u001b[1;34m(V_COMMENTS_2)\u001b[0m\n\u001b[0;32m      1\u001b[0m \u001b[1;32mdef\u001b[0m \u001b[0mlemmatize\u001b[0m\u001b[1;33m(\u001b[0m\u001b[0mV_COMMENTS_2\u001b[0m\u001b[1;33m)\u001b[0m\u001b[1;33m:\u001b[0m\u001b[1;33m\u001b[0m\u001b[1;33m\u001b[0m\u001b[0m\n\u001b[0;32m      2\u001b[0m     \u001b[1;34m\"\"\"Return V_COMMENTS_2 after performing the lemmitization\"\"\"\u001b[0m\u001b[1;33m\u001b[0m\u001b[1;33m\u001b[0m\u001b[0m\n\u001b[1;32m----> 3\u001b[1;33m     \u001b[0mdoc\u001b[0m \u001b[1;33m=\u001b[0m \u001b[0mnlp\u001b[0m\u001b[1;33m(\u001b[0m\u001b[0mV_COMMENTS_2\u001b[0m\u001b[1;33m)\u001b[0m\u001b[1;33m\u001b[0m\u001b[1;33m\u001b[0m\u001b[0m\n\u001b[0m\u001b[0;32m      4\u001b[0m     \u001b[0mtokens\u001b[0m \u001b[1;33m=\u001b[0m \u001b[1;33m[\u001b[0m\u001b[0mtoken\u001b[0m \u001b[1;32mfor\u001b[0m \u001b[0mtoken\u001b[0m \u001b[1;32min\u001b[0m \u001b[0mdoc\u001b[0m\u001b[1;33m]\u001b[0m\u001b[1;33m\u001b[0m\u001b[1;33m\u001b[0m\u001b[0m\n\u001b[0;32m      5\u001b[0m     \u001b[1;32mreturn\u001b[0m  \u001b[1;34m\" \"\u001b[0m\u001b[1;33m.\u001b[0m\u001b[0mjoin\u001b[0m\u001b[1;33m(\u001b[0m\u001b[1;33m[\u001b[0m\u001b[0mtoken\u001b[0m\u001b[1;33m.\u001b[0m\u001b[0mlemma_\u001b[0m \u001b[1;32mfor\u001b[0m \u001b[0mtoken\u001b[0m \u001b[1;32min\u001b[0m \u001b[0mdoc\u001b[0m\u001b[1;33m]\u001b[0m\u001b[1;33m)\u001b[0m\u001b[1;33m\u001b[0m\u001b[1;33m\u001b[0m\u001b[0m\n",
      "\u001b[1;32mC:\\ProgramData\\Anaconda3\\lib\\site-packages\\spacy\\language.py\u001b[0m in \u001b[0;36m__call__\u001b[1;34m(self, text, disable, component_cfg)\u001b[0m\n\u001b[0;32m   1047\u001b[0m                 \u001b[0merror_handler\u001b[0m \u001b[1;33m=\u001b[0m \u001b[0mproc\u001b[0m\u001b[1;33m.\u001b[0m\u001b[0mget_error_handler\u001b[0m\u001b[1;33m(\u001b[0m\u001b[1;33m)\u001b[0m\u001b[1;33m\u001b[0m\u001b[1;33m\u001b[0m\u001b[0m\n\u001b[0;32m   1048\u001b[0m             \u001b[1;32mtry\u001b[0m\u001b[1;33m:\u001b[0m\u001b[1;33m\u001b[0m\u001b[1;33m\u001b[0m\u001b[0m\n\u001b[1;32m-> 1049\u001b[1;33m                 \u001b[0mdoc\u001b[0m \u001b[1;33m=\u001b[0m \u001b[0mproc\u001b[0m\u001b[1;33m(\u001b[0m\u001b[0mdoc\u001b[0m\u001b[1;33m,\u001b[0m \u001b[1;33m**\u001b[0m\u001b[0mcomponent_cfg\u001b[0m\u001b[1;33m.\u001b[0m\u001b[0mget\u001b[0m\u001b[1;33m(\u001b[0m\u001b[0mname\u001b[0m\u001b[1;33m,\u001b[0m \u001b[1;33m{\u001b[0m\u001b[1;33m}\u001b[0m\u001b[1;33m)\u001b[0m\u001b[1;33m)\u001b[0m  \u001b[1;31m# type: ignore[call-arg]\u001b[0m\u001b[1;33m\u001b[0m\u001b[1;33m\u001b[0m\u001b[0m\n\u001b[0m\u001b[0;32m   1050\u001b[0m             \u001b[1;32mexcept\u001b[0m \u001b[0mKeyError\u001b[0m \u001b[1;32mas\u001b[0m \u001b[0me\u001b[0m\u001b[1;33m:\u001b[0m\u001b[1;33m\u001b[0m\u001b[1;33m\u001b[0m\u001b[0m\n\u001b[0;32m   1051\u001b[0m                 \u001b[1;31m# This typically happens if a component is not initialized\u001b[0m\u001b[1;33m\u001b[0m\u001b[1;33m\u001b[0m\u001b[0m\n",
      "\u001b[1;32mC:\\ProgramData\\Anaconda3\\lib\\site-packages\\spacy\\pipeline\\trainable_pipe.pyx\u001b[0m in \u001b[0;36mspacy.pipeline.trainable_pipe.TrainablePipe.__call__\u001b[1;34m()\u001b[0m\n",
      "\u001b[1;32mC:\\ProgramData\\Anaconda3\\lib\\site-packages\\spacy\\pipeline\\transition_parser.pyx\u001b[0m in \u001b[0;36mspacy.pipeline.transition_parser.Parser.set_annotations\u001b[1;34m()\u001b[0m\n",
      "\u001b[1;32mC:\\ProgramData\\Anaconda3\\lib\\site-packages\\spacy\\pipeline\\_parser_internals\\ner.pyx\u001b[0m in \u001b[0;36mspacy.pipeline._parser_internals.ner.BiluoPushDown.set_annotations\u001b[1;34m()\u001b[0m\n",
      "\u001b[1;32mC:\\ProgramData\\Anaconda3\\lib\\site-packages\\spacy\\tokens\\doc.pyx\u001b[0m in \u001b[0;36mspacy.tokens.doc.Doc.set_ents\u001b[1;34m()\u001b[0m\n",
      "\u001b[1;32mC:\\ProgramData\\Anaconda3\\lib\\site-packages\\spacy\\tokens\\doc.pyx\u001b[0m in \u001b[0;36mspacy.tokens.doc.SetEntsDefault.values\u001b[1;34m()\u001b[0m\n",
      "\u001b[1;32mC:\\ProgramData\\Anaconda3\\lib\\enum.py\u001b[0m in \u001b[0;36m__members__\u001b[1;34m(cls)\u001b[0m\n\u001b[0;32m    441\u001b[0m         \u001b[1;32mreturn\u001b[0m \u001b[0mlen\u001b[0m\u001b[1;33m(\u001b[0m\u001b[0mcls\u001b[0m\u001b[1;33m.\u001b[0m\u001b[0m_member_names_\u001b[0m\u001b[1;33m)\u001b[0m\u001b[1;33m\u001b[0m\u001b[1;33m\u001b[0m\u001b[0m\n\u001b[0;32m    442\u001b[0m \u001b[1;33m\u001b[0m\u001b[0m\n\u001b[1;32m--> 443\u001b[1;33m     \u001b[1;33m@\u001b[0m\u001b[0mproperty\u001b[0m\u001b[1;33m\u001b[0m\u001b[1;33m\u001b[0m\u001b[0m\n\u001b[0m\u001b[0;32m    444\u001b[0m     \u001b[1;32mdef\u001b[0m \u001b[0m__members__\u001b[0m\u001b[1;33m(\u001b[0m\u001b[0mcls\u001b[0m\u001b[1;33m)\u001b[0m\u001b[1;33m:\u001b[0m\u001b[1;33m\u001b[0m\u001b[1;33m\u001b[0m\u001b[0m\n\u001b[0;32m    445\u001b[0m         \"\"\"\n",
      "\u001b[1;31mKeyboardInterrupt\u001b[0m: "
     ]
    }
   ],
   "source": [
    "import  time\n",
    "start=time.time()\n",
    "df_all_comments.V_COMMENTS_2=df_all_comments.V_COMMENTS_2.apply(lambda x:lemmatize(x))\n",
    "end=time.time()\n",
    "print(end-start)"
   ]
  },
  {
   "cell_type": "code",
   "execution_count": null,
   "id": "ca0644d5",
   "metadata": {},
   "outputs": [],
   "source": [
    "#removing stopwords\n",
    "df_all_comments.V_COMMENTS_2=df_all_comments.V_COMMENTS_2.apply(lambda x: remove_stopwords(x))"
   ]
  },
  {
   "cell_type": "code",
   "execution_count": null,
   "id": "d80abc8e",
   "metadata": {},
   "outputs": [],
   "source": [
    "df_all_comments[df_all_comments.V_COMMENTS_2.str.contains(r\"\\s(THE|or|be|that|to|in|and|)\\s\")]"
   ]
  },
  {
   "cell_type": "code",
   "execution_count": null,
   "id": "eb6d6059",
   "metadata": {},
   "outputs": [],
   "source": [
    "# df_all_comments.V_COMMENTS_3=df_all_comments.V_COMMENTS_2.copy()\n"
   ]
  },
  {
   "cell_type": "code",
   "execution_count": null,
   "id": "3e3e6dfe",
   "metadata": {},
   "outputs": [],
   "source": [
    "#lemmatize the articles\n",
    "# df_all_comments.V_COMMENTS_2 = df_all_comments.V_COMMENTS_2.apply(lemmatize)"
   ]
  },
  {
   "cell_type": "code",
   "execution_count": null,
   "id": "77780626",
   "metadata": {},
   "outputs": [],
   "source": [
    "df_all_comments.to_csv(\"comments_after_lemmatization.csv\")"
   ]
  },
  {
   "cell_type": "markdown",
   "id": "unlimited-surprise",
   "metadata": {
    "papermill": {
     "duration": 0.03057,
     "end_time": "2021-04-29T05:09:32.478197",
     "exception": false,
     "start_time": "2021-04-29T05:09:32.447627",
     "status": "completed"
    },
    "tags": []
   },
   "source": [
    "Now we have finished with all the data preprocessing steps, and let's plot a word cloud to visualize the most frequently used words and see the most commonly occurred word in the articles."
   ]
  },
  {
   "cell_type": "code",
   "execution_count": null,
   "id": "suitable-pointer",
   "metadata": {
    "execution": {
     "iopub.execute_input": "2021-04-29T05:09:32.547224Z",
     "iopub.status.busy": "2021-04-29T05:09:32.546417Z",
     "iopub.status.idle": "2021-04-29T05:09:36.371032Z",
     "shell.execute_reply": "2021-04-29T05:09:36.370349Z"
    },
    "papermill": {
     "duration": 3.861924,
     "end_time": "2021-04-29T05:09:36.371180",
     "exception": false,
     "start_time": "2021-04-29T05:09:32.509256",
     "status": "completed"
    },
    "tags": []
   },
   "outputs": [],
   "source": [
    "# import wordcloud\n",
    "# from wordcloud import WordCloud\n",
    "\n",
    "# #combine all the articles\n",
    "# article_data = \"\"\n",
    "# for article in df_all_comments.V_COMMENTS_2:\n",
    "#     article_data = article_data+\" \"+article\n",
    "\n",
    "# #ploting the word cloud\n",
    "# plt.figure(figsize=(10, 10))\n",
    "# wordcloud = WordCloud(width = 500, height = 500, background_color='#40E0D0', colormap=\"ocean\",  random_state=10).generate(article_data)\n",
    "# plt.imshow(wordcloud)\n",
    "# plt.axis(\"off\")\n",
    "# plt.show()"
   ]
  },
  {
   "attachments": {
    "f941a0a0-3132-4dd6-88d8-2930d44b78c5.png": {
     "image/png": "[encoded data removed]"
    }
   },
   "cell_type": "markdown",
   "id": "political-stone",
   "metadata": {
    "_kg_hide-output": true,
    "papermill": {
     "duration": 0.039302,
     "end_time": "2021-04-29T05:09:36.450822",
     "exception": false,
     "start_time": "2021-04-29T05:09:36.411520",
     "status": "completed"
    },
    "tags": []
   },
   "source": [
    "## Latent Dirichlet Allocation[LDA]:  \n",
    "\n",
    "LDA algorithm is an unsupervised learning algorithm that works on a probabilistic statistical model to discover topics that the document contains automatically. <br> \n",
    "This algorithm works on certain assumptions. The assumption is that the document was generated by picking a set of topics and picking a set of words for each topic. In other words, we can say that the document is a probability distribution over the latent topics, and topics are probability distribution over the words.\n",
    "\n",
    "Now let's understand the work methodology of LDA using Plate Diagram:\n",
    "<br>\n",
    "\n",
    "![Smoothed_LDA.png](attachment:f941a0a0-3132-4dd6-88d8-2930d44b78c5.png)\n",
    "             \n",
    "               **Plate Diagram of LDA model**\n",
    "\n",
    "The above image is taken from [Wikipedia](http://https://upload.wikimedia.org/wikipedia/commons/thumb/4/4d/Smoothed_LDA.png/377px-Smoothed_LDA.png)\n",
    "\n",
    "Here, $\\alpha$ and $\\beta$ are two hyperparameters that we have to initialise manually, and they symbolize per topic distribution($\\alpha$) and per topic word distribution($\\beta$), respectively. And **Z** is the topic for the **N**-th word in document **M**, and **W** is the specific word. We can only see W(specific words) in the documents because it is only an observable variable, and all others are latent.\n",
    "\n",
    "$\\theta$ is the matrix where rows are the documents; columns are topics, and $\\theta(i,j)$ represents the probability of $ith$ document containing $jth$ topic. Similarly, $\\phi$ is the matrix where rows are the topics; columns are words, and $\\phi(i,j)$ represents the probability of $ith$ topic containing $jth$ word. According to the distribution of $\\phi$; **K** individual words are generated for the topics.\n",
    "\n",
    "With the help of this LDA, try to estimate the words that belong to each topic and find the topics in documents accordingly."
   ]
  },
  {
   "cell_type": "code",
   "execution_count": null,
   "id": "acting-apollo",
   "metadata": {
    "execution": {
     "iopub.execute_input": "2021-04-29T05:09:36.552388Z",
     "iopub.status.busy": "2021-04-29T05:09:36.546867Z",
     "iopub.status.idle": "2021-04-29T05:09:37.216400Z",
     "shell.execute_reply": "2021-04-29T05:09:37.215586Z"
    },
    "papermill": {
     "duration": 0.725827,
     "end_time": "2021-04-29T05:09:37.216554",
     "exception": false,
     "start_time": "2021-04-29T05:09:36.490727",
     "status": "completed"
    },
    "tags": []
   },
   "outputs": [],
   "source": [
    "#tokenize articles\n",
    "tokeize_article = df_all_comments.V_COMMENTS_2.apply(lambda x : x.split())\n",
    "id2word = corpora.Dictionary(tokeize_article) # dictionary -{id:word}\n",
    "\n",
    "# Create Corpus\n",
    "V_COMMENTS_2s = tokeize_article #\n",
    "\n",
    "# Term Document Frequency\n",
    "corpus = [id2word.doc2bow(V_COMMENTS_2) for V_COMMENTS_2 in V_COMMENTS_2s]# corpus =[(id1,feature_extraction)]\n",
    "\n",
    "\n",
    "#printing 50 words from the V_COMMENTS_2 corpus\n",
    "corpus_example = [[(id2word[id], freq) for id, freq in cp] for cp in corpus[:2]]\n",
    "corpus_example[0][:50]"
   ]
  },
  {
   "cell_type": "code",
   "execution_count": null,
   "id": "b2496b83",
   "metadata": {},
   "outputs": [],
   "source": [
    "tokeize_article = df_all_comments.V_COMMENTS_2.apply(lambda x : x.split())"
   ]
  },
  {
   "cell_type": "code",
   "execution_count": null,
   "id": "2b8e2099",
   "metadata": {},
   "outputs": [],
   "source": [
    "df_all_comments[\"Tokens\"]=tokeize_article\n",
    "df_all_comments[\"id_2_feature\"]=corpus"
   ]
  },
  {
   "cell_type": "code",
   "execution_count": null,
   "id": "a5dc8122",
   "metadata": {},
   "outputs": [],
   "source": [
    "# df_all_comments.drop(\"Corpus\",axis=1,inplace=True)"
   ]
  },
  {
   "cell_type": "code",
   "execution_count": null,
   "id": "clean-sunglasses",
   "metadata": {
    "execution": {
     "iopub.execute_input": "2021-04-29T05:09:37.306967Z",
     "iopub.status.busy": "2021-04-29T05:09:37.306228Z",
     "iopub.status.idle": "2021-04-29T05:09:49.085371Z",
     "shell.execute_reply": "2021-04-29T05:09:49.086245Z"
    },
    "papermill": {
     "duration": 11.82943,
     "end_time": "2021-04-29T05:09:49.086548",
     "exception": false,
     "start_time": "2021-04-29T05:09:37.257118",
     "status": "completed"
    },
    "tags": []
   },
   "outputs": [],
   "source": [
    "# build LDA model for 10 topic\n",
    "lda_model = gensim.models.ldamodel.LdaModel(corpus=corpus,\n",
    "                                           id2word=id2word,\n",
    "                                           num_topics=10, \n",
    "                                           random_state=100,\n",
    "                                           update_every=1,\n",
    "                                           chunksize=100,\n",
    "                                           passes=10,\n",
    "                                           alpha='symmetric',\n",
    "                                           per_word_topics=True,\n",
    "                                           eta = 0.6)"
   ]
  },
  {
   "cell_type": "code",
   "execution_count": null,
   "id": "recorded-impossible",
   "metadata": {
    "execution": {
     "iopub.execute_input": "2021-04-29T05:09:49.186191Z",
     "iopub.status.busy": "2021-04-29T05:09:49.184760Z",
     "iopub.status.idle": "2021-04-29T05:09:49.200673Z",
     "shell.execute_reply": "2021-04-29T05:09:49.201556Z"
    },
    "papermill": {
     "duration": 0.061738,
     "end_time": "2021-04-29T05:09:49.201834",
     "exception": false,
     "start_time": "2021-04-29T05:09:49.140096",
     "status": "completed"
    },
    "scrolled": false,
    "tags": []
   },
   "outputs": [],
   "source": [
    "# Print the Keyword in the 10 topics\n",
    "pprint(lda_model.print_topics())\n",
    "doc_lda = lda_model[corpus]"
   ]
  },
  {
   "cell_type": "code",
   "execution_count": null,
   "id": "9c370314",
   "metadata": {},
   "outputs": [],
   "source": [
    "# Get the top words for each topic\n",
    "top_words_per_topic = []\n",
    "for topic_id in range(lda_model.num_topics):\n",
    "    top_words = [id2word[word_id] for word_id, prob in lda_model.get_topic_terms(topic_id, topn=10)]\n",
    "    top_words_per_topic.append(top_words)\n",
    "\n",
    "# Print the top words for each topic\n",
    "# for i, top_words in enumerate(top_words_per_topic):\n",
    "#     print(f\"Topic {i+1}:\")\n",
    "#     for word, prob in top_words:\n",
    "#         print(f\"{word}: {prob:.4f}\")\n",
    "#     print()\n",
    "\n",
    "\n",
    "\n"
   ]
  },
  {
   "cell_type": "code",
   "execution_count": null,
   "id": "590bca39",
   "metadata": {},
   "outputs": [],
   "source": [
    "dict1={}\n",
    "for i,j in zip(range(len(top_words_per_topic)),top_words_per_topic):\n",
    "    dict1[i]=j"
   ]
  },
  {
   "cell_type": "code",
   "execution_count": null,
   "id": "811cf45a",
   "metadata": {},
   "outputs": [],
   "source": [
    "dict1"
   ]
  },
  {
   "cell_type": "code",
   "execution_count": null,
   "id": "a8449f4a",
   "metadata": {
    "scrolled": true
   },
   "outputs": [],
   "source": [
    "top_words_per_topic"
   ]
  },
  {
   "cell_type": "code",
   "execution_count": null,
   "id": "c264e275",
   "metadata": {},
   "outputs": [],
   "source": [
    "df_all_comments.reset_index(inplace=True)"
   ]
  },
  {
   "cell_type": "code",
   "execution_count": null,
   "id": "da78bc42",
   "metadata": {},
   "outputs": [],
   "source": [
    "df_all_comments.drop(\"index\",axis=1,inplace=True)"
   ]
  },
  {
   "cell_type": "code",
   "execution_count": null,
   "id": "831f6f51",
   "metadata": {},
   "outputs": [],
   "source": [
    "# get_document_topics(corpus)\n",
    "for i, doc in enumerate(corpus):\n",
    "    print(\"Document\", i+1)\n",
    "    print(lda_model.get_document_topics(doc))"
   ]
  },
  {
   "cell_type": "markdown",
   "id": "03e96b38",
   "metadata": {},
   "source": [
    "need to work on\n",
    "1)increasing the number of topics  and no. of words in each cloud  -tuning part\n",
    "2)identifying the root word - Lemmatyzing, stemming\n",
    "usage of bi-grams & tri-grams\n",
    "3)topic 3-pre-processing - reomval of names -Mohd,NORAINI,ABDULLAH,BINTI,\n",
    "4)system, legal , stated , ABD\n",
    "\n",
    "doubt - number ,within, SDN BHD , Pvt. Ltd. , Berhad"
   ]
  },
  {
   "cell_type": "code",
   "execution_count": null,
   "id": "b4518891",
   "metadata": {
    "scrolled": true
   },
   "outputs": [],
   "source": [
    "### Visualising Topics:\n",
    "# pip install pyLDAvis\n",
    "# pip install gensimvis\n",
    "# Visualize the topics\n",
    "# pyLDAvis.enable_notebook()\n",
    "# vis = gensimvis.prepare(lda_model, corpus, id2word)\n",
    "# vis"
   ]
  },
  {
   "cell_type": "markdown",
   "id": "approximate-external",
   "metadata": {
    "papermill": {
     "duration": 0.044347,
     "end_time": "2021-04-29T05:09:53.710679",
     "exception": false,
     "start_time": "2021-04-29T05:09:53.666332",
     "status": "completed"
    },
    "tags": []
   },
   "source": [
    "To measure how good is our model we can use **perplexity score** and **coherence socre**. The lower score of perplexity is better for the model."
   ]
  },
  {
   "cell_type": "code",
   "execution_count": null,
   "id": "legitimate-physiology",
   "metadata": {
    "execution": {
     "iopub.execute_input": "2021-04-29T05:09:53.803300Z",
     "iopub.status.busy": "2021-04-29T05:09:53.802561Z",
     "iopub.status.idle": "2021-04-29T05:10:02.790129Z",
     "shell.execute_reply": "2021-04-29T05:10:02.790630Z"
    },
    "papermill": {
     "duration": 9.036255,
     "end_time": "2021-04-29T05:10:02.790834",
     "exception": false,
     "start_time": "2021-04-29T05:09:53.754579",
     "status": "completed"
    },
    "tags": []
   },
   "outputs": [],
   "source": [
    "# Compute Perplexity\n",
    "print('\\nPerplexity : ', lda_model.log_perplexity(corpus)) \n",
    "\n",
    "# Compute Coherence Score\n",
    "coherence_model_lda = CoherenceModel(model=lda_model, texts=tokeize_article,corpus=V_COMMENTS_2s, dictionary=id2word, coherence='c_v')\n",
    "coherence_lda = coherence_model_lda.get_coherence()\n",
    "print('\\nCoherence Score: ', coherence_lda)"
   ]
  },
  {
   "cell_type": "code",
   "execution_count": null,
   "id": "eba60470",
   "metadata": {},
   "outputs": [],
   "source": [
    "import pickle\n",
    "pickle.dump(lda_model,open(\"lda_model_lemmatizer.sav\",\"wb\"))\n"
   ]
  },
  {
   "cell_type": "code",
   "execution_count": null,
   "id": "34a48335",
   "metadata": {},
   "outputs": [],
   "source": [
    "import pickle"
   ]
  },
  {
   "cell_type": "code",
   "execution_count": null,
   "id": "7d4e6f06",
   "metadata": {},
   "outputs": [],
   "source": [
    "model = pickle.load(open(\"lda_model_lemmatizer.sav\",\"rb\"))"
   ]
  },
  {
   "cell_type": "code",
   "execution_count": null,
   "id": "046c9d62",
   "metadata": {},
   "outputs": [],
   "source": [
    "doc_lda = model[corpus]\n",
    "x=model.print_topics()\n",
    "y={}\n",
    "for i,j in x:\n",
    "    y[i]=j\n",
    "    "
   ]
  },
  {
   "cell_type": "code",
   "execution_count": null,
   "id": "20e8d408",
   "metadata": {
    "scrolled": true
   },
   "outputs": [],
   "source": [
    "df_all_comments[\"Topic\"]=\"\"\n",
    "df_all_comments[\"All_Topic_Probabilities\"]=\"\"\n",
    "df_all_comments[\"Topic No\"]=\"\"\n",
    "for i, doc in enumerate(corpus):\n",
    "      topic=sorted(model.get_document_topics(doc),key=lambda x: x[1],reverse=True)[0][0]\n",
    "      df_all_comments[\"Topic No\"].loc[i]=topic  \n",
    "      df_all_comments[\"Topic\"].loc[i]=y[topic]\n",
    "      df_all_comments[\"All_Topic_Probabilities\"].loc[i]=model.get_document_topics(doc)\n",
    "#     .index(max(dict(model.get_document_topics(doc)).values()))\n",
    "#      y[topic]"
   ]
  },
  {
   "cell_type": "code",
   "execution_count": null,
   "id": "c01e77a5",
   "metadata": {},
   "outputs": [],
   "source": [
    "df_all_comments[\"Topic words\"]=df_all_comments[\"Topic No\"].apply(lambda x: dict1[x])"
   ]
  },
  {
   "cell_type": "code",
   "execution_count": null,
   "id": "c4ad0e6a",
   "metadata": {},
   "outputs": [],
   "source": [
    "# df_all_comments.to_csv(\"Output_of_topic_modelling.csv\")\n",
    "# len(corpus)\n",
    "# df_all_comments.loc[221574:,[\"V_COMMENTS_2\"]]"
   ]
  },
  {
   "cell_type": "code",
   "execution_count": null,
   "id": "f71006d6",
   "metadata": {},
   "outputs": [],
   "source": [
    "df_all_comments[df_all_comments[\"All_Topic_Probabilities\"].apply(lambda x:type(x)==str )][\"All_Topic_Probabilities\"]\n",
    "# model.get_document_topics(doc)"
   ]
  },
  {
   "cell_type": "code",
   "execution_count": null,
   "id": "3cf9b51e",
   "metadata": {},
   "outputs": [],
   "source": [
    "df_all_comments.to_csv(\"Output_of_topic_modelling_only_bow.csv\")"
   ]
  },
  {
   "cell_type": "markdown",
   "id": "5fb3b40b",
   "metadata": {},
   "source": [
    "### Using tf-idf for feature extraction\n"
   ]
  },
  {
   "cell_type": "code",
   "execution_count": null,
   "id": "61f60985",
   "metadata": {},
   "outputs": [],
   "source": [
    "import pandas as pd\n",
    "import numpy as np \n",
    "from sklearn.feature_extraction.text import CountVectorizer\n",
    "from sklearn.feature_extraction.text import TfidfTransformer\n",
    "from sklearn.feature_extraction.text import TfidfVectorizer"
   ]
  },
  {
   "cell_type": "code",
   "execution_count": null,
   "id": "7081b2ca",
   "metadata": {},
   "outputs": [],
   "source": [
    "from gensim.models import TfidfModel"
   ]
  },
  {
   "cell_type": "code",
   "execution_count": null,
   "id": "35e58958",
   "metadata": {},
   "outputs": [],
   "source": [
    "import numpy as np\n",
    "tfidf = TfidfModel(corpus, smartirs='ntc')\n"
   ]
  },
  {
   "cell_type": "code",
   "execution_count": null,
   "id": "7f5763f1",
   "metadata": {},
   "outputs": [],
   "source": [
    "print(tfidf[corpus][1])\n",
    "tfidf_corpus=tfidf[corpus]\n",
    "# corpus_example = [[(id2word[id], freq) for id, freq in cp] for cp in corpus[:2]]"
   ]
  },
  {
   "cell_type": "code",
   "execution_count": null,
   "id": "d0e50657",
   "metadata": {},
   "outputs": [],
   "source": [
    "df_all_comments[\"TFIDF_Feature\"]=[doc for doc in tfidf_corpus]"
   ]
  },
  {
   "cell_type": "code",
   "execution_count": null,
   "id": "e3a065ab",
   "metadata": {},
   "outputs": [],
   "source": [
    "df_all_comments"
   ]
  },
  {
   "cell_type": "code",
   "execution_count": null,
   "id": "2677ca41",
   "metadata": {},
   "outputs": [],
   "source": [
    "# model using tfidf\n",
    "# build LDA model for 10 topic\n",
    "lda_tfidf_model = gensim.models.ldamodel.LdaModel(corpus=tfidf_corpus,\n",
    "                                           id2word=id2word,\n",
    "                                           num_topics=10, \n",
    "                                           random_state=100,\n",
    "                                           update_every=1,\n",
    "                                           chunksize=100,\n",
    "                                           passes=10,\n",
    "                                           alpha='symmetric',\n",
    "                                           per_word_topics=True,\n",
    "                                           eta = 0.6)"
   ]
  },
  {
   "cell_type": "code",
   "execution_count": null,
   "id": "29dbb4e9",
   "metadata": {},
   "outputs": [],
   "source": [
    "lda_tfidf_model"
   ]
  },
  {
   "cell_type": "code",
   "execution_count": null,
   "id": "fde624e9",
   "metadata": {
    "execution": {
     "iopub.execute_input": "2021-04-29T05:09:49.186191Z",
     "iopub.status.busy": "2021-04-29T05:09:49.184760Z",
     "iopub.status.idle": "2021-04-29T05:09:49.200673Z",
     "shell.execute_reply": "2021-04-29T05:09:49.201556Z"
    },
    "papermill": {
     "duration": 0.061738,
     "end_time": "2021-04-29T05:09:49.201834",
     "exception": false,
     "start_time": "2021-04-29T05:09:49.140096",
     "status": "completed"
    },
    "scrolled": false,
    "tags": []
   },
   "outputs": [],
   "source": [
    "# Print the Keyword in the 10 topics\n",
    "pprint(lda_tfidf_model.print_topics())\n",
    "# doc_lda = lda_tfidf_model[corpus]"
   ]
  },
  {
   "cell_type": "code",
   "execution_count": null,
   "id": "1b37aeb1",
   "metadata": {},
   "outputs": [],
   "source": [
    "# get_document_topics(corpus)\n",
    "for i, doc in enumerate(tfidf_corpus):\n",
    "    print(\"Document\", i+1)\n",
    "    print(lda_tfidf_model.get_document_topics(doc))"
   ]
  },
  {
   "cell_type": "code",
   "execution_count": null,
   "id": "7eea3d0c",
   "metadata": {},
   "outputs": [],
   "source": [
    "import pickle\n",
    "pickle.dump(lda_tfidf_model,open(\"lda_model_tfidf_lemmatizer.sav\",\"wb\"))\n"
   ]
  },
  {
   "cell_type": "code",
   "execution_count": null,
   "id": "bf39bb02",
   "metadata": {},
   "outputs": [],
   "source": [
    "model = pickle.load(open(\"lda_model_tfidf_lemmatizer.sav\",\"rb\"))"
   ]
  },
  {
   "cell_type": "code",
   "execution_count": null,
   "id": "79e2c3cd",
   "metadata": {},
   "outputs": [],
   "source": [
    "top_words_per_topic = []\n",
    "for topic_id in range(lda_tfidf_model.num_topics):\n",
    "    top_words = [id2word[word_id] for word_id, prob in lda_tfidf_model.get_topic_terms(topic_id, topn=10)]\n",
    "    top_words_per_topic.append(top_words)"
   ]
  },
  {
   "cell_type": "code",
   "execution_count": null,
   "id": "36dbaf43",
   "metadata": {},
   "outputs": [],
   "source": [
    "dict2={}\n",
    "for i,j in zip(range(len(top_words_per_topic)),top_words_per_topic):\n",
    "    dict2[i]=j"
   ]
  },
  {
   "cell_type": "markdown",
   "id": "76c80690",
   "metadata": {
    "papermill": {
     "duration": 0.043901,
     "end_time": "2021-04-29T05:10:02.880134",
     "exception": false,
     "start_time": "2021-04-29T05:10:02.836233",
     "status": "completed"
    },
    "tags": []
   },
   "source": [
    "This notebook is mainly focused on LDA implementation for coherence score you can read this [medium article](https://towardsdatascience.com/evaluate-topic-model-in-python-latent-dirichlet-allocation-lda-7d57484bb5d0)."
   ]
  },
  {
   "cell_type": "code",
   "execution_count": null,
   "id": "28a1517a",
   "metadata": {},
   "outputs": [],
   "source": [
    "# doc_lda = model[corpus]\n",
    "x=model.print_topics()\n",
    "y={}\n",
    "for i,j in x:\n",
    "    y[i]=j\n",
    "    "
   ]
  },
  {
   "cell_type": "code",
   "execution_count": null,
   "id": "68c30193",
   "metadata": {
    "scrolled": false
   },
   "outputs": [],
   "source": [
    "df_all_comments[\"Topic_tfidf_lda\"]=\"\"\n",
    "df_all_comments[\"All_Topic_tfidf_Probabilities\"]=\"\"\n",
    "df_all_comments[\"TF_tfidf_Topic_No\"]=\"\"\n",
    "for i, doc in enumerate(corpus):\n",
    "      topic=sorted(model.get_document_topics(doc),key=lambda x: x[1],reverse=True)[0][0]\n",
    "      df_all_comments[\"TF_tfidf_Topic_No\"].loc[i]=topic  \n",
    "      df_all_comments[\"Topic_tfidf_lda\"].loc[i]=y[topic]\n",
    "      df_all_comments[\"All_Topic_tfidf_Probabilities\"].loc[i]=model.get_document_topics(doc)\n",
    "#     .index(max(dict(model.get_document_topics(doc)).values()))\n",
    "#      y[topic]"
   ]
  },
  {
   "cell_type": "code",
   "execution_count": null,
   "id": "0f8628aa",
   "metadata": {},
   "outputs": [],
   "source": [
    "df_all_comments[\" TF IDF Topic words\"]=df_all_comments[\"TF_tfidf_Topic_No\"].apply(lambda x: dict2[x])"
   ]
  },
  {
   "cell_type": "code",
   "execution_count": null,
   "id": "0eab8248",
   "metadata": {},
   "outputs": [],
   "source": []
  },
  {
   "cell_type": "code",
   "execution_count": null,
   "id": "663b664a",
   "metadata": {},
   "outputs": [],
   "source": [
    "df_all_comments"
   ]
  },
  {
   "cell_type": "code",
   "execution_count": null,
   "id": "0da5d388",
   "metadata": {},
   "outputs": [],
   "source": [
    "df_all_comments.to_csv(\"Output_of_topic_modelling_bow_tfidf.csv\")"
   ]
  },
  {
   "cell_type": "code",
   "execution_count": null,
   "id": "71975255",
   "metadata": {},
   "outputs": [],
   "source": []
  },
  {
   "cell_type": "code",
   "execution_count": null,
   "id": "10e626e3",
   "metadata": {},
   "outputs": [],
   "source": []
  },
  {
   "cell_type": "code",
   "execution_count": null,
   "id": "53e779b6",
   "metadata": {},
   "outputs": [],
   "source": [
    "\n",
    "\n",
    "# Get feature names (terms)\n",
    "feature_names = vectorizer.get_feature_names_out()\n",
    "\n",
    "# Print TF-IDF vectors\n",
    "# print(tfidf_matrix.toarray())\n",
    "\n",
    "# Print feature names\n",
    "print(len(feature_names))\n",
    "print(feature_names[:900])\n"
   ]
  },
  {
   "cell_type": "markdown",
   "id": "tired-reduction",
   "metadata": {
    "papermill": {
     "duration": 0.045197,
     "end_time": "2021-04-29T05:10:02.969489",
     "exception": false,
     "start_time": "2021-04-29T05:10:02.924292",
     "status": "completed"
    },
    "tags": []
   },
   "source": [
    "### Tuning hyperparameters:\n",
    "\n",
    "We can try out different number of topics, different values of alpha and beta(eta) to increse the conharence score. High conherence score is good for our model.\n",
    "def calculate_coherence_score(n, alpha, beta):\n",
    "    lda_model = gensim.models.ldamodel.LdaModel(corpus=corpus,\n",
    "                                           id2word=id2word,\n",
    "                                           num_topics=n, \n",
    "                                           random_state=100,\n",
    "                                           update_every=1,\n",
    "                                           chunksize=100,\n",
    "                                           passes=10,\n",
    "                                           alpha=alpha,\n",
    "                                           per_word_topics=True,\n",
    "                                           eta = beta)\n",
    "    coherence_model_lda = CoherenceModel(model=lda_model, texts=tokeize_article,corpus=V_COMMENTS_2s, dictionary=id2word, coherence='c_v')\n",
    "    coherence_lda = coherence_model_lda.get_coherence()\n",
    "    return coherence_lda\n",
    "\n",
    "#list containing various hyperparameters\n",
    "no_of_topics = [2,5,7,10,12,14]\n",
    "alpha_list = ['symmetric',0.3,0.5,0.7]\n",
    "beta_list = ['auto',0.3,0.5,0.7]\n",
    "\n",
    "\n",
    "for n in no_of_topics:\n",
    "    for alpha in alpha_list:\n",
    "        for beta in beta_list:\n",
    "            coherence_score = calculate_coherence_score(n, alpha, beta)\n",
    "            print(f\"n : {n} ; alpha : {alpha} ; beta : {beta} ; Score : {coherence_score}\")\n",
    "            \n",
    "n = 14\n",
    "alpha = 0.3\n",
    "beta = \"auto\"\n",
    "lda_model = gensim.models.ldamodel.LdaModel(corpus=corpus,\n",
    "                                           id2word=id2word,\n",
    "                                           num_topics=n, \n",
    "                                           random_state=100,\n",
    "                                           update_every=1,\n",
    "                                           chunksize=100,\n",
    "                                           passes=10,\n",
    "                                           alpha=alpha,\n",
    "                                           per_word_topics=True,\n",
    "                                           eta = beta)\n",
    "coherence_model_lda = CoherenceModel(model=lda_model, V_COMMENTS_2s=tokeize_article, dictionary=id2word, coherence='c_v')\n",
    "coherence_lda = coherence_model_lda.get_coherence()\n",
    "print('\\nCoherence Score: ', coherence_lda)\n",
    "\n",
    "\n",
    "\n",
    "# Visualize the topics\n",
    "pyLDAvis.enable_notebook()\n",
    "vis = gensimvis.prepare(lda_model, corpus, id2word)\n",
    "vis"
   ]
  },
  {
   "cell_type": "code",
   "execution_count": null,
   "id": "c2aa093c",
   "metadata": {},
   "outputs": [],
   "source": []
  },
  {
   "cell_type": "markdown",
   "id": "first-tract",
   "metadata": {
    "papermill": {
     "duration": 0.073236,
     "end_time": "2021-04-29T05:38:41.450120",
     "exception": false,
     "start_time": "2021-04-29T05:38:41.376884",
     "status": "completed"
    },
    "tags": []
   },
   "source": [
    "Final LDA Model :"
   ]
  },
  {
   "cell_type": "code",
   "execution_count": null,
   "id": "bottom-toronto",
   "metadata": {
    "execution": {
     "iopub.execute_input": "2021-04-29T05:38:41.609483Z",
     "iopub.status.busy": "2021-04-29T05:38:41.608470Z",
     "iopub.status.idle": "2021-04-29T05:39:10.633039Z",
     "shell.execute_reply": "2021-04-29T05:39:10.632386Z"
    },
    "papermill": {
     "duration": 29.10995,
     "end_time": "2021-04-29T05:39:10.633175",
     "exception": false,
     "start_time": "2021-04-29T05:38:41.523225",
     "status": "completed"
    },
    "tags": []
   },
   "outputs": [],
   "source": []
  },
  {
   "cell_type": "code",
   "execution_count": null,
   "id": "enormous-partner",
   "metadata": {
    "execution": {
     "iopub.execute_input": "2021-04-29T05:39:10.874305Z",
     "iopub.status.busy": "2021-04-29T05:39:10.842079Z",
     "iopub.status.idle": "2021-04-29T05:39:15.415251Z",
     "shell.execute_reply": "2021-04-29T05:39:15.415777Z"
    },
    "papermill": {
     "duration": 4.707214,
     "end_time": "2021-04-29T05:39:15.415945",
     "exception": false,
     "start_time": "2021-04-29T05:39:10.708731",
     "status": "completed"
    },
    "tags": []
   },
   "outputs": [],
   "source": []
  },
  {
   "cell_type": "code",
   "execution_count": null,
   "id": "regulation-buyer",
   "metadata": {
    "papermill": {
     "duration": 0.077251,
     "end_time": "2021-04-29T05:39:15.571690",
     "exception": false,
     "start_time": "2021-04-29T05:39:15.494439",
     "status": "completed"
    },
    "tags": []
   },
   "outputs": [],
   "source": []
  },
  {
   "cell_type": "code",
   "execution_count": null,
   "id": "fdb6950f",
   "metadata": {},
   "outputs": [],
   "source": []
  },
  {
   "cell_type": "code",
   "execution_count": null,
   "id": "6ec2baa2",
   "metadata": {},
   "outputs": [],
   "source": []
  }
 ],
 "metadata": {
  "kernelspec": {
   "display_name": "Python 3 (ipykernel)",
   "language": "python",
   "name": "python3"
  },
  "language_info": {
   "codemirror_mode": {
    "name": "ipython",
    "version": 3
   },
   "file_extension": ".py",
   "mimetype": "text/x-python",
   "name": "python",
   "nbconvert_exporter": "python",
   "pygments_lexer": "ipython3",
   "version": "3.9.13"
  }
 },
 "nbformat": 4,
 "nbformat_minor": 5
}
